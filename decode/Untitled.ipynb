{
 "cells": [
  {
   "cell_type": "code",
   "execution_count": 14,
   "id": "0ccb9ea5",
   "metadata": {},
   "outputs": [],
   "source": [
    "import ast"
   ]
  },
  {
   "cell_type": "code",
   "execution_count": 20,
   "id": "82c59154",
   "metadata": {},
   "outputs": [
    {
     "name": "stdout",
     "output_type": "stream",
     "text": [
      "[\"{\\\"frame\\\":{\\\"level\\\":\\\"easy\\\",\\\"data\\\":{\\\"successRate\\\":1,\\\"minJumps\\\":2,\\\"jumps\\\":2,\\\"path\\\":[1,3,2]}}}\",\"{\\\"frame\\\":{\\\"level\\\":\\\"medium\\\",\\\"data\\\":{\\\"successRate\\\":1,\\\"minJumps\\\":2,\\\"jumps\\\":2,\\\"path\\\":[3,1,0]}}}\",\"{\\\"frame\\\":{\\\"level\\\":\\\"easy\\\",\\\"data\\\":[\\\"00\\\",\\\"01\\\",\\\"02\\\",\\\"06\\\"]}}\",\"{\\\"frame\\\":{\\\"level\\\":\\\"medium\\\",\\\"data\\\":[\\\"00\\\",\\\"01\\\",\\\"02\\\",\\\"03\\\"]}}\",\"{\\\"frame\\\":{\\\"level\\\":\\\"easy\\\",\\\"data\\\":[[0,0,0,0,0,0,0],[1,0,0,0,0,0,0],[0,0,0,0,0,0,0],[0,0,0,0,0,0,0],[1,0,0,0,1,0,1]]}}\",\"{\\\"frame\\\":{\\\"level\\\":\\\"easy\\\",\\\"data\\\":[\\\"B_A\\\",\\\"C_A\\\"]}}\",\"{\\\"frame\\\":{\\\"level\\\":\\\"medium\\\",\\\"data\\\":[\\\"B_A\\\",\\\"C_A\\\",\\\"G_F\\\",\\\"D_B\\\",\\\"E_B\\\"]}}\",\"{\\\"frame\\\":{\\\"level\\\":\\\"easy\\\",\\\"data\\\":[[[0,1],[0,2],[1,2]],[[0,4],[0,5],[1,5]],[[0,6],[0,7],[1,7]],[[0,10],[0,11],[1,11]]]}}\",\"{\\\"frame\\\":{\\\"level\\\":\\\"medium\\\",\\\"data\\\":[[[1,0],[2,0],[3,0],[3,1]],[[2,3],[3,3],[4,3],[4,4]],[[0,1],[1,1],[2,1],[2,2]],[[3,2],[4,2],[5,2],[5,3]],[[0,4],[1,4],[2,4],[2,5]]]}}\",\"{\\\"frame\\\":{\\\"level\\\":\\\"easy\\\",\\\"data\\\":[\\\"09_02\\\",\\\"05_06\\\"]}}\",\"{\\\"frame\\\":{\\\"level\\\":\\\"medium\\\",\\\"data\\\":[\\\"v_16_v_6\\\",\\\"v_14_v_2\\\",\\\"v_12_v_15\\\"]}}\",\"{\\\"frame\\\":{\\\"level\\\":\\\"easy\\\",\\\"data\\\":[[{\\\"row\\\":0,\\\"col\\\":0},{\\\"row\\\":1,\\\"col\\\":2},{\\\"row\\\":2,\\\"col\\\":1},{\\\"row\\\":0,\\\"col\\\":2},{\\\"row\\\":2,\\\"col\\\":4}]]}}\",\"{\\\"frame\\\":{\\\"level\\\":\\\"medium\\\",\\\"data\\\":[[{\\\"row\\\":2,\\\"col\\\":2},{\\\"row\\\":1,\\\"col\\\":3},{\\\"row\\\":1,\\\"col\\\":1},{\\\"row\\\":0,\\\"col\\\":4},{\\\"row\\\":2,\\\"col\\\":5}]]}}\",\"{\\\"frame\\\":{\\\"level\\\":\\\"easy\\\",\\\"data\\\":[2,1]}}\",\"{\\\"frame\\\":{\\\"level\\\":\\\"medium\\\",\\\"data\\\":[1,2,1,2,2,3]}}\",\"{\\\"frame\\\":{\\\"level\\\":\\\"easy\\\",\\\"data\\\":{\\\"rotation\\\":[[0,0,2]],\\\"lowered\\\":null}}}\",\"{\\\"frame\\\":{\\\"level\\\":\\\"medium\\\",\\\"data\\\":{\\\"rotation\\\":[[0,0,2,2,2,2]],\\\"lowered\\\":null}}}\",\"{\\\"frame\\\":{\\\"level\\\":\\\"easy\\\",\\\"data\\\":{\\\"sequence\\\":[1,0,1,0,0,1,1],\\\"transformation\\\":[[0],[0,1]]}}}\",\"{\\\"frame\\\":{\\\"level\\\":\\\"medium\\\",\\\"data\\\":{\\\"sequence\\\":[1,1,0,0,1,0,1],\\\"transformation\\\":[[0],[1,0]]}}}\",\"{\\\"frame\\\":{\\\"level\\\":\\\"easy\\\",\\\"data\\\":{\\\"stamps\\\":[1,0,1,2],\\\"start\\\":1,\\\"end\\\":16,\\\"selected\\\":true}}}\",\"{\\\"frame\\\":{\\\"level\\\":\\\"medium\\\",\\\"data\\\":{\\\"stamps\\\":[0,1,0,1],\\\"start\\\":1,\\\"end\\\":16,\\\"selected\\\":false}}}\",\"{\\\"frame\\\":{\\\"level\\\":\\\"hard\\\",\\\"data\\\":{\\\"stamps\\\":[1,0,1,2],\\\"start\\\":1,\\\"end\\\":20,\\\"selected\\\":false}}}\"]\n"
     ]
    }
   ],
   "source": [
    "with open('test.txt',\"r\") as f:    #设置文件对象\n",
    "    str = f.read()    #可以是随便对文件的操作\n",
    "print(str)"
   ]
  },
  {
   "cell_type": "code",
   "execution_count": 19,
   "id": "09e0a6e4",
   "metadata": {},
   "outputs": [
    {
     "name": "stdout",
     "output_type": "stream",
     "text": [
      "{\"frame\":{\"level\":\"easy\",\"data\":{\"successRate\":1,\"minJumps\":2,\"jumps\":2,\"path\":[1,3,2]}}}\n",
      "{\"frame\":{\"level\":\"medium\",\"data\":{\"successRate\":1,\"minJumps\":2,\"jumps\":2,\"path\":[3,1,0]}}}\n",
      "{\"frame\":{\"level\":\"easy\",\"data\":[\"00\",\"01\",\"02\",\"06\"]}}\n",
      "{\"frame\":{\"level\":\"medium\",\"data\":[\"00\",\"01\",\"02\",\"03\"]}}\n",
      "{\"frame\":{\"level\":\"easy\",\"data\":[[0,0,0,0,0,0,0],[1,0,0,0,0,0,0],[0,0,0,0,0,0,0],[0,0,0,0,0,0,0],[1,0,0,0,1,0,1]]}}\n",
      "{\"frame\":{\"level\":\"easy\",\"data\":[\"B_A\",\"C_A\"]}}\n",
      "{\"frame\":{\"level\":\"medium\",\"data\":[\"B_A\",\"C_A\",\"G_F\",\"D_B\",\"E_B\"]}}\n",
      "{\"frame\":{\"level\":\"easy\",\"data\":[[[0,1],[0,2],[1,2]],[[0,4],[0,5],[1,5]],[[0,6],[0,7],[1,7]],[[0,10],[0,11],[1,11]]]}}\n",
      "{\"frame\":{\"level\":\"medium\",\"data\":[[[1,0],[2,0],[3,0],[3,1]],[[2,3],[3,3],[4,3],[4,4]],[[0,1],[1,1],[2,1],[2,2]],[[3,2],[4,2],[5,2],[5,3]],[[0,4],[1,4],[2,4],[2,5]]]}}\n",
      "{\"frame\":{\"level\":\"easy\",\"data\":[\"09_02\",\"05_06\"]}}\n",
      "{\"frame\":{\"level\":\"medium\",\"data\":[\"v_16_v_6\",\"v_14_v_2\",\"v_12_v_15\"]}}\n",
      "{\"frame\":{\"level\":\"easy\",\"data\":[[{\"row\":0,\"col\":0},{\"row\":1,\"col\":2},{\"row\":2,\"col\":1},{\"row\":0,\"col\":2},{\"row\":2,\"col\":4}]]}}\n",
      "{\"frame\":{\"level\":\"medium\",\"data\":[[{\"row\":2,\"col\":2},{\"row\":1,\"col\":3},{\"row\":1,\"col\":1},{\"row\":0,\"col\":4},{\"row\":2,\"col\":5}]]}}\n",
      "{\"frame\":{\"level\":\"easy\",\"data\":[2,1]}}\n",
      "{\"frame\":{\"level\":\"medium\",\"data\":[1,2,1,2,2,3]}}\n",
      "{\"frame\":{\"level\":\"easy\",\"data\":{\"rotation\":[[0,0,2]],\"lowered\":null}}}\n",
      "{\"frame\":{\"level\":\"medium\",\"data\":{\"rotation\":[[0,0,2,2,2,2]],\"lowered\":null}}}\n",
      "{\"frame\":{\"level\":\"easy\",\"data\":{\"sequence\":[1,0,1,0,0,1,1],\"transformation\":[[0],[0,1]]}}}\n",
      "{\"frame\":{\"level\":\"medium\",\"data\":{\"sequence\":[1,1,0,0,1,0,1],\"transformation\":[[0],[1,0]]}}}\n",
      "{\"frame\":{\"level\":\"easy\",\"data\":{\"stamps\":[1,0,1,2],\"start\":1,\"end\":16,\"selected\":true}}}\n",
      "{\"frame\":{\"level\":\"medium\",\"data\":{\"stamps\":[0,1,0,1],\"start\":1,\"end\":16,\"selected\":false}}}\n",
      "{\"frame\":{\"level\":\"hard\",\"data\":{\"stamps\":[1,0,1,2],\"start\":1,\"end\":20,\"selected\":false}}}\n"
     ]
    }
   ],
   "source": [
    "frame_list = ast.literal_eval(str)\n",
    "for frame in frame_list:\n",
    "    print(frame)"
   ]
  },
  {
   "cell_type": "code",
   "execution_count": null,
   "id": "ad3cfdbb",
   "metadata": {},
   "outputs": [],
   "source": []
  }
 ],
 "metadata": {
  "kernelspec": {
   "display_name": "Python 3",
   "language": "python",
   "name": "python3"
  },
  "language_info": {
   "codemirror_mode": {
    "name": "ipython",
    "version": 3
   },
   "file_extension": ".py",
   "mimetype": "text/x-python",
   "name": "python",
   "nbconvert_exporter": "python",
   "pygments_lexer": "ipython3",
   "version": "3.8.8"
  }
 },
 "nbformat": 4,
 "nbformat_minor": 5
}
