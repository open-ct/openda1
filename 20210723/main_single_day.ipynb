{
 "cells": [
  {
   "cell_type": "markdown",
   "source": [
    "# 需求（18日单日数据）\n",
    "## 1、统计人数\n",
    "截止到2021年7月17日晚上20:30左右，当天有学生XX人次、XX名教师、XX名校长完成了测试；累计共有学生XX人次、XX名教师、XX名校长完成了测试。\n",
    "## 2、作答时间\n",
    "智能计算素养和问题解决素养两个专题的规定测试时间均为60分钟，截止目前完成测试学生实际作答的平均时间为XX分钟。\n",
    "\n",
    "（一）智能计算素养专题\n",
    "\n",
    "智能计算素养专题的题目在预测试中作答时长均值为40-50分钟，少数同学的作答时长在30分钟以下和1小时以上。7月17日当天，绵阳地区有XX名学生的实际作答时长小于等于10分钟，XX名学生的实际作答时长小于等于20分钟；XX名学生的实际作答时长小于等于30分钟。总体作答时长分布如下图：\n",
    "\n",
    "【一个7月17日当天学生完成作答智能计算素养专题的时长分布饼状图，时长单位为分钟，每10分钟一块就可以，每一块上标注上所占比例，超过60分钟的就一块“60分钟及以上”】\n",
    "截止到7月17日20:30左右，累计共有XX名学生的实际作答时长小于等于10分钟，XX名学生的实际作答时长小于等于20分钟；XX名学生的实际作答时长小于等于30分钟。总体作答时长分布如下图：\n",
    "\n",
    "【一个累计学生完成作答智能计算素养专题的时长分布饼状图，时长单位为分钟，每10分钟一块就可以，每一块上标注上所占比例，超过60分钟的就一块“60分钟及以上”】\n",
    "\n",
    "（二）问题解决素养专题\n",
    "\n",
    "问题解决素养专题的题目在预测试中33%的学生作答时间超过45分钟，23%的学生超过50分钟，9%的学生超过60分钟，大部分学生都需要50分钟才能完成测试。7月17日当天，绵阳地区有XX名学生的实际作答时长小于等于10分钟，XX名学生的实际作答时长小于等于20分钟；XX名学生的实际作答时长小于等于30分钟。总体作答时长分布如下图：\n",
    "\n",
    "【一个7月17日当天学生完成作答问题解决专题的时长分布饼状图，时长单位为分钟，每10分钟一块就可以，每一块上标注上所占比例，超过60分钟的就一块“60分钟及以上”】\n",
    "\n",
    "截止到7月17日20:30左右，累计共有XX名学生的实际作答时长小于等于10分钟，XX名学生的实际作答时长小于等于20分钟；XX名学生的实际作答时长小于等于30分钟。总体作答时长分布如下图：\n",
    "\n",
    "【一个累计学生完成作答问题解决素养专题的时长分布饼状图，时长单位为分钟，每10分钟一块就可以，每一块上标注上所占比例，超过60分钟的就一块“60分钟及以上”】\n",
    "\n",
    "## 3、作答学校分布\n",
    "7月17日当天，作答时长小于等于10分钟的学生所在学校（大于10人）：\n",
    "\n",
    "学校名称  ｜  人数\n",
    "\n",
    "\n",
    "累计到7月17日20:30左右，作答时长小于等于10分钟的学生所在学校（大于50人）：\n",
    "\n",
    "学校名称  ｜  人数\n",
    "## 4、输出EXCEL文件\n",
    "添加一列做题时长"
   ],
   "metadata": {}
  },
  {
   "cell_type": "markdown",
   "source": [
    "# 首先引入第三方库"
   ],
   "metadata": {}
  },
  {
   "cell_type": "code",
   "execution_count": 1,
   "source": [
    "import pandas as pd\n",
    "import json \n",
    "import numpy as np\n",
    "import ast\n",
    "from datetime import datetime\n",
    "import plotly.graph_objs as go\n",
    "from plotly.offline import plot\n",
    "import plotly.offline as offline\n",
    "import plotly.figure_factory as ff\n",
    "from pandas.core.indexes import interval\n",
    "import re"
   ],
   "outputs": [],
   "metadata": {}
  },
  {
   "cell_type": "markdown",
   "source": [
    "# 提前定义每一行的计算时间函数"
   ],
   "metadata": {}
  },
  {
   "cell_type": "code",
   "execution_count": 2,
   "source": [
    "# 2021-07-16T19:31:13+08:00\n",
    "def get_interval_per_row(index, df):\n",
    "    row_data = df.loc[index,:]\n",
    "    start_time = row_data['start_time']\n",
    "    if start_time != start_time:\n",
    "        return -1\n",
    "    start_time = datetime.strptime(str(start_time),\"%Y-%m-%dT%H:%M:%S+08:00\")\n",
    "\n",
    "    expire_time = row_data['expire_time']\n",
    "    if expire_time != expire_time:\n",
    "        return -1\n",
    "    expire_time = datetime.strptime(str(expire_time),\"%Y-%m-%dT%H:%M:%S+08:00\")\n",
    "\n",
    "    stop_time = row_data['stop_time']\n",
    "    if stop_time != stop_time:\n",
    "        return -1\n",
    "    stop_time = datetime.strptime(str(stop_time),\"%Y-%m-%dT%H:%M:%S+08:00\")\n",
    "\n",
    "    total_minu = (stop_time - start_time).seconds / 60.0\n",
    "    return total_minu"
   ],
   "outputs": [],
   "metadata": {}
  },
  {
   "cell_type": "markdown",
   "source": [
    "# 提前定义转码task_answers字段的函数"
   ],
   "metadata": {}
  },
  {
   "cell_type": "code",
   "execution_count": 3,
   "source": [
    "def remove_str_per_row(data_per_row):\n",
    "    frame_list = ast.literal_eval(data_per_row)\n",
    "    frame_dic_list = []\n",
    "    for index in range(len(frame_list)):\n",
    "        temp = json.loads(frame_list[index])\n",
    "        if 'frame' in temp.keys():\n",
    "            if 'data' in temp.keys():\n",
    "                frame_dic_list.append(list(temp['frame']['data'].values())) \n",
    "            else:\n",
    "                frame_dic_list.append(list(temp['frame'].values())) \n",
    "        else:\n",
    "            frame_dic_list.append(temp) \n",
    "    return frame_dic_list"
   ],
   "outputs": [],
   "metadata": {}
  },
  {
   "cell_type": "markdown",
   "source": [
    "# 读取数据"
   ],
   "metadata": {}
  },
  {
   "cell_type": "code",
   "execution_count": 4,
   "source": [
    "df_main = pd.read_csv('./data/data-single-day.csv')  \n",
    "df_main"
   ],
   "outputs": [
    {
     "output_type": "execute_result",
     "data": {
      "text/plain": [
       "                             user         type       contest_id    ticket_id  \\\n",
       "0     mianyang/智能计算素养/90000101404  ticket-user  mianyang/智能计算素养  90000101404   \n",
       "1     mianyang/智能计算素养/90000101409  ticket-user  mianyang/智能计算素养  90000101409   \n",
       "2     mianyang/智能计算素养/90000101412  ticket-user  mianyang/智能计算素养  90000101412   \n",
       "3     mianyang/智能计算素养/90000101415  ticket-user  mianyang/智能计算素养  90000101415   \n",
       "4     mianyang/智能计算素养/90000101422  ticket-user  mianyang/智能计算素养  90000101422   \n",
       "...                           ...          ...              ...          ...   \n",
       "1190  mianyang/高中教师问卷/99981040028  ticket-user  mianyang/高中教师问卷  99981040028   \n",
       "1191  mianyang/高中校长问卷/99903010002  ticket-user  mianyang/高中校长问卷  99903010002   \n",
       "1192  mianyang/高中校长问卷/99903020001  ticket-user  mianyang/高中校长问卷  99903020001   \n",
       "1193  mianyang/高中校长问卷/99903020002  ticket-user  mianyang/高中校长问卷  99903020002   \n",
       "1194  mianyang/高中校长问卷/99981010001  ticket-user  mianyang/高中校长问卷  99981010001   \n",
       "\n",
       "                     start_time                expire_time  \\\n",
       "0     2021-07-23T19:59:42+08:00  2021-07-23T23:19:42+08:00   \n",
       "1     2021-07-23T19:33:18+08:00  2021-07-23T22:53:18+08:00   \n",
       "2     2021-07-23T20:06:46+08:00  2021-07-23T23:26:46+08:00   \n",
       "3     2021-07-23T20:00:53+08:00  2021-07-23T23:20:53+08:00   \n",
       "4     2021-07-23T20:08:57+08:00  2021-07-23T23:28:57+08:00   \n",
       "...                         ...                        ...   \n",
       "1190  2021-07-23T09:53:20+08:00  2021-07-24T09:53:20+08:00   \n",
       "1191  2021-07-23T19:20:43+08:00  2021-07-24T19:20:43+08:00   \n",
       "1192  2021-07-23T20:30:10+08:00  2021-07-24T20:30:10+08:00   \n",
       "1193  2021-07-23T20:13:03+08:00  2021-07-24T20:13:03+08:00   \n",
       "1194  2021-07-23T17:01:46+08:00  2021-07-24T17:01:46+08:00   \n",
       "\n",
       "                      stop_time  mobile_alert  \\\n",
       "0     2021-07-23T20:47:39+08:00           NaN   \n",
       "1     2021-07-23T20:21:27+08:00           NaN   \n",
       "2     2021-07-23T20:45:30+08:00           NaN   \n",
       "3     2021-07-23T20:56:21+08:00           NaN   \n",
       "4     2021-07-23T21:13:38+08:00           NaN   \n",
       "...                         ...           ...   \n",
       "1190  2021-07-23T10:02:49+08:00           NaN   \n",
       "1191  2021-07-23T19:34:51+08:00           NaN   \n",
       "1192  2021-07-23T20:59:25+08:00           NaN   \n",
       "1193  2021-07-23T21:02:19+08:00           NaN   \n",
       "1194  2021-07-23T17:19:22+08:00           NaN   \n",
       "\n",
       "                                           task_answers  \\\n",
       "0     [\"{\\\"frame\\\":{\\\"level\\\":\\\"easy\\\",\\\"data\\\":{\\\"s...   \n",
       "1     [\"{\\\"frame\\\":{\\\"level\\\":\\\"easy\\\",\\\"data\\\":{\\\"s...   \n",
       "2     [\"{\\\"frame\\\":{\\\"level\\\":\\\"easy\\\",\\\"data\\\":{\\\"s...   \n",
       "3     [\"{\\\"frame\\\":{\\\"level\\\":\\\"easy\\\",\\\"data\\\":{\\\"s...   \n",
       "4     [\"{\\\"frame\\\":{\\\"level\\\":\\\"easy\\\",\\\"data\\\":{\\\"s...   \n",
       "...                                                 ...   \n",
       "1190  [\"{\\\"basic\\\":[1,2,6,2,6,2,3,2,3,2,6,8,4,4,4,3,...   \n",
       "1191  [\"{\\\"basic\\\":[[1260,80],1120,[1000,120,1000],4...   \n",
       "1192  [\"{\\\"basic\\\":[[3600,212],8000,[8200,2000,6200]...   \n",
       "1193  [\"{\\\"basic\\\":[[3500,206],8888.8,[8120.8,675.8,...   \n",
       "1194  [\"{\\\"basic\\\":[[4921,321],7610,[7752,486,7266],...   \n",
       "\n",
       "                                             user_agent       client_ip  \\\n",
       "0     Mozilla/5.0 (Windows NT 6.1) AppleWebKit/537.3...  61.157.144.159   \n",
       "1     Mozilla/5.0 (Windows NT 6.1) AppleWebKit/537.3...  61.157.144.131   \n",
       "2     Mozilla/5.0 (Windows NT 6.1) AppleWebKit/537.3...  61.157.144.153   \n",
       "3     Mozilla/5.0 (Windows NT 6.1) AppleWebKit/537.3...  61.157.144.191   \n",
       "4     Mozilla/5.0 (Windows NT 6.1) AppleWebKit/537.3...  61.157.144.144   \n",
       "...                                                 ...             ...   \n",
       "1190  Mozilla/5.0 (Windows NT 6.1; WOW64) AppleWebKi...   61.157.98.107   \n",
       "1191  Mozilla/5.0 (Windows NT 10.0; Win64; x64) Appl...  171.221.148.21   \n",
       "1192  Mozilla/5.0 (Windows NT 10.0; WOW64) AppleWebK...    61.157.138.2   \n",
       "1193  Mozilla/5.0 (Windows NT 10.0; WOW64) AppleWebK...  220.166.29.118   \n",
       "1194  Mozilla/5.0 (Windows NT 5.1) AppleWebKit/537.3...    61.157.98.52   \n",
       "\n",
       "          school                                                tag  \\\n",
       "0           南山中学  我是学生,高中生问卷一,高中生问卷二,高中生问卷三,高中生问卷四,高中生问卷五,建模素养,智...   \n",
       "1           南山中学  我是学生,高中生问卷一,高中生问卷二,高中生问卷三,高中生问卷四,高中生问卷五,建模素养,智...   \n",
       "2           南山中学  我是学生,高中生问卷一,高中生问卷二,高中生问卷三,高中生问卷四,高中生问卷五,建模素养,智...   \n",
       "3           南山中学  我是学生,高中生问卷一,高中生问卷二,高中生问卷三,高中生问卷四,高中生问卷五,建模素养,智...   \n",
       "4           南山中学  我是学生,高中生问卷一,高中生问卷二,高中生问卷三,高中生问卷四,高中生问卷五,建模素养,智...   \n",
       "...          ...                                                ...   \n",
       "1190     江油外国语学校                                                 教师   \n",
       "1191  四川省绵阳市丰谷中学                                                 校长   \n",
       "1192    绵阳东辰国际学校                                                 校长   \n",
       "1193    绵阳东辰国际学校                                                 校长   \n",
       "1194        江油中学                                                 校长   \n",
       "\n",
       "               name     owner  state  is_parent  interval_minutes  lazy  \n",
       "0               廖云添  mianyang    NaN          0         47.950000     0  \n",
       "1               张冰然  mianyang    NaN          0         48.150000     0  \n",
       "2               王晴云  mianyang    NaN          0         38.733333     0  \n",
       "3               方虹杰  mianyang    NaN          0         55.466667     0  \n",
       "4               张鑫洋  mianyang    NaN          0         64.683333     0  \n",
       "...             ...       ...    ...        ...               ...   ...  \n",
       "1190            郭俊木  mianyang    NaN          0          9.483333     1  \n",
       "1191  胡用金（主管教学的副校长）  mianyang    NaN          0         14.133333     0  \n",
       "1192            徐来先  mianyang    NaN          0         29.250000     0  \n",
       "1193             孙宾  mianyang    NaN          0         49.266667     0  \n",
       "1194            勾红蔚  mianyang    NaN          0         17.600000     0  \n",
       "\n",
       "[1195 rows x 19 columns]"
      ],
      "text/html": [
       "<div>\n",
       "<style scoped>\n",
       "    .dataframe tbody tr th:only-of-type {\n",
       "        vertical-align: middle;\n",
       "    }\n",
       "\n",
       "    .dataframe tbody tr th {\n",
       "        vertical-align: top;\n",
       "    }\n",
       "\n",
       "    .dataframe thead th {\n",
       "        text-align: right;\n",
       "    }\n",
       "</style>\n",
       "<table border=\"1\" class=\"dataframe\">\n",
       "  <thead>\n",
       "    <tr style=\"text-align: right;\">\n",
       "      <th></th>\n",
       "      <th>user</th>\n",
       "      <th>type</th>\n",
       "      <th>contest_id</th>\n",
       "      <th>ticket_id</th>\n",
       "      <th>start_time</th>\n",
       "      <th>expire_time</th>\n",
       "      <th>stop_time</th>\n",
       "      <th>mobile_alert</th>\n",
       "      <th>task_answers</th>\n",
       "      <th>user_agent</th>\n",
       "      <th>client_ip</th>\n",
       "      <th>school</th>\n",
       "      <th>tag</th>\n",
       "      <th>name</th>\n",
       "      <th>owner</th>\n",
       "      <th>state</th>\n",
       "      <th>is_parent</th>\n",
       "      <th>interval_minutes</th>\n",
       "      <th>lazy</th>\n",
       "    </tr>\n",
       "  </thead>\n",
       "  <tbody>\n",
       "    <tr>\n",
       "      <th>0</th>\n",
       "      <td>mianyang/智能计算素养/90000101404</td>\n",
       "      <td>ticket-user</td>\n",
       "      <td>mianyang/智能计算素养</td>\n",
       "      <td>90000101404</td>\n",
       "      <td>2021-07-23T19:59:42+08:00</td>\n",
       "      <td>2021-07-23T23:19:42+08:00</td>\n",
       "      <td>2021-07-23T20:47:39+08:00</td>\n",
       "      <td>NaN</td>\n",
       "      <td>[\"{\\\"frame\\\":{\\\"level\\\":\\\"easy\\\",\\\"data\\\":{\\\"s...</td>\n",
       "      <td>Mozilla/5.0 (Windows NT 6.1) AppleWebKit/537.3...</td>\n",
       "      <td>61.157.144.159</td>\n",
       "      <td>南山中学</td>\n",
       "      <td>我是学生,高中生问卷一,高中生问卷二,高中生问卷三,高中生问卷四,高中生问卷五,建模素养,智...</td>\n",
       "      <td>廖云添</td>\n",
       "      <td>mianyang</td>\n",
       "      <td>NaN</td>\n",
       "      <td>0</td>\n",
       "      <td>47.950000</td>\n",
       "      <td>0</td>\n",
       "    </tr>\n",
       "    <tr>\n",
       "      <th>1</th>\n",
       "      <td>mianyang/智能计算素养/90000101409</td>\n",
       "      <td>ticket-user</td>\n",
       "      <td>mianyang/智能计算素养</td>\n",
       "      <td>90000101409</td>\n",
       "      <td>2021-07-23T19:33:18+08:00</td>\n",
       "      <td>2021-07-23T22:53:18+08:00</td>\n",
       "      <td>2021-07-23T20:21:27+08:00</td>\n",
       "      <td>NaN</td>\n",
       "      <td>[\"{\\\"frame\\\":{\\\"level\\\":\\\"easy\\\",\\\"data\\\":{\\\"s...</td>\n",
       "      <td>Mozilla/5.0 (Windows NT 6.1) AppleWebKit/537.3...</td>\n",
       "      <td>61.157.144.131</td>\n",
       "      <td>南山中学</td>\n",
       "      <td>我是学生,高中生问卷一,高中生问卷二,高中生问卷三,高中生问卷四,高中生问卷五,建模素养,智...</td>\n",
       "      <td>张冰然</td>\n",
       "      <td>mianyang</td>\n",
       "      <td>NaN</td>\n",
       "      <td>0</td>\n",
       "      <td>48.150000</td>\n",
       "      <td>0</td>\n",
       "    </tr>\n",
       "    <tr>\n",
       "      <th>2</th>\n",
       "      <td>mianyang/智能计算素养/90000101412</td>\n",
       "      <td>ticket-user</td>\n",
       "      <td>mianyang/智能计算素养</td>\n",
       "      <td>90000101412</td>\n",
       "      <td>2021-07-23T20:06:46+08:00</td>\n",
       "      <td>2021-07-23T23:26:46+08:00</td>\n",
       "      <td>2021-07-23T20:45:30+08:00</td>\n",
       "      <td>NaN</td>\n",
       "      <td>[\"{\\\"frame\\\":{\\\"level\\\":\\\"easy\\\",\\\"data\\\":{\\\"s...</td>\n",
       "      <td>Mozilla/5.0 (Windows NT 6.1) AppleWebKit/537.3...</td>\n",
       "      <td>61.157.144.153</td>\n",
       "      <td>南山中学</td>\n",
       "      <td>我是学生,高中生问卷一,高中生问卷二,高中生问卷三,高中生问卷四,高中生问卷五,建模素养,智...</td>\n",
       "      <td>王晴云</td>\n",
       "      <td>mianyang</td>\n",
       "      <td>NaN</td>\n",
       "      <td>0</td>\n",
       "      <td>38.733333</td>\n",
       "      <td>0</td>\n",
       "    </tr>\n",
       "    <tr>\n",
       "      <th>3</th>\n",
       "      <td>mianyang/智能计算素养/90000101415</td>\n",
       "      <td>ticket-user</td>\n",
       "      <td>mianyang/智能计算素养</td>\n",
       "      <td>90000101415</td>\n",
       "      <td>2021-07-23T20:00:53+08:00</td>\n",
       "      <td>2021-07-23T23:20:53+08:00</td>\n",
       "      <td>2021-07-23T20:56:21+08:00</td>\n",
       "      <td>NaN</td>\n",
       "      <td>[\"{\\\"frame\\\":{\\\"level\\\":\\\"easy\\\",\\\"data\\\":{\\\"s...</td>\n",
       "      <td>Mozilla/5.0 (Windows NT 6.1) AppleWebKit/537.3...</td>\n",
       "      <td>61.157.144.191</td>\n",
       "      <td>南山中学</td>\n",
       "      <td>我是学生,高中生问卷一,高中生问卷二,高中生问卷三,高中生问卷四,高中生问卷五,建模素养,智...</td>\n",
       "      <td>方虹杰</td>\n",
       "      <td>mianyang</td>\n",
       "      <td>NaN</td>\n",
       "      <td>0</td>\n",
       "      <td>55.466667</td>\n",
       "      <td>0</td>\n",
       "    </tr>\n",
       "    <tr>\n",
       "      <th>4</th>\n",
       "      <td>mianyang/智能计算素养/90000101422</td>\n",
       "      <td>ticket-user</td>\n",
       "      <td>mianyang/智能计算素养</td>\n",
       "      <td>90000101422</td>\n",
       "      <td>2021-07-23T20:08:57+08:00</td>\n",
       "      <td>2021-07-23T23:28:57+08:00</td>\n",
       "      <td>2021-07-23T21:13:38+08:00</td>\n",
       "      <td>NaN</td>\n",
       "      <td>[\"{\\\"frame\\\":{\\\"level\\\":\\\"easy\\\",\\\"data\\\":{\\\"s...</td>\n",
       "      <td>Mozilla/5.0 (Windows NT 6.1) AppleWebKit/537.3...</td>\n",
       "      <td>61.157.144.144</td>\n",
       "      <td>南山中学</td>\n",
       "      <td>我是学生,高中生问卷一,高中生问卷二,高中生问卷三,高中生问卷四,高中生问卷五,建模素养,智...</td>\n",
       "      <td>张鑫洋</td>\n",
       "      <td>mianyang</td>\n",
       "      <td>NaN</td>\n",
       "      <td>0</td>\n",
       "      <td>64.683333</td>\n",
       "      <td>0</td>\n",
       "    </tr>\n",
       "    <tr>\n",
       "      <th>...</th>\n",
       "      <td>...</td>\n",
       "      <td>...</td>\n",
       "      <td>...</td>\n",
       "      <td>...</td>\n",
       "      <td>...</td>\n",
       "      <td>...</td>\n",
       "      <td>...</td>\n",
       "      <td>...</td>\n",
       "      <td>...</td>\n",
       "      <td>...</td>\n",
       "      <td>...</td>\n",
       "      <td>...</td>\n",
       "      <td>...</td>\n",
       "      <td>...</td>\n",
       "      <td>...</td>\n",
       "      <td>...</td>\n",
       "      <td>...</td>\n",
       "      <td>...</td>\n",
       "      <td>...</td>\n",
       "    </tr>\n",
       "    <tr>\n",
       "      <th>1190</th>\n",
       "      <td>mianyang/高中教师问卷/99981040028</td>\n",
       "      <td>ticket-user</td>\n",
       "      <td>mianyang/高中教师问卷</td>\n",
       "      <td>99981040028</td>\n",
       "      <td>2021-07-23T09:53:20+08:00</td>\n",
       "      <td>2021-07-24T09:53:20+08:00</td>\n",
       "      <td>2021-07-23T10:02:49+08:00</td>\n",
       "      <td>NaN</td>\n",
       "      <td>[\"{\\\"basic\\\":[1,2,6,2,6,2,3,2,3,2,6,8,4,4,4,3,...</td>\n",
       "      <td>Mozilla/5.0 (Windows NT 6.1; WOW64) AppleWebKi...</td>\n",
       "      <td>61.157.98.107</td>\n",
       "      <td>江油外国语学校</td>\n",
       "      <td>教师</td>\n",
       "      <td>郭俊木</td>\n",
       "      <td>mianyang</td>\n",
       "      <td>NaN</td>\n",
       "      <td>0</td>\n",
       "      <td>9.483333</td>\n",
       "      <td>1</td>\n",
       "    </tr>\n",
       "    <tr>\n",
       "      <th>1191</th>\n",
       "      <td>mianyang/高中校长问卷/99903010002</td>\n",
       "      <td>ticket-user</td>\n",
       "      <td>mianyang/高中校长问卷</td>\n",
       "      <td>99903010002</td>\n",
       "      <td>2021-07-23T19:20:43+08:00</td>\n",
       "      <td>2021-07-24T19:20:43+08:00</td>\n",
       "      <td>2021-07-23T19:34:51+08:00</td>\n",
       "      <td>NaN</td>\n",
       "      <td>[\"{\\\"basic\\\":[[1260,80],1120,[1000,120,1000],4...</td>\n",
       "      <td>Mozilla/5.0 (Windows NT 10.0; Win64; x64) Appl...</td>\n",
       "      <td>171.221.148.21</td>\n",
       "      <td>四川省绵阳市丰谷中学</td>\n",
       "      <td>校长</td>\n",
       "      <td>胡用金（主管教学的副校长）</td>\n",
       "      <td>mianyang</td>\n",
       "      <td>NaN</td>\n",
       "      <td>0</td>\n",
       "      <td>14.133333</td>\n",
       "      <td>0</td>\n",
       "    </tr>\n",
       "    <tr>\n",
       "      <th>1192</th>\n",
       "      <td>mianyang/高中校长问卷/99903020001</td>\n",
       "      <td>ticket-user</td>\n",
       "      <td>mianyang/高中校长问卷</td>\n",
       "      <td>99903020001</td>\n",
       "      <td>2021-07-23T20:30:10+08:00</td>\n",
       "      <td>2021-07-24T20:30:10+08:00</td>\n",
       "      <td>2021-07-23T20:59:25+08:00</td>\n",
       "      <td>NaN</td>\n",
       "      <td>[\"{\\\"basic\\\":[[3600,212],8000,[8200,2000,6200]...</td>\n",
       "      <td>Mozilla/5.0 (Windows NT 10.0; WOW64) AppleWebK...</td>\n",
       "      <td>61.157.138.2</td>\n",
       "      <td>绵阳东辰国际学校</td>\n",
       "      <td>校长</td>\n",
       "      <td>徐来先</td>\n",
       "      <td>mianyang</td>\n",
       "      <td>NaN</td>\n",
       "      <td>0</td>\n",
       "      <td>29.250000</td>\n",
       "      <td>0</td>\n",
       "    </tr>\n",
       "    <tr>\n",
       "      <th>1193</th>\n",
       "      <td>mianyang/高中校长问卷/99903020002</td>\n",
       "      <td>ticket-user</td>\n",
       "      <td>mianyang/高中校长问卷</td>\n",
       "      <td>99903020002</td>\n",
       "      <td>2021-07-23T20:13:03+08:00</td>\n",
       "      <td>2021-07-24T20:13:03+08:00</td>\n",
       "      <td>2021-07-23T21:02:19+08:00</td>\n",
       "      <td>NaN</td>\n",
       "      <td>[\"{\\\"basic\\\":[[3500,206],8888.8,[8120.8,675.8,...</td>\n",
       "      <td>Mozilla/5.0 (Windows NT 10.0; WOW64) AppleWebK...</td>\n",
       "      <td>220.166.29.118</td>\n",
       "      <td>绵阳东辰国际学校</td>\n",
       "      <td>校长</td>\n",
       "      <td>孙宾</td>\n",
       "      <td>mianyang</td>\n",
       "      <td>NaN</td>\n",
       "      <td>0</td>\n",
       "      <td>49.266667</td>\n",
       "      <td>0</td>\n",
       "    </tr>\n",
       "    <tr>\n",
       "      <th>1194</th>\n",
       "      <td>mianyang/高中校长问卷/99981010001</td>\n",
       "      <td>ticket-user</td>\n",
       "      <td>mianyang/高中校长问卷</td>\n",
       "      <td>99981010001</td>\n",
       "      <td>2021-07-23T17:01:46+08:00</td>\n",
       "      <td>2021-07-24T17:01:46+08:00</td>\n",
       "      <td>2021-07-23T17:19:22+08:00</td>\n",
       "      <td>NaN</td>\n",
       "      <td>[\"{\\\"basic\\\":[[4921,321],7610,[7752,486,7266],...</td>\n",
       "      <td>Mozilla/5.0 (Windows NT 5.1) AppleWebKit/537.3...</td>\n",
       "      <td>61.157.98.52</td>\n",
       "      <td>江油中学</td>\n",
       "      <td>校长</td>\n",
       "      <td>勾红蔚</td>\n",
       "      <td>mianyang</td>\n",
       "      <td>NaN</td>\n",
       "      <td>0</td>\n",
       "      <td>17.600000</td>\n",
       "      <td>0</td>\n",
       "    </tr>\n",
       "  </tbody>\n",
       "</table>\n",
       "<p>1195 rows × 19 columns</p>\n",
       "</div>"
      ]
     },
     "metadata": {},
     "execution_count": 4
    }
   ],
   "metadata": {}
  },
  {
   "cell_type": "markdown",
   "source": [
    "# 测试函数运行是否正常"
   ],
   "metadata": {}
  },
  {
   "cell_type": "code",
   "execution_count": 5,
   "source": [
    "dic_list_test = remove_str_per_row(df_main.loc[1, 'task_answers'])\n",
    "dic_list_test, len(dic_list_test)\n",
    "time_test_minu = get_interval_per_row(0, df_main)\n",
    "time_test_minu"
   ],
   "outputs": [
    {
     "output_type": "execute_result",
     "data": {
      "text/plain": [
       "47.95"
      ]
     },
     "metadata": {},
     "execution_count": 5
    }
   ],
   "metadata": {}
  },
  {
   "cell_type": "markdown",
   "source": [
    "# 增加做题时间属性（'interval'）"
   ],
   "metadata": {}
  },
  {
   "cell_type": "code",
   "execution_count": 6,
   "source": [
    "time_minu_list = []\n",
    "drop_index_list = []\n",
    "for row in range(len(df_main)):\n",
    "    interval_minu = get_interval_per_row(row, df_main)\n",
    "    if interval_minu == -1:\n",
    "        drop_index_list.append(row)\n",
    "    else:\n",
    "        time_minu_list.append(interval_minu)"
   ],
   "outputs": [],
   "metadata": {}
  },
  {
   "cell_type": "code",
   "execution_count": 7,
   "source": [
    "len(df_main)"
   ],
   "outputs": [
    {
     "output_type": "execute_result",
     "data": {
      "text/plain": [
       "1195"
      ]
     },
     "metadata": {},
     "execution_count": 7
    }
   ],
   "metadata": {}
  },
  {
   "cell_type": "code",
   "execution_count": 8,
   "source": [
    "len(drop_index_list)"
   ],
   "outputs": [
    {
     "output_type": "execute_result",
     "data": {
      "text/plain": [
       "0"
      ]
     },
     "metadata": {},
     "execution_count": 8
    }
   ],
   "metadata": {}
  },
  {
   "cell_type": "code",
   "execution_count": 9,
   "source": [
    "len(time_minu_list)"
   ],
   "outputs": [
    {
     "output_type": "execute_result",
     "data": {
      "text/plain": [
       "1195"
      ]
     },
     "metadata": {},
     "execution_count": 9
    }
   ],
   "metadata": {}
  },
  {
   "cell_type": "code",
   "execution_count": 10,
   "source": [
    "df_main = df_main.drop(drop_index_list)\n",
    "if 'interval_minutes' not in df_main.columns:\n",
    "    df_main.insert(len(df_main.columns), 'interval_minutes', time_minu_list)"
   ],
   "outputs": [],
   "metadata": {}
  },
  {
   "cell_type": "markdown",
   "source": [
    "# 数据针对试卷分类"
   ],
   "metadata": {}
  },
  {
   "cell_type": "code",
   "execution_count": 11,
   "source": [
    "grouped_main = df_main.groupby('contest_id')\n",
    "df_contest_list = [tup[1] for tup in list(grouped_main)]\n",
    "df_contest_name_list = [tup[0] for tup in list(grouped_main)]"
   ],
   "outputs": [],
   "metadata": {}
  },
  {
   "cell_type": "code",
   "execution_count": 12,
   "source": [
    "df_contest_name_list"
   ],
   "outputs": [
    {
     "output_type": "execute_result",
     "data": {
      "text/plain": [
       "['mianyang/智能计算素养', 'mianyang/问题解决素养', 'mianyang/高中教师问卷', 'mianyang/高中校长问卷']"
      ]
     },
     "metadata": {},
     "execution_count": 12
    }
   ],
   "metadata": {}
  },
  {
   "cell_type": "markdown",
   "source": [
    "# 分类结果\n",
    "智能计算和问题解决分别在列表中的index=1和index=2"
   ],
   "metadata": {}
  },
  {
   "cell_type": "code",
   "execution_count": 13,
   "source": [
    "df_res_1 = df_contest_list[0] # 智能计算\n",
    "df_res_2 = df_contest_list[1] # 问题解决\n",
    "grouped_main['interval_minutes'].mean()"
   ],
   "outputs": [
    {
     "output_type": "execute_result",
     "data": {
      "text/plain": [
       "contest_id\n",
       "mianyang/智能计算素养    46.509242\n",
       "mianyang/问题解决素养    36.860123\n",
       "mianyang/高中教师问卷    12.341718\n",
       "mianyang/高中校长问卷    27.562500\n",
       "Name: interval_minutes, dtype: float64"
      ]
     },
     "metadata": {},
     "execution_count": 13
    }
   ],
   "metadata": {}
  },
  {
   "cell_type": "markdown",
   "source": [
    "# 教师和校长数量"
   ],
   "metadata": {}
  },
  {
   "cell_type": "code",
   "execution_count": 14,
   "source": [
    "len(df_contest_list[2]), len(df_contest_list[3])"
   ],
   "outputs": [
    {
     "output_type": "execute_result",
     "data": {
      "text/plain": [
       "(161, 4)"
      ]
     },
     "metadata": {},
     "execution_count": 14
    }
   ],
   "metadata": {}
  },
  {
   "cell_type": "markdown",
   "source": [
    "# 智能计算学生数量"
   ],
   "metadata": {}
  },
  {
   "cell_type": "code",
   "execution_count": 15,
   "source": [
    "x1_sum = len(df_contest_list[0])\n",
    "x1_sum"
   ],
   "outputs": [
    {
     "output_type": "execute_result",
     "data": {
      "text/plain": [
       "541"
      ]
     },
     "metadata": {},
     "execution_count": 15
    }
   ],
   "metadata": {}
  },
  {
   "cell_type": "markdown",
   "source": [
    "# 问题解决学生数量"
   ],
   "metadata": {}
  },
  {
   "cell_type": "code",
   "execution_count": 16,
   "source": [
    "x2_sum = len(df_contest_list[1])\n",
    "x2_sum"
   ],
   "outputs": [
    {
     "output_type": "execute_result",
     "data": {
      "text/plain": [
       "489"
      ]
     },
     "metadata": {},
     "execution_count": 16
    }
   ],
   "metadata": {}
  },
  {
   "cell_type": "markdown",
   "source": [
    "# 学生总数"
   ],
   "metadata": {}
  },
  {
   "cell_type": "code",
   "execution_count": 17,
   "source": [
    "x1_sum + x2_sum"
   ],
   "outputs": [
    {
     "output_type": "execute_result",
     "data": {
      "text/plain": [
       "1030"
      ]
     },
     "metadata": {},
     "execution_count": 17
    }
   ],
   "metadata": {}
  },
  {
   "cell_type": "markdown",
   "source": [
    "# 再将教师和校长的数据剔除"
   ],
   "metadata": {}
  },
  {
   "cell_type": "code",
   "execution_count": 18,
   "source": [
    "[tup[0] for tup in list(df_res_1.groupby('tag'))]"
   ],
   "outputs": [
    {
     "output_type": "execute_result",
     "data": {
      "text/plain": [
       "['我是学生,高中生问卷一,高中生问卷二,高中生问卷三,高中生问卷四,高中生问卷五,建模素养,智能计算素养,问题解决素养,人文素养']"
      ]
     },
     "metadata": {},
     "execution_count": 18
    }
   ],
   "metadata": {}
  },
  {
   "cell_type": "code",
   "execution_count": 19,
   "source": [
    "[tup[0] for tup in list(df_res_2.groupby('tag'))]"
   ],
   "outputs": [
    {
     "output_type": "execute_result",
     "data": {
      "text/plain": [
       "['我是学生,高中生问卷一,高中生问卷二,高中生问卷三,高中生问卷四,高中生问卷五,建模素养,智能计算素养,问题解决素养,人文素养']"
      ]
     },
     "metadata": {},
     "execution_count": 19
    }
   ],
   "metadata": {}
  },
  {
   "cell_type": "markdown",
   "source": [
    "# 提取最终画图用到的dataframe"
   ],
   "metadata": {}
  },
  {
   "cell_type": "code",
   "execution_count": 20,
   "source": [
    "df_res_1.columns"
   ],
   "outputs": [
    {
     "output_type": "execute_result",
     "data": {
      "text/plain": [
       "Index(['user', 'type', 'contest_id', 'ticket_id', 'start_time', 'expire_time',\n",
       "       'stop_time', 'mobile_alert', 'task_answers', 'user_agent', 'client_ip',\n",
       "       'school', 'tag', 'name', 'owner', 'state', 'is_parent',\n",
       "       'interval_minutes', 'lazy'],\n",
       "      dtype='object')"
      ]
     },
     "metadata": {},
     "execution_count": 20
    }
   ],
   "metadata": {}
  },
  {
   "cell_type": "code",
   "execution_count": 21,
   "source": [
    "x1 = []\n",
    "x2 = []\n",
    "\n",
    "for row in range(len(df_res_1)):\n",
    "    interval = df_res_1.iloc[row, 17]\n",
    "    if interval != -1:\n",
    "        x1.append(interval)\n",
    "\n",
    "for row in range(len(df_res_2)):\n",
    "    interval = df_res_2.iloc[row, 17]\n",
    "    if interval != -1:\n",
    "        x2.append(interval)"
   ],
   "outputs": [],
   "metadata": {}
  },
  {
   "cell_type": "code",
   "execution_count": 22,
   "source": [
    "\n",
    "\n",
    "layout={\"title\": \"学生用时分布\", \n",
    "                                       \"xaxis_title\": \"学生用时，单位秒\",\n",
    "                                       \"yaxis_title\": \"学生个数\",\n",
    "                                       # x轴坐标倾斜60度\n",
    "                                       \"xaxis\": {\"tickangle\": 60}\n",
    "                                      }\n",
    "\n",
    "#数据组\n",
    "hist_data=[x1,x2]\n",
    "\n",
    "group_labels=['智能计算','问题解决']\n",
    "\n",
    "fig=ff.create_distplot(hist_data,group_labels,bin_size=10,histnorm = 'probability')\n",
    "fig['layout'].update(xaxis = dict(range = [0,100]))\n",
    "plot(fig,filename='./plot/单日时间分布直方图.html')\n",
    "offline.iplot(fig) "
   ],
   "outputs": [
    {
     "output_type": "display_data",
     "data": {
      "application/vnd.plotly.v1+json": {
       "config": {
        "linkText": "Export to plot.ly",
        "plotlyServerURL": "https://plot.ly",
        "showLink": false
       },
       "data": [
        {
         "autobinx": false,
         "histnorm": "probability",
         "legendgroup": "智能计算",
         "marker": {
          "color": "rgb(31, 119, 180)"
         },
         "name": "智能计算",
         "opacity": 0.7,
         "type": "histogram",
         "x": [
          47.95,
          48.15,
          38.73333333333333,
          55.46666666666667,
          64.68333333333334,
          50.28333333333333,
          55.8,
          34.583333333333336,
          64.71666666666667,
          55.16666666666666,
          60.083333333333336,
          65.65,
          65,
          58.61666666666667,
          50.1,
          57.43333333333333,
          59.45,
          46.91666666666666,
          52.46666666666667,
          42.8,
          39.23333333333333,
          51.78333333333333,
          50.61666666666667,
          69.08333333333333,
          36.65,
          71.63333333333334,
          12.516666666666667,
          60.25,
          55.083333333333336,
          47.31666666666667,
          19.23333333333333,
          39.516666666666666,
          47.2,
          56.86666666666667,
          78.63333333333334,
          43.03333333333333,
          66.98333333333333,
          65.83333333333333,
          52.35,
          34.166666666666664,
          64.75,
          55.06666666666667,
          52.05,
          64.63333333333334,
          52.95,
          57.11666666666667,
          56.516666666666666,
          52.21666666666667,
          45.48333333333333,
          40.05,
          52.8,
          39.1,
          59.833333333333336,
          35.6,
          44.48333333333333,
          50.86666666666667,
          55.35,
          45.9,
          54.53333333333333,
          35.38333333333333,
          42.71666666666667,
          51.2,
          57.91666666666666,
          52.61666666666667,
          51.36666666666667,
          30.25,
          38.48333333333333,
          60.11666666666667,
          55.8,
          57.18333333333333,
          49.81666666666667,
          52.98333333333333,
          44.86666666666667,
          61.1,
          71.16666666666667,
          54,
          52.31666666666667,
          38.16666666666666,
          61.9,
          60.1,
          42.38333333333333,
          58.6,
          58.85,
          53.5,
          49.05,
          56.266666666666666,
          62.78333333333333,
          52.333333333333336,
          49.16666666666666,
          48.833333333333336,
          54.833333333333336,
          47.41666666666666,
          64.33333333333333,
          35.6,
          45.98333333333333,
          62.38333333333333,
          50.266666666666666,
          51.96666666666667,
          46.48333333333333,
          40.15,
          60.11666666666667,
          61,
          42.7,
          53.95,
          68.36666666666666,
          42.28333333333333,
          67.51666666666667,
          71.01666666666667,
          53.35,
          54.88333333333333,
          55.86666666666667,
          54.71666666666667,
          62.516666666666666,
          43.766666666666666,
          53.98333333333333,
          47.266666666666666,
          56.016666666666666,
          54.25,
          50.98333333333333,
          43.3,
          38.63333333333333,
          44.95,
          53.18333333333333,
          66.45,
          53.71666666666667,
          52.766666666666666,
          55.3,
          9.733333333333333,
          50.71666666666667,
          53.06666666666667,
          55.8,
          56.11666666666667,
          60.78333333333333,
          38.11666666666667,
          71.23333333333333,
          61.38333333333333,
          54.2,
          47.766666666666666,
          60.1,
          70.98333333333333,
          45.7,
          53.016666666666666,
          52.65,
          59.6,
          51.68333333333333,
          69.06666666666666,
          75.86666666666666,
          42.68333333333333,
          49.48333333333333,
          55.583333333333336,
          47.16666666666666,
          56.93333333333333,
          63.65,
          47.38333333333333,
          62.93333333333333,
          54.73333333333333,
          35.21666666666667,
          61.53333333333333,
          53.43333333333333,
          63.23333333333333,
          65.53333333333333,
          47.21666666666667,
          36.95,
          45.9,
          38.56666666666667,
          52.56666666666667,
          48.083333333333336,
          45.43333333333333,
          60.95,
          54.78333333333333,
          44.06666666666667,
          31.716666666666665,
          55.53333333333333,
          56.4,
          45.6,
          37.083333333333336,
          64.31666666666666,
          55.46666666666667,
          50.06666666666667,
          49.73333333333333,
          66.51666666666667,
          46.93333333333333,
          48.86666666666667,
          67.73333333333333,
          60.91666666666666,
          54.78333333333333,
          52.73333333333333,
          55.833333333333336,
          52.9,
          40.98333333333333,
          54.65,
          68.45,
          69.28333333333333,
          76.95,
          47.15,
          42.7,
          52.48333333333333,
          52.91666666666666,
          51.78333333333333,
          51.516666666666666,
          35.583333333333336,
          57.38333333333333,
          69.05,
          72.76666666666667,
          64.76666666666667,
          58.66666666666666,
          59.06666666666667,
          46.31666666666667,
          44.516666666666666,
          58.38333333333333,
          62.11666666666667,
          57.016666666666666,
          36.55,
          46.833333333333336,
          51.71666666666667,
          44.36666666666667,
          40.18333333333333,
          55.91666666666666,
          56.11666666666667,
          62.833333333333336,
          12.8,
          54.31666666666667,
          48.16666666666666,
          54.55,
          40.11666666666667,
          83.93333333333334,
          49.016666666666666,
          49.71666666666667,
          65.15,
          76.18333333333334,
          46.56666666666667,
          38.266666666666666,
          50.7,
          36.75,
          47.23333333333333,
          38.05,
          53.46666666666667,
          54.71666666666667,
          42.516666666666666,
          49.63333333333333,
          66.86666666666666,
          39.55,
          64.65,
          45.65,
          71.85,
          50.16666666666666,
          56.23333333333333,
          61.4,
          56.41666666666666,
          61,
          40.1,
          45.2,
          51.13333333333333,
          58.1,
          69.93333333333334,
          44.5,
          47.2,
          41.766666666666666,
          62.333333333333336,
          66.38333333333334,
          57.1,
          48.583333333333336,
          63.65,
          50.56666666666667,
          59.91666666666666,
          55.8,
          45.766666666666666,
          46.16666666666666,
          56.583333333333336,
          61.31666666666667,
          59.15,
          57.31666666666667,
          55.31666666666667,
          53.9,
          52.11666666666667,
          73.43333333333334,
          73.16666666666667,
          61.95,
          47.96666666666667,
          64.18333333333334,
          61.53333333333333,
          67.33333333333333,
          43.63333333333333,
          56.21666666666667,
          50.93333333333333,
          47.18333333333333,
          62.91666666666666,
          42.28333333333333,
          64.13333333333334,
          42.95,
          50.41666666666666,
          47.4,
          50.43333333333333,
          64.7,
          44.13333333333333,
          55.6,
          49.91666666666666,
          73.28333333333333,
          42.15,
          45.73333333333333,
          74.26666666666667,
          52.16666666666666,
          66.05,
          50.56666666666667,
          58.68333333333333,
          59.93333333333333,
          47.36666666666667,
          41.766666666666666,
          58.583333333333336,
          78.4,
          59.766666666666666,
          63.65,
          69.6,
          53.766666666666666,
          43.36666666666667,
          48.8,
          52.46666666666667,
          50.85,
          78.86666666666666,
          46.266666666666666,
          53.8,
          60.833333333333336,
          62.8,
          58.63333333333333,
          51.43333333333333,
          61.48333333333333,
          46.63333333333333,
          67.56666666666666,
          55.4,
          35.45,
          57.45,
          62.833333333333336,
          45.53333333333333,
          50.88333333333333,
          59.55,
          31.28333333333333,
          37.15,
          46.766666666666666,
          40.93333333333333,
          36.05,
          47.4,
          43.31666666666667,
          22,
          41.25,
          34.983333333333334,
          32.4,
          37.9,
          46.55,
          35.916666666666664,
          33.35,
          39.78333333333333,
          45.78333333333333,
          50.75,
          37.13333333333333,
          5.816666666666666,
          38.61666666666667,
          50.43333333333333,
          49.98333333333333,
          52.55,
          46.333333333333336,
          51.13333333333333,
          58.06666666666667,
          41.88333333333333,
          38.81666666666667,
          39.86666666666667,
          72.11666666666666,
          47.86666666666667,
          39.7,
          43.66666666666666,
          66.15,
          42.56666666666667,
          41.333333333333336,
          53.28333333333333,
          44.48333333333333,
          46.43333333333333,
          38.88333333333333,
          50.61666666666667,
          39.516666666666666,
          54.38333333333333,
          53.46666666666667,
          50.31666666666667,
          51.75,
          40.38333333333333,
          41.45,
          37.55,
          46.21666666666667,
          46.15,
          43.38333333333333,
          45.03333333333333,
          49.65,
          38.083333333333336,
          51.6,
          40.78333333333333,
          48.766666666666666,
          41.53333333333333,
          47.06666666666667,
          31.65,
          55.833333333333336,
          41.48333333333333,
          41.25,
          56.21666666666667,
          45.4,
          44.21666666666667,
          55.083333333333336,
          36.16666666666666,
          38.65,
          63.6,
          43.45,
          41.3,
          39.31666666666667,
          21.83333333333333,
          40.3,
          45.23333333333333,
          53.61666666666667,
          3.783333333333333,
          48.63333333333333,
          46.13333333333333,
          36.43333333333333,
          17.65,
          48.583333333333336,
          42.15,
          40.333333333333336,
          38.53333333333333,
          47.98333333333333,
          46,
          39.23333333333333,
          43.88333333333333,
          45.86666666666667,
          7.45,
          42.1,
          31.33333333333333,
          37.56666666666667,
          50.56666666666667,
          48.1,
          23.73333333333333,
          45.16666666666666,
          58.31666666666667,
          51.65,
          50.25,
          37.88333333333333,
          71.95,
          49.96666666666667,
          52.833333333333336,
          36.61666666666667,
          53.38333333333333,
          49.6,
          46.66666666666666,
          40.65,
          49.48333333333333,
          44.86666666666667,
          50.11666666666667,
          38.81666666666667,
          18.933333333333334,
          28.33333333333333,
          56.083333333333336,
          10.833333333333334,
          11.8,
          12.416666666666666,
          11.916666666666666,
          20.7,
          22.25,
          18.73333333333333,
          77.11666666666666,
          50.46666666666667,
          24.7,
          21.633333333333333,
          26.866666666666667,
          41.11666666666667,
          63.06666666666667,
          16.116666666666667,
          28.016666666666666,
          24.28333333333333,
          45.766666666666666,
          17.5,
          32.95,
          68.85,
          17.716666666666665,
          16.55,
          16.216666666666665,
          24.433333333333334,
          10.25,
          19.4,
          36.21666666666667,
          17,
          12,
          28.216666666666665,
          29.6,
          31.116666666666667,
          17.866666666666667,
          10.566666666666666,
          29.95,
          28.5,
          25,
          31.78333333333333,
          8.65,
          24.28333333333333,
          36.333333333333336,
          32.96666666666667,
          32.28333333333333,
          25.216666666666665,
          30.85,
          15.466666666666669,
          29.966666666666665,
          8.65,
          16.75,
          30.83333333333333,
          19.33333333333333,
          19.4,
          24.83333333333333,
          31.183333333333334,
          7.666666666666667,
          19.883333333333333,
          22.03333333333333,
          16.05,
          27.4,
          27.016666666666666,
          26.066666666666663,
          16.266666666666666,
          33.016666666666666,
          10.333333333333334,
          22.566666666666663,
          22.183333333333334,
          5.366666666666666,
          12.366666666666667,
          6.233333333333333,
          3.9,
          5.9,
          28.416666666666668,
          13.833333333333334,
          25.6,
          7.55,
          29.016666666666666,
          23.95,
          13,
          23.55,
          75.13333333333334,
          28.5,
          33.2,
          27.15,
          28.58333333333333,
          19.53333333333333
         ],
         "xaxis": "x",
         "xbins": {
          "end": 83.93333333333334,
          "size": 10,
          "start": 3.783333333333333
         },
         "yaxis": "y"
        },
        {
         "autobinx": false,
         "histnorm": "probability",
         "legendgroup": "问题解决",
         "marker": {
          "color": "rgb(255, 127, 14)"
         },
         "name": "问题解决",
         "opacity": 0.7,
         "type": "histogram",
         "x": [
          56.333333333333336,
          30.83333333333333,
          59.61666666666667,
          50.25,
          58.16666666666666,
          51.266666666666666,
          23.85,
          46.31666666666667,
          54.71666666666667,
          53.31666666666667,
          43.61666666666667,
          59.88333333333333,
          54.083333333333336,
          57.31666666666667,
          54.7,
          49.13333333333333,
          59.66666666666666,
          44.15,
          36.93333333333333,
          48.55,
          54.56666666666667,
          46.516666666666666,
          32.71666666666667,
          50.333333333333336,
          51.6,
          36.516666666666666,
          57.88333333333333,
          50.66666666666666,
          29.15,
          31.83333333333333,
          37.53333333333333,
          49.36666666666667,
          50.73333333333333,
          38.61666666666667,
          38.15,
          40.05,
          43.53333333333333,
          57.85,
          46.333333333333336,
          50.65,
          51.36666666666667,
          59.86666666666667,
          59.583333333333336,
          59.53333333333333,
          40.63333333333333,
          25.9,
          53.96666666666667,
          53.48333333333333,
          43.36666666666667,
          36.41666666666666,
          49.13333333333333,
          54.96666666666667,
          58.35,
          55.833333333333336,
          45.65,
          40.6,
          33.88333333333333,
          52.93333333333333,
          35.833333333333336,
          54.16666666666666,
          35.083333333333336,
          49.8,
          46.11666666666667,
          50.083333333333336,
          52.55,
          57.28333333333333,
          43.18333333333333,
          45.45,
          42.35,
          45.95,
          55.91666666666666,
          48.083333333333336,
          55.71666666666667,
          56.73333333333333,
          44.4,
          15,
          38.53333333333333,
          53.43333333333333,
          33.53333333333333,
          30.766666666666666,
          45.85,
          47.766666666666666,
          58.46666666666667,
          46.516666666666666,
          58.15,
          33.8,
          48.05,
          59.25,
          27.8,
          47.55,
          41.083333333333336,
          57.7,
          41.1,
          53.35,
          59.8,
          45.53333333333333,
          16.7,
          52.583333333333336,
          54.3,
          34.03333333333333,
          54.81666666666667,
          44.91666666666666,
          36.083333333333336,
          37,
          41.88333333333333,
          19.3,
          48.45,
          57.36666666666667,
          33.016666666666666,
          59.333333333333336,
          48.8,
          50.98333333333333,
          29.016666666666666,
          51.86666666666667,
          37.36666666666667,
          33.2,
          50.35,
          44.28333333333333,
          39.68333333333333,
          46.9,
          43.91666666666666,
          54.766666666666666,
          40.46666666666667,
          35.93333333333333,
          47.18333333333333,
          49.5,
          39.333333333333336,
          43.75,
          39.36666666666667,
          51.55,
          53.06666666666667,
          46.61666666666667,
          32.6,
          36.93333333333333,
          57.91666666666666,
          30.883333333333333,
          49,
          47.45,
          55.75,
          37.11666666666667,
          57.86666666666667,
          37.36666666666667,
          47.766666666666666,
          58.13333333333333,
          33.53333333333333,
          41.05,
          35.8,
          42.016666666666666,
          25.266666666666666,
          36.41666666666666,
          46.16666666666666,
          50.13333333333333,
          29.566666666666663,
          41.78333333333333,
          49.66666666666666,
          59.93333333333333,
          58.61666666666667,
          57,
          25.98333333333333,
          54.68333333333333,
          31.65,
          56.2,
          42.65,
          55.21666666666667,
          42.03333333333333,
          31.466666666666665,
          44.91666666666666,
          49.266666666666666,
          50.45,
          43.93333333333333,
          39.38333333333333,
          45.833333333333336,
          33.5,
          32.63333333333333,
          33.25,
          40.266666666666666,
          39.95,
          42.11666666666667,
          36.45,
          43,
          58.53333333333333,
          51.7,
          52.75,
          48.016666666666666,
          33.1,
          34.083333333333336,
          57.333333333333336,
          48.25,
          55.5,
          56.7,
          57.93333333333333,
          51.91666666666666,
          46.583333333333336,
          46.11666666666667,
          57.66666666666666,
          52.7,
          53.86666666666667,
          31.15,
          57.61666666666667,
          40.25,
          45.65,
          24.416666666666668,
          37.13333333333333,
          52.61666666666667,
          50.68333333333333,
          54.38333333333333,
          58.96666666666667,
          43.45,
          46.95,
          38.766666666666666,
          55.91666666666666,
          56.28333333333333,
          51.833333333333336,
          25.266666666666666,
          46.13333333333333,
          53.98333333333333,
          34.8,
          50.6,
          45.48333333333333,
          49.73333333333333,
          52.5,
          51.9,
          33.833333333333336,
          56.21666666666667,
          58.8,
          56.6,
          40.15,
          36.48333333333333,
          52.583333333333336,
          52.31666666666667,
          50.4,
          43.6,
          50.016666666666666,
          42.93333333333333,
          35.81666666666667,
          48.833333333333336,
          41.61666666666667,
          52.93333333333333,
          53.9,
          58.43333333333333,
          42.11666666666667,
          43.86666666666667,
          28.33333333333333,
          46.98333333333333,
          54.21666666666667,
          8.816666666666666,
          59.333333333333336,
          17.616666666666667,
          39.8,
          49.66666666666666,
          59.88333333333333,
          48.03333333333333,
          38.766666666666666,
          35.61666666666667,
          42.93333333333333,
          37.46666666666667,
          50.28333333333333,
          50.03333333333333,
          53.75,
          50.18333333333333,
          54.35,
          51.13333333333333,
          57.516666666666666,
          37.2,
          41.6,
          27.016666666666666,
          21.05,
          57.93333333333333,
          55.43333333333333,
          34.85,
          57.46666666666667,
          55.61666666666667,
          31.216666666666665,
          39.266666666666666,
          40.78333333333333,
          40.81666666666667,
          40.43333333333333,
          24.416666666666668,
          50.91666666666666,
          40.18333333333333,
          33.78333333333333,
          47.583333333333336,
          43.21666666666667,
          21.883333333333333,
          48.43333333333333,
          44.78333333333333,
          47.4,
          43.96666666666667,
          46.4,
          53.833333333333336,
          47.18333333333333,
          54.96666666666667,
          54.7,
          52.63333333333333,
          48.43333333333333,
          45.11666666666667,
          46.23333333333333,
          42.88333333333333,
          55.6,
          50.85,
          47,
          58.03333333333333,
          52.06666666666667,
          57.11666666666667,
          32.3,
          33.31666666666667,
          43.06666666666667,
          37.65,
          26.7,
          29.4,
          28.966666666666665,
          39.766666666666666,
          29.85,
          49.8,
          55.98333333333333,
          62.73333333333333,
          25,
          34.333333333333336,
          26.3,
          49.78333333333333,
          17.766666666666666,
          49.65,
          19.78333333333333,
          24.183333333333334,
          33.88333333333333,
          24.7,
          55.91666666666666,
          41.48333333333333,
          18.266666666666666,
          40.71666666666667,
          35.21666666666667,
          49.583333333333336,
          49.03333333333333,
          14.7,
          20.416666666666668,
          19.58333333333333,
          38.78333333333333,
          28.33333333333333,
          33.5,
          49.3,
          38.23333333333333,
          46.06666666666667,
          31.316666666666663,
          42.66666666666666,
          31.016666666666666,
          23.4,
          22.73333333333333,
          31.9,
          31.866666666666667,
          40.6,
          49.96666666666667,
          28.08333333333333,
          39.083333333333336,
          23.3,
          17.533333333333335,
          23.58333333333333,
          40.8,
          13.95,
          28.9,
          38.25,
          23.366666666666667,
          0.0666666666666666,
          14.95,
          39.71666666666667,
          23.066666666666663,
          0.7833333333333333,
          34.266666666666666,
          21.133333333333333,
          23.25,
          14.733333333333333,
          20.45,
          10.433333333333334,
          28.433333333333334,
          29.883333333333333,
          19.95,
          26.933333333333334,
          22.683333333333334,
          11.833333333333334,
          32.7,
          18.716666666666665,
          10.316666666666666,
          5.633333333333334,
          31.2,
          20.633333333333333,
          24.05,
          10.233333333333333,
          28.216666666666665,
          20.5,
          32.5,
          19.133333333333333,
          54.15,
          14.35,
          15.3,
          15.583333333333334,
          25.78333333333333,
          30.08333333333333,
          15.516666666666667,
          17.25,
          21.1,
          26.116666666666667,
          33.36666666666667,
          15.833333333333334,
          6.333333333333333,
          5.833333333333333,
          34.766666666666666,
          10.083333333333334,
          15.05,
          9.666666666666666,
          8.516666666666667,
          16.45,
          14.083333333333334,
          24.516666666666666,
          43.78333333333333,
          27.28333333333333,
          10.983333333333333,
          4.2,
          19.75,
          25.58333333333333,
          45.86666666666667,
          8.75,
          5.55,
          7.3,
          26.15,
          6.166666666666667,
          28.466666666666665,
          52.48333333333333,
          12.95,
          31.216666666666665,
          5.566666666666666,
          11.233333333333333,
          4.783333333333333,
          5.9,
          6.533333333333333,
          18.65,
          2.8,
          11.35,
          6.2,
          18.48333333333333,
          7.1,
          30.08333333333333,
          10.466666666666669,
          8.55,
          12.983333333333333,
          13.316666666666666,
          11.333333333333334,
          10.966666666666669,
          11.216666666666669,
          10.666666666666666,
          19.133333333333333,
          9.4,
          18.816666666666663,
          6.083333333333333,
          12.016666666666667,
          9.45,
          31.4,
          15.333333333333334,
          12.583333333333334,
          14.95,
          17.933333333333334,
          17.116666666666667,
          13.383333333333333,
          16.4,
          14.733333333333333,
          30.183333333333334,
          12.9,
          17.783333333333335,
          17.166666666666668,
          5.15,
          17.65,
          5.4,
          7.683333333333334,
          13.166666666666666,
          13.05,
          3.3,
          6.35,
          19.5,
          8.433333333333334,
          2.85,
          17.716666666666665,
          23.3,
          31.7,
          7.65,
          9.183333333333334,
          18.316666666666663,
          14.866666666666667,
          29.03333333333333,
          8.766666666666667,
          6.533333333333333,
          2.6333333333333333
         ],
         "xaxis": "x",
         "xbins": {
          "end": 62.73333333333333,
          "size": 10,
          "start": 0.0666666666666666
         },
         "yaxis": "y"
        },
        {
         "legendgroup": "智能计算",
         "marker": {
          "color": "rgb(31, 119, 180)"
         },
         "mode": "lines",
         "name": "智能计算",
         "showlegend": false,
         "type": "scatter",
         "x": [
          3.783333333333333,
          3.943633333333333,
          4.103933333333333,
          4.264233333333333,
          4.424533333333333,
          4.584833333333333,
          4.745133333333333,
          4.905433333333333,
          5.065733333333333,
          5.2260333333333335,
          5.386333333333333,
          5.546633333333333,
          5.706933333333334,
          5.867233333333333,
          6.027533333333333,
          6.187833333333334,
          6.348133333333333,
          6.5084333333333335,
          6.668733333333334,
          6.829033333333333,
          6.989333333333333,
          7.149633333333334,
          7.309933333333333,
          7.470233333333333,
          7.630533333333334,
          7.7908333333333335,
          7.951133333333334,
          8.111433333333334,
          8.271733333333334,
          8.432033333333333,
          8.592333333333332,
          8.752633333333334,
          8.912933333333333,
          9.073233333333334,
          9.233533333333334,
          9.393833333333333,
          9.554133333333333,
          9.714433333333334,
          9.874733333333333,
          10.035033333333335,
          10.195333333333334,
          10.355633333333333,
          10.515933333333333,
          10.676233333333334,
          10.836533333333334,
          10.996833333333335,
          11.157133333333334,
          11.317433333333334,
          11.477733333333333,
          11.638033333333334,
          11.798333333333334,
          11.958633333333333,
          12.118933333333334,
          12.279233333333334,
          12.439533333333333,
          12.599833333333333,
          12.760133333333334,
          12.920433333333333,
          13.080733333333335,
          13.241033333333334,
          13.401333333333334,
          13.561633333333335,
          13.721933333333334,
          13.882233333333335,
          14.042533333333333,
          14.202833333333333,
          14.363133333333334,
          14.523433333333333,
          14.683733333333334,
          14.844033333333334,
          15.004333333333333,
          15.164633333333335,
          15.324933333333334,
          15.485233333333335,
          15.645533333333335,
          15.805833333333334,
          15.966133333333334,
          16.12643333333333,
          16.286733333333334,
          16.447033333333334,
          16.607333333333333,
          16.767633333333336,
          16.927933333333335,
          17.088233333333335,
          17.248533333333334,
          17.408833333333334,
          17.569133333333333,
          17.729433333333333,
          17.889733333333332,
          18.05003333333333,
          18.210333333333335,
          18.370633333333334,
          18.530933333333333,
          18.691233333333336,
          18.851533333333336,
          19.011833333333335,
          19.172133333333335,
          19.332433333333334,
          19.492733333333334,
          19.653033333333333,
          19.813333333333333,
          19.973633333333332,
          20.13393333333333,
          20.294233333333338,
          20.454533333333337,
          20.61483333333333,
          20.775133333333336,
          20.935433333333336,
          21.095733333333335,
          21.256033333333335,
          21.416333333333334,
          21.576633333333334,
          21.736933333333333,
          21.897233333333332,
          22.057533333333332,
          22.21783333333333,
          22.378133333333338,
          22.538433333333337,
          22.698733333333337,
          22.859033333333336,
          23.019333333333336,
          23.179633333333335,
          23.339933333333335,
          23.500233333333334,
          23.660533333333333,
          23.820833333333333,
          23.98113333333334,
          24.14143333333334,
          24.30173333333333,
          24.46203333333333,
          24.62233333333333,
          24.782633333333337,
          24.942933333333336,
          25.103233333333336,
          25.263533333333335,
          25.423833333333334,
          25.584133333333334,
          25.744433333333333,
          25.904733333333333,
          26.065033333333332,
          26.22533333333333,
          26.385633333333338,
          26.545933333333338,
          26.706233333333337,
          26.866533333333336,
          27.026833333333336,
          27.187133333333335,
          27.347433333333335,
          27.507733333333334,
          27.668033333333334,
          27.828333333333333,
          27.988633333333333,
          28.148933333333332,
          28.30923333333333,
          28.46953333333333,
          28.62983333333333,
          28.790133333333337,
          28.950433333333336,
          29.110733333333336,
          29.271033333333335,
          29.431333333333335,
          29.591633333333334,
          29.751933333333334,
          29.912233333333333,
          30.072533333333332,
          30.23283333333334,
          30.39313333333334,
          30.553433333333338,
          30.713733333333337,
          30.874033333333337,
          31.034333333333336,
          31.194633333333336,
          31.354933333333335,
          31.515233333333335,
          31.675533333333334,
          31.835833333333333,
          31.996133333333333,
          32.15643333333333,
          32.31673333333333,
          32.47703333333333,
          32.63733333333334,
          32.79763333333334,
          32.95793333333334,
          33.118233333333336,
          33.278533333333336,
          33.438833333333335,
          33.599133333333334,
          33.759433333333334,
          33.91973333333333,
          34.08003333333333,
          34.24033333333334,
          34.40063333333334,
          34.56093333333334,
          34.72123333333334,
          34.88153333333334,
          35.04183333333334,
          35.202133333333336,
          35.362433333333335,
          35.522733333333335,
          35.683033333333334,
          35.843333333333334,
          36.00363333333333,
          36.16393333333333,
          36.32423333333333,
          36.48453333333333,
          36.64483333333333,
          36.80513333333334,
          36.96543333333334,
          37.125733333333336,
          37.286033333333336,
          37.44633333333333,
          37.606633333333335,
          37.766933333333334,
          37.927233333333334,
          38.08753333333333,
          38.24783333333333,
          38.40813333333333,
          38.56843333333334,
          38.72873333333333,
          38.88903333333334,
          39.04933333333333,
          39.209633333333336,
          39.369933333333336,
          39.530233333333335,
          39.690533333333335,
          39.850833333333334,
          40.01113333333333,
          40.17143333333334,
          40.33173333333333,
          40.49203333333334,
          40.65233333333333,
          40.81263333333334,
          40.97293333333334,
          41.13323333333333,
          41.293533333333336,
          41.45383333333333,
          41.614133333333335,
          41.774433333333334,
          41.934733333333334,
          42.09503333333333,
          42.25533333333333,
          42.41563333333333,
          42.57593333333334,
          42.73623333333333,
          42.89653333333334,
          43.05683333333333,
          43.21713333333334,
          43.377433333333336,
          43.537733333333335,
          43.698033333333335,
          43.858333333333334,
          44.018633333333334,
          44.17893333333334,
          44.33923333333333,
          44.49953333333334,
          44.65983333333333,
          44.82013333333333,
          44.98043333333334,
          45.14073333333333,
          45.301033333333336,
          45.46133333333333,
          45.621633333333335,
          45.781933333333335,
          45.942233333333334,
          46.102533333333334,
          46.26283333333333,
          46.42313333333333,
          46.58343333333334,
          46.74373333333333,
          46.90403333333334,
          47.06433333333333,
          47.22463333333334,
          47.384933333333336,
          47.545233333333336,
          47.705533333333335,
          47.865833333333335,
          48.026133333333334,
          48.18643333333334,
          48.34673333333333,
          48.50703333333333,
          48.66733333333333,
          48.82763333333333,
          48.98793333333334,
          49.14823333333333,
          49.30853333333334,
          49.46883333333333,
          49.629133333333336,
          49.789433333333335,
          49.949733333333334,
          50.110033333333334,
          50.27033333333333,
          50.43063333333333,
          50.59093333333334,
          50.75123333333333,
          50.91153333333334,
          51.07183333333333,
          51.23213333333334,
          51.39243333333334,
          51.552733333333336,
          51.713033333333335,
          51.873333333333335,
          52.033633333333334,
          52.193933333333334,
          52.35423333333333,
          52.51453333333333,
          52.67483333333333,
          52.83513333333333,
          52.99543333333334,
          53.15573333333333,
          53.31603333333334,
          53.47633333333333,
          53.636633333333336,
          53.796933333333335,
          53.957233333333335,
          54.117533333333334,
          54.277833333333334,
          54.43813333333333,
          54.59843333333334,
          54.75873333333333,
          54.91903333333334,
          55.07933333333333,
          55.23963333333334,
          55.39993333333334,
          55.560233333333336,
          55.720533333333336,
          55.88083333333334,
          56.041133333333335,
          56.201433333333334,
          56.36173333333333,
          56.52203333333333,
          56.68233333333334,
          56.84263333333333,
          57.00293333333334,
          57.16323333333333,
          57.32353333333334,
          57.48383333333334,
          57.644133333333336,
          57.804433333333336,
          57.964733333333335,
          58.125033333333334,
          58.28533333333334,
          58.44563333333333,
          58.60593333333334,
          58.76623333333333,
          58.92653333333334,
          59.08683333333334,
          59.24713333333334,
          59.40743333333334,
          59.56773333333333,
          59.728033333333336,
          59.888333333333335,
          60.048633333333335,
          60.208933333333334,
          60.369233333333334,
          60.52953333333333,
          60.68983333333334,
          60.85013333333333,
          61.01043333333334,
          61.17073333333333,
          61.33103333333334,
          61.49133333333334,
          61.651633333333336,
          61.811933333333336,
          61.972233333333335,
          62.132533333333335,
          62.29283333333334,
          62.453133333333334,
          62.61343333333334,
          62.77373333333333,
          62.93403333333334,
          63.09433333333334,
          63.25463333333333,
          63.41493333333334,
          63.57523333333333,
          63.735533333333336,
          63.895833333333336,
          64.05613333333334,
          64.21643333333334,
          64.37673333333333,
          64.53703333333334,
          64.69733333333335,
          64.85763333333334,
          65.01793333333335,
          65.17823333333334,
          65.33853333333334,
          65.49883333333334,
          65.65913333333334,
          65.81943333333334,
          65.97973333333334,
          66.14003333333334,
          66.30033333333334,
          66.46063333333333,
          66.62093333333334,
          66.78123333333333,
          66.94153333333334,
          67.10183333333335,
          67.26213333333334,
          67.42243333333334,
          67.58273333333334,
          67.74303333333334,
          67.90333333333334,
          68.06363333333333,
          68.22393333333333,
          68.38423333333333,
          68.54453333333333,
          68.70483333333334,
          68.86513333333333,
          69.02543333333334,
          69.18573333333333,
          69.34603333333334,
          69.50633333333333,
          69.66663333333334,
          69.82693333333334,
          69.98723333333334,
          70.14753333333334,
          70.30783333333333,
          70.46813333333334,
          70.62843333333333,
          70.78873333333334,
          70.94903333333335,
          71.10933333333332,
          71.26963333333333,
          71.42993333333334,
          71.59023333333334,
          71.75053333333334,
          71.91083333333333,
          72.07113333333334,
          72.23143333333334,
          72.39173333333333,
          72.55203333333334,
          72.71233333333333,
          72.87263333333334,
          73.03293333333333,
          73.19323333333334,
          73.35353333333335,
          73.51383333333334,
          73.67413333333333,
          73.83443333333334,
          73.99473333333334,
          74.15503333333335,
          74.31533333333333,
          74.47563333333333,
          74.63593333333334,
          74.79623333333333,
          74.95653333333334,
          75.11683333333333,
          75.27713333333334,
          75.43743333333333,
          75.59773333333334,
          75.75803333333334,
          75.91833333333334,
          76.07863333333333,
          76.23893333333334,
          76.39923333333334,
          76.55953333333335,
          76.71983333333333,
          76.88013333333333,
          77.04043333333334,
          77.20073333333335,
          77.36103333333334,
          77.52133333333333,
          77.68163333333334,
          77.84193333333334,
          78.00223333333334,
          78.16253333333334,
          78.32283333333334,
          78.48313333333333,
          78.64343333333333,
          78.80373333333334,
          78.96403333333335,
          79.12433333333333,
          79.28463333333333,
          79.44493333333334,
          79.60523333333335,
          79.76553333333334,
          79.92583333333333,
          80.08613333333334,
          80.24643333333334,
          80.40673333333334,
          80.56703333333334,
          80.72733333333333,
          80.88763333333334,
          81.04793333333333,
          81.20823333333334,
          81.36853333333335,
          81.52883333333334,
          81.68913333333333,
          81.84943333333334,
          82.00973333333334,
          82.17003333333334,
          82.33033333333333,
          82.49063333333334,
          82.65093333333334,
          82.81123333333333,
          82.97153333333334,
          83.13183333333333,
          83.29213333333334,
          83.45243333333333,
          83.61273333333334,
          83.77303333333334
         ],
         "xaxis": "x",
         "y": [
          0.019875201049153877,
          0.020503160570517365,
          0.021134965370102798,
          0.02176999927031763,
          0.02240764326516062,
          0.023047277703606706,
          0.023688284466544664,
          0.024330049126520117,
          0.02497196307988158,
          0.025613425641321918,
          0.02625384609124476,
          0.02689264566685351,
          0.027529259488352553,
          0.02816313841215499,
          0.02879375080350164,
          0.02942058422140532,
          0.03004314700933423,
          0.03066096978553545,
          0.03127360682736846,
          0.031880637344468415,
          0.032481666635986506,
          0.03307632712756238,
          0.033664279284071716,
          0.034245212394565,
          0.03481884522617476,
          0.03538492654412327,
          0.035943235495320705,
          0.03649358185340594,
          0.03703580612346373,
          0.0375697795050552,
          0.038095403712633064,
          0.03861261065288842,
          0.039121361959094575,
          0.039621648383086454,
          0.040113489046142016,
          0.04059693055071978,
          0.0410720459557576,
          0.04153893361904612,
          0.041997715911062036,
          0.04244853780556807,
          0.04289156535325844,
          0.04332698404573852,
          0.043754997078164805,
          0.044175823519925175,
          0.04458969640379093,
          0.04499686074501115,
          0.04539757150282161,
          0.04579209149779315,
          0.04618068929932331,
          0.04656363709836468,
          0.046941208581161215,
          0.047313676820315564,
          0.0476813121999125,
          0.04804438039166639,
          0.04840314039912474,
          0.04875784268683782,
          0.049108727411083,
          0.049456022768208596,
          0.04979994347593221,
          0.05014068940199061,
          0.05047844435340229,
          0.05081337503826876,
          0.05114563021052756,
          0.051475340006385366,
          0.05180261547932705,
          0.05212754833863468,
          0.052450210894284796,
          0.05277065620894697,
          0.053088918455615745,
          0.05340501347719211,
          0.0537189395421329,
          0.054030678288126466,
          0.0543401958436701,
          0.054647444115448474,
          0.05495236222756752,
          0.05525487809701811,
          0.055554910128252706,
          0.05585236900847443,
          0.05614715958418669,
          0.05643918279874699,
          0.05672833767011803,
          0.057014523287729206,
          0.05729764080734916,
          0.057577595423126536,
          0.05785429829647934,
          0.05812766842229076,
          0.058397634413889885,
          0.05866413618954639,
          0.05892712654465973,
          0.05918657259546721,
          0.059442457081891296,
          0.059694779519078325,
          0.05994355718921527,
          0.06018882596731715,
          0.06043064097682866,
          0.06066907707304565,
          0.06090422915450803,
          0.06113621230461604,
          0.06136516176774673,
          0.06159123276608068,
          0.06181460016515209,
          0.06203545799780614,
          0.06225401885775333,
          0.06247051317524514,
          0.06268518838854582,
          0.06289830802582974,
          0.06311015071289314,
          0.06332100912262363,
          0.06353118888253027,
          0.06374100745679236,
          0.06395079301925582,
          0.0641608833335886,
          0.06437162465641455,
          0.06458337067869327,
          0.06479648151990505,
          0.06501132278875815,
          0.06522826472316509,
          0.06544768142115387,
          0.06566995017320261,
          0.06589545090522214,
          0.06612456574007569,
          0.06635767868413103,
          0.06659517544389452,
          0.06683744337629774,
          0.06708487157469367,
          0.06733785109108953,
          0.06759677529360197,
          0.06786204035656965,
          0.06813404587921507,
          0.06841319562720735,
          0.06869989838995573,
          0.0689945689449623,
          0.06929762911908403,
          0.06960950893511898,
          0.06993064783072883,
          0.07026149593536657,
          0.07060251538958924,
          0.07095418168992168,
          0.07131698504130349,
          0.07169143169811652,
          0.07207804527385979,
          0.07247736799874073,
          0.07288996190378597,
          0.07331640990957289,
          0.07375731679735065,
          0.0742133100401813,
          0.07468504047179741,
          0.07517318277116518,
          0.07567843574127124,
          0.07620152236143195,
          0.07674318959347023,
          0.0773042079234195,
          0.07788537062201009,
          0.07848749270907004,
          0.07911140960912526,
          0.0797579754879176,
          0.08042806126225416,
          0.08112255227854981,
          0.08184234565860822,
          0.08258834731457866,
          0.08336146863860049,
          0.0841626228763735,
          0.0849927211977311,
          0.08585266848120195,
          0.08674335883348629,
          0.0876656708686885,
          0.0886204627759954,
          0.08960856720821236,
          0.09063078602711432,
          0.09168788494488403,
          0.09278058810393437,
          0.09390957264010613,
          0.09507546327652612,
          0.09627882699728094,
          0.0975201678514352,
          0.09879992193879146,
          0.10011845262909262,
          0.10147604606609453,
          0.10287290700705934,
          0.10430915504673122,
          0.10578482127274025,
          0.10729984539665366,
          0.108854073401562,
          0.11044725574316212,
          0.1120790461368354,
          0.11374900095821995,
          0.11545657927932312,
          0.11720114355633506,
          0.11898196097908319,
          0.1207982054855339,
          0.12264896043803437,
          0.12453322195110636,
          0.12644990285370175,
          0.12839783726193857,
          0.13037578573158193,
          0.13238244095298643,
          0.13441643394495686,
          0.13647634069811534,
          0.1385606892129512,
          0.14066796687284946,
          0.14279662808813703,
          0.14494510214358441,
          0.1471118011789357,
          0.14929512822994964,
          0.15149348525614803,
          0.15370528108102804,
          0.15592893917089648,
          0.15816290517975587,
          0.16040565418977942,
          0.16265569757985715,
          0.16491158945844114,
          0.16717193260141275,
          0.16943538384090484,
          0.17170065885685626,
          0.17396653632949505,
          0.17623186141785513,
          0.17849554853674235,
          0.18075658341219228,
          0.18301402440328504,
          0.18526700308613475,
          0.18751472410382208,
          0.18975646429389068,
          0.1919915711126834,
          0.19421946038315788,
          0.19643961339979019,
          0.19865157343064402,
          0.20085494166262463,
          0.20304937264119333,
          0.20523456926040448,
          0.2074102773629476,
          0.2095762800128705,
          0.21173239150586495,
          0.21387845118330445,
          0.21601431711669894,
          0.2181398597288506,
          0.22025495541677637,
          0.22235948023944824,
          0.22445330373062036,
          0.22653628289354952,
          0.22860825643028987,
          0.23066903925356574,
          0.2327184173240704,
          0.23475614285048363,
          0.2367819298836516,
          0.23879545033030944,
          0.24079633040558546,
          0.24278414753735256,
          0.2447584277294384,
          0.2467186433848227,
          0.24866421158436483,
          0.25059449281137475,
          0.252508790107552,
          0.2544063486415473,
          0.2562863556676884,
          0.2581479408493328,
          0.25999017691885457,
          0.2618120806445243,
          0.26361261407345704,
          0.26539068601940907,
          0.2671451537644824,
          0.2688748249447239,
          0.2705784595911235,
          0.2722547722996101,
          0.2739024345062231,
          0.27552007684665325,
          0.2771062915827169,
          0.2786596350819707,
          0.2801786303405138,
          0.28166176954294336,
          0.2831075166573827,
          0.28451431006736433,
          0.28588056524601535,
          0.28720467748146794,
          0.2884850246654797,
          0.2897199701599713,
          0.29090786575839334,
          0.2920470547605364,
          0.2931358751805058,
          0.29417266310808804,
          0.29515575624360657,
          0.29608349762558367,
          0.2969542395690871,
          0.29776634783058814,
          0.29851820601246704,
          0.2992082202170494,
          0.2998348239562709,
          0.30039648331881125,
          0.3008917023918477,
          0.3013190289296068,
          0.3016770602556009,
          0.3019644493800328,
          0.30217991130834,
          0.30232222951136556,
          0.3023902625222743,
          0.3023829506201523,
          0.30229932255536734,
          0.30213850226728395,
          0.30189971554090445,
          0.30158229654555346,
          0.3011856941958711,
          0.3007094782732397,
          0.30015334524430304,
          0.29951712371264216,
          0.298800779439793,
          0.29800441987280446,
          0.29712829811737596,
          0.2961728162982641,
          0.2951385282521565,
          0.2940261415024887,
          0.29283651847072284,
          0.2915706768843528,
          0.2902297893482944,
          0.2888151820532966,
          0.2873283326024755,
          0.285770866944954,
          0.28414455541383166,
          0.2824513078740964,
          0.2806931679947111,
          0.2788723066676581,
          0.27699101460524794,
          0.2750516941553346,
          0.27305685038210437,
          0.27100908146777364,
          0.2689110684977035,
          0.26676556469805607,
          0.2645753842010591,
          0.26234339041820476,
          0.26007248410611966,
          0.257765591213466,
          0.2554256505999123,
          0.2530556017199878,
          0.25065837236547445,
          0.2482368665598022,
          0.24579395269684737,
          0.24333245201443887,
          0.2408551274898947,
          0.238364673241018,
          0.23586370451123648,
          0.23335474831203878,
          0.23084023478957,
          0.22832248937534508,
          0.22580372577351457,
          0.22328603982910822,
          0.2207714043133085,
          0.2182616646530722,
          0.21575853562353509,
          0.21326359901260208,
          0.21077830225812974,
          0.2083039580491759,
          0.20584174487407153,
          0.2033927084896417,
          0.2009577642778362,
          0.19853770044844174,
          0.19613318203949556,
          0.1937447556605661,
          0.19137285491829653,
          0.1890178064585582,
          0.18667983655526815,
          0.1843590781724449,
          0.18205557842341158,
          0.1797693063492389,
          0.17750016093751653,
          0.1752479793024139,
          0.17301254494763635,
          0.17079359603535463,
          0.16859083358638338,
          0.16640392953983366,
          0.16423253460404022,
          0.16207628583478043,
          0.15993481388154177,
          0.15780774984783869,
          0.15569473171719822,
          0.15359541030243515,
          0.1515094546820467,
          0.14943655709398584,
          0.1473764372636039,
          0.14532884614908378,
          0.14329356909422492,
          0.14127042838480722,
          0.13925928521099684,
          0.13726004104420905,
          0.13527263844250667,
          0.13329706130391603,
          0.13133333459193386,
          0.1293815235619441,
          0.127441732521233,
          0.12551410315873637,
          0.1235988124835808,
          0.12169607041385368,
          0.1198061170588678,
          0.11792921973944848,
          0.1160656697915145,
          0.11421577919840081,
          0.11237987709707388,
          0.11055830620256302,
          0.10875141919368404,
          0.1069595751014246,
          0.10518313573929224,
          0.10342246221250158,
          0.10167791154014374,
          0.09994983342151206,
          0.09823856717455913,
          0.09654443887111766,
          0.09486775869005928,
          0.09320881850603495,
          0.09156788972791266,
          0.08994522139750277,
          0.08834103855573254,
          0.08675554088008922,
          0.08518890159397101,
          0.08364126664557822,
          0.0821127541511754,
          0.08060345409499155,
          0.07911342827570861,
          0.0776427104874439,
          0.07619130692136286,
          0.07475919677257747,
          0.07334633303578728,
          0.07195264347221436,
          0.07057803172974758,
          0.06922237859784632,
          0.06788554337865012,
          0.06656736535585926,
          0.06526766534330633,
          0.06398624729567015,
          0.0627228999645076,
          0.06147739858362853,
          0.06024950656883542,
          0.05903897721811302,
          0.05784555539951547,
          0.056668979215183365,
          0.05550898163113831,
          0.05436529206371768,
          0.053237637914694255,
          0.052125746048279326,
          0.05102934420428676,
          0.04994816234275856,
          0.04888193391628052,
          0.047830397067056864,
          0.046793295746555816,
          0.0457703807561789,
          0.04476141070795324,
          0.04376615290468625,
          0.04278438413937497,
          0.04181589141392847,
          0.040860472577454655,
          0.0399179368844754,
          0.038988105473514126,
          0.038070811766512266,
          0.03716590178953573,
          0.0362732344152048,
          0.03539268152725672,
          0.03452412810763587,
          0.03366747224650325,
          0.03282262507559502,
          0.03198951062542563,
          0.031168065606952552,
          0.030358239118486226,
          0.029559992278847466,
          0.0287732977880623,
          0.027998139417209633,
          0.027234511429433034,
          0.02648241793455776,
          0.025741872180239662,
          0.025012895783080524,
          0.0242955179036913,
          0.023589774370232054,
          0.022895706755521612,
          0.022213361413359847,
          0.021542788480232288,
          0.020884040849070123,
          0.02023717312218513,
          0.01960224055090228,
          0.018979297969733765,
          0.01836839873319813,
          0.017769593663549153,
          0.017182930017757173,
          0.01660845048206162,
          0.016046192202288836,
          0.015496185857906061,
          0.0149584547874514,
          0.014433014172554524,
          0.013919870287238272,
          0.013419019818579656,
          0.012930449264115112,
          0.012454134410606943,
          0.011990039897961421,
          0.011538118871209284,
          0.011098312722545092,
          0.010670550924479962,
          0.010254750954215311,
          0.009850818308395706,
          0.009458646606472571,
          0.009078117780009994,
          0.008709102344409985,
          0.008351459748736535,
          0.008005038798581044,
          0.007669678146259198,
          0.007345206842051519,
          0.007031444939721853
         ],
         "yaxis": "y"
        },
        {
         "legendgroup": "问题解决",
         "marker": {
          "color": "rgb(255, 127, 14)"
         },
         "mode": "lines",
         "name": "问题解决",
         "showlegend": false,
         "type": "scatter",
         "x": [
          0.0666666666666666,
          0.19199999999999992,
          0.31733333333333325,
          0.44266666666666654,
          0.5679999999999998,
          0.6933333333333331,
          0.8186666666666664,
          0.944,
          1.0693333333333332,
          1.1946666666666663,
          1.3199999999999996,
          1.4453333333333331,
          1.5706666666666664,
          1.6959999999999997,
          1.8213333333333332,
          1.9466666666666663,
          2.0719999999999996,
          2.197333333333333,
          2.3226666666666658,
          2.4479999999999995,
          2.5733333333333324,
          2.698666666666666,
          2.8239999999999994,
          2.9493333333333327,
          3.074666666666666,
          3.1999999999999993,
          3.3253333333333326,
          3.450666666666666,
          3.5759999999999996,
          3.7013333333333325,
          3.8266666666666658,
          3.951999999999999,
          4.077333333333333,
          4.202666666666666,
          4.327999999999999,
          4.453333333333332,
          4.578666666666665,
          4.704,
          4.829333333333333,
          4.954666666666665,
          5.079999999999998,
          5.205333333333333,
          5.330666666666666,
          5.455999999999999,
          5.581333333333332,
          5.706666666666665,
          5.831999999999999,
          5.957333333333333,
          6.0826666666666656,
          6.207999999999998,
          6.333333333333332,
          6.458666666666666,
          6.583999999999999,
          6.7093333333333325,
          6.834666666666665,
          6.959999999999998,
          7.085333333333333,
          7.210666666666666,
          7.3359999999999985,
          7.461333333333331,
          7.586666666666665,
          7.711999999999999,
          7.837333333333332,
          7.9626666666666654,
          8.088,
          8.213333333333331,
          8.338666666666665,
          8.463999999999999,
          8.589333333333332,
          8.714666666666664,
          8.839999999999998,
          8.965333333333332,
          9.090666666666664,
          9.216,
          9.341333333333333,
          9.466666666666665,
          9.591999999999999,
          9.717333333333332,
          9.842666666666664,
          9.967999999999998,
          10.09333333333333,
          10.218666666666664,
          10.344,
          10.469333333333331,
          10.594666666666665,
          10.719999999999999,
          10.84533333333333,
          10.970666666666665,
          11.095999999999998,
          11.22133333333333,
          11.346666666666664,
          11.471999999999998,
          11.597333333333331,
          11.722666666666665,
          11.847999999999999,
          11.973333333333331,
          12.098666666666665,
          12.223999999999998,
          12.34933333333333,
          12.474666666666664,
          12.599999999999998,
          12.72533333333333,
          12.850666666666665,
          12.975999999999999,
          13.101333333333331,
          13.226666666666665,
          13.351999999999999,
          13.47733333333333,
          13.602666666666664,
          13.727999999999998,
          13.85333333333333,
          13.978666666666665,
          14.104,
          14.229333333333331,
          14.354666666666665,
          14.479999999999997,
          14.60533333333333,
          14.730666666666664,
          14.855999999999996,
          14.98133333333333,
          15.106666666666664,
          15.231999999999998,
          15.357333333333331,
          15.482666666666665,
          15.607999999999997,
          15.73333333333333,
          15.858666666666664,
          15.983999999999996,
          16.109333333333332,
          16.234666666666666,
          16.359999999999996,
          16.48533333333333,
          16.610666666666663,
          16.735999999999997,
          16.86133333333333,
          16.98666666666666,
          17.112,
          17.237333333333332,
          17.362666666666662,
          17.488,
          17.61333333333333,
          17.738666666666663,
          17.863999999999997,
          17.98933333333333,
          18.11466666666666,
          18.24,
          18.365333333333332,
          18.490666666666662,
          18.616,
          18.74133333333333,
          18.866666666666664,
          18.991999999999997,
          19.11733333333333,
          19.24266666666666,
          19.368,
          19.493333333333332,
          19.618666666666662,
          19.744,
          19.86933333333333,
          19.994666666666664,
          20.119999999999994,
          20.24533333333333,
          20.37066666666666,
          20.495999999999995,
          20.621333333333332,
          20.746666666666663,
          20.871999999999996,
          20.99733333333333,
          21.122666666666664,
          21.247999999999994,
          21.37333333333333,
          21.49866666666666,
          21.623999999999995,
          21.74933333333333,
          21.874666666666663,
          21.999999999999996,
          22.12533333333333,
          22.250666666666664,
          22.375999999999994,
          22.50133333333333,
          22.62666666666666,
          22.751999999999995,
          22.87733333333333,
          23.002666666666663,
          23.127999999999997,
          23.25333333333333,
          23.378666666666664,
          23.503999999999994,
          23.62933333333333,
          23.75466666666666,
          23.879999999999995,
          24.00533333333333,
          24.130666666666663,
          24.255999999999997,
          24.38133333333333,
          24.506666666666664,
          24.631999999999994,
          24.75733333333333,
          24.882666666666662,
          25.007999999999996,
          25.13333333333333,
          25.258666666666663,
          25.383999999999993,
          25.50933333333333,
          25.634666666666664,
          25.759999999999994,
          25.88533333333333,
          26.010666666666662,
          26.135999999999996,
          26.26133333333333,
          26.386666666666663,
          26.511999999999993,
          26.63733333333333,
          26.762666666666664,
          26.887999999999995,
          27.013333333333332,
          27.138666666666662,
          27.263999999999996,
          27.38933333333333,
          27.514666666666663,
          27.639999999999993,
          27.76533333333333,
          27.890666666666664,
          28.015999999999995,
          28.141333333333332,
          28.266666666666662,
          28.391999999999996,
          28.517333333333326,
          28.642666666666663,
          28.767999999999994,
          28.893333333333327,
          29.01866666666666,
          29.143999999999995,
          29.26933333333333,
          29.394666666666662,
          29.519999999999996,
          29.645333333333326,
          29.770666666666664,
          29.895999999999994,
          30.021333333333327,
          30.14666666666666,
          30.271999999999995,
          30.39733333333333,
          30.522666666666662,
          30.647999999999996,
          30.773333333333326,
          30.898666666666664,
          31.023999999999994,
          31.149333333333328,
          31.27466666666666,
          31.399999999999995,
          31.52533333333333,
          31.650666666666663,
          31.775999999999996,
          31.901333333333326,
          32.026666666666664,
          32.152,
          32.27733333333333,
          32.40266666666667,
          32.528,
          32.65333333333333,
          32.778666666666666,
          32.903999999999996,
          33.029333333333334,
          33.154666666666664,
          33.28,
          33.40533333333333,
          33.53066666666666,
          33.656,
          33.781333333333336,
          33.90666666666666,
          34.032,
          34.157333333333334,
          34.282666666666664,
          34.408,
          34.53333333333333,
          34.65866666666666,
          34.784,
          34.909333333333336,
          35.03466666666666,
          35.16,
          35.285333333333334,
          35.410666666666664,
          35.536,
          35.66133333333333,
          35.78666666666666,
          35.912,
          36.037333333333336,
          36.16266666666666,
          36.288,
          36.413333333333334,
          36.538666666666664,
          36.664,
          36.78933333333333,
          36.91466666666666,
          37.04,
          37.165333333333336,
          37.29066666666666,
          37.416,
          37.541333333333334,
          37.666666666666664,
          37.792,
          37.91733333333333,
          38.04266666666666,
          38.168,
          38.29333333333334,
          38.41866666666666,
          38.544,
          38.669333333333334,
          38.794666666666664,
          38.92,
          39.04533333333333,
          39.17066666666666,
          39.296,
          39.42133333333334,
          39.54666666666666,
          39.672,
          39.797333333333334,
          39.922666666666665,
          40.048,
          40.173333333333325,
          40.29866666666666,
          40.424,
          40.54933333333333,
          40.67466666666666,
          40.8,
          40.92533333333333,
          41.050666666666665,
          41.176,
          41.301333333333325,
          41.42666666666666,
          41.552,
          41.67733333333333,
          41.80266666666666,
          41.928,
          42.05333333333333,
          42.178666666666665,
          42.303999999999995,
          42.429333333333325,
          42.55466666666666,
          42.68,
          42.80533333333333,
          42.93066666666666,
          43.056,
          43.18133333333333,
          43.306666666666665,
          43.431999999999995,
          43.557333333333325,
          43.68266666666666,
          43.808,
          43.93333333333333,
          44.05866666666666,
          44.184,
          44.30933333333333,
          44.434666666666665,
          44.559999999999995,
          44.685333333333325,
          44.81066666666666,
          44.936,
          45.06133333333333,
          45.18666666666666,
          45.312,
          45.43733333333333,
          45.562666666666665,
          45.687999999999995,
          45.813333333333325,
          45.93866666666666,
          46.064,
          46.18933333333333,
          46.31466666666666,
          46.44,
          46.56533333333333,
          46.690666666666665,
          46.815999999999995,
          46.941333333333326,
          47.06666666666666,
          47.192,
          47.31733333333333,
          47.44266666666666,
          47.568,
          47.69333333333333,
          47.818666666666665,
          47.943999999999996,
          48.069333333333326,
          48.19466666666666,
          48.32,
          48.44533333333333,
          48.57066666666666,
          48.696,
          48.82133333333333,
          48.946666666666665,
          49.071999999999996,
          49.197333333333326,
          49.32266666666666,
          49.448,
          49.57333333333332,
          49.69866666666666,
          49.824,
          49.94933333333333,
          50.074666666666666,
          50.199999999999996,
          50.325333333333326,
          50.45066666666666,
          50.576,
          50.701333333333324,
          50.82666666666666,
          50.952,
          51.07733333333333,
          51.202666666666666,
          51.327999999999996,
          51.453333333333326,
          51.57866666666666,
          51.704,
          51.829333333333324,
          51.95466666666666,
          52.08,
          52.20533333333333,
          52.330666666666666,
          52.455999999999996,
          52.581333333333326,
          52.70666666666666,
          52.832,
          52.957333333333324,
          53.08266666666666,
          53.208,
          53.33333333333333,
          53.458666666666666,
          53.583999999999996,
          53.709333333333326,
          53.834666666666664,
          53.96,
          54.085333333333324,
          54.21066666666666,
          54.336,
          54.46133333333333,
          54.586666666666666,
          54.711999999999996,
          54.837333333333326,
          54.962666666666664,
          55.088,
          55.213333333333324,
          55.33866666666666,
          55.464,
          55.58933333333333,
          55.714666666666666,
          55.839999999999996,
          55.96533333333333,
          56.090666666666664,
          56.216,
          56.341333333333324,
          56.46666666666666,
          56.59199999999999,
          56.71733333333333,
          56.842666666666666,
          56.96799999999999,
          57.09333333333333,
          57.218666666666664,
          57.343999999999994,
          57.469333333333324,
          57.59466666666666,
          57.71999999999999,
          57.84533333333333,
          57.97066666666666,
          58.09599999999999,
          58.22133333333333,
          58.346666666666664,
          58.471999999999994,
          58.597333333333324,
          58.72266666666666,
          58.84799999999999,
          58.97333333333333,
          59.09866666666666,
          59.22399999999999,
          59.34933333333333,
          59.474666666666664,
          59.599999999999994,
          59.725333333333325,
          59.85066666666666,
          59.97599999999999,
          60.10133333333333,
          60.22666666666666,
          60.35199999999999,
          60.47733333333333,
          60.602666666666664,
          60.727999999999994,
          60.853333333333325,
          60.97866666666666,
          61.10399999999999,
          61.22933333333333,
          61.35466666666666,
          61.47999999999999,
          61.60533333333333,
          61.730666666666664,
          61.855999999999995,
          61.981333333333325,
          62.10666666666666,
          62.23199999999999,
          62.35733333333333,
          62.48266666666666,
          62.60799999999999
         ],
         "xaxis": "x",
         "y": [
          0.02965760274689782,
          0.030572194721755486,
          0.031501458098170725,
          0.032445083350181037,
          0.033402738781469585,
          0.03437407076602579,
          0.035358704050153726,
          0.036356242116224256,
          0.03736626760832676,
          0.03838834281972893,
          0.03942201024179832,
          0.04046679317378045,
          0.04152219639256391,
          0.04258770688129647,
          0.04366279461544817,
          0.04474691340464951,
          0.04583950178836653,
          0.0469399839832115,
          0.04804777087942843,
          0.04916226108384211,
          0.05028284200631259,
          0.05140889098650335,
          0.052539776457546594,
          0.053674859142976164,
          0.05481349328310231,
          0.05595502788681695,
          0.057098808004653605,
          0.05824417601877671,
          0.05939047294544437,
          0.06053703974538027,
          0.06168321863740066,
          0.06282835441057467,
          0.06397179573015313,
          0.0651128964324786,
          0.06625101680409107,
          0.06738552484027051,
          0.06851579747830684,
          0.06964122180086287,
          0.07076119620489157,
          0.07187513153169411,
          0.07298245215384602,
          0.07408259701488976,
          0.07517502061788023,
          0.07625919395907932,
          0.07733460540332897,
          0.07840076149787968,
          0.07945718772172078,
          0.08050342916774164,
          0.08153905115535284,
          0.08256363977150935,
          0.08357680233840008,
          0.08457816780640502,
          0.08556738707126327,
          0.08654413321474227,
          0.08750810166845589,
          0.0884590103008327,
          0.08939659942759445,
          0.09032063174645996,
          0.09123089219714305,
          0.09212718774806122,
          0.09300934711151189,
          0.0938772203894068,
          0.09473067865197568,
          0.09556961345215986,
          0.09639393627871376,
          0.09720357795130982,
          0.0979984879612082,
          0.09877863376129581,
          0.09954400000952464,
          0.10029458776998582,
          0.10103041367603466,
          0.10175150906004633,
          0.10245791905451496,
          0.10314970166932191,
          0.10382692685008726,
          0.10448967552257964,
          0.10513803862819623,
          0.1057721161555367,
          0.10639201617307983,
          0.10699785386793033,
          0.10758975059554252,
          0.10816783294523102,
          0.10873223182617037,
          0.10928308157844444,
          0.1098205191135462,
          0.11034468308854634,
          0.1108557131179455,
          0.1113537490269994,
          0.11183893015006655,
          0.11231139467726625,
          0.11277127905245968,
          0.11321871742527406,
          0.1136538411595918,
          0.11407677840060289,
          0.1144876537022006,
          0.11488658771616456,
          0.11527369694423473,
          0.11564909355383445,
          0.11601288525785722,
          0.11636517525857663,
          0.11670606225539669,
          0.11703564051580982,
          0.1173540000085895,
          0.11766122659791028,
          0.11795740229675808,
          0.118242605577675,
          0.11851691173857969,
          0.11878039332110103,
          0.11903312057859548,
          0.1192751619907386,
          0.11950658482134849,
          0.11972745571585733,
          0.11993784133464726,
          0.12013780901827273,
          0.12032742748042691,
          0.12050676752436323,
          0.1206759027783667,
          0.12083491044576841,
          0.1209838720649254,
          0.12112287427454406,
          0.12125200957969788,
          0.12137137711389788,
          0.12148108339259939,
          0.12158124305358337,
          0.12167197957972699,
          0.12175342599978092,
          0.12182572556289586,
          0.12188903238278619,
          0.12194351204759162,
          0.12198934219168324,
          0.12202671302587466,
          0.12205582782271954,
          0.12207690335382645,
          0.12209017027637852,
          0.12209587346631554,
          0.12209427229592401,
          0.12208564085386972,
          0.12207026810601307,
          0.12204845799565435,
          0.12202052948216333,
          0.12198681651727045,
          0.12194766795860214,
          0.12190344742036288,
          0.12185453306136913,
          0.12180131731094829,
          0.12174420653351081,
          0.12168362063288907,
          0.12161999259781256,
          0.12155376799015533,
          0.1214854043778396,
          0.12141537071451039,
          0.12134414666832412,
          0.12127222190238077,
          0.1212000953095253,
          0.12112827420439615,
          0.12105727347574792,
          0.1209876147021963,
          0.12091982523463607,
          0.12085443724866357,
          0.12079198677039876,
          0.12073301267914308,
          0.12067805569032662,
          0.12062765732220895,
          0.12058235884977112,
          0.12054270024921349,
          0.120509219136415,
          0.12048244970265161,
          0.12046292165078523,
          0.12045115913504928,
          0.12044767970744699,
          0.12045299327367165,
          0.12046760106132932,
          0.12049199460312744,
          0.12052665473754376,
          0.12057205062937187,
          0.12062863881238647,
          0.12069686225623902,
          0.12077714945955881,
          0.12086991357109271,
          0.1209755515405931,
          0.12109444330102916,
          0.12122695098358444,
          0.12137341816678193,
          0.12153416916098052,
          0.12170950832937981,
          0.12189971944659325,
          0.12210506509575922,
          0.1223257861050969,
          0.12256210102475248,
          0.12281420564472728,
          0.12308227255463773,
          0.12336645074602642,
          0.12366686525791289,
          0.12398361686625287,
          0.12431678181796804,
          0.12466641161018852,
          0.1250325328153554,
          0.12541514695282405,
          0.12581423040760495,
          0.12622973439688154,
          0.1266615849849416,
          0.12710968314714588,
          0.12757390488355655,
          0.1280541013828223,
          0.12855009923689958,
          0.12906170070715092,
          0.12958868404232676,
          0.13013080384887304,
          0.13068779151395235,
          0.1312593556814799,
          0.1318451827813893,
          0.13244493761223253,
          0.13305826397710382,
          0.13368478537273562,
          0.13432410573147066,
          0.13497581021564656,
          0.13563946606375274,
          0.1363146234875259,
          0.13700081661895008,
          0.1376975645059051,
          0.13840437215498524,
          0.1391207316197758,
          0.1398461231326254,
          0.1405800162777138,
          0.1413218712029507,
          0.1420711398679972,
          0.14282726732544218,
          0.1435896930319165,
          0.14435785218567945,
          0.145131177086976,
          0.14590909851723394,
          0.1466910471329457,
          0.1474764548698876,
          0.1482647563531337,
          0.14905539030815676,
          0.1498478009681657,
          0.15064143947269779,
          0.1514357652523951,
          0.15223024739481333,
          0.15302436598607447,
          0.15381761342315736,
          0.154609495691637,
          0.15539953360373038,
          0.15618726399159177,
          0.15697224085090317,
          0.15775403642995967,
          0.15853224225962287,
          0.1593064701197214,
          0.16007635293772304,
          0.16084154561576816,
          0.16160172578245705,
          0.16235659446610207,
          0.16310587668651563,
          0.16384932196277258,
          0.1645867047347785,
          0.1653178246968978,
          0.16604250704231321,
          0.16676060261723613,
          0.16747198798453788,
          0.16817656539682596,
          0.16887426267945513,
          0.16956503302441822,
          0.17024885469653034,
          0.17092573065375166,
          0.17159568808396017,
          0.17225877786088636,
          0.17291507392236333,
          0.1735646725744055,
          0.17420769172502484,
          0.17484427005202452,
          0.17547456610932605,
          0.17609875737668285,
          0.1767170392578671,
          0.1773296240326613,
          0.17793673976814625,
          0.17853862919493985,
          0.17913554855414027,
          0.17972776642080013,
          0.18031556250978434,
          0.18089922646986129,
          0.1814790566718218,
          0.18205535899632863,
          0.1826284456270899,
          0.1831986338547648,
          0.1837662448968332,
          0.18433160273841534,
          0.18489503299876905,
          0.18545686182790616,
          0.18601741483743953,
          0.18657701606943994,
          0.1871359870067182,
          0.18769464562754834,
          0.188253305507486,
          0.1888122749704894,
          0.189371856291165,
          0.1899323449495183,
          0.19049402893918457,
          0.19105718812967903,
          0.1916220936828087,
          0.19218900752296406,
          0.19275818186063456,
          0.19332985876809913,
          0.19390426980589123,
          0.1944816356982989,
          0.19506216605583993,
          0.19564605914236752,
          0.1962335016842018,
          0.19682466871844037,
          0.19741972347741524,
          0.19801881730608514,
          0.19862208960901687,
          0.1992296678235171,
          0.19984166741540155,
          0.20045819189386357,
          0.20107933284189777,
          0.2017051699587879,
          0.20233577111121437,
          0.20297119238965744,
          0.20361147816689598,
          0.2042566611555589,
          0.2049067624618816,
          0.2055617916330218,
          0.20622174669552684,
          0.20688661418280796,
          0.20755636914972114,
          0.20823097517267758,
          0.20891038433396064,
          0.20959453718927437,
          0.21028336271781353,
          0.21097677825450417,
          0.2116746894043334,
          0.21237698993902918,
          0.2130835616766288,
          0.21379427434477877,
          0.21450898542889096,
          0.21522754000652844,
          0.2159497705696704,
          0.21667549683669846,
          0.21740452555618875,
          0.2181366503047519,
          0.21887165128132824,
          0.2196092951004861,
          0.22034933458736206,
          0.2210915085769623,
          0.22183554172059766,
          0.2225811443022291,
          0.22332801206750516,
          0.2240758260682062,
          0.224824252524782,
          0.22557294270951966,
          0.22632153285280726,
          0.22706964407476898,
          0.22781688234439848,
          0.22856283846811945,
          0.22930708810947567,
          0.23004919184143724,
          0.2307886952325572,
          0.23152512896793695,
          0.23225800900572388,
          0.2329868367695459,
          0.23371109937703385,
          0.23443026990429214,
          0.2351438076858834,
          0.23585115864963158,
          0.236551755685259,
          0.23724501904562134,
          0.23793035677905255,
          0.238607165191085,
          0.23927482933361138,
          0.23993272351933703,
          0.24058021185920658,
          0.24121664882033245,
          0.24184137980182377,
          0.2424537417258188,
          0.2430530636409434,
          0.2436386673353856,
          0.2442098679567562,
          0.24476597463592706,
          0.24530629111208388,
          0.24583011635631438,
          0.2463367451911564,
          0.2468254689036739,
          0.24729557584979117,
          0.24774635204781262,
          0.24817708175927594,
          0.24858704805552428,
          0.24897553336865688,
          0.24934182002579003,
          0.2496851907658713,
          0.25000492923860135,
          0.25030032048534023,
          0.25057065140221196,
          0.25081521118596123,
          0.2510332917634552,
          0.2512241882060533,
          0.25138719913041957,
          0.25152162708765285,
          0.251626778942939,
          0.25170196624822444,
          0.25174650561066597,
          0.251759719059906,
          0.25174093441740136,
          0.2516894856712871,
          0.2516047133603855,
          0.2514859649711226,
          0.25133259535122454,
          0.2511439671441098,
          0.25091945124792536,
          0.2506584273031621,
          0.2503602842127115,
          0.2500244206981336,
          0.2496502458957487,
          0.24923717999599143,
          0.2487846549292102,
          0.2482921151008392,
          0.24775901817854287,
          0.24718483593357835,
          0.24656905513822933,
          0.2459111785207294,
          0.24521072577863565,
          0.2444672346511112,
          0.24368026205006876,
          0.24284938524956573,
          0.2419742031322886,
          0.2410543374913833,
          0.2400894343852948,
          0.2390791655426802,
          0.2380232298138639,
          0.23692135466469705,
          0.23577329770810482,
          0.23457884826801018,
          0.23333782896977837,
          0.23205009735076837,
          0.2307155474840764,
          0.22933411160807352,
          0.22790576175387964,
          0.22643051136252595,
          0.22490841688318325,
          0.22333957934352447,
          0.22172414588302106,
          0.2200623112397721,
          0.21835431918130088,
          0.2166004638696807,
          0.21480109115129753,
          0.21295659976162,
          0.21106744243541667,
          0.2091341269130516,
          0.20715721683369745,
          0.20513733250661698,
          0.20307515155201086,
          0.20097140940336122,
          0.19882689966368478,
          0.19664247430864593,
          0.1944190437300896,
          0.19215757661420324,
          0.18985909964921888,
          0.1875246970583248,
          0.18515550995423946,
          0.18275273551272436,
          0.1803176259631943,
          0.17785148739543968,
          0.17535567838240698,
          0.1728316084198966,
          0.17028073618496614,
          0.16770456761577157,
          0.1651046538165071,
          0.16248258879201866,
          0.159840007017598,
          0.15717858085032865,
          0.15450001778923156,
          0.15180605759227744,
          0.149098469259137,
          0.14637904788927156,
          0.14364961142568125,
          0.14091199729526804,
          0.13816805895735876,
          0.13541966237247213,
          0.13266868240386895,
          0.12991699916482874,
          0.12716649432492022,
          0.12441904738879525,
          0.121676531961211,
          0.1189408120120969,
          0.11621373815552201,
          0.11349714395636464,
          0.11079284227838093,
          0.1081026216871759,
          0.10542824292131797,
          0.102771435444506,
          0.10013389409130266,
          0.09751727581848108,
          0.09492319657350658,
          0.09235322829109763,
          0.08980889602816361,
          0.08729167524674329,
          0.08480298925382998,
          0.08234420680619985,
          0.07991663988755658,
          0.07752154166447338,
          0.07516010462674644
         ],
         "yaxis": "y"
        },
        {
         "legendgroup": "智能计算",
         "marker": {
          "color": "rgb(31, 119, 180)",
          "symbol": "line-ns-open"
         },
         "mode": "markers",
         "name": "智能计算",
         "showlegend": false,
         "type": "scatter",
         "x": [
          47.95,
          48.15,
          38.73333333333333,
          55.46666666666667,
          64.68333333333334,
          50.28333333333333,
          55.8,
          34.583333333333336,
          64.71666666666667,
          55.16666666666666,
          60.083333333333336,
          65.65,
          65,
          58.61666666666667,
          50.1,
          57.43333333333333,
          59.45,
          46.91666666666666,
          52.46666666666667,
          42.8,
          39.23333333333333,
          51.78333333333333,
          50.61666666666667,
          69.08333333333333,
          36.65,
          71.63333333333334,
          12.516666666666667,
          60.25,
          55.083333333333336,
          47.31666666666667,
          19.23333333333333,
          39.516666666666666,
          47.2,
          56.86666666666667,
          78.63333333333334,
          43.03333333333333,
          66.98333333333333,
          65.83333333333333,
          52.35,
          34.166666666666664,
          64.75,
          55.06666666666667,
          52.05,
          64.63333333333334,
          52.95,
          57.11666666666667,
          56.516666666666666,
          52.21666666666667,
          45.48333333333333,
          40.05,
          52.8,
          39.1,
          59.833333333333336,
          35.6,
          44.48333333333333,
          50.86666666666667,
          55.35,
          45.9,
          54.53333333333333,
          35.38333333333333,
          42.71666666666667,
          51.2,
          57.91666666666666,
          52.61666666666667,
          51.36666666666667,
          30.25,
          38.48333333333333,
          60.11666666666667,
          55.8,
          57.18333333333333,
          49.81666666666667,
          52.98333333333333,
          44.86666666666667,
          61.1,
          71.16666666666667,
          54,
          52.31666666666667,
          38.16666666666666,
          61.9,
          60.1,
          42.38333333333333,
          58.6,
          58.85,
          53.5,
          49.05,
          56.266666666666666,
          62.78333333333333,
          52.333333333333336,
          49.16666666666666,
          48.833333333333336,
          54.833333333333336,
          47.41666666666666,
          64.33333333333333,
          35.6,
          45.98333333333333,
          62.38333333333333,
          50.266666666666666,
          51.96666666666667,
          46.48333333333333,
          40.15,
          60.11666666666667,
          61,
          42.7,
          53.95,
          68.36666666666666,
          42.28333333333333,
          67.51666666666667,
          71.01666666666667,
          53.35,
          54.88333333333333,
          55.86666666666667,
          54.71666666666667,
          62.516666666666666,
          43.766666666666666,
          53.98333333333333,
          47.266666666666666,
          56.016666666666666,
          54.25,
          50.98333333333333,
          43.3,
          38.63333333333333,
          44.95,
          53.18333333333333,
          66.45,
          53.71666666666667,
          52.766666666666666,
          55.3,
          9.733333333333333,
          50.71666666666667,
          53.06666666666667,
          55.8,
          56.11666666666667,
          60.78333333333333,
          38.11666666666667,
          71.23333333333333,
          61.38333333333333,
          54.2,
          47.766666666666666,
          60.1,
          70.98333333333333,
          45.7,
          53.016666666666666,
          52.65,
          59.6,
          51.68333333333333,
          69.06666666666666,
          75.86666666666666,
          42.68333333333333,
          49.48333333333333,
          55.583333333333336,
          47.16666666666666,
          56.93333333333333,
          63.65,
          47.38333333333333,
          62.93333333333333,
          54.73333333333333,
          35.21666666666667,
          61.53333333333333,
          53.43333333333333,
          63.23333333333333,
          65.53333333333333,
          47.21666666666667,
          36.95,
          45.9,
          38.56666666666667,
          52.56666666666667,
          48.083333333333336,
          45.43333333333333,
          60.95,
          54.78333333333333,
          44.06666666666667,
          31.716666666666665,
          55.53333333333333,
          56.4,
          45.6,
          37.083333333333336,
          64.31666666666666,
          55.46666666666667,
          50.06666666666667,
          49.73333333333333,
          66.51666666666667,
          46.93333333333333,
          48.86666666666667,
          67.73333333333333,
          60.91666666666666,
          54.78333333333333,
          52.73333333333333,
          55.833333333333336,
          52.9,
          40.98333333333333,
          54.65,
          68.45,
          69.28333333333333,
          76.95,
          47.15,
          42.7,
          52.48333333333333,
          52.91666666666666,
          51.78333333333333,
          51.516666666666666,
          35.583333333333336,
          57.38333333333333,
          69.05,
          72.76666666666667,
          64.76666666666667,
          58.66666666666666,
          59.06666666666667,
          46.31666666666667,
          44.516666666666666,
          58.38333333333333,
          62.11666666666667,
          57.016666666666666,
          36.55,
          46.833333333333336,
          51.71666666666667,
          44.36666666666667,
          40.18333333333333,
          55.91666666666666,
          56.11666666666667,
          62.833333333333336,
          12.8,
          54.31666666666667,
          48.16666666666666,
          54.55,
          40.11666666666667,
          83.93333333333334,
          49.016666666666666,
          49.71666666666667,
          65.15,
          76.18333333333334,
          46.56666666666667,
          38.266666666666666,
          50.7,
          36.75,
          47.23333333333333,
          38.05,
          53.46666666666667,
          54.71666666666667,
          42.516666666666666,
          49.63333333333333,
          66.86666666666666,
          39.55,
          64.65,
          45.65,
          71.85,
          50.16666666666666,
          56.23333333333333,
          61.4,
          56.41666666666666,
          61,
          40.1,
          45.2,
          51.13333333333333,
          58.1,
          69.93333333333334,
          44.5,
          47.2,
          41.766666666666666,
          62.333333333333336,
          66.38333333333334,
          57.1,
          48.583333333333336,
          63.65,
          50.56666666666667,
          59.91666666666666,
          55.8,
          45.766666666666666,
          46.16666666666666,
          56.583333333333336,
          61.31666666666667,
          59.15,
          57.31666666666667,
          55.31666666666667,
          53.9,
          52.11666666666667,
          73.43333333333334,
          73.16666666666667,
          61.95,
          47.96666666666667,
          64.18333333333334,
          61.53333333333333,
          67.33333333333333,
          43.63333333333333,
          56.21666666666667,
          50.93333333333333,
          47.18333333333333,
          62.91666666666666,
          42.28333333333333,
          64.13333333333334,
          42.95,
          50.41666666666666,
          47.4,
          50.43333333333333,
          64.7,
          44.13333333333333,
          55.6,
          49.91666666666666,
          73.28333333333333,
          42.15,
          45.73333333333333,
          74.26666666666667,
          52.16666666666666,
          66.05,
          50.56666666666667,
          58.68333333333333,
          59.93333333333333,
          47.36666666666667,
          41.766666666666666,
          58.583333333333336,
          78.4,
          59.766666666666666,
          63.65,
          69.6,
          53.766666666666666,
          43.36666666666667,
          48.8,
          52.46666666666667,
          50.85,
          78.86666666666666,
          46.266666666666666,
          53.8,
          60.833333333333336,
          62.8,
          58.63333333333333,
          51.43333333333333,
          61.48333333333333,
          46.63333333333333,
          67.56666666666666,
          55.4,
          35.45,
          57.45,
          62.833333333333336,
          45.53333333333333,
          50.88333333333333,
          59.55,
          31.28333333333333,
          37.15,
          46.766666666666666,
          40.93333333333333,
          36.05,
          47.4,
          43.31666666666667,
          22,
          41.25,
          34.983333333333334,
          32.4,
          37.9,
          46.55,
          35.916666666666664,
          33.35,
          39.78333333333333,
          45.78333333333333,
          50.75,
          37.13333333333333,
          5.816666666666666,
          38.61666666666667,
          50.43333333333333,
          49.98333333333333,
          52.55,
          46.333333333333336,
          51.13333333333333,
          58.06666666666667,
          41.88333333333333,
          38.81666666666667,
          39.86666666666667,
          72.11666666666666,
          47.86666666666667,
          39.7,
          43.66666666666666,
          66.15,
          42.56666666666667,
          41.333333333333336,
          53.28333333333333,
          44.48333333333333,
          46.43333333333333,
          38.88333333333333,
          50.61666666666667,
          39.516666666666666,
          54.38333333333333,
          53.46666666666667,
          50.31666666666667,
          51.75,
          40.38333333333333,
          41.45,
          37.55,
          46.21666666666667,
          46.15,
          43.38333333333333,
          45.03333333333333,
          49.65,
          38.083333333333336,
          51.6,
          40.78333333333333,
          48.766666666666666,
          41.53333333333333,
          47.06666666666667,
          31.65,
          55.833333333333336,
          41.48333333333333,
          41.25,
          56.21666666666667,
          45.4,
          44.21666666666667,
          55.083333333333336,
          36.16666666666666,
          38.65,
          63.6,
          43.45,
          41.3,
          39.31666666666667,
          21.83333333333333,
          40.3,
          45.23333333333333,
          53.61666666666667,
          3.783333333333333,
          48.63333333333333,
          46.13333333333333,
          36.43333333333333,
          17.65,
          48.583333333333336,
          42.15,
          40.333333333333336,
          38.53333333333333,
          47.98333333333333,
          46,
          39.23333333333333,
          43.88333333333333,
          45.86666666666667,
          7.45,
          42.1,
          31.33333333333333,
          37.56666666666667,
          50.56666666666667,
          48.1,
          23.73333333333333,
          45.16666666666666,
          58.31666666666667,
          51.65,
          50.25,
          37.88333333333333,
          71.95,
          49.96666666666667,
          52.833333333333336,
          36.61666666666667,
          53.38333333333333,
          49.6,
          46.66666666666666,
          40.65,
          49.48333333333333,
          44.86666666666667,
          50.11666666666667,
          38.81666666666667,
          18.933333333333334,
          28.33333333333333,
          56.083333333333336,
          10.833333333333334,
          11.8,
          12.416666666666666,
          11.916666666666666,
          20.7,
          22.25,
          18.73333333333333,
          77.11666666666666,
          50.46666666666667,
          24.7,
          21.633333333333333,
          26.866666666666667,
          41.11666666666667,
          63.06666666666667,
          16.116666666666667,
          28.016666666666666,
          24.28333333333333,
          45.766666666666666,
          17.5,
          32.95,
          68.85,
          17.716666666666665,
          16.55,
          16.216666666666665,
          24.433333333333334,
          10.25,
          19.4,
          36.21666666666667,
          17,
          12,
          28.216666666666665,
          29.6,
          31.116666666666667,
          17.866666666666667,
          10.566666666666666,
          29.95,
          28.5,
          25,
          31.78333333333333,
          8.65,
          24.28333333333333,
          36.333333333333336,
          32.96666666666667,
          32.28333333333333,
          25.216666666666665,
          30.85,
          15.466666666666669,
          29.966666666666665,
          8.65,
          16.75,
          30.83333333333333,
          19.33333333333333,
          19.4,
          24.83333333333333,
          31.183333333333334,
          7.666666666666667,
          19.883333333333333,
          22.03333333333333,
          16.05,
          27.4,
          27.016666666666666,
          26.066666666666663,
          16.266666666666666,
          33.016666666666666,
          10.333333333333334,
          22.566666666666663,
          22.183333333333334,
          5.366666666666666,
          12.366666666666667,
          6.233333333333333,
          3.9,
          5.9,
          28.416666666666668,
          13.833333333333334,
          25.6,
          7.55,
          29.016666666666666,
          23.95,
          13,
          23.55,
          75.13333333333334,
          28.5,
          33.2,
          27.15,
          28.58333333333333,
          19.53333333333333
         ],
         "xaxis": "x",
         "y": [
          "智能计算",
          "智能计算",
          "智能计算",
          "智能计算",
          "智能计算",
          "智能计算",
          "智能计算",
          "智能计算",
          "智能计算",
          "智能计算",
          "智能计算",
          "智能计算",
          "智能计算",
          "智能计算",
          "智能计算",
          "智能计算",
          "智能计算",
          "智能计算",
          "智能计算",
          "智能计算",
          "智能计算",
          "智能计算",
          "智能计算",
          "智能计算",
          "智能计算",
          "智能计算",
          "智能计算",
          "智能计算",
          "智能计算",
          "智能计算",
          "智能计算",
          "智能计算",
          "智能计算",
          "智能计算",
          "智能计算",
          "智能计算",
          "智能计算",
          "智能计算",
          "智能计算",
          "智能计算",
          "智能计算",
          "智能计算",
          "智能计算",
          "智能计算",
          "智能计算",
          "智能计算",
          "智能计算",
          "智能计算",
          "智能计算",
          "智能计算",
          "智能计算",
          "智能计算",
          "智能计算",
          "智能计算",
          "智能计算",
          "智能计算",
          "智能计算",
          "智能计算",
          "智能计算",
          "智能计算",
          "智能计算",
          "智能计算",
          "智能计算",
          "智能计算",
          "智能计算",
          "智能计算",
          "智能计算",
          "智能计算",
          "智能计算",
          "智能计算",
          "智能计算",
          "智能计算",
          "智能计算",
          "智能计算",
          "智能计算",
          "智能计算",
          "智能计算",
          "智能计算",
          "智能计算",
          "智能计算",
          "智能计算",
          "智能计算",
          "智能计算",
          "智能计算",
          "智能计算",
          "智能计算",
          "智能计算",
          "智能计算",
          "智能计算",
          "智能计算",
          "智能计算",
          "智能计算",
          "智能计算",
          "智能计算",
          "智能计算",
          "智能计算",
          "智能计算",
          "智能计算",
          "智能计算",
          "智能计算",
          "智能计算",
          "智能计算",
          "智能计算",
          "智能计算",
          "智能计算",
          "智能计算",
          "智能计算",
          "智能计算",
          "智能计算",
          "智能计算",
          "智能计算",
          "智能计算",
          "智能计算",
          "智能计算",
          "智能计算",
          "智能计算",
          "智能计算",
          "智能计算",
          "智能计算",
          "智能计算",
          "智能计算",
          "智能计算",
          "智能计算",
          "智能计算",
          "智能计算",
          "智能计算",
          "智能计算",
          "智能计算",
          "智能计算",
          "智能计算",
          "智能计算",
          "智能计算",
          "智能计算",
          "智能计算",
          "智能计算",
          "智能计算",
          "智能计算",
          "智能计算",
          "智能计算",
          "智能计算",
          "智能计算",
          "智能计算",
          "智能计算",
          "智能计算",
          "智能计算",
          "智能计算",
          "智能计算",
          "智能计算",
          "智能计算",
          "智能计算",
          "智能计算",
          "智能计算",
          "智能计算",
          "智能计算",
          "智能计算",
          "智能计算",
          "智能计算",
          "智能计算",
          "智能计算",
          "智能计算",
          "智能计算",
          "智能计算",
          "智能计算",
          "智能计算",
          "智能计算",
          "智能计算",
          "智能计算",
          "智能计算",
          "智能计算",
          "智能计算",
          "智能计算",
          "智能计算",
          "智能计算",
          "智能计算",
          "智能计算",
          "智能计算",
          "智能计算",
          "智能计算",
          "智能计算",
          "智能计算",
          "智能计算",
          "智能计算",
          "智能计算",
          "智能计算",
          "智能计算",
          "智能计算",
          "智能计算",
          "智能计算",
          "智能计算",
          "智能计算",
          "智能计算",
          "智能计算",
          "智能计算",
          "智能计算",
          "智能计算",
          "智能计算",
          "智能计算",
          "智能计算",
          "智能计算",
          "智能计算",
          "智能计算",
          "智能计算",
          "智能计算",
          "智能计算",
          "智能计算",
          "智能计算",
          "智能计算",
          "智能计算",
          "智能计算",
          "智能计算",
          "智能计算",
          "智能计算",
          "智能计算",
          "智能计算",
          "智能计算",
          "智能计算",
          "智能计算",
          "智能计算",
          "智能计算",
          "智能计算",
          "智能计算",
          "智能计算",
          "智能计算",
          "智能计算",
          "智能计算",
          "智能计算",
          "智能计算",
          "智能计算",
          "智能计算",
          "智能计算",
          "智能计算",
          "智能计算",
          "智能计算",
          "智能计算",
          "智能计算",
          "智能计算",
          "智能计算",
          "智能计算",
          "智能计算",
          "智能计算",
          "智能计算",
          "智能计算",
          "智能计算",
          "智能计算",
          "智能计算",
          "智能计算",
          "智能计算",
          "智能计算",
          "智能计算",
          "智能计算",
          "智能计算",
          "智能计算",
          "智能计算",
          "智能计算",
          "智能计算",
          "智能计算",
          "智能计算",
          "智能计算",
          "智能计算",
          "智能计算",
          "智能计算",
          "智能计算",
          "智能计算",
          "智能计算",
          "智能计算",
          "智能计算",
          "智能计算",
          "智能计算",
          "智能计算",
          "智能计算",
          "智能计算",
          "智能计算",
          "智能计算",
          "智能计算",
          "智能计算",
          "智能计算",
          "智能计算",
          "智能计算",
          "智能计算",
          "智能计算",
          "智能计算",
          "智能计算",
          "智能计算",
          "智能计算",
          "智能计算",
          "智能计算",
          "智能计算",
          "智能计算",
          "智能计算",
          "智能计算",
          "智能计算",
          "智能计算",
          "智能计算",
          "智能计算",
          "智能计算",
          "智能计算",
          "智能计算",
          "智能计算",
          "智能计算",
          "智能计算",
          "智能计算",
          "智能计算",
          "智能计算",
          "智能计算",
          "智能计算",
          "智能计算",
          "智能计算",
          "智能计算",
          "智能计算",
          "智能计算",
          "智能计算",
          "智能计算",
          "智能计算",
          "智能计算",
          "智能计算",
          "智能计算",
          "智能计算",
          "智能计算",
          "智能计算",
          "智能计算",
          "智能计算",
          "智能计算",
          "智能计算",
          "智能计算",
          "智能计算",
          "智能计算",
          "智能计算",
          "智能计算",
          "智能计算",
          "智能计算",
          "智能计算",
          "智能计算",
          "智能计算",
          "智能计算",
          "智能计算",
          "智能计算",
          "智能计算",
          "智能计算",
          "智能计算",
          "智能计算",
          "智能计算",
          "智能计算",
          "智能计算",
          "智能计算",
          "智能计算",
          "智能计算",
          "智能计算",
          "智能计算",
          "智能计算",
          "智能计算",
          "智能计算",
          "智能计算",
          "智能计算",
          "智能计算",
          "智能计算",
          "智能计算",
          "智能计算",
          "智能计算",
          "智能计算",
          "智能计算",
          "智能计算",
          "智能计算",
          "智能计算",
          "智能计算",
          "智能计算",
          "智能计算",
          "智能计算",
          "智能计算",
          "智能计算",
          "智能计算",
          "智能计算",
          "智能计算",
          "智能计算",
          "智能计算",
          "智能计算",
          "智能计算",
          "智能计算",
          "智能计算",
          "智能计算",
          "智能计算",
          "智能计算",
          "智能计算",
          "智能计算",
          "智能计算",
          "智能计算",
          "智能计算",
          "智能计算",
          "智能计算",
          "智能计算",
          "智能计算",
          "智能计算",
          "智能计算",
          "智能计算",
          "智能计算",
          "智能计算",
          "智能计算",
          "智能计算",
          "智能计算",
          "智能计算",
          "智能计算",
          "智能计算",
          "智能计算",
          "智能计算",
          "智能计算",
          "智能计算",
          "智能计算",
          "智能计算",
          "智能计算",
          "智能计算",
          "智能计算",
          "智能计算",
          "智能计算",
          "智能计算",
          "智能计算",
          "智能计算",
          "智能计算",
          "智能计算",
          "智能计算",
          "智能计算",
          "智能计算",
          "智能计算",
          "智能计算",
          "智能计算",
          "智能计算",
          "智能计算",
          "智能计算",
          "智能计算",
          "智能计算",
          "智能计算",
          "智能计算",
          "智能计算",
          "智能计算",
          "智能计算",
          "智能计算",
          "智能计算",
          "智能计算",
          "智能计算",
          "智能计算",
          "智能计算",
          "智能计算",
          "智能计算",
          "智能计算",
          "智能计算",
          "智能计算",
          "智能计算",
          "智能计算",
          "智能计算",
          "智能计算",
          "智能计算",
          "智能计算",
          "智能计算",
          "智能计算",
          "智能计算",
          "智能计算",
          "智能计算",
          "智能计算",
          "智能计算",
          "智能计算",
          "智能计算",
          "智能计算",
          "智能计算",
          "智能计算",
          "智能计算",
          "智能计算",
          "智能计算",
          "智能计算",
          "智能计算",
          "智能计算",
          "智能计算",
          "智能计算",
          "智能计算",
          "智能计算",
          "智能计算",
          "智能计算",
          "智能计算",
          "智能计算",
          "智能计算",
          "智能计算",
          "智能计算",
          "智能计算",
          "智能计算",
          "智能计算",
          "智能计算",
          "智能计算",
          "智能计算",
          "智能计算",
          "智能计算",
          "智能计算",
          "智能计算",
          "智能计算",
          "智能计算",
          "智能计算",
          "智能计算",
          "智能计算",
          "智能计算",
          "智能计算",
          "智能计算",
          "智能计算",
          "智能计算",
          "智能计算",
          "智能计算",
          "智能计算",
          "智能计算",
          "智能计算",
          "智能计算",
          "智能计算",
          "智能计算",
          "智能计算",
          "智能计算",
          "智能计算",
          "智能计算",
          "智能计算",
          "智能计算",
          "智能计算",
          "智能计算",
          "智能计算",
          "智能计算",
          "智能计算",
          "智能计算",
          "智能计算",
          "智能计算",
          "智能计算",
          "智能计算",
          "智能计算",
          "智能计算",
          "智能计算",
          "智能计算",
          "智能计算",
          "智能计算",
          "智能计算",
          "智能计算",
          "智能计算",
          "智能计算",
          "智能计算",
          "智能计算",
          "智能计算",
          "智能计算",
          "智能计算",
          "智能计算",
          "智能计算",
          "智能计算"
         ],
         "yaxis": "y2"
        },
        {
         "legendgroup": "问题解决",
         "marker": {
          "color": "rgb(255, 127, 14)",
          "symbol": "line-ns-open"
         },
         "mode": "markers",
         "name": "问题解决",
         "showlegend": false,
         "type": "scatter",
         "x": [
          56.333333333333336,
          30.83333333333333,
          59.61666666666667,
          50.25,
          58.16666666666666,
          51.266666666666666,
          23.85,
          46.31666666666667,
          54.71666666666667,
          53.31666666666667,
          43.61666666666667,
          59.88333333333333,
          54.083333333333336,
          57.31666666666667,
          54.7,
          49.13333333333333,
          59.66666666666666,
          44.15,
          36.93333333333333,
          48.55,
          54.56666666666667,
          46.516666666666666,
          32.71666666666667,
          50.333333333333336,
          51.6,
          36.516666666666666,
          57.88333333333333,
          50.66666666666666,
          29.15,
          31.83333333333333,
          37.53333333333333,
          49.36666666666667,
          50.73333333333333,
          38.61666666666667,
          38.15,
          40.05,
          43.53333333333333,
          57.85,
          46.333333333333336,
          50.65,
          51.36666666666667,
          59.86666666666667,
          59.583333333333336,
          59.53333333333333,
          40.63333333333333,
          25.9,
          53.96666666666667,
          53.48333333333333,
          43.36666666666667,
          36.41666666666666,
          49.13333333333333,
          54.96666666666667,
          58.35,
          55.833333333333336,
          45.65,
          40.6,
          33.88333333333333,
          52.93333333333333,
          35.833333333333336,
          54.16666666666666,
          35.083333333333336,
          49.8,
          46.11666666666667,
          50.083333333333336,
          52.55,
          57.28333333333333,
          43.18333333333333,
          45.45,
          42.35,
          45.95,
          55.91666666666666,
          48.083333333333336,
          55.71666666666667,
          56.73333333333333,
          44.4,
          15,
          38.53333333333333,
          53.43333333333333,
          33.53333333333333,
          30.766666666666666,
          45.85,
          47.766666666666666,
          58.46666666666667,
          46.516666666666666,
          58.15,
          33.8,
          48.05,
          59.25,
          27.8,
          47.55,
          41.083333333333336,
          57.7,
          41.1,
          53.35,
          59.8,
          45.53333333333333,
          16.7,
          52.583333333333336,
          54.3,
          34.03333333333333,
          54.81666666666667,
          44.91666666666666,
          36.083333333333336,
          37,
          41.88333333333333,
          19.3,
          48.45,
          57.36666666666667,
          33.016666666666666,
          59.333333333333336,
          48.8,
          50.98333333333333,
          29.016666666666666,
          51.86666666666667,
          37.36666666666667,
          33.2,
          50.35,
          44.28333333333333,
          39.68333333333333,
          46.9,
          43.91666666666666,
          54.766666666666666,
          40.46666666666667,
          35.93333333333333,
          47.18333333333333,
          49.5,
          39.333333333333336,
          43.75,
          39.36666666666667,
          51.55,
          53.06666666666667,
          46.61666666666667,
          32.6,
          36.93333333333333,
          57.91666666666666,
          30.883333333333333,
          49,
          47.45,
          55.75,
          37.11666666666667,
          57.86666666666667,
          37.36666666666667,
          47.766666666666666,
          58.13333333333333,
          33.53333333333333,
          41.05,
          35.8,
          42.016666666666666,
          25.266666666666666,
          36.41666666666666,
          46.16666666666666,
          50.13333333333333,
          29.566666666666663,
          41.78333333333333,
          49.66666666666666,
          59.93333333333333,
          58.61666666666667,
          57,
          25.98333333333333,
          54.68333333333333,
          31.65,
          56.2,
          42.65,
          55.21666666666667,
          42.03333333333333,
          31.466666666666665,
          44.91666666666666,
          49.266666666666666,
          50.45,
          43.93333333333333,
          39.38333333333333,
          45.833333333333336,
          33.5,
          32.63333333333333,
          33.25,
          40.266666666666666,
          39.95,
          42.11666666666667,
          36.45,
          43,
          58.53333333333333,
          51.7,
          52.75,
          48.016666666666666,
          33.1,
          34.083333333333336,
          57.333333333333336,
          48.25,
          55.5,
          56.7,
          57.93333333333333,
          51.91666666666666,
          46.583333333333336,
          46.11666666666667,
          57.66666666666666,
          52.7,
          53.86666666666667,
          31.15,
          57.61666666666667,
          40.25,
          45.65,
          24.416666666666668,
          37.13333333333333,
          52.61666666666667,
          50.68333333333333,
          54.38333333333333,
          58.96666666666667,
          43.45,
          46.95,
          38.766666666666666,
          55.91666666666666,
          56.28333333333333,
          51.833333333333336,
          25.266666666666666,
          46.13333333333333,
          53.98333333333333,
          34.8,
          50.6,
          45.48333333333333,
          49.73333333333333,
          52.5,
          51.9,
          33.833333333333336,
          56.21666666666667,
          58.8,
          56.6,
          40.15,
          36.48333333333333,
          52.583333333333336,
          52.31666666666667,
          50.4,
          43.6,
          50.016666666666666,
          42.93333333333333,
          35.81666666666667,
          48.833333333333336,
          41.61666666666667,
          52.93333333333333,
          53.9,
          58.43333333333333,
          42.11666666666667,
          43.86666666666667,
          28.33333333333333,
          46.98333333333333,
          54.21666666666667,
          8.816666666666666,
          59.333333333333336,
          17.616666666666667,
          39.8,
          49.66666666666666,
          59.88333333333333,
          48.03333333333333,
          38.766666666666666,
          35.61666666666667,
          42.93333333333333,
          37.46666666666667,
          50.28333333333333,
          50.03333333333333,
          53.75,
          50.18333333333333,
          54.35,
          51.13333333333333,
          57.516666666666666,
          37.2,
          41.6,
          27.016666666666666,
          21.05,
          57.93333333333333,
          55.43333333333333,
          34.85,
          57.46666666666667,
          55.61666666666667,
          31.216666666666665,
          39.266666666666666,
          40.78333333333333,
          40.81666666666667,
          40.43333333333333,
          24.416666666666668,
          50.91666666666666,
          40.18333333333333,
          33.78333333333333,
          47.583333333333336,
          43.21666666666667,
          21.883333333333333,
          48.43333333333333,
          44.78333333333333,
          47.4,
          43.96666666666667,
          46.4,
          53.833333333333336,
          47.18333333333333,
          54.96666666666667,
          54.7,
          52.63333333333333,
          48.43333333333333,
          45.11666666666667,
          46.23333333333333,
          42.88333333333333,
          55.6,
          50.85,
          47,
          58.03333333333333,
          52.06666666666667,
          57.11666666666667,
          32.3,
          33.31666666666667,
          43.06666666666667,
          37.65,
          26.7,
          29.4,
          28.966666666666665,
          39.766666666666666,
          29.85,
          49.8,
          55.98333333333333,
          62.73333333333333,
          25,
          34.333333333333336,
          26.3,
          49.78333333333333,
          17.766666666666666,
          49.65,
          19.78333333333333,
          24.183333333333334,
          33.88333333333333,
          24.7,
          55.91666666666666,
          41.48333333333333,
          18.266666666666666,
          40.71666666666667,
          35.21666666666667,
          49.583333333333336,
          49.03333333333333,
          14.7,
          20.416666666666668,
          19.58333333333333,
          38.78333333333333,
          28.33333333333333,
          33.5,
          49.3,
          38.23333333333333,
          46.06666666666667,
          31.316666666666663,
          42.66666666666666,
          31.016666666666666,
          23.4,
          22.73333333333333,
          31.9,
          31.866666666666667,
          40.6,
          49.96666666666667,
          28.08333333333333,
          39.083333333333336,
          23.3,
          17.533333333333335,
          23.58333333333333,
          40.8,
          13.95,
          28.9,
          38.25,
          23.366666666666667,
          0.0666666666666666,
          14.95,
          39.71666666666667,
          23.066666666666663,
          0.7833333333333333,
          34.266666666666666,
          21.133333333333333,
          23.25,
          14.733333333333333,
          20.45,
          10.433333333333334,
          28.433333333333334,
          29.883333333333333,
          19.95,
          26.933333333333334,
          22.683333333333334,
          11.833333333333334,
          32.7,
          18.716666666666665,
          10.316666666666666,
          5.633333333333334,
          31.2,
          20.633333333333333,
          24.05,
          10.233333333333333,
          28.216666666666665,
          20.5,
          32.5,
          19.133333333333333,
          54.15,
          14.35,
          15.3,
          15.583333333333334,
          25.78333333333333,
          30.08333333333333,
          15.516666666666667,
          17.25,
          21.1,
          26.116666666666667,
          33.36666666666667,
          15.833333333333334,
          6.333333333333333,
          5.833333333333333,
          34.766666666666666,
          10.083333333333334,
          15.05,
          9.666666666666666,
          8.516666666666667,
          16.45,
          14.083333333333334,
          24.516666666666666,
          43.78333333333333,
          27.28333333333333,
          10.983333333333333,
          4.2,
          19.75,
          25.58333333333333,
          45.86666666666667,
          8.75,
          5.55,
          7.3,
          26.15,
          6.166666666666667,
          28.466666666666665,
          52.48333333333333,
          12.95,
          31.216666666666665,
          5.566666666666666,
          11.233333333333333,
          4.783333333333333,
          5.9,
          6.533333333333333,
          18.65,
          2.8,
          11.35,
          6.2,
          18.48333333333333,
          7.1,
          30.08333333333333,
          10.466666666666669,
          8.55,
          12.983333333333333,
          13.316666666666666,
          11.333333333333334,
          10.966666666666669,
          11.216666666666669,
          10.666666666666666,
          19.133333333333333,
          9.4,
          18.816666666666663,
          6.083333333333333,
          12.016666666666667,
          9.45,
          31.4,
          15.333333333333334,
          12.583333333333334,
          14.95,
          17.933333333333334,
          17.116666666666667,
          13.383333333333333,
          16.4,
          14.733333333333333,
          30.183333333333334,
          12.9,
          17.783333333333335,
          17.166666666666668,
          5.15,
          17.65,
          5.4,
          7.683333333333334,
          13.166666666666666,
          13.05,
          3.3,
          6.35,
          19.5,
          8.433333333333334,
          2.85,
          17.716666666666665,
          23.3,
          31.7,
          7.65,
          9.183333333333334,
          18.316666666666663,
          14.866666666666667,
          29.03333333333333,
          8.766666666666667,
          6.533333333333333,
          2.6333333333333333
         ],
         "xaxis": "x",
         "y": [
          "问题解决",
          "问题解决",
          "问题解决",
          "问题解决",
          "问题解决",
          "问题解决",
          "问题解决",
          "问题解决",
          "问题解决",
          "问题解决",
          "问题解决",
          "问题解决",
          "问题解决",
          "问题解决",
          "问题解决",
          "问题解决",
          "问题解决",
          "问题解决",
          "问题解决",
          "问题解决",
          "问题解决",
          "问题解决",
          "问题解决",
          "问题解决",
          "问题解决",
          "问题解决",
          "问题解决",
          "问题解决",
          "问题解决",
          "问题解决",
          "问题解决",
          "问题解决",
          "问题解决",
          "问题解决",
          "问题解决",
          "问题解决",
          "问题解决",
          "问题解决",
          "问题解决",
          "问题解决",
          "问题解决",
          "问题解决",
          "问题解决",
          "问题解决",
          "问题解决",
          "问题解决",
          "问题解决",
          "问题解决",
          "问题解决",
          "问题解决",
          "问题解决",
          "问题解决",
          "问题解决",
          "问题解决",
          "问题解决",
          "问题解决",
          "问题解决",
          "问题解决",
          "问题解决",
          "问题解决",
          "问题解决",
          "问题解决",
          "问题解决",
          "问题解决",
          "问题解决",
          "问题解决",
          "问题解决",
          "问题解决",
          "问题解决",
          "问题解决",
          "问题解决",
          "问题解决",
          "问题解决",
          "问题解决",
          "问题解决",
          "问题解决",
          "问题解决",
          "问题解决",
          "问题解决",
          "问题解决",
          "问题解决",
          "问题解决",
          "问题解决",
          "问题解决",
          "问题解决",
          "问题解决",
          "问题解决",
          "问题解决",
          "问题解决",
          "问题解决",
          "问题解决",
          "问题解决",
          "问题解决",
          "问题解决",
          "问题解决",
          "问题解决",
          "问题解决",
          "问题解决",
          "问题解决",
          "问题解决",
          "问题解决",
          "问题解决",
          "问题解决",
          "问题解决",
          "问题解决",
          "问题解决",
          "问题解决",
          "问题解决",
          "问题解决",
          "问题解决",
          "问题解决",
          "问题解决",
          "问题解决",
          "问题解决",
          "问题解决",
          "问题解决",
          "问题解决",
          "问题解决",
          "问题解决",
          "问题解决",
          "问题解决",
          "问题解决",
          "问题解决",
          "问题解决",
          "问题解决",
          "问题解决",
          "问题解决",
          "问题解决",
          "问题解决",
          "问题解决",
          "问题解决",
          "问题解决",
          "问题解决",
          "问题解决",
          "问题解决",
          "问题解决",
          "问题解决",
          "问题解决",
          "问题解决",
          "问题解决",
          "问题解决",
          "问题解决",
          "问题解决",
          "问题解决",
          "问题解决",
          "问题解决",
          "问题解决",
          "问题解决",
          "问题解决",
          "问题解决",
          "问题解决",
          "问题解决",
          "问题解决",
          "问题解决",
          "问题解决",
          "问题解决",
          "问题解决",
          "问题解决",
          "问题解决",
          "问题解决",
          "问题解决",
          "问题解决",
          "问题解决",
          "问题解决",
          "问题解决",
          "问题解决",
          "问题解决",
          "问题解决",
          "问题解决",
          "问题解决",
          "问题解决",
          "问题解决",
          "问题解决",
          "问题解决",
          "问题解决",
          "问题解决",
          "问题解决",
          "问题解决",
          "问题解决",
          "问题解决",
          "问题解决",
          "问题解决",
          "问题解决",
          "问题解决",
          "问题解决",
          "问题解决",
          "问题解决",
          "问题解决",
          "问题解决",
          "问题解决",
          "问题解决",
          "问题解决",
          "问题解决",
          "问题解决",
          "问题解决",
          "问题解决",
          "问题解决",
          "问题解决",
          "问题解决",
          "问题解决",
          "问题解决",
          "问题解决",
          "问题解决",
          "问题解决",
          "问题解决",
          "问题解决",
          "问题解决",
          "问题解决",
          "问题解决",
          "问题解决",
          "问题解决",
          "问题解决",
          "问题解决",
          "问题解决",
          "问题解决",
          "问题解决",
          "问题解决",
          "问题解决",
          "问题解决",
          "问题解决",
          "问题解决",
          "问题解决",
          "问题解决",
          "问题解决",
          "问题解决",
          "问题解决",
          "问题解决",
          "问题解决",
          "问题解决",
          "问题解决",
          "问题解决",
          "问题解决",
          "问题解决",
          "问题解决",
          "问题解决",
          "问题解决",
          "问题解决",
          "问题解决",
          "问题解决",
          "问题解决",
          "问题解决",
          "问题解决",
          "问题解决",
          "问题解决",
          "问题解决",
          "问题解决",
          "问题解决",
          "问题解决",
          "问题解决",
          "问题解决",
          "问题解决",
          "问题解决",
          "问题解决",
          "问题解决",
          "问题解决",
          "问题解决",
          "问题解决",
          "问题解决",
          "问题解决",
          "问题解决",
          "问题解决",
          "问题解决",
          "问题解决",
          "问题解决",
          "问题解决",
          "问题解决",
          "问题解决",
          "问题解决",
          "问题解决",
          "问题解决",
          "问题解决",
          "问题解决",
          "问题解决",
          "问题解决",
          "问题解决",
          "问题解决",
          "问题解决",
          "问题解决",
          "问题解决",
          "问题解决",
          "问题解决",
          "问题解决",
          "问题解决",
          "问题解决",
          "问题解决",
          "问题解决",
          "问题解决",
          "问题解决",
          "问题解决",
          "问题解决",
          "问题解决",
          "问题解决",
          "问题解决",
          "问题解决",
          "问题解决",
          "问题解决",
          "问题解决",
          "问题解决",
          "问题解决",
          "问题解决",
          "问题解决",
          "问题解决",
          "问题解决",
          "问题解决",
          "问题解决",
          "问题解决",
          "问题解决",
          "问题解决",
          "问题解决",
          "问题解决",
          "问题解决",
          "问题解决",
          "问题解决",
          "问题解决",
          "问题解决",
          "问题解决",
          "问题解决",
          "问题解决",
          "问题解决",
          "问题解决",
          "问题解决",
          "问题解决",
          "问题解决",
          "问题解决",
          "问题解决",
          "问题解决",
          "问题解决",
          "问题解决",
          "问题解决",
          "问题解决",
          "问题解决",
          "问题解决",
          "问题解决",
          "问题解决",
          "问题解决",
          "问题解决",
          "问题解决",
          "问题解决",
          "问题解决",
          "问题解决",
          "问题解决",
          "问题解决",
          "问题解决",
          "问题解决",
          "问题解决",
          "问题解决",
          "问题解决",
          "问题解决",
          "问题解决",
          "问题解决",
          "问题解决",
          "问题解决",
          "问题解决",
          "问题解决",
          "问题解决",
          "问题解决",
          "问题解决",
          "问题解决",
          "问题解决",
          "问题解决",
          "问题解决",
          "问题解决",
          "问题解决",
          "问题解决",
          "问题解决",
          "问题解决",
          "问题解决",
          "问题解决",
          "问题解决",
          "问题解决",
          "问题解决",
          "问题解决",
          "问题解决",
          "问题解决",
          "问题解决",
          "问题解决",
          "问题解决",
          "问题解决",
          "问题解决",
          "问题解决",
          "问题解决",
          "问题解决",
          "问题解决",
          "问题解决",
          "问题解决",
          "问题解决",
          "问题解决",
          "问题解决",
          "问题解决",
          "问题解决",
          "问题解决",
          "问题解决",
          "问题解决",
          "问题解决",
          "问题解决",
          "问题解决",
          "问题解决",
          "问题解决",
          "问题解决",
          "问题解决",
          "问题解决",
          "问题解决",
          "问题解决",
          "问题解决",
          "问题解决",
          "问题解决",
          "问题解决",
          "问题解决",
          "问题解决",
          "问题解决",
          "问题解决",
          "问题解决",
          "问题解决",
          "问题解决",
          "问题解决",
          "问题解决",
          "问题解决",
          "问题解决",
          "问题解决",
          "问题解决",
          "问题解决",
          "问题解决",
          "问题解决",
          "问题解决",
          "问题解决",
          "问题解决",
          "问题解决",
          "问题解决",
          "问题解决",
          "问题解决",
          "问题解决",
          "问题解决",
          "问题解决",
          "问题解决",
          "问题解决",
          "问题解决",
          "问题解决",
          "问题解决",
          "问题解决",
          "问题解决",
          "问题解决",
          "问题解决",
          "问题解决",
          "问题解决",
          "问题解决",
          "问题解决",
          "问题解决",
          "问题解决",
          "问题解决",
          "问题解决",
          "问题解决",
          "问题解决",
          "问题解决",
          "问题解决",
          "问题解决",
          "问题解决",
          "问题解决",
          "问题解决",
          "问题解决",
          "问题解决",
          "问题解决",
          "问题解决",
          "问题解决",
          "问题解决",
          "问题解决",
          "问题解决",
          "问题解决",
          "问题解决",
          "问题解决",
          "问题解决",
          "问题解决",
          "问题解决",
          "问题解决",
          "问题解决",
          "问题解决",
          "问题解决",
          "问题解决",
          "问题解决",
          "问题解决",
          "问题解决",
          "问题解决",
          "问题解决",
          "问题解决",
          "问题解决",
          "问题解决",
          "问题解决",
          "问题解决",
          "问题解决",
          "问题解决"
         ],
         "yaxis": "y2"
        }
       ],
       "layout": {
        "barmode": "overlay",
        "hovermode": "closest",
        "legend": {
         "traceorder": "reversed"
        },
        "template": {
         "data": {
          "bar": [
           {
            "error_x": {
             "color": "#2a3f5f"
            },
            "error_y": {
             "color": "#2a3f5f"
            },
            "marker": {
             "line": {
              "color": "#E5ECF6",
              "width": 0.5
             },
             "pattern": {
              "fillmode": "overlay",
              "size": 10,
              "solidity": 0.2
             }
            },
            "type": "bar"
           }
          ],
          "barpolar": [
           {
            "marker": {
             "line": {
              "color": "#E5ECF6",
              "width": 0.5
             },
             "pattern": {
              "fillmode": "overlay",
              "size": 10,
              "solidity": 0.2
             }
            },
            "type": "barpolar"
           }
          ],
          "carpet": [
           {
            "aaxis": {
             "endlinecolor": "#2a3f5f",
             "gridcolor": "white",
             "linecolor": "white",
             "minorgridcolor": "white",
             "startlinecolor": "#2a3f5f"
            },
            "baxis": {
             "endlinecolor": "#2a3f5f",
             "gridcolor": "white",
             "linecolor": "white",
             "minorgridcolor": "white",
             "startlinecolor": "#2a3f5f"
            },
            "type": "carpet"
           }
          ],
          "choropleth": [
           {
            "colorbar": {
             "outlinewidth": 0,
             "ticks": ""
            },
            "type": "choropleth"
           }
          ],
          "contour": [
           {
            "colorbar": {
             "outlinewidth": 0,
             "ticks": ""
            },
            "colorscale": [
             [
              0,
              "#0d0887"
             ],
             [
              0.1111111111111111,
              "#46039f"
             ],
             [
              0.2222222222222222,
              "#7201a8"
             ],
             [
              0.3333333333333333,
              "#9c179e"
             ],
             [
              0.4444444444444444,
              "#bd3786"
             ],
             [
              0.5555555555555556,
              "#d8576b"
             ],
             [
              0.6666666666666666,
              "#ed7953"
             ],
             [
              0.7777777777777778,
              "#fb9f3a"
             ],
             [
              0.8888888888888888,
              "#fdca26"
             ],
             [
              1,
              "#f0f921"
             ]
            ],
            "type": "contour"
           }
          ],
          "contourcarpet": [
           {
            "colorbar": {
             "outlinewidth": 0,
             "ticks": ""
            },
            "type": "contourcarpet"
           }
          ],
          "heatmap": [
           {
            "colorbar": {
             "outlinewidth": 0,
             "ticks": ""
            },
            "colorscale": [
             [
              0,
              "#0d0887"
             ],
             [
              0.1111111111111111,
              "#46039f"
             ],
             [
              0.2222222222222222,
              "#7201a8"
             ],
             [
              0.3333333333333333,
              "#9c179e"
             ],
             [
              0.4444444444444444,
              "#bd3786"
             ],
             [
              0.5555555555555556,
              "#d8576b"
             ],
             [
              0.6666666666666666,
              "#ed7953"
             ],
             [
              0.7777777777777778,
              "#fb9f3a"
             ],
             [
              0.8888888888888888,
              "#fdca26"
             ],
             [
              1,
              "#f0f921"
             ]
            ],
            "type": "heatmap"
           }
          ],
          "heatmapgl": [
           {
            "colorbar": {
             "outlinewidth": 0,
             "ticks": ""
            },
            "colorscale": [
             [
              0,
              "#0d0887"
             ],
             [
              0.1111111111111111,
              "#46039f"
             ],
             [
              0.2222222222222222,
              "#7201a8"
             ],
             [
              0.3333333333333333,
              "#9c179e"
             ],
             [
              0.4444444444444444,
              "#bd3786"
             ],
             [
              0.5555555555555556,
              "#d8576b"
             ],
             [
              0.6666666666666666,
              "#ed7953"
             ],
             [
              0.7777777777777778,
              "#fb9f3a"
             ],
             [
              0.8888888888888888,
              "#fdca26"
             ],
             [
              1,
              "#f0f921"
             ]
            ],
            "type": "heatmapgl"
           }
          ],
          "histogram": [
           {
            "marker": {
             "pattern": {
              "fillmode": "overlay",
              "size": 10,
              "solidity": 0.2
             }
            },
            "type": "histogram"
           }
          ],
          "histogram2d": [
           {
            "colorbar": {
             "outlinewidth": 0,
             "ticks": ""
            },
            "colorscale": [
             [
              0,
              "#0d0887"
             ],
             [
              0.1111111111111111,
              "#46039f"
             ],
             [
              0.2222222222222222,
              "#7201a8"
             ],
             [
              0.3333333333333333,
              "#9c179e"
             ],
             [
              0.4444444444444444,
              "#bd3786"
             ],
             [
              0.5555555555555556,
              "#d8576b"
             ],
             [
              0.6666666666666666,
              "#ed7953"
             ],
             [
              0.7777777777777778,
              "#fb9f3a"
             ],
             [
              0.8888888888888888,
              "#fdca26"
             ],
             [
              1,
              "#f0f921"
             ]
            ],
            "type": "histogram2d"
           }
          ],
          "histogram2dcontour": [
           {
            "colorbar": {
             "outlinewidth": 0,
             "ticks": ""
            },
            "colorscale": [
             [
              0,
              "#0d0887"
             ],
             [
              0.1111111111111111,
              "#46039f"
             ],
             [
              0.2222222222222222,
              "#7201a8"
             ],
             [
              0.3333333333333333,
              "#9c179e"
             ],
             [
              0.4444444444444444,
              "#bd3786"
             ],
             [
              0.5555555555555556,
              "#d8576b"
             ],
             [
              0.6666666666666666,
              "#ed7953"
             ],
             [
              0.7777777777777778,
              "#fb9f3a"
             ],
             [
              0.8888888888888888,
              "#fdca26"
             ],
             [
              1,
              "#f0f921"
             ]
            ],
            "type": "histogram2dcontour"
           }
          ],
          "mesh3d": [
           {
            "colorbar": {
             "outlinewidth": 0,
             "ticks": ""
            },
            "type": "mesh3d"
           }
          ],
          "parcoords": [
           {
            "line": {
             "colorbar": {
              "outlinewidth": 0,
              "ticks": ""
             }
            },
            "type": "parcoords"
           }
          ],
          "pie": [
           {
            "automargin": true,
            "type": "pie"
           }
          ],
          "scatter": [
           {
            "marker": {
             "colorbar": {
              "outlinewidth": 0,
              "ticks": ""
             }
            },
            "type": "scatter"
           }
          ],
          "scatter3d": [
           {
            "line": {
             "colorbar": {
              "outlinewidth": 0,
              "ticks": ""
             }
            },
            "marker": {
             "colorbar": {
              "outlinewidth": 0,
              "ticks": ""
             }
            },
            "type": "scatter3d"
           }
          ],
          "scattercarpet": [
           {
            "marker": {
             "colorbar": {
              "outlinewidth": 0,
              "ticks": ""
             }
            },
            "type": "scattercarpet"
           }
          ],
          "scattergeo": [
           {
            "marker": {
             "colorbar": {
              "outlinewidth": 0,
              "ticks": ""
             }
            },
            "type": "scattergeo"
           }
          ],
          "scattergl": [
           {
            "marker": {
             "colorbar": {
              "outlinewidth": 0,
              "ticks": ""
             }
            },
            "type": "scattergl"
           }
          ],
          "scattermapbox": [
           {
            "marker": {
             "colorbar": {
              "outlinewidth": 0,
              "ticks": ""
             }
            },
            "type": "scattermapbox"
           }
          ],
          "scatterpolar": [
           {
            "marker": {
             "colorbar": {
              "outlinewidth": 0,
              "ticks": ""
             }
            },
            "type": "scatterpolar"
           }
          ],
          "scatterpolargl": [
           {
            "marker": {
             "colorbar": {
              "outlinewidth": 0,
              "ticks": ""
             }
            },
            "type": "scatterpolargl"
           }
          ],
          "scatterternary": [
           {
            "marker": {
             "colorbar": {
              "outlinewidth": 0,
              "ticks": ""
             }
            },
            "type": "scatterternary"
           }
          ],
          "surface": [
           {
            "colorbar": {
             "outlinewidth": 0,
             "ticks": ""
            },
            "colorscale": [
             [
              0,
              "#0d0887"
             ],
             [
              0.1111111111111111,
              "#46039f"
             ],
             [
              0.2222222222222222,
              "#7201a8"
             ],
             [
              0.3333333333333333,
              "#9c179e"
             ],
             [
              0.4444444444444444,
              "#bd3786"
             ],
             [
              0.5555555555555556,
              "#d8576b"
             ],
             [
              0.6666666666666666,
              "#ed7953"
             ],
             [
              0.7777777777777778,
              "#fb9f3a"
             ],
             [
              0.8888888888888888,
              "#fdca26"
             ],
             [
              1,
              "#f0f921"
             ]
            ],
            "type": "surface"
           }
          ],
          "table": [
           {
            "cells": {
             "fill": {
              "color": "#EBF0F8"
             },
             "line": {
              "color": "white"
             }
            },
            "header": {
             "fill": {
              "color": "#C8D4E3"
             },
             "line": {
              "color": "white"
             }
            },
            "type": "table"
           }
          ]
         },
         "layout": {
          "annotationdefaults": {
           "arrowcolor": "#2a3f5f",
           "arrowhead": 0,
           "arrowwidth": 1
          },
          "autotypenumbers": "strict",
          "coloraxis": {
           "colorbar": {
            "outlinewidth": 0,
            "ticks": ""
           }
          },
          "colorscale": {
           "diverging": [
            [
             0,
             "#8e0152"
            ],
            [
             0.1,
             "#c51b7d"
            ],
            [
             0.2,
             "#de77ae"
            ],
            [
             0.3,
             "#f1b6da"
            ],
            [
             0.4,
             "#fde0ef"
            ],
            [
             0.5,
             "#f7f7f7"
            ],
            [
             0.6,
             "#e6f5d0"
            ],
            [
             0.7,
             "#b8e186"
            ],
            [
             0.8,
             "#7fbc41"
            ],
            [
             0.9,
             "#4d9221"
            ],
            [
             1,
             "#276419"
            ]
           ],
           "sequential": [
            [
             0,
             "#0d0887"
            ],
            [
             0.1111111111111111,
             "#46039f"
            ],
            [
             0.2222222222222222,
             "#7201a8"
            ],
            [
             0.3333333333333333,
             "#9c179e"
            ],
            [
             0.4444444444444444,
             "#bd3786"
            ],
            [
             0.5555555555555556,
             "#d8576b"
            ],
            [
             0.6666666666666666,
             "#ed7953"
            ],
            [
             0.7777777777777778,
             "#fb9f3a"
            ],
            [
             0.8888888888888888,
             "#fdca26"
            ],
            [
             1,
             "#f0f921"
            ]
           ],
           "sequentialminus": [
            [
             0,
             "#0d0887"
            ],
            [
             0.1111111111111111,
             "#46039f"
            ],
            [
             0.2222222222222222,
             "#7201a8"
            ],
            [
             0.3333333333333333,
             "#9c179e"
            ],
            [
             0.4444444444444444,
             "#bd3786"
            ],
            [
             0.5555555555555556,
             "#d8576b"
            ],
            [
             0.6666666666666666,
             "#ed7953"
            ],
            [
             0.7777777777777778,
             "#fb9f3a"
            ],
            [
             0.8888888888888888,
             "#fdca26"
            ],
            [
             1,
             "#f0f921"
            ]
           ]
          },
          "colorway": [
           "#636efa",
           "#EF553B",
           "#00cc96",
           "#ab63fa",
           "#FFA15A",
           "#19d3f3",
           "#FF6692",
           "#B6E880",
           "#FF97FF",
           "#FECB52"
          ],
          "font": {
           "color": "#2a3f5f"
          },
          "geo": {
           "bgcolor": "white",
           "lakecolor": "white",
           "landcolor": "#E5ECF6",
           "showlakes": true,
           "showland": true,
           "subunitcolor": "white"
          },
          "hoverlabel": {
           "align": "left"
          },
          "hovermode": "closest",
          "mapbox": {
           "style": "light"
          },
          "paper_bgcolor": "white",
          "plot_bgcolor": "#E5ECF6",
          "polar": {
           "angularaxis": {
            "gridcolor": "white",
            "linecolor": "white",
            "ticks": ""
           },
           "bgcolor": "#E5ECF6",
           "radialaxis": {
            "gridcolor": "white",
            "linecolor": "white",
            "ticks": ""
           }
          },
          "scene": {
           "xaxis": {
            "backgroundcolor": "#E5ECF6",
            "gridcolor": "white",
            "gridwidth": 2,
            "linecolor": "white",
            "showbackground": true,
            "ticks": "",
            "zerolinecolor": "white"
           },
           "yaxis": {
            "backgroundcolor": "#E5ECF6",
            "gridcolor": "white",
            "gridwidth": 2,
            "linecolor": "white",
            "showbackground": true,
            "ticks": "",
            "zerolinecolor": "white"
           },
           "zaxis": {
            "backgroundcolor": "#E5ECF6",
            "gridcolor": "white",
            "gridwidth": 2,
            "linecolor": "white",
            "showbackground": true,
            "ticks": "",
            "zerolinecolor": "white"
           }
          },
          "shapedefaults": {
           "line": {
            "color": "#2a3f5f"
           }
          },
          "ternary": {
           "aaxis": {
            "gridcolor": "white",
            "linecolor": "white",
            "ticks": ""
           },
           "baxis": {
            "gridcolor": "white",
            "linecolor": "white",
            "ticks": ""
           },
           "bgcolor": "#E5ECF6",
           "caxis": {
            "gridcolor": "white",
            "linecolor": "white",
            "ticks": ""
           }
          },
          "title": {
           "x": 0.05
          },
          "xaxis": {
           "automargin": true,
           "gridcolor": "white",
           "linecolor": "white",
           "ticks": "",
           "title": {
            "standoff": 15
           },
           "zerolinecolor": "white",
           "zerolinewidth": 2
          },
          "yaxis": {
           "automargin": true,
           "gridcolor": "white",
           "linecolor": "white",
           "ticks": "",
           "title": {
            "standoff": 15
           },
           "zerolinecolor": "white",
           "zerolinewidth": 2
          }
         }
        },
        "xaxis": {
         "anchor": "y2",
         "domain": [
          0,
          1
         ],
         "range": [
          0,
          100
         ],
         "zeroline": false
        },
        "yaxis": {
         "anchor": "free",
         "domain": [
          0.35,
          1
         ],
         "position": 0
        },
        "yaxis2": {
         "anchor": "x",
         "domain": [
          0,
          0.25
         ],
         "dtick": 1,
         "showticklabels": false
        }
       }
      }
     },
     "metadata": {}
    }
   ],
   "metadata": {}
  },
  {
   "cell_type": "code",
   "execution_count": 23,
   "source": [
    "x1_ary, _ = np.histogram(x1, bins=[0,10,20,30,40,50,60])\n",
    "x1_list = list(x1_ary)\n",
    "x1_list.append(x1_sum - x1_ary.sum())\n",
    "x1_list"
   ],
   "outputs": [
    {
     "output_type": "execute_result",
     "data": {
      "text/plain": [
       "[12, 33, 35, 69, 140, 157, 95]"
      ]
     },
     "metadata": {},
     "execution_count": 23
    }
   ],
   "metadata": {}
  },
  {
   "cell_type": "code",
   "execution_count": 24,
   "source": [
    "x2_ary, _ = np.histogram(x2, bins=[0,10,20,30,40,50,60])\n",
    "x2_list = list(x2_ary)\n",
    "x2_list.append(x2_sum - x2_ary.sum())\n",
    "x2_list"
   ],
   "outputs": [
    {
     "output_type": "execute_result",
     "data": {
      "text/plain": [
       "[36, 65, 54, 89, 116, 128, 1]"
      ]
     },
     "metadata": {},
     "execution_count": 24
    }
   ],
   "metadata": {}
  },
  {
   "cell_type": "code",
   "execution_count": 25,
   "source": [
    "colors = [\n",
    "    '#1f77b4',  # muted blue\n",
    "    '#ff7f0e',  # safety orange\n",
    "    '#2ca02c',  # cooked asparagus green\n",
    "    '#d62728',  # brick red\n",
    "    '#9467bd',  # muted purple\n",
    "    '#8c564b',  # chestnut brown\n",
    "    '#e377c2',  # raspberry yogurt pink\n",
    "    '#7f7f7f',  # middle gray\n",
    "    '#bcbd22',  # curry yellow-green\n",
    "    '#17becf'   # blue-teal\n",
    "]\n",
    "colors[0:7]\n",
    "import plotly\n",
    "plotly.colors.qualitative.Plotly"
   ],
   "outputs": [
    {
     "output_type": "execute_result",
     "data": {
      "text/plain": [
       "['#636EFA',\n",
       " '#EF553B',\n",
       " '#00CC96',\n",
       " '#AB63FA',\n",
       " '#FFA15A',\n",
       " '#19D3F3',\n",
       " '#FF6692',\n",
       " '#B6E880',\n",
       " '#FF97FF',\n",
       " '#FECB52']"
      ]
     },
     "metadata": {},
     "execution_count": 25
    }
   ],
   "metadata": {}
  },
  {
   "cell_type": "code",
   "execution_count": 26,
   "source": [
    "import plotly as py\n",
    "import plotly.graph_objs as go\n",
    "pyplt=py.offline.plot\n",
    "labels=['0~10分钟','10~20分钟','20~30分钟','30~40分钟','40~50分钟', '50～60分钟', '超过60分钟']\n",
    "values=x1_list\n",
    "trace=[go.Pie(labels=labels,values=values)]\n",
    "layout=go.Layout(\n",
    "    title='智能计算做题时间分布比例图(当日)'\n",
    ")\n",
    "fig=go.Figure(data=trace,layout=layout)\n",
    "fig.update_traces(hoverinfo='label+percent',\n",
    "#  textinfo='value', \n",
    " textfont_size=20, marker=dict(colors=plotly.colors.qualitative.Plotly[0:7], line=dict(color='#000000', width=2)))\n",
    "pyplt(fig,filename='plot/单日智能计算时间分布饼图.html')\n",
    "offline.iplot(fig) "
   ],
   "outputs": [
    {
     "output_type": "display_data",
     "data": {
      "application/vnd.plotly.v1+json": {
       "config": {
        "linkText": "Export to plot.ly",
        "plotlyServerURL": "https://plot.ly",
        "showLink": false
       },
       "data": [
        {
         "hoverinfo": "label+percent",
         "labels": [
          "0~10分钟",
          "10~20分钟",
          "20~30分钟",
          "30~40分钟",
          "40~50分钟",
          "50～60分钟",
          "超过60分钟"
         ],
         "marker": {
          "colors": [
           "#636EFA",
           "#EF553B",
           "#00CC96",
           "#AB63FA",
           "#FFA15A",
           "#19D3F3",
           "#FF6692"
          ],
          "line": {
           "color": "#000000",
           "width": 2
          }
         },
         "textfont": {
          "size": 20
         },
         "type": "pie",
         "values": [
          12,
          33,
          35,
          69,
          140,
          157,
          95
         ]
        }
       ],
       "layout": {
        "template": {
         "data": {
          "bar": [
           {
            "error_x": {
             "color": "#2a3f5f"
            },
            "error_y": {
             "color": "#2a3f5f"
            },
            "marker": {
             "line": {
              "color": "#E5ECF6",
              "width": 0.5
             },
             "pattern": {
              "fillmode": "overlay",
              "size": 10,
              "solidity": 0.2
             }
            },
            "type": "bar"
           }
          ],
          "barpolar": [
           {
            "marker": {
             "line": {
              "color": "#E5ECF6",
              "width": 0.5
             },
             "pattern": {
              "fillmode": "overlay",
              "size": 10,
              "solidity": 0.2
             }
            },
            "type": "barpolar"
           }
          ],
          "carpet": [
           {
            "aaxis": {
             "endlinecolor": "#2a3f5f",
             "gridcolor": "white",
             "linecolor": "white",
             "minorgridcolor": "white",
             "startlinecolor": "#2a3f5f"
            },
            "baxis": {
             "endlinecolor": "#2a3f5f",
             "gridcolor": "white",
             "linecolor": "white",
             "minorgridcolor": "white",
             "startlinecolor": "#2a3f5f"
            },
            "type": "carpet"
           }
          ],
          "choropleth": [
           {
            "colorbar": {
             "outlinewidth": 0,
             "ticks": ""
            },
            "type": "choropleth"
           }
          ],
          "contour": [
           {
            "colorbar": {
             "outlinewidth": 0,
             "ticks": ""
            },
            "colorscale": [
             [
              0,
              "#0d0887"
             ],
             [
              0.1111111111111111,
              "#46039f"
             ],
             [
              0.2222222222222222,
              "#7201a8"
             ],
             [
              0.3333333333333333,
              "#9c179e"
             ],
             [
              0.4444444444444444,
              "#bd3786"
             ],
             [
              0.5555555555555556,
              "#d8576b"
             ],
             [
              0.6666666666666666,
              "#ed7953"
             ],
             [
              0.7777777777777778,
              "#fb9f3a"
             ],
             [
              0.8888888888888888,
              "#fdca26"
             ],
             [
              1,
              "#f0f921"
             ]
            ],
            "type": "contour"
           }
          ],
          "contourcarpet": [
           {
            "colorbar": {
             "outlinewidth": 0,
             "ticks": ""
            },
            "type": "contourcarpet"
           }
          ],
          "heatmap": [
           {
            "colorbar": {
             "outlinewidth": 0,
             "ticks": ""
            },
            "colorscale": [
             [
              0,
              "#0d0887"
             ],
             [
              0.1111111111111111,
              "#46039f"
             ],
             [
              0.2222222222222222,
              "#7201a8"
             ],
             [
              0.3333333333333333,
              "#9c179e"
             ],
             [
              0.4444444444444444,
              "#bd3786"
             ],
             [
              0.5555555555555556,
              "#d8576b"
             ],
             [
              0.6666666666666666,
              "#ed7953"
             ],
             [
              0.7777777777777778,
              "#fb9f3a"
             ],
             [
              0.8888888888888888,
              "#fdca26"
             ],
             [
              1,
              "#f0f921"
             ]
            ],
            "type": "heatmap"
           }
          ],
          "heatmapgl": [
           {
            "colorbar": {
             "outlinewidth": 0,
             "ticks": ""
            },
            "colorscale": [
             [
              0,
              "#0d0887"
             ],
             [
              0.1111111111111111,
              "#46039f"
             ],
             [
              0.2222222222222222,
              "#7201a8"
             ],
             [
              0.3333333333333333,
              "#9c179e"
             ],
             [
              0.4444444444444444,
              "#bd3786"
             ],
             [
              0.5555555555555556,
              "#d8576b"
             ],
             [
              0.6666666666666666,
              "#ed7953"
             ],
             [
              0.7777777777777778,
              "#fb9f3a"
             ],
             [
              0.8888888888888888,
              "#fdca26"
             ],
             [
              1,
              "#f0f921"
             ]
            ],
            "type": "heatmapgl"
           }
          ],
          "histogram": [
           {
            "marker": {
             "pattern": {
              "fillmode": "overlay",
              "size": 10,
              "solidity": 0.2
             }
            },
            "type": "histogram"
           }
          ],
          "histogram2d": [
           {
            "colorbar": {
             "outlinewidth": 0,
             "ticks": ""
            },
            "colorscale": [
             [
              0,
              "#0d0887"
             ],
             [
              0.1111111111111111,
              "#46039f"
             ],
             [
              0.2222222222222222,
              "#7201a8"
             ],
             [
              0.3333333333333333,
              "#9c179e"
             ],
             [
              0.4444444444444444,
              "#bd3786"
             ],
             [
              0.5555555555555556,
              "#d8576b"
             ],
             [
              0.6666666666666666,
              "#ed7953"
             ],
             [
              0.7777777777777778,
              "#fb9f3a"
             ],
             [
              0.8888888888888888,
              "#fdca26"
             ],
             [
              1,
              "#f0f921"
             ]
            ],
            "type": "histogram2d"
           }
          ],
          "histogram2dcontour": [
           {
            "colorbar": {
             "outlinewidth": 0,
             "ticks": ""
            },
            "colorscale": [
             [
              0,
              "#0d0887"
             ],
             [
              0.1111111111111111,
              "#46039f"
             ],
             [
              0.2222222222222222,
              "#7201a8"
             ],
             [
              0.3333333333333333,
              "#9c179e"
             ],
             [
              0.4444444444444444,
              "#bd3786"
             ],
             [
              0.5555555555555556,
              "#d8576b"
             ],
             [
              0.6666666666666666,
              "#ed7953"
             ],
             [
              0.7777777777777778,
              "#fb9f3a"
             ],
             [
              0.8888888888888888,
              "#fdca26"
             ],
             [
              1,
              "#f0f921"
             ]
            ],
            "type": "histogram2dcontour"
           }
          ],
          "mesh3d": [
           {
            "colorbar": {
             "outlinewidth": 0,
             "ticks": ""
            },
            "type": "mesh3d"
           }
          ],
          "parcoords": [
           {
            "line": {
             "colorbar": {
              "outlinewidth": 0,
              "ticks": ""
             }
            },
            "type": "parcoords"
           }
          ],
          "pie": [
           {
            "automargin": true,
            "type": "pie"
           }
          ],
          "scatter": [
           {
            "marker": {
             "colorbar": {
              "outlinewidth": 0,
              "ticks": ""
             }
            },
            "type": "scatter"
           }
          ],
          "scatter3d": [
           {
            "line": {
             "colorbar": {
              "outlinewidth": 0,
              "ticks": ""
             }
            },
            "marker": {
             "colorbar": {
              "outlinewidth": 0,
              "ticks": ""
             }
            },
            "type": "scatter3d"
           }
          ],
          "scattercarpet": [
           {
            "marker": {
             "colorbar": {
              "outlinewidth": 0,
              "ticks": ""
             }
            },
            "type": "scattercarpet"
           }
          ],
          "scattergeo": [
           {
            "marker": {
             "colorbar": {
              "outlinewidth": 0,
              "ticks": ""
             }
            },
            "type": "scattergeo"
           }
          ],
          "scattergl": [
           {
            "marker": {
             "colorbar": {
              "outlinewidth": 0,
              "ticks": ""
             }
            },
            "type": "scattergl"
           }
          ],
          "scattermapbox": [
           {
            "marker": {
             "colorbar": {
              "outlinewidth": 0,
              "ticks": ""
             }
            },
            "type": "scattermapbox"
           }
          ],
          "scatterpolar": [
           {
            "marker": {
             "colorbar": {
              "outlinewidth": 0,
              "ticks": ""
             }
            },
            "type": "scatterpolar"
           }
          ],
          "scatterpolargl": [
           {
            "marker": {
             "colorbar": {
              "outlinewidth": 0,
              "ticks": ""
             }
            },
            "type": "scatterpolargl"
           }
          ],
          "scatterternary": [
           {
            "marker": {
             "colorbar": {
              "outlinewidth": 0,
              "ticks": ""
             }
            },
            "type": "scatterternary"
           }
          ],
          "surface": [
           {
            "colorbar": {
             "outlinewidth": 0,
             "ticks": ""
            },
            "colorscale": [
             [
              0,
              "#0d0887"
             ],
             [
              0.1111111111111111,
              "#46039f"
             ],
             [
              0.2222222222222222,
              "#7201a8"
             ],
             [
              0.3333333333333333,
              "#9c179e"
             ],
             [
              0.4444444444444444,
              "#bd3786"
             ],
             [
              0.5555555555555556,
              "#d8576b"
             ],
             [
              0.6666666666666666,
              "#ed7953"
             ],
             [
              0.7777777777777778,
              "#fb9f3a"
             ],
             [
              0.8888888888888888,
              "#fdca26"
             ],
             [
              1,
              "#f0f921"
             ]
            ],
            "type": "surface"
           }
          ],
          "table": [
           {
            "cells": {
             "fill": {
              "color": "#EBF0F8"
             },
             "line": {
              "color": "white"
             }
            },
            "header": {
             "fill": {
              "color": "#C8D4E3"
             },
             "line": {
              "color": "white"
             }
            },
            "type": "table"
           }
          ]
         },
         "layout": {
          "annotationdefaults": {
           "arrowcolor": "#2a3f5f",
           "arrowhead": 0,
           "arrowwidth": 1
          },
          "autotypenumbers": "strict",
          "coloraxis": {
           "colorbar": {
            "outlinewidth": 0,
            "ticks": ""
           }
          },
          "colorscale": {
           "diverging": [
            [
             0,
             "#8e0152"
            ],
            [
             0.1,
             "#c51b7d"
            ],
            [
             0.2,
             "#de77ae"
            ],
            [
             0.3,
             "#f1b6da"
            ],
            [
             0.4,
             "#fde0ef"
            ],
            [
             0.5,
             "#f7f7f7"
            ],
            [
             0.6,
             "#e6f5d0"
            ],
            [
             0.7,
             "#b8e186"
            ],
            [
             0.8,
             "#7fbc41"
            ],
            [
             0.9,
             "#4d9221"
            ],
            [
             1,
             "#276419"
            ]
           ],
           "sequential": [
            [
             0,
             "#0d0887"
            ],
            [
             0.1111111111111111,
             "#46039f"
            ],
            [
             0.2222222222222222,
             "#7201a8"
            ],
            [
             0.3333333333333333,
             "#9c179e"
            ],
            [
             0.4444444444444444,
             "#bd3786"
            ],
            [
             0.5555555555555556,
             "#d8576b"
            ],
            [
             0.6666666666666666,
             "#ed7953"
            ],
            [
             0.7777777777777778,
             "#fb9f3a"
            ],
            [
             0.8888888888888888,
             "#fdca26"
            ],
            [
             1,
             "#f0f921"
            ]
           ],
           "sequentialminus": [
            [
             0,
             "#0d0887"
            ],
            [
             0.1111111111111111,
             "#46039f"
            ],
            [
             0.2222222222222222,
             "#7201a8"
            ],
            [
             0.3333333333333333,
             "#9c179e"
            ],
            [
             0.4444444444444444,
             "#bd3786"
            ],
            [
             0.5555555555555556,
             "#d8576b"
            ],
            [
             0.6666666666666666,
             "#ed7953"
            ],
            [
             0.7777777777777778,
             "#fb9f3a"
            ],
            [
             0.8888888888888888,
             "#fdca26"
            ],
            [
             1,
             "#f0f921"
            ]
           ]
          },
          "colorway": [
           "#636efa",
           "#EF553B",
           "#00cc96",
           "#ab63fa",
           "#FFA15A",
           "#19d3f3",
           "#FF6692",
           "#B6E880",
           "#FF97FF",
           "#FECB52"
          ],
          "font": {
           "color": "#2a3f5f"
          },
          "geo": {
           "bgcolor": "white",
           "lakecolor": "white",
           "landcolor": "#E5ECF6",
           "showlakes": true,
           "showland": true,
           "subunitcolor": "white"
          },
          "hoverlabel": {
           "align": "left"
          },
          "hovermode": "closest",
          "mapbox": {
           "style": "light"
          },
          "paper_bgcolor": "white",
          "plot_bgcolor": "#E5ECF6",
          "polar": {
           "angularaxis": {
            "gridcolor": "white",
            "linecolor": "white",
            "ticks": ""
           },
           "bgcolor": "#E5ECF6",
           "radialaxis": {
            "gridcolor": "white",
            "linecolor": "white",
            "ticks": ""
           }
          },
          "scene": {
           "xaxis": {
            "backgroundcolor": "#E5ECF6",
            "gridcolor": "white",
            "gridwidth": 2,
            "linecolor": "white",
            "showbackground": true,
            "ticks": "",
            "zerolinecolor": "white"
           },
           "yaxis": {
            "backgroundcolor": "#E5ECF6",
            "gridcolor": "white",
            "gridwidth": 2,
            "linecolor": "white",
            "showbackground": true,
            "ticks": "",
            "zerolinecolor": "white"
           },
           "zaxis": {
            "backgroundcolor": "#E5ECF6",
            "gridcolor": "white",
            "gridwidth": 2,
            "linecolor": "white",
            "showbackground": true,
            "ticks": "",
            "zerolinecolor": "white"
           }
          },
          "shapedefaults": {
           "line": {
            "color": "#2a3f5f"
           }
          },
          "ternary": {
           "aaxis": {
            "gridcolor": "white",
            "linecolor": "white",
            "ticks": ""
           },
           "baxis": {
            "gridcolor": "white",
            "linecolor": "white",
            "ticks": ""
           },
           "bgcolor": "#E5ECF6",
           "caxis": {
            "gridcolor": "white",
            "linecolor": "white",
            "ticks": ""
           }
          },
          "title": {
           "x": 0.05
          },
          "xaxis": {
           "automargin": true,
           "gridcolor": "white",
           "linecolor": "white",
           "ticks": "",
           "title": {
            "standoff": 15
           },
           "zerolinecolor": "white",
           "zerolinewidth": 2
          },
          "yaxis": {
           "automargin": true,
           "gridcolor": "white",
           "linecolor": "white",
           "ticks": "",
           "title": {
            "standoff": 15
           },
           "zerolinecolor": "white",
           "zerolinewidth": 2
          }
         }
        },
        "title": {
         "text": "智能计算做题时间分布比例图(当日)"
        }
       }
      }
     },
     "metadata": {}
    }
   ],
   "metadata": {}
  },
  {
   "cell_type": "code",
   "execution_count": 27,
   "source": [
    "import plotly as py\n",
    "import plotly.graph_objs as go\n",
    "pyplt=py.offline.plot\n",
    "labels=['0~10分钟','10~20分钟','20~30分钟','30~40分钟','40~50分钟', '50～60分钟', '超过60分钟']\n",
    "values=x2_list\n",
    "trace=[go.Pie(labels=labels,values=values)]\n",
    "layout=go.Layout(\n",
    "    title='问题解决做题时间分布比例图（当日）'\n",
    ")\n",
    "fig=go.Figure(data=trace,layout=layout)\n",
    "fig.update_traces(hoverinfo='label+percent',\n",
    "#  textinfo='value', \n",
    " textfont_size=20, marker=dict(colors=plotly.colors.qualitative.Plotly[0:7], line=dict(color='#000000', width=2)))\n",
    "pyplt(fig,filename='plot/问题解决时间分布饼图.html')\n",
    "offline.iplot(fig) "
   ],
   "outputs": [
    {
     "output_type": "display_data",
     "data": {
      "application/vnd.plotly.v1+json": {
       "config": {
        "linkText": "Export to plot.ly",
        "plotlyServerURL": "https://plot.ly",
        "showLink": false
       },
       "data": [
        {
         "hoverinfo": "label+percent",
         "labels": [
          "0~10分钟",
          "10~20分钟",
          "20~30分钟",
          "30~40分钟",
          "40~50分钟",
          "50～60分钟",
          "超过60分钟"
         ],
         "marker": {
          "colors": [
           "#636EFA",
           "#EF553B",
           "#00CC96",
           "#AB63FA",
           "#FFA15A",
           "#19D3F3",
           "#FF6692"
          ],
          "line": {
           "color": "#000000",
           "width": 2
          }
         },
         "textfont": {
          "size": 20
         },
         "type": "pie",
         "values": [
          36,
          65,
          54,
          89,
          116,
          128,
          1
         ]
        }
       ],
       "layout": {
        "template": {
         "data": {
          "bar": [
           {
            "error_x": {
             "color": "#2a3f5f"
            },
            "error_y": {
             "color": "#2a3f5f"
            },
            "marker": {
             "line": {
              "color": "#E5ECF6",
              "width": 0.5
             },
             "pattern": {
              "fillmode": "overlay",
              "size": 10,
              "solidity": 0.2
             }
            },
            "type": "bar"
           }
          ],
          "barpolar": [
           {
            "marker": {
             "line": {
              "color": "#E5ECF6",
              "width": 0.5
             },
             "pattern": {
              "fillmode": "overlay",
              "size": 10,
              "solidity": 0.2
             }
            },
            "type": "barpolar"
           }
          ],
          "carpet": [
           {
            "aaxis": {
             "endlinecolor": "#2a3f5f",
             "gridcolor": "white",
             "linecolor": "white",
             "minorgridcolor": "white",
             "startlinecolor": "#2a3f5f"
            },
            "baxis": {
             "endlinecolor": "#2a3f5f",
             "gridcolor": "white",
             "linecolor": "white",
             "minorgridcolor": "white",
             "startlinecolor": "#2a3f5f"
            },
            "type": "carpet"
           }
          ],
          "choropleth": [
           {
            "colorbar": {
             "outlinewidth": 0,
             "ticks": ""
            },
            "type": "choropleth"
           }
          ],
          "contour": [
           {
            "colorbar": {
             "outlinewidth": 0,
             "ticks": ""
            },
            "colorscale": [
             [
              0,
              "#0d0887"
             ],
             [
              0.1111111111111111,
              "#46039f"
             ],
             [
              0.2222222222222222,
              "#7201a8"
             ],
             [
              0.3333333333333333,
              "#9c179e"
             ],
             [
              0.4444444444444444,
              "#bd3786"
             ],
             [
              0.5555555555555556,
              "#d8576b"
             ],
             [
              0.6666666666666666,
              "#ed7953"
             ],
             [
              0.7777777777777778,
              "#fb9f3a"
             ],
             [
              0.8888888888888888,
              "#fdca26"
             ],
             [
              1,
              "#f0f921"
             ]
            ],
            "type": "contour"
           }
          ],
          "contourcarpet": [
           {
            "colorbar": {
             "outlinewidth": 0,
             "ticks": ""
            },
            "type": "contourcarpet"
           }
          ],
          "heatmap": [
           {
            "colorbar": {
             "outlinewidth": 0,
             "ticks": ""
            },
            "colorscale": [
             [
              0,
              "#0d0887"
             ],
             [
              0.1111111111111111,
              "#46039f"
             ],
             [
              0.2222222222222222,
              "#7201a8"
             ],
             [
              0.3333333333333333,
              "#9c179e"
             ],
             [
              0.4444444444444444,
              "#bd3786"
             ],
             [
              0.5555555555555556,
              "#d8576b"
             ],
             [
              0.6666666666666666,
              "#ed7953"
             ],
             [
              0.7777777777777778,
              "#fb9f3a"
             ],
             [
              0.8888888888888888,
              "#fdca26"
             ],
             [
              1,
              "#f0f921"
             ]
            ],
            "type": "heatmap"
           }
          ],
          "heatmapgl": [
           {
            "colorbar": {
             "outlinewidth": 0,
             "ticks": ""
            },
            "colorscale": [
             [
              0,
              "#0d0887"
             ],
             [
              0.1111111111111111,
              "#46039f"
             ],
             [
              0.2222222222222222,
              "#7201a8"
             ],
             [
              0.3333333333333333,
              "#9c179e"
             ],
             [
              0.4444444444444444,
              "#bd3786"
             ],
             [
              0.5555555555555556,
              "#d8576b"
             ],
             [
              0.6666666666666666,
              "#ed7953"
             ],
             [
              0.7777777777777778,
              "#fb9f3a"
             ],
             [
              0.8888888888888888,
              "#fdca26"
             ],
             [
              1,
              "#f0f921"
             ]
            ],
            "type": "heatmapgl"
           }
          ],
          "histogram": [
           {
            "marker": {
             "pattern": {
              "fillmode": "overlay",
              "size": 10,
              "solidity": 0.2
             }
            },
            "type": "histogram"
           }
          ],
          "histogram2d": [
           {
            "colorbar": {
             "outlinewidth": 0,
             "ticks": ""
            },
            "colorscale": [
             [
              0,
              "#0d0887"
             ],
             [
              0.1111111111111111,
              "#46039f"
             ],
             [
              0.2222222222222222,
              "#7201a8"
             ],
             [
              0.3333333333333333,
              "#9c179e"
             ],
             [
              0.4444444444444444,
              "#bd3786"
             ],
             [
              0.5555555555555556,
              "#d8576b"
             ],
             [
              0.6666666666666666,
              "#ed7953"
             ],
             [
              0.7777777777777778,
              "#fb9f3a"
             ],
             [
              0.8888888888888888,
              "#fdca26"
             ],
             [
              1,
              "#f0f921"
             ]
            ],
            "type": "histogram2d"
           }
          ],
          "histogram2dcontour": [
           {
            "colorbar": {
             "outlinewidth": 0,
             "ticks": ""
            },
            "colorscale": [
             [
              0,
              "#0d0887"
             ],
             [
              0.1111111111111111,
              "#46039f"
             ],
             [
              0.2222222222222222,
              "#7201a8"
             ],
             [
              0.3333333333333333,
              "#9c179e"
             ],
             [
              0.4444444444444444,
              "#bd3786"
             ],
             [
              0.5555555555555556,
              "#d8576b"
             ],
             [
              0.6666666666666666,
              "#ed7953"
             ],
             [
              0.7777777777777778,
              "#fb9f3a"
             ],
             [
              0.8888888888888888,
              "#fdca26"
             ],
             [
              1,
              "#f0f921"
             ]
            ],
            "type": "histogram2dcontour"
           }
          ],
          "mesh3d": [
           {
            "colorbar": {
             "outlinewidth": 0,
             "ticks": ""
            },
            "type": "mesh3d"
           }
          ],
          "parcoords": [
           {
            "line": {
             "colorbar": {
              "outlinewidth": 0,
              "ticks": ""
             }
            },
            "type": "parcoords"
           }
          ],
          "pie": [
           {
            "automargin": true,
            "type": "pie"
           }
          ],
          "scatter": [
           {
            "marker": {
             "colorbar": {
              "outlinewidth": 0,
              "ticks": ""
             }
            },
            "type": "scatter"
           }
          ],
          "scatter3d": [
           {
            "line": {
             "colorbar": {
              "outlinewidth": 0,
              "ticks": ""
             }
            },
            "marker": {
             "colorbar": {
              "outlinewidth": 0,
              "ticks": ""
             }
            },
            "type": "scatter3d"
           }
          ],
          "scattercarpet": [
           {
            "marker": {
             "colorbar": {
              "outlinewidth": 0,
              "ticks": ""
             }
            },
            "type": "scattercarpet"
           }
          ],
          "scattergeo": [
           {
            "marker": {
             "colorbar": {
              "outlinewidth": 0,
              "ticks": ""
             }
            },
            "type": "scattergeo"
           }
          ],
          "scattergl": [
           {
            "marker": {
             "colorbar": {
              "outlinewidth": 0,
              "ticks": ""
             }
            },
            "type": "scattergl"
           }
          ],
          "scattermapbox": [
           {
            "marker": {
             "colorbar": {
              "outlinewidth": 0,
              "ticks": ""
             }
            },
            "type": "scattermapbox"
           }
          ],
          "scatterpolar": [
           {
            "marker": {
             "colorbar": {
              "outlinewidth": 0,
              "ticks": ""
             }
            },
            "type": "scatterpolar"
           }
          ],
          "scatterpolargl": [
           {
            "marker": {
             "colorbar": {
              "outlinewidth": 0,
              "ticks": ""
             }
            },
            "type": "scatterpolargl"
           }
          ],
          "scatterternary": [
           {
            "marker": {
             "colorbar": {
              "outlinewidth": 0,
              "ticks": ""
             }
            },
            "type": "scatterternary"
           }
          ],
          "surface": [
           {
            "colorbar": {
             "outlinewidth": 0,
             "ticks": ""
            },
            "colorscale": [
             [
              0,
              "#0d0887"
             ],
             [
              0.1111111111111111,
              "#46039f"
             ],
             [
              0.2222222222222222,
              "#7201a8"
             ],
             [
              0.3333333333333333,
              "#9c179e"
             ],
             [
              0.4444444444444444,
              "#bd3786"
             ],
             [
              0.5555555555555556,
              "#d8576b"
             ],
             [
              0.6666666666666666,
              "#ed7953"
             ],
             [
              0.7777777777777778,
              "#fb9f3a"
             ],
             [
              0.8888888888888888,
              "#fdca26"
             ],
             [
              1,
              "#f0f921"
             ]
            ],
            "type": "surface"
           }
          ],
          "table": [
           {
            "cells": {
             "fill": {
              "color": "#EBF0F8"
             },
             "line": {
              "color": "white"
             }
            },
            "header": {
             "fill": {
              "color": "#C8D4E3"
             },
             "line": {
              "color": "white"
             }
            },
            "type": "table"
           }
          ]
         },
         "layout": {
          "annotationdefaults": {
           "arrowcolor": "#2a3f5f",
           "arrowhead": 0,
           "arrowwidth": 1
          },
          "autotypenumbers": "strict",
          "coloraxis": {
           "colorbar": {
            "outlinewidth": 0,
            "ticks": ""
           }
          },
          "colorscale": {
           "diverging": [
            [
             0,
             "#8e0152"
            ],
            [
             0.1,
             "#c51b7d"
            ],
            [
             0.2,
             "#de77ae"
            ],
            [
             0.3,
             "#f1b6da"
            ],
            [
             0.4,
             "#fde0ef"
            ],
            [
             0.5,
             "#f7f7f7"
            ],
            [
             0.6,
             "#e6f5d0"
            ],
            [
             0.7,
             "#b8e186"
            ],
            [
             0.8,
             "#7fbc41"
            ],
            [
             0.9,
             "#4d9221"
            ],
            [
             1,
             "#276419"
            ]
           ],
           "sequential": [
            [
             0,
             "#0d0887"
            ],
            [
             0.1111111111111111,
             "#46039f"
            ],
            [
             0.2222222222222222,
             "#7201a8"
            ],
            [
             0.3333333333333333,
             "#9c179e"
            ],
            [
             0.4444444444444444,
             "#bd3786"
            ],
            [
             0.5555555555555556,
             "#d8576b"
            ],
            [
             0.6666666666666666,
             "#ed7953"
            ],
            [
             0.7777777777777778,
             "#fb9f3a"
            ],
            [
             0.8888888888888888,
             "#fdca26"
            ],
            [
             1,
             "#f0f921"
            ]
           ],
           "sequentialminus": [
            [
             0,
             "#0d0887"
            ],
            [
             0.1111111111111111,
             "#46039f"
            ],
            [
             0.2222222222222222,
             "#7201a8"
            ],
            [
             0.3333333333333333,
             "#9c179e"
            ],
            [
             0.4444444444444444,
             "#bd3786"
            ],
            [
             0.5555555555555556,
             "#d8576b"
            ],
            [
             0.6666666666666666,
             "#ed7953"
            ],
            [
             0.7777777777777778,
             "#fb9f3a"
            ],
            [
             0.8888888888888888,
             "#fdca26"
            ],
            [
             1,
             "#f0f921"
            ]
           ]
          },
          "colorway": [
           "#636efa",
           "#EF553B",
           "#00cc96",
           "#ab63fa",
           "#FFA15A",
           "#19d3f3",
           "#FF6692",
           "#B6E880",
           "#FF97FF",
           "#FECB52"
          ],
          "font": {
           "color": "#2a3f5f"
          },
          "geo": {
           "bgcolor": "white",
           "lakecolor": "white",
           "landcolor": "#E5ECF6",
           "showlakes": true,
           "showland": true,
           "subunitcolor": "white"
          },
          "hoverlabel": {
           "align": "left"
          },
          "hovermode": "closest",
          "mapbox": {
           "style": "light"
          },
          "paper_bgcolor": "white",
          "plot_bgcolor": "#E5ECF6",
          "polar": {
           "angularaxis": {
            "gridcolor": "white",
            "linecolor": "white",
            "ticks": ""
           },
           "bgcolor": "#E5ECF6",
           "radialaxis": {
            "gridcolor": "white",
            "linecolor": "white",
            "ticks": ""
           }
          },
          "scene": {
           "xaxis": {
            "backgroundcolor": "#E5ECF6",
            "gridcolor": "white",
            "gridwidth": 2,
            "linecolor": "white",
            "showbackground": true,
            "ticks": "",
            "zerolinecolor": "white"
           },
           "yaxis": {
            "backgroundcolor": "#E5ECF6",
            "gridcolor": "white",
            "gridwidth": 2,
            "linecolor": "white",
            "showbackground": true,
            "ticks": "",
            "zerolinecolor": "white"
           },
           "zaxis": {
            "backgroundcolor": "#E5ECF6",
            "gridcolor": "white",
            "gridwidth": 2,
            "linecolor": "white",
            "showbackground": true,
            "ticks": "",
            "zerolinecolor": "white"
           }
          },
          "shapedefaults": {
           "line": {
            "color": "#2a3f5f"
           }
          },
          "ternary": {
           "aaxis": {
            "gridcolor": "white",
            "linecolor": "white",
            "ticks": ""
           },
           "baxis": {
            "gridcolor": "white",
            "linecolor": "white",
            "ticks": ""
           },
           "bgcolor": "#E5ECF6",
           "caxis": {
            "gridcolor": "white",
            "linecolor": "white",
            "ticks": ""
           }
          },
          "title": {
           "x": 0.05
          },
          "xaxis": {
           "automargin": true,
           "gridcolor": "white",
           "linecolor": "white",
           "ticks": "",
           "title": {
            "standoff": 15
           },
           "zerolinecolor": "white",
           "zerolinewidth": 2
          },
          "yaxis": {
           "automargin": true,
           "gridcolor": "white",
           "linecolor": "white",
           "ticks": "",
           "title": {
            "standoff": 15
           },
           "zerolinecolor": "white",
           "zerolinewidth": 2
          }
         }
        },
        "title": {
         "text": "问题解决做题时间分布比例图（当日）"
        }
       }
      }
     },
     "metadata": {}
    }
   ],
   "metadata": {}
  },
  {
   "cell_type": "markdown",
   "source": [
    "# 以下找出偷懒学校排名"
   ],
   "metadata": {}
  },
  {
   "cell_type": "markdown",
   "source": [
    "首先对偷懒学生（做题时间十分钟以下），添加列'lazy',真值为'1'"
   ],
   "metadata": {}
  },
  {
   "cell_type": "code",
   "execution_count": 28,
   "source": [
    "# df_main.loc[0, 'interval_minutes']\n",
    "df_main.columns\n",
    "df_main.iloc[0,17]"
   ],
   "outputs": [
    {
     "output_type": "execute_result",
     "data": {
      "text/plain": [
       "47.95"
      ]
     },
     "metadata": {},
     "execution_count": 28
    }
   ],
   "metadata": {}
  },
  {
   "cell_type": "code",
   "execution_count": 29,
   "source": [
    "lazy_list = []\n",
    "for row in range(len(df_main)):\n",
    "    if df_main.iloc[row, 17] <= 10:\n",
    "        lazy_list.append(1)\n",
    "    else:\n",
    "        lazy_list.append(0)\n",
    "if 'lazy' not in df_main.columns:\n",
    "    df_main.insert(len(df_main.columns), 'lazy', lazy_list)"
   ],
   "outputs": [],
   "metadata": {}
  },
  {
   "cell_type": "code",
   "execution_count": 30,
   "source": [
    "school_list =[tup[0] for tup in list(df_main.groupby('school'))] \n",
    "df_school_list = [tup[1] for tup in list(df_main.groupby('school'))] "
   ],
   "outputs": [],
   "metadata": {}
  },
  {
   "cell_type": "code",
   "execution_count": 31,
   "source": [
    "school_total_list = [len(df) for df in df_school_list]\n"
   ],
   "outputs": [],
   "metadata": {}
  },
  {
   "cell_type": "code",
   "execution_count": 32,
   "source": [
    "df_lazy_count = pd.DataFrame(df_main.groupby('school')['lazy'].sum())\n",
    "df_total_count = pd.DataFrame(df_main.groupby('school')['lazy'].count())"
   ],
   "outputs": [],
   "metadata": {}
  },
  {
   "cell_type": "code",
   "execution_count": 33,
   "source": [
    "df_lazy_count.insert(len(df_lazy_count.columns), 'total', list(df_total_count.loc[:, 'lazy']))\n",
    "df_res = df_lazy_count"
   ],
   "outputs": [],
   "metadata": {}
  },
  {
   "cell_type": "code",
   "execution_count": 34,
   "source": [
    "ritio_list = []\n",
    "for row in range(len(df_res)):\n",
    "    ritio_list.append(float(df_res.iloc[row, 0]) / float(df_res.iloc[row, 1]))\n",
    "df_res.insert(len(df_res.columns), 'ritio', ritio_list)"
   ],
   "outputs": [],
   "metadata": {}
  },
  {
   "cell_type": "code",
   "execution_count": 35,
   "source": [
    "df_res.sort_values(by = 'lazy', ascending=False).to_excel('./output/学生偷懒状况（按学校分类）(当日).xlsx')"
   ],
   "outputs": [],
   "metadata": {}
  },
  {
   "cell_type": "code",
   "execution_count": 36,
   "source": [
    "df_res.sort_values(by = 'lazy', ascending=False)"
   ],
   "outputs": [
    {
     "output_type": "execute_result",
     "data": {
      "text/plain": [
       "             lazy  total     ritio\n",
       "school                            \n",
       "江油中学           29     72  0.402778\n",
       "四川省绵阳市安州中学     23    193  0.119171\n",
       "绵阳中学实验学校       10     26  0.384615\n",
       "绵阳市秀水中学         9     21  0.428571\n",
       "三台县芦溪中学         8     13  0.615385\n",
       "四川省绵阳实验高级中学     8     20  0.400000\n",
       "四川省北川中学         7     41  0.170732\n",
       "南山中学            5    643  0.007776\n",
       "四川省盐亭中学         3      4  0.750000\n",
       "四川省梓潼中学校        3     14  0.214286\n",
       "四川省平武中学         3      6  0.500000\n",
       "绵阳东辰国际学校        3     31  0.096774\n",
       "四川省江油市第一中学      2      2  1.000000\n",
       "四川省科学城第一中学      2      2  1.000000\n",
       "绵阳市第三中学         2      2  1.000000\n",
       "江油外国语学校         2      2  1.000000\n",
       "开元中学            1      1  1.000000\n",
       "江油市太白中学         1      2  0.500000\n",
       "绵阳普明中学          1      3  0.333333\n",
       "三台中学实验学校        0     96  0.000000\n",
       "四川省绵阳市丰谷中学      0      1  0.000000"
      ],
      "text/html": [
       "<div>\n",
       "<style scoped>\n",
       "    .dataframe tbody tr th:only-of-type {\n",
       "        vertical-align: middle;\n",
       "    }\n",
       "\n",
       "    .dataframe tbody tr th {\n",
       "        vertical-align: top;\n",
       "    }\n",
       "\n",
       "    .dataframe thead th {\n",
       "        text-align: right;\n",
       "    }\n",
       "</style>\n",
       "<table border=\"1\" class=\"dataframe\">\n",
       "  <thead>\n",
       "    <tr style=\"text-align: right;\">\n",
       "      <th></th>\n",
       "      <th>lazy</th>\n",
       "      <th>total</th>\n",
       "      <th>ritio</th>\n",
       "    </tr>\n",
       "    <tr>\n",
       "      <th>school</th>\n",
       "      <th></th>\n",
       "      <th></th>\n",
       "      <th></th>\n",
       "    </tr>\n",
       "  </thead>\n",
       "  <tbody>\n",
       "    <tr>\n",
       "      <th>江油中学</th>\n",
       "      <td>29</td>\n",
       "      <td>72</td>\n",
       "      <td>0.402778</td>\n",
       "    </tr>\n",
       "    <tr>\n",
       "      <th>四川省绵阳市安州中学</th>\n",
       "      <td>23</td>\n",
       "      <td>193</td>\n",
       "      <td>0.119171</td>\n",
       "    </tr>\n",
       "    <tr>\n",
       "      <th>绵阳中学实验学校</th>\n",
       "      <td>10</td>\n",
       "      <td>26</td>\n",
       "      <td>0.384615</td>\n",
       "    </tr>\n",
       "    <tr>\n",
       "      <th>绵阳市秀水中学</th>\n",
       "      <td>9</td>\n",
       "      <td>21</td>\n",
       "      <td>0.428571</td>\n",
       "    </tr>\n",
       "    <tr>\n",
       "      <th>三台县芦溪中学</th>\n",
       "      <td>8</td>\n",
       "      <td>13</td>\n",
       "      <td>0.615385</td>\n",
       "    </tr>\n",
       "    <tr>\n",
       "      <th>四川省绵阳实验高级中学</th>\n",
       "      <td>8</td>\n",
       "      <td>20</td>\n",
       "      <td>0.400000</td>\n",
       "    </tr>\n",
       "    <tr>\n",
       "      <th>四川省北川中学</th>\n",
       "      <td>7</td>\n",
       "      <td>41</td>\n",
       "      <td>0.170732</td>\n",
       "    </tr>\n",
       "    <tr>\n",
       "      <th>南山中学</th>\n",
       "      <td>5</td>\n",
       "      <td>643</td>\n",
       "      <td>0.007776</td>\n",
       "    </tr>\n",
       "    <tr>\n",
       "      <th>四川省盐亭中学</th>\n",
       "      <td>3</td>\n",
       "      <td>4</td>\n",
       "      <td>0.750000</td>\n",
       "    </tr>\n",
       "    <tr>\n",
       "      <th>四川省梓潼中学校</th>\n",
       "      <td>3</td>\n",
       "      <td>14</td>\n",
       "      <td>0.214286</td>\n",
       "    </tr>\n",
       "    <tr>\n",
       "      <th>四川省平武中学</th>\n",
       "      <td>3</td>\n",
       "      <td>6</td>\n",
       "      <td>0.500000</td>\n",
       "    </tr>\n",
       "    <tr>\n",
       "      <th>绵阳东辰国际学校</th>\n",
       "      <td>3</td>\n",
       "      <td>31</td>\n",
       "      <td>0.096774</td>\n",
       "    </tr>\n",
       "    <tr>\n",
       "      <th>四川省江油市第一中学</th>\n",
       "      <td>2</td>\n",
       "      <td>2</td>\n",
       "      <td>1.000000</td>\n",
       "    </tr>\n",
       "    <tr>\n",
       "      <th>四川省科学城第一中学</th>\n",
       "      <td>2</td>\n",
       "      <td>2</td>\n",
       "      <td>1.000000</td>\n",
       "    </tr>\n",
       "    <tr>\n",
       "      <th>绵阳市第三中学</th>\n",
       "      <td>2</td>\n",
       "      <td>2</td>\n",
       "      <td>1.000000</td>\n",
       "    </tr>\n",
       "    <tr>\n",
       "      <th>江油外国语学校</th>\n",
       "      <td>2</td>\n",
       "      <td>2</td>\n",
       "      <td>1.000000</td>\n",
       "    </tr>\n",
       "    <tr>\n",
       "      <th>开元中学</th>\n",
       "      <td>1</td>\n",
       "      <td>1</td>\n",
       "      <td>1.000000</td>\n",
       "    </tr>\n",
       "    <tr>\n",
       "      <th>江油市太白中学</th>\n",
       "      <td>1</td>\n",
       "      <td>2</td>\n",
       "      <td>0.500000</td>\n",
       "    </tr>\n",
       "    <tr>\n",
       "      <th>绵阳普明中学</th>\n",
       "      <td>1</td>\n",
       "      <td>3</td>\n",
       "      <td>0.333333</td>\n",
       "    </tr>\n",
       "    <tr>\n",
       "      <th>三台中学实验学校</th>\n",
       "      <td>0</td>\n",
       "      <td>96</td>\n",
       "      <td>0.000000</td>\n",
       "    </tr>\n",
       "    <tr>\n",
       "      <th>四川省绵阳市丰谷中学</th>\n",
       "      <td>0</td>\n",
       "      <td>1</td>\n",
       "      <td>0.000000</td>\n",
       "    </tr>\n",
       "  </tbody>\n",
       "</table>\n",
       "</div>"
      ]
     },
     "metadata": {},
     "execution_count": 36
    }
   ],
   "metadata": {}
  },
  {
   "cell_type": "code",
   "execution_count": null,
   "source": [],
   "outputs": [],
   "metadata": {}
  }
 ],
 "metadata": {
  "interpreter": {
   "hash": "8f813b2878d7b258cd09e18d0c2ed8f3095dbd48beeca1ff9674685e92c9e6b1"
  },
  "kernelspec": {
   "name": "python3",
   "display_name": "Python 3.8.8 64-bit ('base': conda)"
  },
  "language_info": {
   "codemirror_mode": {
    "name": "ipython",
    "version": 3
   },
   "file_extension": ".py",
   "mimetype": "text/x-python",
   "name": "python",
   "nbconvert_exporter": "python",
   "pygments_lexer": "ipython3",
   "version": "3.8.8"
  }
 },
 "nbformat": 4,
 "nbformat_minor": 5
}