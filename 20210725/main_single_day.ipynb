{
 "cells": [
  {
   "cell_type": "markdown",
   "source": [
    "# 需求（18日单日数据）\n",
    "## 1、统计人数\n",
    "截止到2021年7月17日晚上20:30左右，当天有学生XX人次、XX名教师、XX名校长完成了测试；累计共有学生XX人次、XX名教师、XX名校长完成了测试。\n",
    "## 2、作答时间\n",
    "智能计算素养和问题解决素养两个专题的规定测试时间均为60分钟，截止目前完成测试学生实际作答的平均时间为XX分钟。\n",
    "\n",
    "（一）智能计算素养专题\n",
    "\n",
    "智能计算素养专题的题目在预测试中作答时长均值为40-50分钟，少数同学的作答时长在30分钟以下和1小时以上。7月17日当天，绵阳地区有XX名学生的实际作答时长小于等于10分钟，XX名学生的实际作答时长小于等于20分钟；XX名学生的实际作答时长小于等于30分钟。总体作答时长分布如下图：\n",
    "\n",
    "【一个7月17日当天学生完成作答智能计算素养专题的时长分布饼状图，时长单位为分钟，每10分钟一块就可以，每一块上标注上所占比例，超过60分钟的就一块“60分钟及以上”】\n",
    "截止到7月17日20:30左右，累计共有XX名学生的实际作答时长小于等于10分钟，XX名学生的实际作答时长小于等于20分钟；XX名学生的实际作答时长小于等于30分钟。总体作答时长分布如下图：\n",
    "\n",
    "【一个累计学生完成作答智能计算素养专题的时长分布饼状图，时长单位为分钟，每10分钟一块就可以，每一块上标注上所占比例，超过60分钟的就一块“60分钟及以上”】\n",
    "\n",
    "（二）问题解决素养专题\n",
    "\n",
    "问题解决素养专题的题目在预测试中33%的学生作答时间超过45分钟，23%的学生超过50分钟，9%的学生超过60分钟，大部分学生都需要50分钟才能完成测试。7月17日当天，绵阳地区有XX名学生的实际作答时长小于等于10分钟，XX名学生的实际作答时长小于等于20分钟；XX名学生的实际作答时长小于等于30分钟。总体作答时长分布如下图：\n",
    "\n",
    "【一个7月17日当天学生完成作答问题解决专题的时长分布饼状图，时长单位为分钟，每10分钟一块就可以，每一块上标注上所占比例，超过60分钟的就一块“60分钟及以上”】\n",
    "\n",
    "截止到7月17日20:30左右，累计共有XX名学生的实际作答时长小于等于10分钟，XX名学生的实际作答时长小于等于20分钟；XX名学生的实际作答时长小于等于30分钟。总体作答时长分布如下图：\n",
    "\n",
    "【一个累计学生完成作答问题解决素养专题的时长分布饼状图，时长单位为分钟，每10分钟一块就可以，每一块上标注上所占比例，超过60分钟的就一块“60分钟及以上”】\n",
    "\n",
    "## 3、作答学校分布\n",
    "7月17日当天，作答时长小于等于10分钟的学生所在学校（大于10人）：\n",
    "\n",
    "学校名称  ｜  人数\n",
    "\n",
    "\n",
    "累计到7月17日20:30左右，作答时长小于等于10分钟的学生所在学校（大于50人）：\n",
    "\n",
    "学校名称  ｜  人数\n",
    "## 4、输出EXCEL文件\n",
    "添加一列做题时长"
   ],
   "metadata": {}
  },
  {
   "cell_type": "markdown",
   "source": [
    "# 首先引入第三方库"
   ],
   "metadata": {}
  },
  {
   "cell_type": "code",
   "execution_count": 6,
   "source": [
    "import pandas as pd\n",
    "import json \n",
    "import numpy as np\n",
    "import ast\n",
    "from datetime import datetime\n",
    "import plotly.graph_objs as go\n",
    "from plotly.offline import plot\n",
    "import plotly.offline as offline\n",
    "import plotly.figure_factory as ff\n",
    "from pandas.core.indexes import interval\n",
    "import re"
   ],
   "outputs": [],
   "metadata": {}
  },
  {
   "cell_type": "markdown",
   "source": [
    "# 提前定义每一行的计算时间函数"
   ],
   "metadata": {}
  },
  {
   "cell_type": "code",
   "execution_count": 7,
   "source": [
    "# 2021-07-16T19:31:13+08:00\n",
    "def get_interval_per_row(index, df):\n",
    "    row_data = df.loc[index,:]\n",
    "    start_time = row_data['start_time']\n",
    "    if start_time != start_time:\n",
    "        return -1\n",
    "    start_time = datetime.strptime(str(start_time),\"%Y-%m-%dT%H:%M:%S+08:00\")\n",
    "\n",
    "    expire_time = row_data['expire_time']\n",
    "    if expire_time != expire_time:\n",
    "        return -1\n",
    "    expire_time = datetime.strptime(str(expire_time),\"%Y-%m-%dT%H:%M:%S+08:00\")\n",
    "\n",
    "    stop_time = row_data['stop_time']\n",
    "    if stop_time != stop_time:\n",
    "        return -1\n",
    "    stop_time = datetime.strptime(str(stop_time),\"%Y-%m-%dT%H:%M:%S+08:00\")\n",
    "\n",
    "    total_minu = (stop_time - start_time).seconds / 60.0\n",
    "    return total_minu"
   ],
   "outputs": [],
   "metadata": {}
  },
  {
   "cell_type": "markdown",
   "source": [
    "# 提前定义转码task_answers字段的函数"
   ],
   "metadata": {}
  },
  {
   "cell_type": "code",
   "execution_count": 8,
   "source": [
    "def remove_str_per_row(data_per_row):\n",
    "    frame_list = ast.literal_eval(data_per_row)\n",
    "    frame_dic_list = []\n",
    "    for index in range(len(frame_list)):\n",
    "        temp = json.loads(frame_list[index])\n",
    "        if 'frame' in temp.keys():\n",
    "            if 'data' in temp.keys():\n",
    "                frame_dic_list.append(list(temp['frame']['data'].values())) \n",
    "            else:\n",
    "                frame_dic_list.append(list(temp['frame'].values())) \n",
    "        else:\n",
    "            frame_dic_list.append(temp) \n",
    "    return frame_dic_list"
   ],
   "outputs": [],
   "metadata": {}
  },
  {
   "cell_type": "markdown",
   "source": [
    "# 读取数据"
   ],
   "metadata": {}
  },
  {
   "cell_type": "code",
   "execution_count": 9,
   "source": [
    "df_main = pd.read_csv('./data/data-single-day.csv')  \n",
    "df_main"
   ],
   "outputs": [
    {
     "output_type": "execute_result",
     "data": {
      "text/plain": [
       "                             user         type       contest_id    ticket_id  \\\n",
       "0     mianyang/智能计算素养/90030203305  ticket-user  mianyang/智能计算素养  90030203305   \n",
       "1     mianyang/智能计算素养/90040101731  ticket-user  mianyang/智能计算素养  90040101731   \n",
       "2     mianyang/智能计算素养/90050101101  ticket-user  mianyang/智能计算素养  90050101101   \n",
       "3     mianyang/智能计算素养/90050101102  ticket-user  mianyang/智能计算素养  90050101102   \n",
       "4     mianyang/智能计算素养/90050101104  ticket-user  mianyang/智能计算素养  90050101104   \n",
       "...                           ...          ...              ...          ...   \n",
       "1077  mianyang/高中教师问卷/99924010084  ticket-user  mianyang/高中教师问卷  99924010084   \n",
       "1078  mianyang/高中教师问卷/99981010004  ticket-user  mianyang/高中教师问卷  99981010004   \n",
       "1079  mianyang/高中教师问卷/99981010050  ticket-user  mianyang/高中教师问卷  99981010050   \n",
       "1080  mianyang/高中教师问卷/99981010053  ticket-user  mianyang/高中教师问卷  99981010053   \n",
       "1081  mianyang/高中校长问卷/99924010001  ticket-user  mianyang/高中校长问卷  99924010001   \n",
       "\n",
       "                     start_time                expire_time  \\\n",
       "0     2021-07-25T21:59:09+08:00  2021-07-26T01:19:09+08:00   \n",
       "1     2021-07-25T09:39:46+08:00  2021-07-25T12:59:46+08:00   \n",
       "2     2021-07-25T14:31:35+08:00  2021-07-25T17:51:35+08:00   \n",
       "3     2021-07-25T11:02:34+08:00  2021-07-25T14:22:34+08:00   \n",
       "4     2021-07-25T11:15:21+08:00  2021-07-25T14:35:21+08:00   \n",
       "...                         ...                        ...   \n",
       "1077  2021-07-25T09:13:54+08:00  2021-07-26T09:13:54+08:00   \n",
       "1078  2021-07-25T11:23:45+08:00  2021-07-26T11:23:45+08:00   \n",
       "1079  2021-07-25T19:19:50+08:00  2021-07-26T19:19:50+08:00   \n",
       "1080  2021-07-25T19:17:06+08:00  2021-07-26T19:17:06+08:00   \n",
       "1081  2021-07-25T16:21:51+08:00  2021-07-26T16:21:51+08:00   \n",
       "\n",
       "                      stop_time  mobile_alert  \\\n",
       "0     2021-07-25T22:26:00+08:00           NaN   \n",
       "1     2021-07-25T09:50:54+08:00           NaN   \n",
       "2     2021-07-25T14:45:40+08:00           NaN   \n",
       "3     2021-07-25T11:09:26+08:00           NaN   \n",
       "4     2021-07-25T11:33:51+08:00           NaN   \n",
       "...                         ...           ...   \n",
       "1077  2021-07-25T09:29:04+08:00           NaN   \n",
       "1078  2021-07-25T11:43:26+08:00           NaN   \n",
       "1079  2021-07-25T19:26:54+08:00           NaN   \n",
       "1080  2021-07-25T19:26:33+08:00           NaN   \n",
       "1081  2021-07-26T08:31:02+08:00           NaN   \n",
       "\n",
       "                                           task_answers  \\\n",
       "0     [\"{\\\"frame\\\":{\\\"level\\\":\\\"easy\\\",\\\"data\\\":{\\\"s...   \n",
       "1     [\"{\\\"frame\\\":{\\\"level\\\":\\\"easy\\\",\\\"data\\\":{\\\"s...   \n",
       "2     [\"{\\\"frame\\\":{\\\"level\\\":\\\"easy\\\",\\\"data\\\":{\\\"s...   \n",
       "3     [\"{\\\"frame\\\":{\\\"level\\\":\\\"easy\\\",\\\"data\\\":{\\\"s...   \n",
       "4     [\"{\\\"frame\\\":{\\\"level\\\":\\\"easy\\\",\\\"data\\\":{\\\"s...   \n",
       "...                                                 ...   \n",
       "1077  [\"{\\\"basic\\\":[2,4,2,12,6,8,4,1,3,2,3,5,3,4,2,2...   \n",
       "1078  [\"{\\\"basic\\\":[2,5,6,1,6,1,6,1,5,2,3,7,4,1,4,4,...   \n",
       "1079  [\"{\\\"basic\\\":[1,4,6,4,6,4,6,1,4,2,5,4,4,5,4,3,...   \n",
       "1080  [\"{\\\"basic\\\":[1,2,6,4,6,4,4,1,4,2,3,6,5,4,2,2,...   \n",
       "1081  [\"{\\\"basic\\\":[[4650,372],9389,[9389,1471.2,209...   \n",
       "\n",
       "                                             user_agent        client_ip  \\\n",
       "0     Mozilla/5.0 (Windows NT 6.1; Win64; x64) Apple...  101.206.224.159   \n",
       "1     Mozilla/5.0 (X11; Linux x86_64; rv:90.0) Gecko...  171.210.135.102   \n",
       "2     Mozilla/5.0 (Windows NT 6.1) AppleWebKit/537.3...   118.117.28.182   \n",
       "3     Mozilla/5.0 (Windows NT 6.1) AppleWebKit/537.3...   118.117.28.182   \n",
       "4     Mozilla/5.0 (Windows NT 6.1) AppleWebKit/537.3...   118.117.28.182   \n",
       "...                                                 ...              ...   \n",
       "1077  Mozilla/5.0 (Windows NT 6.1) AppleWebKit/537.3...   61.157.144.148   \n",
       "1078  Mozilla/5.0 (Windows NT 6.1; WOW64) AppleWebKi...     61.157.98.53   \n",
       "1079  Mozilla/5.0 (Windows NT 6.1; WOW64) AppleWebKi...     61.157.98.52   \n",
       "1080  Mozilla/5.0 (Windows NT 6.1; WOW64) AppleWebKi...     61.157.98.53   \n",
       "1081  Mozilla/5.0 (Windows NT 6.1; Win64; x64) Apple...   61.157.144.169   \n",
       "\n",
       "          school                                                tag name  \\\n",
       "0       绵阳东辰国际学校  我是学生,高中生问卷一,高中生问卷二,高中生问卷三,高中生问卷四,高中生问卷五,建模素养,智...  陈哲贤   \n",
       "1           开元中学  我是学生,高中生问卷一,高中生问卷二,高中生问卷三,高中生问卷四,高中生问卷五,建模素养,智...  李尹锋   \n",
       "2      绵阳高新区实验中学  我是学生,高中生问卷一,高中生问卷二,高中生问卷三,高中生问卷四,高中生问卷五,建模素养,智...  姚钰英   \n",
       "3      绵阳高新区实验中学  我是学生,高中生问卷一,高中生问卷二,高中生问卷三,高中生问卷四,高中生问卷五,建模素养,智...  赵雅婷   \n",
       "4      绵阳高新区实验中学  我是学生,高中生问卷一,高中生问卷二,高中生问卷三,高中生问卷四,高中生问卷五,建模素养,智...  田朝鑫   \n",
       "...          ...                                                ...  ...   \n",
       "1077  四川省绵阳市安州中学                                                 教师   任娅   \n",
       "1078        江油中学                                                 教师  杨玉华   \n",
       "1079        江油中学                                                 教师   陈宁   \n",
       "1080        江油中学                                                 教师  李文冬   \n",
       "1081  四川省绵阳市安州中学                                                 校长  唐子军   \n",
       "\n",
       "         owner  state  is_parent  interval_minutes  lazy  \n",
       "0     mianyang    NaN          0         26.850000     0  \n",
       "1     mianyang    NaN          0         11.133333     0  \n",
       "2     mianyang    NaN          0         14.083333     0  \n",
       "3     mianyang    NaN          0          6.866667     1  \n",
       "4     mianyang    NaN          0         18.500000     0  \n",
       "...        ...    ...        ...               ...   ...  \n",
       "1077  mianyang    NaN          0         15.166667     0  \n",
       "1078  mianyang    NaN          0         19.683333     0  \n",
       "1079  mianyang    NaN          0          7.066667     1  \n",
       "1080  mianyang    NaN          0          9.450000     1  \n",
       "1081  mianyang    NaN          0        969.183333     0  \n",
       "\n",
       "[1082 rows x 19 columns]"
      ],
      "text/html": "<div>\n<style scoped>\n    .dataframe tbody tr th:only-of-type {\n        vertical-align: middle;\n    }\n\n    .dataframe tbody tr th {\n        vertical-align: top;\n    }\n\n    .dataframe thead th {\n        text-align: right;\n    }\n</style>\n<table border=\"1\" class=\"dataframe\">\n  <thead>\n    <tr style=\"text-align: right;\">\n      <th></th>\n      <th>user</th>\n      <th>type</th>\n      <th>contest_id</th>\n      <th>ticket_id</th>\n      <th>start_time</th>\n      <th>expire_time</th>\n      <th>stop_time</th>\n      <th>mobile_alert</th>\n      <th>task_answers</th>\n      <th>user_agent</th>\n      <th>client_ip</th>\n      <th>school</th>\n      <th>tag</th>\n      <th>name</th>\n      <th>owner</th>\n      <th>state</th>\n      <th>is_parent</th>\n      <th>interval_minutes</th>\n      <th>lazy</th>\n    </tr>\n  </thead>\n  <tbody>\n    <tr>\n      <th>0</th>\n      <td>mianyang/智能计算素养/90030203305</td>\n      <td>ticket-user</td>\n      <td>mianyang/智能计算素养</td>\n      <td>90030203305</td>\n      <td>2021-07-25T21:59:09+08:00</td>\n      <td>2021-07-26T01:19:09+08:00</td>\n      <td>2021-07-25T22:26:00+08:00</td>\n      <td>NaN</td>\n      <td>[\"{\\\"frame\\\":{\\\"level\\\":\\\"easy\\\",\\\"data\\\":{\\\"s...</td>\n      <td>Mozilla/5.0 (Windows NT 6.1; Win64; x64) Apple...</td>\n      <td>101.206.224.159</td>\n      <td>绵阳东辰国际学校</td>\n      <td>我是学生,高中生问卷一,高中生问卷二,高中生问卷三,高中生问卷四,高中生问卷五,建模素养,智...</td>\n      <td>陈哲贤</td>\n      <td>mianyang</td>\n      <td>NaN</td>\n      <td>0</td>\n      <td>26.850000</td>\n      <td>0</td>\n    </tr>\n    <tr>\n      <th>1</th>\n      <td>mianyang/智能计算素养/90040101731</td>\n      <td>ticket-user</td>\n      <td>mianyang/智能计算素养</td>\n      <td>90040101731</td>\n      <td>2021-07-25T09:39:46+08:00</td>\n      <td>2021-07-25T12:59:46+08:00</td>\n      <td>2021-07-25T09:50:54+08:00</td>\n      <td>NaN</td>\n      <td>[\"{\\\"frame\\\":{\\\"level\\\":\\\"easy\\\",\\\"data\\\":{\\\"s...</td>\n      <td>Mozilla/5.0 (X11; Linux x86_64; rv:90.0) Gecko...</td>\n      <td>171.210.135.102</td>\n      <td>开元中学</td>\n      <td>我是学生,高中生问卷一,高中生问卷二,高中生问卷三,高中生问卷四,高中生问卷五,建模素养,智...</td>\n      <td>李尹锋</td>\n      <td>mianyang</td>\n      <td>NaN</td>\n      <td>0</td>\n      <td>11.133333</td>\n      <td>0</td>\n    </tr>\n    <tr>\n      <th>2</th>\n      <td>mianyang/智能计算素养/90050101101</td>\n      <td>ticket-user</td>\n      <td>mianyang/智能计算素养</td>\n      <td>90050101101</td>\n      <td>2021-07-25T14:31:35+08:00</td>\n      <td>2021-07-25T17:51:35+08:00</td>\n      <td>2021-07-25T14:45:40+08:00</td>\n      <td>NaN</td>\n      <td>[\"{\\\"frame\\\":{\\\"level\\\":\\\"easy\\\",\\\"data\\\":{\\\"s...</td>\n      <td>Mozilla/5.0 (Windows NT 6.1) AppleWebKit/537.3...</td>\n      <td>118.117.28.182</td>\n      <td>绵阳高新区实验中学</td>\n      <td>我是学生,高中生问卷一,高中生问卷二,高中生问卷三,高中生问卷四,高中生问卷五,建模素养,智...</td>\n      <td>姚钰英</td>\n      <td>mianyang</td>\n      <td>NaN</td>\n      <td>0</td>\n      <td>14.083333</td>\n      <td>0</td>\n    </tr>\n    <tr>\n      <th>3</th>\n      <td>mianyang/智能计算素养/90050101102</td>\n      <td>ticket-user</td>\n      <td>mianyang/智能计算素养</td>\n      <td>90050101102</td>\n      <td>2021-07-25T11:02:34+08:00</td>\n      <td>2021-07-25T14:22:34+08:00</td>\n      <td>2021-07-25T11:09:26+08:00</td>\n      <td>NaN</td>\n      <td>[\"{\\\"frame\\\":{\\\"level\\\":\\\"easy\\\",\\\"data\\\":{\\\"s...</td>\n      <td>Mozilla/5.0 (Windows NT 6.1) AppleWebKit/537.3...</td>\n      <td>118.117.28.182</td>\n      <td>绵阳高新区实验中学</td>\n      <td>我是学生,高中生问卷一,高中生问卷二,高中生问卷三,高中生问卷四,高中生问卷五,建模素养,智...</td>\n      <td>赵雅婷</td>\n      <td>mianyang</td>\n      <td>NaN</td>\n      <td>0</td>\n      <td>6.866667</td>\n      <td>1</td>\n    </tr>\n    <tr>\n      <th>4</th>\n      <td>mianyang/智能计算素养/90050101104</td>\n      <td>ticket-user</td>\n      <td>mianyang/智能计算素养</td>\n      <td>90050101104</td>\n      <td>2021-07-25T11:15:21+08:00</td>\n      <td>2021-07-25T14:35:21+08:00</td>\n      <td>2021-07-25T11:33:51+08:00</td>\n      <td>NaN</td>\n      <td>[\"{\\\"frame\\\":{\\\"level\\\":\\\"easy\\\",\\\"data\\\":{\\\"s...</td>\n      <td>Mozilla/5.0 (Windows NT 6.1) AppleWebKit/537.3...</td>\n      <td>118.117.28.182</td>\n      <td>绵阳高新区实验中学</td>\n      <td>我是学生,高中生问卷一,高中生问卷二,高中生问卷三,高中生问卷四,高中生问卷五,建模素养,智...</td>\n      <td>田朝鑫</td>\n      <td>mianyang</td>\n      <td>NaN</td>\n      <td>0</td>\n      <td>18.500000</td>\n      <td>0</td>\n    </tr>\n    <tr>\n      <th>...</th>\n      <td>...</td>\n      <td>...</td>\n      <td>...</td>\n      <td>...</td>\n      <td>...</td>\n      <td>...</td>\n      <td>...</td>\n      <td>...</td>\n      <td>...</td>\n      <td>...</td>\n      <td>...</td>\n      <td>...</td>\n      <td>...</td>\n      <td>...</td>\n      <td>...</td>\n      <td>...</td>\n      <td>...</td>\n      <td>...</td>\n      <td>...</td>\n    </tr>\n    <tr>\n      <th>1077</th>\n      <td>mianyang/高中教师问卷/99924010084</td>\n      <td>ticket-user</td>\n      <td>mianyang/高中教师问卷</td>\n      <td>99924010084</td>\n      <td>2021-07-25T09:13:54+08:00</td>\n      <td>2021-07-26T09:13:54+08:00</td>\n      <td>2021-07-25T09:29:04+08:00</td>\n      <td>NaN</td>\n      <td>[\"{\\\"basic\\\":[2,4,2,12,6,8,4,1,3,2,3,5,3,4,2,2...</td>\n      <td>Mozilla/5.0 (Windows NT 6.1) AppleWebKit/537.3...</td>\n      <td>61.157.144.148</td>\n      <td>四川省绵阳市安州中学</td>\n      <td>教师</td>\n      <td>任娅</td>\n      <td>mianyang</td>\n      <td>NaN</td>\n      <td>0</td>\n      <td>15.166667</td>\n      <td>0</td>\n    </tr>\n    <tr>\n      <th>1078</th>\n      <td>mianyang/高中教师问卷/99981010004</td>\n      <td>ticket-user</td>\n      <td>mianyang/高中教师问卷</td>\n      <td>99981010004</td>\n      <td>2021-07-25T11:23:45+08:00</td>\n      <td>2021-07-26T11:23:45+08:00</td>\n      <td>2021-07-25T11:43:26+08:00</td>\n      <td>NaN</td>\n      <td>[\"{\\\"basic\\\":[2,5,6,1,6,1,6,1,5,2,3,7,4,1,4,4,...</td>\n      <td>Mozilla/5.0 (Windows NT 6.1; WOW64) AppleWebKi...</td>\n      <td>61.157.98.53</td>\n      <td>江油中学</td>\n      <td>教师</td>\n      <td>杨玉华</td>\n      <td>mianyang</td>\n      <td>NaN</td>\n      <td>0</td>\n      <td>19.683333</td>\n      <td>0</td>\n    </tr>\n    <tr>\n      <th>1079</th>\n      <td>mianyang/高中教师问卷/99981010050</td>\n      <td>ticket-user</td>\n      <td>mianyang/高中教师问卷</td>\n      <td>99981010050</td>\n      <td>2021-07-25T19:19:50+08:00</td>\n      <td>2021-07-26T19:19:50+08:00</td>\n      <td>2021-07-25T19:26:54+08:00</td>\n      <td>NaN</td>\n      <td>[\"{\\\"basic\\\":[1,4,6,4,6,4,6,1,4,2,5,4,4,5,4,3,...</td>\n      <td>Mozilla/5.0 (Windows NT 6.1; WOW64) AppleWebKi...</td>\n      <td>61.157.98.52</td>\n      <td>江油中学</td>\n      <td>教师</td>\n      <td>陈宁</td>\n      <td>mianyang</td>\n      <td>NaN</td>\n      <td>0</td>\n      <td>7.066667</td>\n      <td>1</td>\n    </tr>\n    <tr>\n      <th>1080</th>\n      <td>mianyang/高中教师问卷/99981010053</td>\n      <td>ticket-user</td>\n      <td>mianyang/高中教师问卷</td>\n      <td>99981010053</td>\n      <td>2021-07-25T19:17:06+08:00</td>\n      <td>2021-07-26T19:17:06+08:00</td>\n      <td>2021-07-25T19:26:33+08:00</td>\n      <td>NaN</td>\n      <td>[\"{\\\"basic\\\":[1,2,6,4,6,4,4,1,4,2,3,6,5,4,2,2,...</td>\n      <td>Mozilla/5.0 (Windows NT 6.1; WOW64) AppleWebKi...</td>\n      <td>61.157.98.53</td>\n      <td>江油中学</td>\n      <td>教师</td>\n      <td>李文冬</td>\n      <td>mianyang</td>\n      <td>NaN</td>\n      <td>0</td>\n      <td>9.450000</td>\n      <td>1</td>\n    </tr>\n    <tr>\n      <th>1081</th>\n      <td>mianyang/高中校长问卷/99924010001</td>\n      <td>ticket-user</td>\n      <td>mianyang/高中校长问卷</td>\n      <td>99924010001</td>\n      <td>2021-07-25T16:21:51+08:00</td>\n      <td>2021-07-26T16:21:51+08:00</td>\n      <td>2021-07-26T08:31:02+08:00</td>\n      <td>NaN</td>\n      <td>[\"{\\\"basic\\\":[[4650,372],9389,[9389,1471.2,209...</td>\n      <td>Mozilla/5.0 (Windows NT 6.1; Win64; x64) Apple...</td>\n      <td>61.157.144.169</td>\n      <td>四川省绵阳市安州中学</td>\n      <td>校长</td>\n      <td>唐子军</td>\n      <td>mianyang</td>\n      <td>NaN</td>\n      <td>0</td>\n      <td>969.183333</td>\n      <td>0</td>\n    </tr>\n  </tbody>\n</table>\n<p>1082 rows × 19 columns</p>\n</div>"
     },
     "metadata": {},
     "execution_count": 9
    }
   ],
   "metadata": {}
  },
  {
   "cell_type": "markdown",
   "source": [
    "# 测试函数运行是否正常"
   ],
   "metadata": {}
  },
  {
   "cell_type": "code",
   "execution_count": 10,
   "source": [
    "dic_list_test = remove_str_per_row(df_main.loc[1, 'task_answers'])\n",
    "dic_list_test, len(dic_list_test)\n",
    "time_test_minu = get_interval_per_row(0, df_main)\n",
    "time_test_minu"
   ],
   "outputs": [
    {
     "output_type": "execute_result",
     "data": {
      "text/plain": [
       "26.85"
      ]
     },
     "metadata": {},
     "execution_count": 10
    }
   ],
   "metadata": {}
  },
  {
   "cell_type": "markdown",
   "source": [
    "# 增加做题时间属性（'interval'）"
   ],
   "metadata": {}
  },
  {
   "cell_type": "code",
   "execution_count": 11,
   "source": [
    "time_minu_list = []\n",
    "drop_index_list = []\n",
    "for row in range(len(df_main)):\n",
    "    interval_minu = get_interval_per_row(row, df_main)\n",
    "    if interval_minu == -1:\n",
    "        drop_index_list.append(row)\n",
    "    else:\n",
    "        time_minu_list.append(interval_minu)"
   ],
   "outputs": [],
   "metadata": {}
  },
  {
   "cell_type": "code",
   "execution_count": 12,
   "source": [
    "len(df_main)"
   ],
   "outputs": [
    {
     "output_type": "execute_result",
     "data": {
      "text/plain": [
       "1082"
      ]
     },
     "metadata": {},
     "execution_count": 12
    }
   ],
   "metadata": {}
  },
  {
   "cell_type": "code",
   "execution_count": 13,
   "source": [
    "len(drop_index_list)"
   ],
   "outputs": [
    {
     "output_type": "execute_result",
     "data": {
      "text/plain": [
       "0"
      ]
     },
     "metadata": {},
     "execution_count": 13
    }
   ],
   "metadata": {}
  },
  {
   "cell_type": "code",
   "execution_count": 14,
   "source": [
    "len(time_minu_list)"
   ],
   "outputs": [
    {
     "output_type": "execute_result",
     "data": {
      "text/plain": [
       "1082"
      ]
     },
     "metadata": {},
     "execution_count": 14
    }
   ],
   "metadata": {}
  },
  {
   "cell_type": "code",
   "execution_count": 15,
   "source": [
    "df_main = df_main.drop(drop_index_list)\n",
    "if 'interval_minutes' not in df_main.columns:\n",
    "    df_main.insert(len(df_main.columns), 'interval_minutes', time_minu_list)"
   ],
   "outputs": [],
   "metadata": {}
  },
  {
   "cell_type": "markdown",
   "source": [
    "# 数据针对试卷分类"
   ],
   "metadata": {}
  },
  {
   "cell_type": "code",
   "execution_count": 16,
   "source": [
    "grouped_main = df_main.groupby('contest_id')\n",
    "df_contest_list = [tup[1] for tup in list(grouped_main)]\n",
    "df_contest_name_list = [tup[0] for tup in list(grouped_main)]"
   ],
   "outputs": [],
   "metadata": {}
  },
  {
   "cell_type": "code",
   "execution_count": 17,
   "source": [
    "df_contest_name_list"
   ],
   "outputs": [
    {
     "output_type": "execute_result",
     "data": {
      "text/plain": [
       "['mianyang/智能计算素养', 'mianyang/问题解决素养', 'mianyang/高中教师问卷', 'mianyang/高中校长问卷']"
      ]
     },
     "metadata": {},
     "execution_count": 17
    }
   ],
   "metadata": {}
  },
  {
   "cell_type": "markdown",
   "source": [
    "# 分类结果\n",
    "智能计算和问题解决分别在列表中的index=1和index=2"
   ],
   "metadata": {}
  },
  {
   "cell_type": "code",
   "execution_count": 18,
   "source": [
    "df_res_1 = df_contest_list[0] # 智能计算\n",
    "df_res_2 = df_contest_list[1] # 问题解决\n",
    "grouped_main['interval_minutes'].mean()"
   ],
   "outputs": [
    {
     "output_type": "execute_result",
     "data": {
      "text/plain": [
       "contest_id\n",
       "mianyang/智能计算素养     24.377358\n",
       "mianyang/问题解决素养     16.621036\n",
       "mianyang/高中教师问卷     11.440333\n",
       "mianyang/高中校长问卷    969.183333\n",
       "Name: interval_minutes, dtype: float64"
      ]
     },
     "metadata": {},
     "execution_count": 18
    }
   ],
   "metadata": {}
  },
  {
   "cell_type": "markdown",
   "source": [
    "# 教师和校长数量"
   ],
   "metadata": {}
  },
  {
   "cell_type": "code",
   "execution_count": 19,
   "source": [
    "len(df_contest_list[2]), len(df_contest_list[3])"
   ],
   "outputs": [
    {
     "output_type": "execute_result",
     "data": {
      "text/plain": [
       "(50, 1)"
      ]
     },
     "metadata": {},
     "execution_count": 19
    }
   ],
   "metadata": {}
  },
  {
   "cell_type": "markdown",
   "source": [
    "# 智能计算学生数量"
   ],
   "metadata": {}
  },
  {
   "cell_type": "code",
   "execution_count": 20,
   "source": [
    "x1_sum = len(df_contest_list[0])\n",
    "x1_sum"
   ],
   "outputs": [
    {
     "output_type": "execute_result",
     "data": {
      "text/plain": [
       "516"
      ]
     },
     "metadata": {},
     "execution_count": 20
    }
   ],
   "metadata": {}
  },
  {
   "cell_type": "markdown",
   "source": [
    "# 问题解决学生数量"
   ],
   "metadata": {}
  },
  {
   "cell_type": "code",
   "execution_count": 21,
   "source": [
    "x2_sum = len(df_contest_list[1])\n",
    "x2_sum"
   ],
   "outputs": [
    {
     "output_type": "execute_result",
     "data": {
      "text/plain": [
       "515"
      ]
     },
     "metadata": {},
     "execution_count": 21
    }
   ],
   "metadata": {}
  },
  {
   "cell_type": "markdown",
   "source": [
    "# 学生总数"
   ],
   "metadata": {}
  },
  {
   "cell_type": "code",
   "execution_count": 22,
   "source": [
    "x1_sum + x2_sum"
   ],
   "outputs": [
    {
     "output_type": "execute_result",
     "data": {
      "text/plain": [
       "1031"
      ]
     },
     "metadata": {},
     "execution_count": 22
    }
   ],
   "metadata": {}
  },
  {
   "cell_type": "markdown",
   "source": [
    "# 再将教师和校长的数据剔除"
   ],
   "metadata": {}
  },
  {
   "cell_type": "code",
   "execution_count": 23,
   "source": [
    "[tup[0] for tup in list(df_res_1.groupby('tag'))]"
   ],
   "outputs": [
    {
     "output_type": "execute_result",
     "data": {
      "text/plain": [
       "['我是学生,高中生问卷一,高中生问卷二,高中生问卷三,高中生问卷四,高中生问卷五,建模素养,智能计算素养,问题解决素养,人文素养']"
      ]
     },
     "metadata": {},
     "execution_count": 23
    }
   ],
   "metadata": {}
  },
  {
   "cell_type": "code",
   "execution_count": 24,
   "source": [
    "[tup[0] for tup in list(df_res_2.groupby('tag'))]"
   ],
   "outputs": [
    {
     "output_type": "execute_result",
     "data": {
      "text/plain": [
       "['我是学生,高中生问卷一,高中生问卷二,高中生问卷三,高中生问卷四,高中生问卷五,建模素养,智能计算素养,问题解决素养,人文素养']"
      ]
     },
     "metadata": {},
     "execution_count": 24
    }
   ],
   "metadata": {}
  },
  {
   "cell_type": "markdown",
   "source": [
    "# 提取最终画图用到的dataframe"
   ],
   "metadata": {}
  },
  {
   "cell_type": "code",
   "execution_count": 25,
   "source": [
    "df_res_1.columns"
   ],
   "outputs": [
    {
     "output_type": "execute_result",
     "data": {
      "text/plain": [
       "Index(['user', 'type', 'contest_id', 'ticket_id', 'start_time', 'expire_time',\n",
       "       'stop_time', 'mobile_alert', 'task_answers', 'user_agent', 'client_ip',\n",
       "       'school', 'tag', 'name', 'owner', 'state', 'is_parent',\n",
       "       'interval_minutes', 'lazy'],\n",
       "      dtype='object')"
      ]
     },
     "metadata": {},
     "execution_count": 25
    }
   ],
   "metadata": {}
  },
  {
   "cell_type": "code",
   "execution_count": 26,
   "source": [
    "x1 = []\n",
    "x2 = []\n",
    "\n",
    "for row in range(len(df_res_1)):\n",
    "    interval = df_res_1.iloc[row, 17]\n",
    "    if interval != -1:\n",
    "        x1.append(interval)\n",
    "\n",
    "for row in range(len(df_res_2)):\n",
    "    interval = df_res_2.iloc[row, 17]\n",
    "    if interval != -1:\n",
    "        x2.append(interval)"
   ],
   "outputs": [],
   "metadata": {}
  },
  {
   "cell_type": "code",
   "execution_count": 27,
   "source": [
    "\n",
    "\n",
    "layout={\"title\": \"学生用时分布\", \n",
    "                                       \"xaxis_title\": \"学生用时，单位秒\",\n",
    "                                       \"yaxis_title\": \"学生个数\",\n",
    "                                       # x轴坐标倾斜60度\n",
    "                                       \"xaxis\": {\"tickangle\": 60}\n",
    "                                      }\n",
    "\n",
    "#数据组\n",
    "hist_data=[x1,x2]\n",
    "\n",
    "group_labels=['智能计算','问题解决']\n",
    "\n",
    "fig=ff.create_distplot(hist_data,group_labels,bin_size=10,histnorm = 'probability')\n",
    "fig['layout'].update(xaxis = dict(range = [0,100]))\n",
    "plot(fig,filename='./plot/单日时间分布直方图.html')\n",
    "offline.iplot(fig) "
   ],
   "outputs": [
    {
     "output_type": "display_data",
     "data": {
      "application/vnd.plotly.v1+json": {
       "config": {
        "linkText": "Export to plot.ly",
        "plotlyServerURL": "https://plot.ly",
        "showLink": false
       },
       "data": [
        {
         "autobinx": false,
         "histnorm": "probability",
         "legendgroup": "智能计算",
         "marker": {
          "color": "rgb(31, 119, 180)"
         },
         "name": "智能计算",
         "opacity": 0.7,
         "type": "histogram",
         "x": [
          26.85,
          11.133333333333333,
          14.083333333333334,
          6.866666666666666,
          18.5,
          8.283333333333333,
          12,
          12.45,
          12.1,
          17.7,
          26.216666666666665,
          21.73333333333333,
          7.25,
          6.916666666666667,
          27.383333333333333,
          11.616666666666667,
          8.5,
          17.266666666666666,
          10.866666666666667,
          27,
          7.35,
          9.116666666666667,
          10.366666666666667,
          10.616666666666667,
          13.316666666666666,
          11.883333333333333,
          19.05,
          13.816666666666666,
          6.533333333333333,
          12.4,
          6.85,
          6.683333333333334,
          12.933333333333334,
          6.716666666666667,
          10.283333333333331,
          13.083333333333334,
          12.716666666666669,
          7.65,
          16.783333333333335,
          14.7,
          6.716666666666667,
          5.233333333333333,
          30,
          10.516666666666667,
          6.883333333333334,
          10.116666666666667,
          12.916666666666666,
          12.183333333333334,
          10.25,
          14.266666666666667,
          12.95,
          5.233333333333333,
          21.83333333333333,
          18.416666666666668,
          17.516666666666666,
          10.333333333333334,
          14.433333333333334,
          21.616666666666667,
          15.7,
          7.616666666666666,
          6.183333333333334,
          7.6,
          18.25,
          7.916666666666667,
          15.683333333333334,
          5.683333333333334,
          10.783333333333331,
          9.35,
          8.1,
          9.166666666666666,
          9.083333333333334,
          11.8,
          22.433333333333334,
          8.583333333333334,
          15.166666666666666,
          11.233333333333333,
          12.35,
          18.466666666666665,
          6.633333333333334,
          9.233333333333333,
          21.15,
          12.266666666666667,
          15.733333333333333,
          3.733333333333333,
          8.166666666666666,
          9.916666666666666,
          10.733333333333333,
          8.616666666666667,
          17.083333333333332,
          16.433333333333334,
          7.433333333333334,
          11.466666666666669,
          7.816666666666666,
          8.933333333333334,
          19.73333333333333,
          6.5,
          5.416666666666667,
          6.383333333333334,
          5.816666666666666,
          19.9,
          5.883333333333334,
          9.4,
          18.316666666666663,
          12.233333333333333,
          9.616666666666667,
          18.85,
          10.116666666666667,
          8.533333333333333,
          21.83333333333333,
          7.616666666666666,
          13.633333333333333,
          22.216666666666665,
          10.416666666666666,
          11.616666666666667,
          21.98333333333333,
          9.75,
          5.8,
          11.3,
          9.233333333333333,
          13.5,
          7.916666666666667,
          6.05,
          8.1,
          10.583333333333334,
          10.3,
          9.25,
          13.15,
          12.35,
          12.766666666666667,
          11.85,
          15.316666666666666,
          9.866666666666667,
          18.8,
          12.816666666666666,
          10.766666666666667,
          9.016666666666667,
          12.133333333333333,
          16.7,
          12.483333333333333,
          17.45,
          14.383333333333333,
          8.616666666666667,
          20.2,
          12.716666666666669,
          9.866666666666667,
          9.65,
          11.516666666666667,
          21.7,
          10.95,
          12.033333333333331,
          38.46666666666667,
          52.56666666666667,
          43.63333333333333,
          48.68333333333333,
          55.266666666666666,
          58.11666666666667,
          50.2,
          63.13333333333333,
          92.86666666666666,
          56.38333333333333,
          49.53333333333333,
          56.61666666666667,
          54.35,
          51.28333333333333,
          47.63333333333333,
          65.81666666666666,
          69.73333333333333,
          65.06666666666666,
          46.98333333333333,
          50.4,
          49.81666666666667,
          42.05,
          49.16666666666666,
          47.43333333333333,
          52.63333333333333,
          61.93333333333333,
          44.516666666666666,
          67.65,
          54.15,
          52.6,
          61.06666666666667,
          55.016666666666666,
          68.36666666666666,
          54.9,
          47.55,
          54.73333333333333,
          50.583333333333336,
          47.03333333333333,
          49.3,
          74.36666666666666,
          49.4,
          48.06666666666667,
          53.43333333333333,
          66.96666666666667,
          50.21666666666667,
          45.06666666666667,
          56.21666666666667,
          73.25,
          44.4,
          63.25,
          54.15,
          47.71666666666667,
          61.3,
          54.78333333333333,
          52.15,
          63.65,
          45.28333333333333,
          63.28333333333333,
          34.36666666666667,
          50.18333333333333,
          47.75,
          72.98333333333333,
          46.56666666666667,
          53.4,
          45.766666666666666,
          22.83333333333333,
          56.53333333333333,
          52.5,
          47.46666666666667,
          51.68333333333333,
          71.08333333333333,
          39.06666666666667,
          43.11666666666667,
          51.46666666666667,
          54.11666666666667,
          49.98333333333333,
          68.46666666666667,
          44.43333333333333,
          41.61666666666667,
          47.53333333333333,
          66.23333333333333,
          62.21666666666667,
          50.48333333333333,
          62.583333333333336,
          26.266666666666666,
          64.66666666666667,
          49.98333333333333,
          15.133333333333333,
          41.68333333333333,
          36.91666666666666,
          47.21666666666667,
          63.8,
          61.6,
          58.8,
          52.11666666666667,
          48.5,
          69.05,
          55.86666666666667,
          83.43333333333334,
          57.81666666666667,
          51.583333333333336,
          46.6,
          61.43333333333333,
          46.91666666666666,
          60.78333333333333,
          51.41666666666666,
          31.216666666666665,
          9.3,
          7.083333333333333,
          17.466666666666665,
          6.4,
          27.166666666666668,
          7.733333333333333,
          12.5,
          18.9,
          22.633333333333333,
          11.016666666666667,
          7.9,
          8.416666666666666,
          5.516666666666667,
          9.283333333333331,
          20.716666666666665,
          21.766666666666666,
          34.06666666666667,
          21.516666666666666,
          13.883333333333333,
          9.65,
          13.066666666666666,
          12.833333333333334,
          20.766666666666666,
          29.08333333333333,
          24.48333333333333,
          7.133333333333334,
          34.21666666666667,
          11.266666666666667,
          34.6,
          29.33333333333333,
          20.116666666666667,
          5.166666666666667,
          15.95,
          21.95,
          9.883333333333333,
          19.1,
          14.266666666666667,
          21.366666666666667,
          9.216666666666669,
          11.616666666666667,
          40.71666666666667,
          18.6,
          23.75,
          29.48333333333333,
          32.96666666666667,
          12.15,
          12.85,
          18.166666666666668,
          9.983333333333333,
          30.883333333333333,
          18.2,
          29.133333333333333,
          39.25,
          25.7,
          17.383333333333333,
          23.816666666666663,
          16.5,
          21.916666666666668,
          4.633333333333334,
          9.016666666666667,
          19.03333333333333,
          15.65,
          7.7,
          21.48333333333333,
          13.45,
          33.733333333333334,
          12.3,
          28.366666666666667,
          29.433333333333334,
          10.8,
          6.983333333333333,
          9.483333333333333,
          40.1,
          34.45,
          8.183333333333334,
          28.03333333333333,
          13.066666666666666,
          8.483333333333333,
          19.15,
          10.583333333333334,
          17.9,
          9.133333333333333,
          6.416666666666667,
          16.533333333333335,
          21.78333333333333,
          5.35,
          12.933333333333334,
          25.35,
          11.45,
          5.516666666666667,
          20.316666666666663,
          37.766666666666666,
          21.23333333333333,
          12.733333333333333,
          36.91666666666666,
          40.38333333333333,
          6.65,
          7.783333333333333,
          15.5,
          34.56666666666667,
          13.25,
          32.36666666666667,
          6.8,
          5.633333333333334,
          7.266666666666667,
          11.316666666666666,
          40.46666666666667,
          9.183333333333334,
          11.433333333333334,
          18.316666666666663,
          8.683333333333334,
          39.5,
          15.933333333333334,
          29.75,
          27.03333333333333,
          34.7,
          6.266666666666667,
          10.516666666666667,
          24.433333333333334,
          37.65,
          15.783333333333331,
          9.85,
          26.933333333333334,
          12.366666666666667,
          24.15,
          26.7,
          10.283333333333331,
          9.466666666666669,
          40,
          39.71666666666667,
          10.983333333333333,
          13.683333333333334,
          37.7,
          21.65,
          52.28333333333333,
          6.283333333333333,
          52.21666666666667,
          29.066666666666663,
          7.1,
          28.433333333333334,
          33.78333333333333,
          25.683333333333334,
          3.85,
          9.3,
          27.366666666666667,
          26.166666666666668,
          44.35,
          21.666666666666668,
          7.183333333333334,
          6.766666666666667,
          11.466666666666669,
          5.883333333333334,
          40.36666666666667,
          17.166666666666668,
          35.31666666666667,
          28.316666666666663,
          41.06666666666667,
          15.333333333333334,
          17.4,
          8.183333333333334,
          32.35,
          26.633333333333333,
          13.8,
          6.783333333333333,
          31.716666666666665,
          5.733333333333333,
          14.166666666666666,
          10.55,
          31.966666666666665,
          30.4,
          28.883333333333333,
          9.733333333333333,
          11.066666666666666,
          31.433333333333334,
          24.666666666666668,
          27.6,
          15.683333333333334,
          33.93333333333333,
          9.616666666666667,
          13.8,
          4.65,
          10.466666666666669,
          35.583333333333336,
          6.7,
          5.7,
          12.9,
          8.783333333333333,
          49.6,
          6.65,
          23.58333333333333,
          19.433333333333334,
          21.416666666666668,
          10.883333333333333,
          12.333333333333334,
          24.7,
          13.2,
          10.25,
          15.366666666666667,
          26.116666666666667,
          34.46666666666667,
          13.266666666666667,
          8.516666666666667,
          42.66666666666666,
          6.933333333333334,
          45.96666666666667,
          15.133333333333333,
          6.65,
          13.166666666666666,
          14.716666666666669,
          45.4,
          8.616666666666667,
          17.65,
          6.533333333333333,
          25.466666666666665,
          17.05,
          34.016666666666666,
          26.466666666666665,
          9.733333333333333,
          5.916666666666667,
          8.45,
          51.38333333333333,
          13.283333333333331,
          5.316666666666666,
          10.283333333333331,
          4.95,
          35.666666666666664,
          21.683333333333334,
          16.266666666666666,
          4.933333333333334,
          6.75,
          30.133333333333333,
          9.783333333333331,
          9.416666666666666,
          25.35,
          42.083333333333336,
          5.333333333333333,
          12.033333333333331,
          8.683333333333334,
          21.683333333333334,
          9.733333333333333,
          9.316666666666666,
          4.916666666666667,
          11.816666666666666,
          30.683333333333334,
          12.266666666666667,
          29.183333333333334,
          5.783333333333333,
          6.933333333333334,
          8.283333333333333,
          43.66666666666666,
          40.73333333333333,
          10.333333333333334,
          18.866666666666667,
          14,
          22.03333333333333,
          41.56666666666667,
          7.733333333333333,
          38.23333333333333,
          48.31666666666667
         ],
         "xaxis": "x",
         "xbins": {
          "end": 92.86666666666666,
          "size": 10,
          "start": 3.733333333333333
         },
         "yaxis": "y"
        },
        {
         "autobinx": false,
         "histnorm": "probability",
         "legendgroup": "问题解决",
         "marker": {
          "color": "rgb(255, 127, 14)"
         },
         "name": "问题解决",
         "opacity": 0.7,
         "type": "histogram",
         "x": [
          26.816666666666663,
          11.25,
          11.75,
          6.5,
          7.466666666666667,
          4.15,
          32.96666666666667,
          8.816666666666666,
          8.4,
          8.183333333333334,
          11.866666666666667,
          4.316666666666666,
          13.35,
          6.816666666666666,
          13.5,
          7.2,
          21.95,
          10.383333333333333,
          9,
          3.716666666666667,
          10.766666666666667,
          5.783333333333333,
          13.233333333333333,
          24.73333333333333,
          36.18333333333333,
          15.95,
          18.183333333333334,
          23.016666666666666,
          7.266666666666667,
          4.333333333333333,
          7.583333333333333,
          20.9,
          7.25,
          25.75,
          4.233333333333333,
          7.983333333333333,
          11.75,
          7.5,
          19.383333333333333,
          6.15,
          33.53333333333333,
          3.85,
          8.866666666666667,
          17.066666666666666,
          6.4,
          33.53333333333333,
          15.55,
          35.35,
          20.416666666666668,
          34.733333333333334,
          6.616666666666666,
          13.2,
          11.3,
          21.383333333333333,
          37.41666666666666,
          8.533333333333333,
          6.516666666666667,
          5.75,
          13.8,
          7.716666666666667,
          17.833333333333332,
          4.45,
          15.8,
          14.616666666666667,
          9.566666666666666,
          21.5,
          22.28333333333333,
          14.116666666666667,
          10.1,
          37.88333333333333,
          12.316666666666666,
          21.03333333333333,
          6.85,
          35.28333333333333,
          13.133333333333333,
          15.6,
          5.983333333333333,
          28.716666666666665,
          4.183333333333334,
          17.283333333333335,
          6.533333333333333,
          8.2,
          9.066666666666666,
          4.966666666666667,
          11.133333333333333,
          30.6,
          3.2,
          6.283333333333333,
          18.53333333333333,
          15.45,
          19.78333333333333,
          10,
          11.4,
          29.216666666666665,
          36.16666666666666,
          12.65,
          10.933333333333334,
          7.633333333333334,
          16.65,
          21.73333333333333,
          4.6,
          21.416666666666668,
          11.016666666666667,
          10.366666666666667,
          8.233333333333333,
          17.616666666666667,
          8.35,
          15.45,
          13.05,
          5.433333333333334,
          14.35,
          7.416666666666667,
          18.933333333333334,
          6.833333333333333,
          6.25,
          4.6,
          20.883333333333333,
          14.85,
          6.75,
          8.383333333333333,
          13.05,
          5.75,
          38.06666666666667,
          8.883333333333333,
          10.183333333333334,
          14.616666666666667,
          3.8,
          16.183333333333334,
          14.866666666666667,
          8.25,
          8.783333333333333,
          3.533333333333333,
          17.833333333333332,
          25.5,
          3.4,
          1.2166666666666666,
          6.2,
          7.1,
          9.866666666666667,
          9.916666666666666,
          22.65,
          6.6,
          11.3,
          9.883333333333333,
          13.066666666666666,
          16.333333333333332,
          7.283333333333333,
          17.616666666666667,
          15.3,
          6.866666666666666,
          5.183333333333334,
          43.96666666666667,
          47.7,
          51.53333333333333,
          21.866666666666667,
          23.65,
          45.53333333333333,
          29.316666666666663,
          39.2,
          26.58333333333333,
          28.183333333333334,
          38.55,
          51.03333333333333,
          36.65,
          30.766666666666666,
          9.616666666666667,
          30.166666666666668,
          33.266666666666666,
          51.016666666666666,
          14.833333333333334,
          16.566666666666666,
          40.16666666666666,
          28.6,
          43.71666666666667,
          51.38333333333333,
          31.116666666666667,
          49.91666666666666,
          26.116666666666667,
          43.11666666666667,
          41.86666666666667,
          31.3,
          51.38333333333333,
          13.616666666666667,
          29.883333333333333,
          26.85,
          32.46666666666667,
          19.5,
          22.45,
          33.9,
          11.216666666666669,
          16.866666666666667,
          27.35,
          11.1,
          7.65,
          40.41666666666666,
          51.23333333333333,
          28.9,
          11,
          33.71666666666667,
          34.28333333333333,
          41.833333333333336,
          39.46666666666667,
          20.05,
          16.733333333333334,
          45.05,
          17.4,
          18.5,
          29.03333333333333,
          24.133333333333333,
          17.866666666666667,
          49.266666666666666,
          17.9,
          26.816666666666663,
          55.4,
          52.91666666666666,
          47.48333333333333,
          21.866666666666667,
          46.71666666666667,
          43.61666666666667,
          45.91666666666666,
          24.73333333333333,
          17.233333333333334,
          41.583333333333336,
          45.18333333333333,
          41.2,
          47.81666666666667,
          30.116666666666667,
          28.28333333333333,
          32.36666666666667,
          49.43333333333333,
          9.233333333333333,
          19.383333333333333,
          25.85,
          35.78333333333333,
          7.966666666666667,
          35.35,
          29.15,
          40.65,
          41.56666666666667,
          7.3,
          34.95,
          3.933333333333333,
          42.13333333333333,
          28.416666666666668,
          48.53333333333333,
          31.53333333333333,
          35.5,
          13.933333333333334,
          41.23333333333333,
          46.11666666666667,
          44.95,
          9.616666666666667,
          15.4,
          37.48333333333333,
          30.2,
          33.63333333333333,
          16.566666666666666,
          12.983333333333333,
          9.016666666666667,
          7.25,
          15.35,
          8.55,
          15.583333333333334,
          11.283333333333331,
          3.4166666666666665,
          6.95,
          9.783333333333331,
          5,
          2.8833333333333333,
          4.533333333333333,
          19.3,
          5.233333333333333,
          22.066666666666663,
          16.633333333333333,
          3.5166666666666666,
          5.033333333333333,
          9.2,
          13.75,
          15.5,
          19.85,
          5.783333333333333,
          4.133333333333334,
          25.366666666666667,
          1.6666666666666667,
          5.1,
          20.03333333333333,
          20.75,
          2.4833333333333334,
          9.316666666666666,
          25.53333333333333,
          8.083333333333334,
          10.266666666666667,
          10.583333333333334,
          7.95,
          6.383333333333334,
          8.566666666666666,
          13.933333333333334,
          13.7,
          23.65,
          23.266666666666666,
          6.1,
          12.15,
          17.233333333333334,
          8.066666666666666,
          15.3,
          21.183333333333334,
          43.88333333333333,
          11.916666666666666,
          7.15,
          15.533333333333331,
          8.766666666666667,
          4.533333333333333,
          13.4,
          25.016666666666666,
          5.916666666666667,
          2.1166666666666667,
          5.333333333333333,
          20.166666666666668,
          3.583333333333333,
          12.666666666666666,
          18.45,
          18.85,
          6.4,
          25.666666666666668,
          16.25,
          8.166666666666666,
          4.883333333333334,
          6.65,
          11.05,
          8.333333333333334,
          16.433333333333334,
          12.666666666666666,
          3.7,
          8.833333333333334,
          17.65,
          9.133333333333333,
          7.033333333333333,
          3.966666666666667,
          7.516666666666667,
          14.95,
          21.35,
          2.566666666666667,
          14.366666666666667,
          23.35,
          6.1,
          3.716666666666667,
          3.733333333333333,
          14.1,
          20.23333333333333,
          4.666666666666667,
          13.766666666666667,
          15.65,
          8.966666666666667,
          5.3,
          20.633333333333333,
          14.383333333333333,
          9.35,
          27.116666666666667,
          3.95,
          10.716666666666669,
          2.9166666666666665,
          4.333333333333333,
          20.65,
          6.533333333333333,
          10.35,
          18,
          6.333333333333333,
          16.783333333333335,
          6.833333333333333,
          13.65,
          9.15,
          24.633333333333333,
          13.7,
          5.433333333333334,
          18.183333333333334,
          26.78333333333333,
          20.48333333333333,
          5.133333333333334,
          19.48333333333333,
          6.866666666666666,
          16.35,
          19.816666666666663,
          7.216666666666667,
          7.566666666666666,
          19.28333333333333,
          20.366666666666667,
          8.5,
          7.016666666666667,
          22.133333333333333,
          12.166666666666666,
          12.416666666666666,
          9.15,
          16.6,
          13.466666666666669,
          4.716666666666667,
          35.266666666666666,
          8.05,
          14.05,
          14.216666666666669,
          11.416666666666666,
          35.516666666666666,
          17.766666666666666,
          28.15,
          28.516666666666666,
          3.583333333333333,
          6.65,
          8.166666666666666,
          6.316666666666666,
          25.83333333333333,
          11.2,
          17.333333333333332,
          18.3,
          17.833333333333332,
          25.73333333333333,
          11.783333333333331,
          3.55,
          16.766666666666666,
          21.85,
          4.7,
          7.533333333333333,
          4.966666666666667,
          20.216666666666665,
          6.383333333333334,
          8.583333333333334,
          12.45,
          8.416666666666666,
          14.9,
          5.55,
          9.083333333333334,
          16.133333333333333,
          15.966666666666669,
          15.9,
          23.383333333333333,
          44.81666666666667,
          17.6,
          5.4,
          4.016666666666667,
          21.78333333333333,
          9.283333333333331,
          15.166666666666666,
          16.05,
          6.4,
          18.683333333333334,
          8.483333333333333,
          24.15,
          9.566666666666666,
          28.883333333333333,
          3.883333333333333,
          10.15,
          22.35,
          5.433333333333334,
          4.25,
          19.466666666666665,
          9.65,
          21.383333333333333,
          5.216666666666667,
          3.25,
          16.216666666666665,
          5.6,
          15.9,
          5.266666666666667,
          11.166666666666666,
          10.566666666666666,
          17.216666666666665,
          27.83333333333333,
          2.816666666666667,
          23.683333333333334,
          9.3,
          5.166666666666667,
          15.666666666666666,
          25.066666666666663,
          17.983333333333334,
          5.65,
          1.0833333333333333,
          10.6,
          8.383333333333333,
          5.533333333333333,
          3.8333333333333335,
          7.2,
          4.7,
          20.933333333333334,
          8.166666666666666,
          11.433333333333334,
          5.95,
          2.566666666666667,
          19.416666666666668,
          2.2,
          9.383333333333333,
          11.45,
          11.783333333333331,
          7.2,
          6.466666666666667,
          1.7666666666666666,
          5.45,
          7.35,
          3.533333333333333,
          2.6166666666666667,
          12.7,
          4.033333333333333,
          7.233333333333333,
          17.466666666666665,
          10.416666666666666,
          2.7666666666666666,
          3.2333333333333334,
          6.266666666666667,
          19.08333333333333,
          12.483333333333333,
          4.066666666666666,
          14.7,
          9.85,
          19.28333333333333,
          8.85,
          5.766666666666667,
          6.283333333333333,
          17.316666666666666
         ],
         "xaxis": "x",
         "xbins": {
          "end": 55.4,
          "size": 10,
          "start": 1.0833333333333333
         },
         "yaxis": "y"
        },
        {
         "legendgroup": "智能计算",
         "marker": {
          "color": "rgb(31, 119, 180)"
         },
         "mode": "lines",
         "name": "智能计算",
         "showlegend": false,
         "type": "scatter",
         "x": [
          3.733333333333333,
          3.9115999999999995,
          4.0898666666666665,
          4.268133333333333,
          4.4464,
          4.624666666666666,
          4.802933333333333,
          4.981199999999999,
          5.159466666666666,
          5.3377333333333326,
          5.516,
          5.694266666666666,
          5.872533333333333,
          6.050799999999999,
          6.229066666666666,
          6.407333333333333,
          6.5855999999999995,
          6.763866666666665,
          6.942133333333333,
          7.1204,
          7.298666666666666,
          7.476933333333332,
          7.655199999999999,
          7.833466666666666,
          8.011733333333332,
          8.19,
          8.368266666666665,
          8.546533333333333,
          8.724799999999998,
          8.903066666666666,
          9.081333333333333,
          9.259599999999999,
          9.437866666666666,
          9.616133333333332,
          9.794399999999998,
          9.972666666666665,
          10.150933333333333,
          10.329199999999998,
          10.507466666666666,
          10.685733333333333,
          10.863999999999999,
          11.042266666666665,
          11.220533333333332,
          11.3988,
          11.577066666666665,
          11.755333333333331,
          11.933599999999998,
          12.111866666666666,
          12.290133333333332,
          12.468399999999999,
          12.646666666666665,
          12.82493333333333,
          13.003199999999998,
          13.181466666666665,
          13.359733333333333,
          13.537999999999998,
          13.716266666666664,
          13.894533333333332,
          14.072799999999997,
          14.251066666666665,
          14.429333333333332,
          14.6076,
          14.785866666666665,
          14.964133333333331,
          15.142399999999999,
          15.320666666666664,
          15.498933333333332,
          15.677199999999997,
          15.855466666666663,
          16.033733333333334,
          16.212,
          16.390266666666665,
          16.56853333333333,
          16.7468,
          16.925066666666666,
          17.10333333333333,
          17.2816,
          17.459866666666667,
          17.638133333333332,
          17.816399999999998,
          17.994666666666667,
          18.172933333333333,
          18.3512,
          18.529466666666664,
          18.70773333333333,
          18.886,
          19.064266666666665,
          19.24253333333333,
          19.4208,
          19.599066666666666,
          19.77733333333333,
          19.9556,
          20.133866666666666,
          20.312133333333332,
          20.4904,
          20.668666666666667,
          20.846933333333332,
          21.025199999999998,
          21.203466666666667,
          21.381733333333333,
          21.56,
          21.738266666666664,
          21.91653333333333,
          22.0948,
          22.273066666666665,
          22.451333333333334,
          22.6296,
          22.807866666666666,
          22.986133333333335,
          23.1644,
          23.342666666666666,
          23.520933333333332,
          23.699199999999998,
          23.877466666666667,
          24.055733333333333,
          24.233999999999998,
          24.412266666666664,
          24.590533333333333,
          24.7688,
          24.947066666666665,
          25.125333333333334,
          25.3036,
          25.48186666666667,
          25.660133333333334,
          25.8384,
          26.016666666666666,
          26.19493333333333,
          26.3732,
          26.551466666666666,
          26.729733333333332,
          26.907999999999998,
          27.086266666666663,
          27.264533333333333,
          27.4428,
          27.621066666666664,
          27.79933333333333,
          27.977599999999995,
          28.155866666666668,
          28.334133333333334,
          28.5124,
          28.690666666666665,
          28.868933333333334,
          29.0472,
          29.225466666666666,
          29.40373333333333,
          29.581999999999997,
          29.760266666666666,
          29.938533333333332,
          30.116799999999998,
          30.295066666666663,
          30.47333333333333,
          30.6516,
          30.829866666666668,
          31.008133333333333,
          31.1864,
          31.364666666666665,
          31.542933333333334,
          31.7212,
          31.899466666666665,
          32.07773333333333,
          32.256,
          32.434266666666666,
          32.61253333333333,
          32.7908,
          32.96906666666666,
          33.14733333333333,
          33.325599999999994,
          33.50386666666666,
          33.682133333333326,
          33.8604,
          34.038666666666664,
          34.21693333333333,
          34.395199999999996,
          34.57346666666666,
          34.75173333333333,
          34.93,
          35.108266666666665,
          35.28653333333333,
          35.4648,
          35.64306666666666,
          35.82133333333333,
          35.999599999999994,
          36.17786666666667,
          36.35613333333333,
          36.5344,
          36.712666666666664,
          36.89093333333333,
          37.069199999999995,
          37.24746666666667,
          37.425733333333326,
          37.604,
          37.78226666666666,
          37.96053333333333,
          38.1388,
          38.31706666666666,
          38.495333333333335,
          38.6736,
          38.851866666666666,
          39.03013333333333,
          39.2084,
          39.38666666666666,
          39.564933333333336,
          39.743199999999995,
          39.92146666666667,
          40.099733333333326,
          40.278,
          40.456266666666664,
          40.63453333333333,
          40.812799999999996,
          40.99106666666666,
          41.169333333333334,
          41.3476,
          41.525866666666666,
          41.70413333333333,
          41.8824,
          42.06066666666666,
          42.238933333333335,
          42.417199999999994,
          42.59546666666667,
          42.773733333333325,
          42.952,
          43.130266666666664,
          43.30853333333333,
          43.486799999999995,
          43.66506666666666,
          43.843333333333334,
          44.0216,
          44.199866666666665,
          44.37813333333333,
          44.5564,
          44.73466666666666,
          44.912933333333335,
          45.09119999999999,
          45.269466666666666,
          45.44773333333333,
          45.626,
          45.80426666666666,
          45.98253333333333,
          46.160799999999995,
          46.33906666666667,
          46.51733333333333,
          46.6956,
          46.873866666666665,
          47.05213333333333,
          47.2304,
          47.40866666666666,
          47.586933333333334,
          47.76519999999999,
          47.943466666666666,
          48.12173333333333,
          48.3,
          48.47826666666666,
          48.65653333333333,
          48.834799999999994,
          49.01306666666667,
          49.191333333333326,
          49.3696,
          49.547866666666664,
          49.72613333333333,
          49.9044,
          50.08266666666666,
          50.260933333333334,
          50.43919999999999,
          50.617466666666665,
          50.79573333333333,
          50.974,
          51.15226666666666,
          51.33053333333333,
          51.508799999999994,
          51.68706666666667,
          51.865333333333325,
          52.0436,
          52.221866666666656,
          52.40013333333333,
          52.5784,
          52.75666666666666,
          52.93493333333333,
          53.1132,
          53.291466666666665,
          53.46973333333333,
          53.647999999999996,
          53.82626666666666,
          54.004533333333335,
          54.18279999999999,
          54.361066666666666,
          54.539333333333325,
          54.7176,
          54.89586666666666,
          55.07413333333333,
          55.2524,
          55.43066666666666,
          55.60893333333333,
          55.7872,
          55.965466666666664,
          56.14373333333333,
          56.321999999999996,
          56.50026666666666,
          56.678533333333334,
          56.85679999999999,
          57.035066666666665,
          57.213333333333324,
          57.3916,
          57.56986666666666,
          57.74813333333333,
          57.9264,
          58.10466666666666,
          58.28293333333333,
          58.4612,
          58.639466666666664,
          58.81773333333333,
          58.995999999999995,
          59.17426666666666,
          59.352533333333334,
          59.53079999999999,
          59.709066666666665,
          59.88733333333332,
          60.065599999999996,
          60.24386666666666,
          60.42213333333333,
          60.60039999999999,
          60.778666666666666,
          60.95693333333333,
          61.1352,
          61.31346666666666,
          61.49173333333333,
          61.67,
          61.84826666666666,
          62.02653333333333,
          62.20479999999999,
          62.383066666666664,
          62.56133333333333,
          62.739599999999996,
          62.91786666666666,
          63.09613333333333,
          63.27439999999999,
          63.452666666666666,
          63.630933333333324,
          63.8092,
          63.98746666666666,
          64.16573333333332,
          64.344,
          64.52226666666665,
          64.70053333333333,
          64.87879999999998,
          65.05706666666666,
          65.23533333333333,
          65.41359999999999,
          65.59186666666666,
          65.77013333333332,
          65.94839999999999,
          66.12666666666667,
          66.30493333333332,
          66.4832,
          66.66146666666666,
          66.83973333333333,
          67.018,
          67.19626666666666,
          67.37453333333333,
          67.55279999999999,
          67.73106666666666,
          67.90933333333332,
          68.0876,
          68.26586666666665,
          68.44413333333333,
          68.6224,
          68.80066666666666,
          68.97893333333333,
          69.15719999999999,
          69.33546666666666,
          69.51373333333333,
          69.692,
          69.87026666666667,
          70.04853333333332,
          70.2268,
          70.40506666666666,
          70.58333333333333,
          70.7616,
          70.93986666666666,
          71.11813333333332,
          71.2964,
          71.47466666666666,
          71.65293333333332,
          71.83119999999998,
          72.00946666666667,
          72.18773333333333,
          72.36599999999999,
          72.54426666666667,
          72.72253333333333,
          72.90079999999999,
          73.07906666666666,
          73.25733333333334,
          73.4356,
          73.61386666666667,
          73.79213333333333,
          73.9704,
          74.14866666666666,
          74.32693333333333,
          74.50519999999999,
          74.68346666666666,
          74.86173333333333,
          75.03999999999999,
          75.21826666666666,
          75.39653333333334,
          75.5748,
          75.75306666666665,
          75.93133333333333,
          76.1096,
          76.28786666666666,
          76.46613333333332,
          76.6444,
          76.82266666666666,
          77.00093333333332,
          77.1792,
          77.35746666666667,
          77.53573333333333,
          77.71399999999998,
          77.89226666666666,
          78.07053333333333,
          78.24879999999999,
          78.42706666666666,
          78.60533333333333,
          78.78359999999999,
          78.96186666666667,
          79.14013333333332,
          79.3184,
          79.49666666666667,
          79.67493333333333,
          79.85319999999999,
          80.03146666666666,
          80.20973333333333,
          80.38799999999999,
          80.56626666666665,
          80.74453333333334,
          80.9228,
          81.10106666666665,
          81.27933333333334,
          81.4576,
          81.63586666666666,
          81.81413333333332,
          81.9924,
          82.17066666666666,
          82.34893333333332,
          82.5272,
          82.70546666666667,
          82.88373333333332,
          83.062,
          83.24026666666666,
          83.41853333333333,
          83.59679999999999,
          83.77506666666666,
          83.95333333333333,
          84.13159999999999,
          84.30986666666666,
          84.48813333333332,
          84.6664,
          84.84466666666667,
          85.02293333333333,
          85.20119999999999,
          85.37946666666666,
          85.55773333333333,
          85.73599999999999,
          85.91426666666665,
          86.09253333333334,
          86.2708,
          86.44906666666665,
          86.62733333333334,
          86.8056,
          86.98386666666666,
          87.16213333333333,
          87.3404,
          87.51866666666666,
          87.69693333333332,
          87.87519999999999,
          88.05346666666667,
          88.23173333333332,
          88.41,
          88.58826666666666,
          88.76653333333333,
          88.9448,
          89.12306666666666,
          89.30133333333333,
          89.47959999999999,
          89.65786666666666,
          89.83613333333332,
          90.0144,
          90.19266666666667,
          90.37093333333333,
          90.54919999999998,
          90.72746666666667,
          90.90573333333333,
          91.08399999999999,
          91.26226666666665,
          91.44053333333333,
          91.6188,
          91.79706666666665,
          91.97533333333332,
          92.1536,
          92.33186666666666,
          92.51013333333333,
          92.6884
         ],
         "xaxis": "x",
         "y": [
          0.1928601244279774,
          0.19875400333930313,
          0.20465063770814734,
          0.2105406090442989,
          0.21641433068667038,
          0.22226207841731715,
          0.22807402221679596,
          0.23384025900891667,
          0.23955084623456996,
          0.24519583608698442,
          0.250765310234547,
          0.25624941485223274,
          0.2616383957788376,
          0.266922633614575,
          0.2720926785722635,
          0.2771392848952665,
          0.2820534446566107,
          0.28682642075623443,
          0.29144977893716567,
          0.29591541864649246,
          0.3002156025733147,
          0.3043429847033239,
          0.3082906367382772,
          0.31205207273827285,
          0.31562127185537076,
          0.3189926990386477,
          0.3221613236031015,
          0.325122635567912,
          0.3278726596832149,
          0.3304079670787715,
          0.3327256844824903,
          0.33482350097166264,
          0.3366996722348531,
          0.3383530223375131,
          0.3397829429995097,
          0.3409893904076854,
          0.34197287960125433,
          0.3427344764821485,
          0.34327578751625615,
          0.3435989472047574,
          0.34370660341735854,
          0.3436019006910623,
          0.3432884616091324,
          0.3427703663850036,
          0.3420521307850384,
          0.341138682532127,
          0.3400353363391783,
          0.33874776772746,
          0.3372819857895364,
          0.33564430506016757,
          0.33384131666098765,
          0.33187985888603144,
          0.32976698739531674,
          0.32750994518260956,
          0.3251161324813689,
          0.32259307676958165,
          0.31994840302992444,
          0.3171898044163798,
          0.31432501347221997,
          0.31136177403716575,
          0.3083078139736284,
          0.30517081883334096,
          0.3019584065764109,
          0.29867810344501644,
          0.295337321083703,
          0.29194333498756103,
          0.28850326434865176,
          0.2850240533599067,
          0.2815124540245174,
          0.27797501050759443,
          0.27441804505575873,
          0.2708476454993335,
          0.26726965434113026,
          0.26368965942543693,
          0.2601129861708681,
          0.256544691341265,
          0.2529895583199122,
          0.2494520938440244,
          0.24593652614876285,
          0.24244680446311578,
          0.23898659979368703,
          0.23555930692700683,
          0.23216804757622345,
          0.2288156745941622,
          0.22550477717159148,
          0.22223768693719198,
          0.21901648487418224,
          0.21584300896773143,
          0.21271886249720426,
          0.20964542288792842,
          0.20662385103841824,
          0.20365510104089862,
          0.20073993021543293,
          0.19787890938091776,
          0.1950724332896561,
          0.19232073115604364,
          0.1896238772140913,
          0.18698180124295966,
          0.18439429900437151,
          0.1818610425406092,
          0.1793815902867536,
          0.17695539695582005,
          0.17458182316042647,
          0.17226014473956336,
          0.16998956176384594,
          0.16776920719730426,
          0.16559815519823395,
          0.1634754290458816,
          0.1614000086837309,
          0.15937083787385867,
          0.1573868309602393,
          0.15544687924196113,
          0.15354985696007958,
          0.1516946269042564,
          0.14988004564743,
          0.14810496841852766,
          0.14636825362467026,
          0.14466876703546094,
          0.14300538564278897,
          0.14137700121014496,
          0.13978252352576723,
          0.13822088337401423,
          0.13669103523923737,
          0.1351919597561382,
          0.13372266592012216,
          0.1322821930705961,
          0.1308696126594665,
          0.12948402981634416,
          0.12812458472115423,
          0.126790453794024,
          0.12548085071148216,
          0.12419502725718731,
          0.1229322740146197,
          0.12169192090843396,
          0.12047333760049597,
          0.1192759337460328,
          0.11809915911480404,
          0.11694250358176939,
          0.11580549699139499,
          0.1146877088994922,
          0.11358874819631623,
          0.11250826261460467,
          0.11144593812622601,
          0.1104014982312237,
          0.10937470314318323,
          0.10836534887508346,
          0.10737326623005947,
          0.10639831970181203,
          0.10544040628974606,
          0.10449945423426735,
          0.10357542167803652,
          0.10266829525933475,
          0.10177808864403366,
          0.10090484100298538,
          0.10004861544192414,
          0.09920949739120792,
          0.09838759296292188,
          0.09758302728298439,
          0.0967959428059696,
          0.09602649762035544,
          0.0952748637518345,
          0.0945412254721808,
          0.09382577762094889,
          0.09312872394699219,
          0.0924502754764265,
          0.09179064891323635,
          0.0911500650782317,
          0.09052874739150625,
          0.08992692040294692,
          0.08934480837468595,
          0.08878263391869606,
          0.0882406166919998,
          0.08771897215121174,
          0.08721791036736604,
          0.08673763490120277,
          0.08627834173831798,
          0.08584021828281482,
          0.08542344240735658,
          0.08502818155681129,
          0.08465459190200186,
          0.08430281753945948,
          0.08397298973250701,
          0.08366522618850158,
          0.08337963036663884,
          0.08311629081037249,
          0.08287528049824534,
          0.08265665620675919,
          0.08246045787884065,
          0.08228670799149239,
          0.08213541091635113,
          0.0820065522671174,
          0.0819000982281668,
          0.08181599485910446,
          0.08175416737058168,
          0.08171451936734965,
          0.08169693205527706,
          0.0817012634099028,
          0.08172734730502051,
          0.08177499260079225,
          0.08184398219195796,
          0.08193407201782629,
          0.08204499003689741,
          0.08217643517016693,
          0.08232807621836546,
          0.08249955075960817,
          0.08269046403512761,
          0.08290038783193628,
          0.08312885937239674,
          0.08337538022174773,
          0.08363941522563104,
          0.08392039149057026,
          0.08421769742115626,
          0.08453068182837611,
          0.08485865312407649,
          0.08520087861696182,
          0.08555658392578247,
          0.08592495252546473,
          0.0863051254418511,
          0.08669620111047668,
          0.08709723541436531,
          0.08750724191522372,
          0.08792519229161341,
          0.08835001699670958,
          0.08878060614710562,
          0.08921581065281523,
          0.08965444359713741,
          0.09009528187344076,
          0.0905370680841537,
          0.09097851270537427,
          0.0914182965185176,
          0.09185507330835374,
          0.09228747282462957,
          0.09271410400227512,
          0.0931335584329697,
          0.09354441407859342,
          0.09394523921486748,
          0.09433459659129206,
          0.09471104779133975,
          0.0950731577748061,
          0.0954194995822364,
          0.09574865917949538,
          0.09605924041882025,
          0.09634987009112395,
          0.09661920304290617,
          0.09686592732990655,
          0.09708876937859837,
          0.09728649912579719,
          0.0974579351060427,
          0.09760194945602428,
          0.09771747280514981,
          0.09780349902143202,
          0.09785908978215346,
          0.09788337893930633,
          0.09787557665055589,
          0.09783497324745767,
          0.09776094281385177,
          0.09765294644877107,
          0.09751053518979635,
          0.09733335257459674,
          0.09712113682035342,
          0.0968737226029069,
          0.09659104241973833,
          0.09627312752331577,
          0.09592010841385012,
          0.09553221488313723,
          0.09510977560385417,
          0.0946532172614431,
          0.09416306322851177,
          0.09363993178450179,
          0.09308453388620448,
          0.09249767049750195,
          0.09188022948948629,
          0.0912331821248241,
          0.09055757914287156,
          0.08985454646459576,
          0.0891252805387948,
          0.08837104335342255,
          0.08759315713799577,
          0.08679299878506443,
          0.08597199402057638,
          0.08513161135460941,
          0.0842733558454063,
          0.08339876271088897,
          0.08250939082285871,
          0.08160681611987905,
          0.0806926249754168,
          0.07976840755812395,
          0.07883575122123612,
          0.07789623395788749,
          0.07695141795873545,
          0.07600284330762362,
          0.07505202185010962,
          0.07410043126854944,
          0.07314950939604678,
          0.0722006487999916,
          0.07125519166409426,
          0.07031442499581757,
          0.06937957618390879,
          0.06845180892836467,
          0.067532219562639,
          0.0666218337852415,
          0.06572160381509641,
          0.06483240598215907,
          0.0639550387618376,
          0.06309022125877004,
          0.062238592142480904,
          0.061400709034410805,
          0.06057704834280377,
          0.05976800553897392,
          0.05897389586557775,
          0.05819495546471555,
          0.05743134291099947,
          0.05668314113217662,
          0.05595035969750388,
          0.05523293745185649,
          0.05453074547153708,
          0.053843590315940666,
          0.05317121754765183,
          0.05251331549220244,
          0.05186951920762124,
          0.051239414633059394,
          0.05062254288518864,
          0.050018404670739786,
          0.0494264647834848,
          0.04884615665414843,
          0.04827688692217959,
          0.047718039998993426,
          0.0471689825932097,
          0.04662906816954978,
          0.046097641314396406,
          0.045574041982548816,
          0.04505760960141131,
          0.04454768701070377,
          0.04404362421776967,
          0.043544781950649605,
          0.04305053499326899,
          0.04256027528933477,
          0.04207341480381897,
          0.04158938813321252,
          0.04110765485803008,
          0.04062770163331865,
          0.040149044015149016,
          0.03967122802322212,
          0.039193831441795474,
          0.03871646486309872,
          0.0382387724792538,
          0.03776043263042837,
          0.03728115811851686,
          0.03680069629705497,
          0.03631882894932164,
          0.03583537196765667,
          0.03535017484792946,
          0.034863120013817896,
          0.03437412198611248,
          0.03388312641263458,
          0.03339010897457048,
          0.03289507418506418,
          0.03239805409580065,
          0.031899106927050856,
          0.03139831563624937,
          0.03089578643965095,
          0.03039164730096858,
          0.029886046400156088,
          0.029379150594660702,
          0.028871143884570193,
          0.028362225892105474,
          0.027852610364900447,
          0.027342523711461654,
          0.02683220357613511,
          0.026321897459840312,
          0.025811861391765514,
          0.02530235865617826,
          0.024793658577493587,
          0.024286035365771796,
          0.02377976702390065,
          0.02327513431685664,
          0.022772419802649848,
          0.022271906923836026,
          0.021773879157839397,
          0.021278619223771222,
          0.020786408342952385,
          0.0202975255499593,
          0.019812247050710694,
          0.019330845623891955,
          0.018853590061880247,
          0.018380744647278253,
          0.01791256866118671,
          0.017449315919439802,
          0.01699123433318662,
          0.01653856549042636,
          0.01609154425537678,
          0.015650398382880244,
          0.015215348145413001,
          0.014786605970658135,
          0.01436437608802019,
          0.013948854182895765,
          0.013540227057956208,
          0.013138672301144752,
          0.012744357960526066,
          0.012357442226552063,
          0.011978073122709484,
          0.011606388205892194,
          0.011242514278185047,
          0.010886567112050834,
          0.010538651191176742,
          0.010198859469453396,
          0.009867273150727138,
          0.009543961492082696,
          0.009228981633475684,
          0.008922378456543348,
          0.008624184475375829,
          0.008334419761929984,
          0.008053091908618248,
          0.007780196030401495,
          0.007515714808467211,
          0.00725961857728181,
          0.00701186545647446,
          0.006772401528642374,
          0.0065411610637713434,
          0.006318066790544195,
          0.00610303021436993,
          0.0058959519815141165,
          0.00569672228825206,
          0.005505221333507812,
          0.005321319812988386,
          0.005144879452382763,
          0.00497575357677213,
          0.004813787713000055,
          0.004658820221382266,
          0.004510682952801544,
          0.004369201926938166,
          0.004234198027134817,
          0.004105487707190194,
          0.003982883705220393,
          0.003866195759624337,
          0.0037552313221408716,
          0.003649796262990462,
          0.0035496955631549748,
          0.003454733988964612,
          0.0033647167443289537,
          0.0032794500961693704,
          0.003198741968878458,
          0.003122402503947586,
          0.0030502445812598234,
          0.0029820842989408637,
          0.0029177414090884573,
          0.0028570397071572416,
          0.0027998073732546447,
          0.0027458772640996457,
          0.0026950871549030445,
          0.0026472799309398293,
          0.0026023037290952055,
          0.002560012030169456,
          0.002520263703217695,
          0.0024829230036719756,
          0.0024478595274411642,
          0.002414948123601541,
          0.0023840687686750837,
          0.002355106405837278,
          0.0023279507526991136,
          0.0023024960815648814,
          0.0022786409762760077,
          0.0022562880699095616,
          0.0022353437677063224,
          0.0022157179596572745,
          0.0021973237271785268,
          0.002180077048253769,
          0.002163896505321306,
          0.0021487030000320274,
          0.0021344194788066617,
          0.0021209706728794755,
          0.0021082828562337974,
          0.002096283624516834,
          0.0020849016976713006,
          0.002074066748644241,
          0.0020637092601340098,
          0.0020537604109199126,
          0.0020441519928907715,
          0.002034816359454292,
          0.0020256864055737327,
          0.0020166955792475837,
          0.002007777923826943,
          0.0019988681501589343,
          0.001989901737157876,
          0.0019808150590431136,
          0.0019715455371479332,
          0.001962031813900994,
          0.001952213946313921,
          0.001942033616078477,
          0.0019314343531863117,
          0.001920361769835525,
          0.0019087638012819912,
          0.0018965909502303081,
          0.0018837965313392164,
          0.001870336912438992,
          0.0018561717491222336,
          0.0018412642094735479,
          0.0018255811858452378,
          0.0018090934907632143,
          0.0017917760342568713
         ],
         "yaxis": "y"
        },
        {
         "legendgroup": "问题解决",
         "marker": {
          "color": "rgb(255, 127, 14)"
         },
         "mode": "lines",
         "name": "问题解决",
         "showlegend": false,
         "type": "scatter",
         "x": [
          1.0833333333333333,
          1.1919666666666666,
          1.3006,
          1.4092333333333333,
          1.5178666666666665,
          1.6264999999999998,
          1.7351333333333332,
          1.8437666666666666,
          1.9524,
          2.061033333333333,
          2.169666666666666,
          2.2782999999999998,
          2.3869333333333334,
          2.4955666666666665,
          2.6041999999999996,
          2.712833333333333,
          2.821466666666667,
          2.9300999999999995,
          3.038733333333333,
          3.1473666666666666,
          3.2559999999999993,
          3.364633333333333,
          3.4732666666666665,
          3.5819,
          3.6905333333333328,
          3.7991666666666664,
          3.9078,
          4.0164333333333335,
          4.125066666666666,
          4.2337,
          4.342333333333333,
          4.450966666666666,
          4.5596,
          4.668233333333333,
          4.776866666666666,
          4.8854999999999995,
          4.994133333333333,
          5.102766666666666,
          5.211399999999999,
          5.320033333333333,
          5.428666666666666,
          5.537299999999999,
          5.645933333333333,
          5.7545666666666655,
          5.8632,
          5.971833333333333,
          6.080466666666666,
          6.1891,
          6.2977333333333325,
          6.406366666666666,
          6.514999999999999,
          6.623633333333332,
          6.732266666666666,
          6.8408999999999995,
          6.949533333333333,
          7.058166666666666,
          7.166799999999999,
          7.275433333333332,
          7.384066666666666,
          7.492699999999999,
          7.601333333333333,
          7.709966666666666,
          7.818599999999999,
          7.927233333333333,
          8.035866666666667,
          8.144499999999999,
          8.253133333333333,
          8.361766666666666,
          8.4704,
          8.579033333333333,
          8.687666666666667,
          8.7963,
          8.904933333333332,
          9.013566666666666,
          9.1222,
          9.230833333333333,
          9.339466666666667,
          9.4481,
          9.556733333333334,
          9.665366666666667,
          9.774,
          9.882633333333333,
          9.991266666666666,
          10.0999,
          10.208533333333333,
          10.317166666666665,
          10.425799999999999,
          10.534433333333332,
          10.643066666666668,
          10.751700000000001,
          10.860333333333333,
          10.968966666666667,
          11.0776,
          11.186233333333334,
          11.294866666666667,
          11.4035,
          11.512133333333333,
          11.620766666666666,
          11.7294,
          11.838033333333334,
          11.946666666666665,
          12.055299999999999,
          12.163933333333333,
          12.272566666666666,
          12.3812,
          12.489833333333333,
          12.598466666666667,
          12.7071,
          12.815733333333334,
          12.924366666666666,
          13.033,
          13.141633333333333,
          13.250266666666667,
          13.3589,
          13.467533333333332,
          13.576166666666666,
          13.6848,
          13.793433333333333,
          13.902066666666666,
          14.010699999999998,
          14.119333333333334,
          14.227966666666667,
          14.3366,
          14.445233333333334,
          14.553866666666666,
          14.6625,
          14.771133333333333,
          14.879766666666667,
          14.9884,
          15.097033333333332,
          15.205666666666666,
          15.3143,
          15.422933333333333,
          15.531566666666667,
          15.640199999999998,
          15.748833333333332,
          15.857466666666665,
          15.9661,
          16.074733333333334,
          16.183366666666664,
          16.291999999999998,
          16.40063333333333,
          16.509266666666665,
          16.6179,
          16.726533333333332,
          16.835166666666666,
          16.9438,
          17.052433333333333,
          17.161066666666663,
          17.269699999999997,
          17.37833333333333,
          17.486966666666664,
          17.595599999999997,
          17.70423333333333,
          17.812866666666665,
          17.921499999999995,
          18.030133333333332,
          18.138766666666662,
          18.2474,
          18.35603333333333,
          18.464666666666663,
          18.5733,
          18.68193333333333,
          18.790566666666667,
          18.899199999999997,
          19.00783333333333,
          19.116466666666664,
          19.225099999999998,
          19.33373333333333,
          19.442366666666665,
          19.550999999999995,
          19.659633333333332,
          19.768266666666662,
          19.8769,
          19.98553333333333,
          20.094166666666663,
          20.2028,
          20.31143333333333,
          20.420066666666667,
          20.528699999999997,
          20.63733333333333,
          20.745966666666664,
          20.854599999999998,
          20.96323333333333,
          21.071866666666665,
          21.180499999999995,
          21.289133333333332,
          21.397766666666662,
          21.5064,
          21.61503333333333,
          21.723666666666663,
          21.832299999999996,
          21.94093333333333,
          22.049566666666667,
          22.158199999999997,
          22.26683333333333,
          22.375466666666664,
          22.484099999999998,
          22.59273333333333,
          22.701366666666665,
          22.809999999999995,
          22.918633333333332,
          23.027266666666662,
          23.1359,
          23.24453333333333,
          23.353166666666663,
          23.461799999999997,
          23.57043333333333,
          23.679066666666664,
          23.787699999999997,
          23.89633333333333,
          24.004966666666665,
          24.113599999999998,
          24.22223333333333,
          24.330866666666665,
          24.439499999999995,
          24.548133333333332,
          24.656766666666663,
          24.765399999999996,
          24.87403333333333,
          24.982666666666663,
          25.091299999999997,
          25.19993333333333,
          25.30856666666666,
          25.417199999999998,
          25.52583333333333,
          25.634466666666665,
          25.7431,
          25.85173333333333,
          25.960366666666665,
          26.068999999999996,
          26.177633333333333,
          26.286266666666663,
          26.394899999999996,
          26.50353333333333,
          26.612166666666663,
          26.720799999999997,
          26.82943333333333,
          26.93806666666666,
          27.046699999999998,
          27.15533333333333,
          27.263966666666665,
          27.3726,
          27.48123333333333,
          27.589866666666666,
          27.698499999999996,
          27.807133333333333,
          27.915766666666663,
          28.024399999999996,
          28.13303333333333,
          28.241666666666664,
          28.350299999999997,
          28.45893333333333,
          28.56756666666666,
          28.676199999999998,
          28.784833333333328,
          28.893466666666665,
          29.0021,
          29.11073333333333,
          29.219366666666666,
          29.327999999999996,
          29.436633333333333,
          29.545266666666663,
          29.653899999999997,
          29.76253333333333,
          29.871166666666664,
          29.979799999999997,
          30.08843333333333,
          30.19706666666666,
          30.305699999999998,
          30.414333333333328,
          30.522966666666665,
          30.631599999999995,
          30.74023333333333,
          30.848866666666666,
          30.957499999999996,
          31.066133333333333,
          31.174766666666663,
          31.283399999999997,
          31.39203333333333,
          31.500666666666664,
          31.609299999999994,
          31.71793333333333,
          31.82656666666666,
          31.9352,
          32.04383333333333,
          32.15246666666666,
          32.2611,
          32.36973333333333,
          32.478366666666666,
          32.586999999999996,
          32.69563333333333,
          32.80426666666666,
          32.9129,
          33.02153333333333,
          33.13016666666667,
          33.2388,
          33.347433333333335,
          33.456066666666665,
          33.5647,
          33.67333333333333,
          33.78196666666667,
          33.8906,
          33.99923333333333,
          34.107866666666666,
          34.2165,
          34.32513333333333,
          34.43376666666667,
          34.5424,
          34.65103333333333,
          34.75966666666666,
          34.868300000000005,
          34.976933333333335,
          35.085566666666665,
          35.194199999999995,
          35.30283333333333,
          35.41146666666667,
          35.5201,
          35.62873333333333,
          35.73736666666667,
          35.846,
          35.954633333333334,
          36.06326666666667,
          36.1719,
          36.28053333333333,
          36.38916666666666,
          36.497800000000005,
          36.606433333333335,
          36.715066666666665,
          36.823699999999995,
          36.93233333333333,
          37.04096666666667,
          37.1496,
          37.25823333333333,
          37.36686666666667,
          37.4755,
          37.584133333333334,
          37.69276666666667,
          37.8014,
          37.91003333333333,
          38.01866666666666,
          38.127300000000005,
          38.235933333333335,
          38.344566666666665,
          38.453199999999995,
          38.56183333333333,
          38.67046666666667,
          38.7791,
          38.88773333333333,
          38.99636666666667,
          39.105,
          39.213633333333334,
          39.32226666666667,
          39.4309,
          39.53953333333333,
          39.64816666666666,
          39.756800000000005,
          39.865433333333335,
          39.974066666666666,
          40.082699999999996,
          40.19133333333333,
          40.29996666666667,
          40.4086,
          40.51723333333333,
          40.62586666666667,
          40.7345,
          40.843133333333334,
          40.951766666666664,
          41.0604,
          41.16903333333333,
          41.27766666666666,
          41.386300000000006,
          41.494933333333336,
          41.603566666666666,
          41.712199999999996,
          41.82083333333333,
          41.92946666666667,
          42.0381,
          42.14673333333333,
          42.25536666666667,
          42.364,
          42.472633333333334,
          42.581266666666664,
          42.6899,
          42.79853333333333,
          42.90716666666666,
          43.015800000000006,
          43.124433333333336,
          43.233066666666666,
          43.341699999999996,
          43.45033333333333,
          43.55896666666667,
          43.6676,
          43.77623333333333,
          43.88486666666667,
          43.9935,
          44.102133333333335,
          44.210766666666665,
          44.3194,
          44.42803333333333,
          44.53666666666666,
          44.645300000000006,
          44.753933333333336,
          44.862566666666666,
          44.971199999999996,
          45.07983333333333,
          45.18846666666667,
          45.2971,
          45.40573333333333,
          45.51436666666667,
          45.623,
          45.731633333333335,
          45.840266666666665,
          45.9489,
          46.05753333333333,
          46.16616666666666,
          46.2748,
          46.383433333333336,
          46.492066666666666,
          46.600699999999996,
          46.70933333333333,
          46.81796666666667,
          46.9266,
          47.03523333333333,
          47.14386666666667,
          47.2525,
          47.361133333333335,
          47.469766666666665,
          47.5784,
          47.68703333333333,
          47.79566666666666,
          47.90429999999999,
          48.012933333333336,
          48.121566666666666,
          48.230199999999996,
          48.33883333333333,
          48.447466666666664,
          48.5561,
          48.66473333333333,
          48.77336666666667,
          48.882,
          48.99063333333333,
          49.099266666666665,
          49.2079,
          49.31653333333333,
          49.42516666666666,
          49.53379999999999,
          49.64243333333334,
          49.75106666666667,
          49.8597,
          49.968333333333334,
          50.076966666666664,
          50.1856,
          50.29423333333333,
          50.40286666666667,
          50.5115,
          50.62013333333333,
          50.728766666666665,
          50.8374,
          50.94603333333333,
          51.05466666666666,
          51.16329999999999,
          51.27193333333334,
          51.38056666666667,
          51.4892,
          51.597833333333334,
          51.706466666666664,
          51.8151,
          51.92373333333333,
          52.03236666666667,
          52.141,
          52.24963333333333,
          52.358266666666665,
          52.4669,
          52.57553333333333,
          52.68416666666666,
          52.79279999999999,
          52.90143333333334,
          53.01006666666667,
          53.1187,
          53.227333333333334,
          53.335966666666664,
          53.4446,
          53.55323333333333,
          53.66186666666667,
          53.7705,
          53.87913333333333,
          53.987766666666666,
          54.0964,
          54.20503333333333,
          54.31366666666666,
          54.42229999999999,
          54.53093333333334,
          54.63956666666667,
          54.7482,
          54.85683333333333,
          54.965466666666664,
          55.0741,
          55.18273333333333,
          55.29136666666667
         ],
         "xaxis": "x",
         "y": [
          0.17165765964429486,
          0.17749679219242193,
          0.18341092095800343,
          0.18939504677205082,
          0.19544392790656745,
          0.20155208878979225,
          0.2077138296672458,
          0.21392323718614117,
          0.22017419587612885,
          0.22646040049487048,
          0.23277536920257744,
          0.23911245752545165,
          0.24546487306395362,
          0.2518256908980005,
          0.25818786963762186,
          0.26454426806426234,
          0.27088766230484873,
          0.2772107634779576,
          0.2835062357489405,
          0.289766714728687,
          0.2959848261488573,
          0.3021532047449112,
          0.3082645132770667,
          0.31431146161849866,
          0.320286825839582,
          0.32618346721684743,
          0.33199435109548864,
          0.3377125655347951,
          0.34333133966674145,
          0.3488440616991085,
          0.3542442964960249,
          0.3595258026705702,
          0.36468254912615466,
          0.36970873098570417,
          0.37459878485029635,
          0.3793474033316663,
          0.38394954880608345,
          0.3884004663403239,
          0.39269569574387986,
          0.39683108270515555,
          0.40080278897311333,
          0.40460730154970714,
          0.4082414408623898,
          0.4117023678900547,
          0.41498759021986803,
          0.4180949670166402,
          0.421022712890585,
          0.4237694006535139,
          0.4263339629577688,
          0.428715692816354,
          0.43091424300692316,
          0.43292962436638205,
          0.43476220298691204,
          0.43641269632822055,
          0.4378821682646816,
          0.43917202308983877,
          0.44028399850439537,
          0.44122015761737715,
          0.44198287999355035,
          0.44257485178346256,
          0.4429990549755503,
          0.44325875581275437,
          0.443357492418816,
          0.4432990616820438,
          0.44308750544676934,
          0.4427270960648872,
          0.4422223213619365,
          0.44157786907397134,
          0.4407986108130737,
          0.4398895856207612,
          0.4388559831697089,
          0.43770312667513056,
          0.4364364555779191,
          0.4350615080621024,
          0.4335839034694532,
          0.4320093246740918,
          0.4303435004797346,
          0.4285921881017873,
          0.42676115579579404,
          0.4248561656928562,
          0.42288295690149014,
          0.4208472289340199,
          0.4187546255140128,
          0.41661071881944983,
          0.41442099421429407,
          0.412190835518911,
          0.4099255108673186,
          0.40763015919667467,
          0.40530977741156743,
          0.40296920826271887,
          0.40061312897657125,
          0.39824604066896074,
          0.3958722585726499,
          0.39349590310498067,
          0.3911208917982611,
          0.3887509321117872,
          0.3863895151406034,
          0.38403991023225703,
          0.3817051605189402,
          0.37938807936847285,
          0.37709124775374187,
          0.3748170125362721,
          0.37256748565581965,
          0.3703445442140712,
          0.3681498314368387,
          0.36598475849554735,
          0.36385050716530787,
          0.361748033293537,
          0.3596780710498586,
          0.35764113792501184,
          0.35563754044363155,
          0.35366738055310926,
          0.35173056264832947,
          0.34982680118983833,
          0.347955628871052,
          0.3461164052883842,
          0.3443083260666816,
          0.342530432391184,
          0.3407816208962623,
          0.3390606538605294,
          0.33736616965752964,
          0.33569669341108893,
          0.33405064780455085,
          0.332426363993561,
          0.3308220925727217,
          0.3292360145473808,
          0.32766625226300744,
          0.32611088024599727,
          0.3245679359114089,
          0.3230354300949603,
          0.3215113573686508,
          0.3199937061015975,
          0.3184804682300193,
          0.3169696487028376,
          0.3154592745719658,
          0.31394740369910246,
          0.31243213305364465,
          0.31091160657919614,
          0.3093840226090473,
          0.30784764081392285,
          0.3063007886681994,
          0.30474186742367454,
          0.3031693575828196,
          0.30158182386621074,
          0.2999779196715271,
          0.29835639102411293,
          0.2967160800215551,
          0.2950559277771036,
          0.29337497686895486,
          0.29167237330449036,
          0.2899473680104568,
          0.28819931786179903,
          0.28642768626343884,
          0.2846320433006356,
          0.2828120654748202,
          0.2809675350427683,
          0.27909833897786457,
          0.2772044675728708,
          0.275286012704125,
          0.27334316577744594,
          0.27137621537621065,
          0.26938554463213715,
          0.26737162833921546,
          0.26533502983102725,
          0.2632763976414031,
          0.26119646196793905,
          0.25909603095743017,
          0.25697598683170353,
          0.25483728187173643,
          0.25268093427728555,
          0.25050802391857535,
          0.24831968799589568,
          0.2461171166222555,
          0.24390154834354943,
          0.24167426561001776,
          0.23943659021212438,
          0.23718987869337366,
          0.23493551775200935,
          0.23267491964300369,
          0.23040951759129735,
          0.22814076122679589,
          0.22587011205130345,
          0.22359903894723,
          0.2213290137376907,
          0.2190615068073831,
          0.21679798279350598,
          0.21453989635585163,
          0.21228868803515777,
          0.21004578020873774,
          0.20781257315242874,
          0.20559044121787187,
          0.20338072913416633,
          0.2011847484429385,
          0.19900377407587633,
          0.19683904108375377,
          0.19469174152592153,
          0.19256302152917276,
          0.1904539785247425,
          0.18836565867204103,
          0.18629905447747938,
          0.18425510261643646,
          0.1822346819660581,
          0.18023861185612877,
          0.17826765054473195,
          0.17632249392482838,
          0.17440377446718425,
          0.17251206040434233,
          0.1706478551594774,
          0.16881159702307996,
          0.16700365907942005,
          0.1652243493837014,
          0.16347391138971282,
          0.1617525246266074,
          0.16006030562225895,
          0.1583973090693795,
          0.15676352922933154,
          0.15515890156727272,
          0.15358330461098677,
          0.1520365620244629,
          0.15051844488602453,
          0.14902867415955673,
          0.14756692334618898,
          0.1461328213026332,
          0.1447259552112885,
          0.14334587368620777,
          0.14199208999809,
          0.14066408540061612,
          0.13936131253971404,
          0.1380831989267089,
          0.13682915045580016,
          0.1355985549459347,
          0.1343907856868775,
          0.13320520496917396,
          0.132041167577713,
          0.13089802422876504,
          0.129775124930671,
          0.12867182224880458,
          0.1275874744560292,
          0.12652144855058026,
          0.12547312312418704,
          0.12444189106422568,
          0.12342716207482876,
          0.12242836500310411,
          0.12144494995796577,
          0.12047639021053345,
          0.11952218386658879,
          0.1185818553031977,
          0.11765495636330363,
          0.11674106730382558,
          0.1158397974945935,
          0.11495078586726404,
          0.1140737011151896,
          0.11320824164704696,
          0.11235413529884808,
          0.11151113881074994,
          0.110679037076824,
          0.10985764217763144,
          0.10904679220708537,
          0.1082463499065964,
          0.10745620112094885,
          0.10667625309167403,
          0.10590643260489233,
          0.10514668401167028,
          0.10439696713985933,
          0.10365725511717,
          0.10292753212584119,
          0.10220779110972668,
          0.10149803145489505,
          0.10079825666494817,
          0.10010847205220016,
          0.09942868246560392,
          0.09875889007590127,
          0.09809909223787289,
          0.09744927944880347,
          0.0968094334213524,
          0.09617952528793586,
          0.09555951395249937,
          0.09494934460419277,
          0.09434894740596013,
          0.09375823636946375,
          0.09317710842603871,
          0.0926054427015978,
          0.09204310000153593,
          0.09148992250977381,
          0.09094573370413347,
          0.09041033848826227,
          0.08988352353836271,
          0.08936505786102862,
          0.08885469355657137,
          0.08835216678035385,
          0.08785719889286506,
          0.08736949778754108,
          0.08688875938374907,
          0.08641466927084672,
          0.08594690448787695,
          0.08548513542223515,
          0.08502902780958514,
          0.08457824481639849,
          0.08413244918576485,
          0.08369130542656804,
          0.08325448202576273,
          0.08282165366329843,
          0.08239250340924817,
          0.08196672488289676,
          0.08154402435391421,
          0.08112412276630443,
          0.08070675766655136,
          0.08029168501828035,
          0.07987868088681363,
          0.07946754297820144,
          0.0790580920186453,
          0.0786501729616926,
          0.0782436560121465,
          0.07783843745729138,
          0.07743444029776712,
          0.07703161467221716,
          0.07662993807166464,
          0.07622941534142648,
          0.07583007847023952,
          0.07543198616811461,
          0.07503522323626433,
          0.07463989973421675,
          0.07424614995094607,
          0.07385413118848284,
          0.0734640223680172,
          0.07307602246993988,
          0.07269034882059923,
          0.07230723523973898,
          0.07192693006364649,
          0.0715496940599519,
          0.07117579825078267,
          0.07080552166158494,
          0.07043914901336903,
          0.0700769683764262,
          0.06971926880368678,
          0.06936633796186088,
          0.06901845977830831,
          0.06867591212125346,
          0.06833896453046447,
          0.06800787601490149,
          0.0676828929330805,
          0.06736424697102687,
          0.06705215323171182,
          0.06674680844877626,
          0.06644838933618677,
          0.0661570510842198,
          0.06587292601086475,
          0.0655961223763902,
          0.0653267233674237,
          0.06506478625548799,
          0.06481034173351835,
          0.06456339343246892,
          0.06432391761871695,
          0.06409186307160115,
          0.0638671511390971,
          0.06364967596834697,
          0.06343930490653414,
          0.06323587906643499,
          0.06303921404988996,
          0.06284910082143853,
          0.06266530672343845,
          0.06248757662316944,
          0.062315634181686494,
          0.062149183233558364,
          0.06198790926609116,
          0.06183148098620493,
          0.06167955196279781,
          0.06153176233219705,
          0.06138774055415937,
          0.06124710520583852,
          0.06110946680118689,
          0.06097442962339153,
          0.06084159355816055,
          0.060710555915973054,
          0.06058091323176941,
          0.06045226303099501,
          0.0603242055514016,
          0.06019634541056432,
          0.06006829320966618,
          0.05993966706474809,
          0.05981009405729821,
          0.05967921159676727,
          0.05954666868833078,
          0.05941212709997798,
          0.059275262423777494,
          0.059135765026951656,
          0.058993340889181095,
          0.0588477123233465,
          0.05869861857770255,
          0.05854581631825676,
          0.058389079990893336,
          0.058228202063537335,
          0.05806299314939197,
          0.0578932820129983,
          0.05771891546156424,
          0.05753975812467815,
          0.057355692126167895,
          0.05716661665248071,
          0.056972447422541345,
          0.05677311606459839,
          0.05656856940608385,
          0.05635876868298791,
          0.056143688675695795,
          0.05592331677862841,
          0.05569765201139304,
          0.05546670397945942,
          0.05523049179265256,
          0.05498904294997167,
          0.05474239219942412,
          0.05449058038168608,
          0.05423365326647804,
          0.05397166039056496,
          0.053704653906260905,
          0.05343268744923288,
          0.05315581503426009,
          0.05287408998740848,
          0.052587563922833966,
          0.05229628577211955,
          0.05200030087369484,
          0.05169965012947213,
          0.05139436923537046,
          0.05108448799188086,
          0.050770029700264785,
          0.05045101064936778,
          0.050127439697379136,
          0.049799317952178526,
          0.04946663855318485,
          0.049129386556868895,
          0.04878753892731033,
          0.04844106463238025,
          0.04808992484531649,
          0.04773407325063601,
          0.04737345645250711,
          0.047008014482883,
          0.046637681405891626,
          0.04626238601419034,
          0.045882052612226,
          0.04549660188061238,
          0.04510595181514432,
          0.044710018733316065,
          0.044308718340621896,
          0.043901966848369264,
          0.04348968213426622,
          0.043071784936630164,
          0.0426482000727319,
          0.04221885767152434,
          0.041783694410827445,
          0.04134265474893631,
          0.04089569214060389,
          0.04044277022741444,
          0.03998386399271616,
          0.03951896087151189,
          0.03904806180602274,
          0.03857118223803516,
          0.03808835302960786,
          0.037599621304260915,
          0.03710505120137568,
          0.03660472453720621,
          0.03609874136662959,
          0.03558722044053725,
          0.035070299554589034,
          0.03454813578590226,
          0.03402090561512882,
          0.03348880493226873,
          0.03295204892547808,
          0.03241087185303726,
          0.031865526699549264,
          0.031316284718323546,
          0.0307634348627692,
          0.030207283110450962,
          0.029648151684262335,
          0.029086378175916045,
          0.028522314577655417,
          0.0279563262287302,
          0.027388790683759406,
          0.02682009651061709,
          0.0262506420259179,
          0.025680833976546434,
          0.02511108617596689,
          0.024541818104261905,
          0.023973453480988234,
          0.023406418819992773,
          0.02284114197531527,
          0.022278050687211167,
          0.021717571137160427,
          0.021160126520495624,
          0.020606135644979012,
          0.020056011563298736,
          0.019510160247035484,
          0.018968979309181226,
          0.018432856781778573,
          0.017902169954695714,
          0.017377284280964366,
          0.016858552353497404,
          0.016346312957366944,
          0.015840890201179906,
          0.015342592730431452,
          0.014851713025063459,
          0.014368526782803238,
          0.013893292389219774
         ],
         "yaxis": "y"
        },
        {
         "legendgroup": "智能计算",
         "marker": {
          "color": "rgb(31, 119, 180)",
          "symbol": "line-ns-open"
         },
         "mode": "markers",
         "name": "智能计算",
         "showlegend": false,
         "type": "scatter",
         "x": [
          26.85,
          11.133333333333333,
          14.083333333333334,
          6.866666666666666,
          18.5,
          8.283333333333333,
          12,
          12.45,
          12.1,
          17.7,
          26.216666666666665,
          21.73333333333333,
          7.25,
          6.916666666666667,
          27.383333333333333,
          11.616666666666667,
          8.5,
          17.266666666666666,
          10.866666666666667,
          27,
          7.35,
          9.116666666666667,
          10.366666666666667,
          10.616666666666667,
          13.316666666666666,
          11.883333333333333,
          19.05,
          13.816666666666666,
          6.533333333333333,
          12.4,
          6.85,
          6.683333333333334,
          12.933333333333334,
          6.716666666666667,
          10.283333333333331,
          13.083333333333334,
          12.716666666666669,
          7.65,
          16.783333333333335,
          14.7,
          6.716666666666667,
          5.233333333333333,
          30,
          10.516666666666667,
          6.883333333333334,
          10.116666666666667,
          12.916666666666666,
          12.183333333333334,
          10.25,
          14.266666666666667,
          12.95,
          5.233333333333333,
          21.83333333333333,
          18.416666666666668,
          17.516666666666666,
          10.333333333333334,
          14.433333333333334,
          21.616666666666667,
          15.7,
          7.616666666666666,
          6.183333333333334,
          7.6,
          18.25,
          7.916666666666667,
          15.683333333333334,
          5.683333333333334,
          10.783333333333331,
          9.35,
          8.1,
          9.166666666666666,
          9.083333333333334,
          11.8,
          22.433333333333334,
          8.583333333333334,
          15.166666666666666,
          11.233333333333333,
          12.35,
          18.466666666666665,
          6.633333333333334,
          9.233333333333333,
          21.15,
          12.266666666666667,
          15.733333333333333,
          3.733333333333333,
          8.166666666666666,
          9.916666666666666,
          10.733333333333333,
          8.616666666666667,
          17.083333333333332,
          16.433333333333334,
          7.433333333333334,
          11.466666666666669,
          7.816666666666666,
          8.933333333333334,
          19.73333333333333,
          6.5,
          5.416666666666667,
          6.383333333333334,
          5.816666666666666,
          19.9,
          5.883333333333334,
          9.4,
          18.316666666666663,
          12.233333333333333,
          9.616666666666667,
          18.85,
          10.116666666666667,
          8.533333333333333,
          21.83333333333333,
          7.616666666666666,
          13.633333333333333,
          22.216666666666665,
          10.416666666666666,
          11.616666666666667,
          21.98333333333333,
          9.75,
          5.8,
          11.3,
          9.233333333333333,
          13.5,
          7.916666666666667,
          6.05,
          8.1,
          10.583333333333334,
          10.3,
          9.25,
          13.15,
          12.35,
          12.766666666666667,
          11.85,
          15.316666666666666,
          9.866666666666667,
          18.8,
          12.816666666666666,
          10.766666666666667,
          9.016666666666667,
          12.133333333333333,
          16.7,
          12.483333333333333,
          17.45,
          14.383333333333333,
          8.616666666666667,
          20.2,
          12.716666666666669,
          9.866666666666667,
          9.65,
          11.516666666666667,
          21.7,
          10.95,
          12.033333333333331,
          38.46666666666667,
          52.56666666666667,
          43.63333333333333,
          48.68333333333333,
          55.266666666666666,
          58.11666666666667,
          50.2,
          63.13333333333333,
          92.86666666666666,
          56.38333333333333,
          49.53333333333333,
          56.61666666666667,
          54.35,
          51.28333333333333,
          47.63333333333333,
          65.81666666666666,
          69.73333333333333,
          65.06666666666666,
          46.98333333333333,
          50.4,
          49.81666666666667,
          42.05,
          49.16666666666666,
          47.43333333333333,
          52.63333333333333,
          61.93333333333333,
          44.516666666666666,
          67.65,
          54.15,
          52.6,
          61.06666666666667,
          55.016666666666666,
          68.36666666666666,
          54.9,
          47.55,
          54.73333333333333,
          50.583333333333336,
          47.03333333333333,
          49.3,
          74.36666666666666,
          49.4,
          48.06666666666667,
          53.43333333333333,
          66.96666666666667,
          50.21666666666667,
          45.06666666666667,
          56.21666666666667,
          73.25,
          44.4,
          63.25,
          54.15,
          47.71666666666667,
          61.3,
          54.78333333333333,
          52.15,
          63.65,
          45.28333333333333,
          63.28333333333333,
          34.36666666666667,
          50.18333333333333,
          47.75,
          72.98333333333333,
          46.56666666666667,
          53.4,
          45.766666666666666,
          22.83333333333333,
          56.53333333333333,
          52.5,
          47.46666666666667,
          51.68333333333333,
          71.08333333333333,
          39.06666666666667,
          43.11666666666667,
          51.46666666666667,
          54.11666666666667,
          49.98333333333333,
          68.46666666666667,
          44.43333333333333,
          41.61666666666667,
          47.53333333333333,
          66.23333333333333,
          62.21666666666667,
          50.48333333333333,
          62.583333333333336,
          26.266666666666666,
          64.66666666666667,
          49.98333333333333,
          15.133333333333333,
          41.68333333333333,
          36.91666666666666,
          47.21666666666667,
          63.8,
          61.6,
          58.8,
          52.11666666666667,
          48.5,
          69.05,
          55.86666666666667,
          83.43333333333334,
          57.81666666666667,
          51.583333333333336,
          46.6,
          61.43333333333333,
          46.91666666666666,
          60.78333333333333,
          51.41666666666666,
          31.216666666666665,
          9.3,
          7.083333333333333,
          17.466666666666665,
          6.4,
          27.166666666666668,
          7.733333333333333,
          12.5,
          18.9,
          22.633333333333333,
          11.016666666666667,
          7.9,
          8.416666666666666,
          5.516666666666667,
          9.283333333333331,
          20.716666666666665,
          21.766666666666666,
          34.06666666666667,
          21.516666666666666,
          13.883333333333333,
          9.65,
          13.066666666666666,
          12.833333333333334,
          20.766666666666666,
          29.08333333333333,
          24.48333333333333,
          7.133333333333334,
          34.21666666666667,
          11.266666666666667,
          34.6,
          29.33333333333333,
          20.116666666666667,
          5.166666666666667,
          15.95,
          21.95,
          9.883333333333333,
          19.1,
          14.266666666666667,
          21.366666666666667,
          9.216666666666669,
          11.616666666666667,
          40.71666666666667,
          18.6,
          23.75,
          29.48333333333333,
          32.96666666666667,
          12.15,
          12.85,
          18.166666666666668,
          9.983333333333333,
          30.883333333333333,
          18.2,
          29.133333333333333,
          39.25,
          25.7,
          17.383333333333333,
          23.816666666666663,
          16.5,
          21.916666666666668,
          4.633333333333334,
          9.016666666666667,
          19.03333333333333,
          15.65,
          7.7,
          21.48333333333333,
          13.45,
          33.733333333333334,
          12.3,
          28.366666666666667,
          29.433333333333334,
          10.8,
          6.983333333333333,
          9.483333333333333,
          40.1,
          34.45,
          8.183333333333334,
          28.03333333333333,
          13.066666666666666,
          8.483333333333333,
          19.15,
          10.583333333333334,
          17.9,
          9.133333333333333,
          6.416666666666667,
          16.533333333333335,
          21.78333333333333,
          5.35,
          12.933333333333334,
          25.35,
          11.45,
          5.516666666666667,
          20.316666666666663,
          37.766666666666666,
          21.23333333333333,
          12.733333333333333,
          36.91666666666666,
          40.38333333333333,
          6.65,
          7.783333333333333,
          15.5,
          34.56666666666667,
          13.25,
          32.36666666666667,
          6.8,
          5.633333333333334,
          7.266666666666667,
          11.316666666666666,
          40.46666666666667,
          9.183333333333334,
          11.433333333333334,
          18.316666666666663,
          8.683333333333334,
          39.5,
          15.933333333333334,
          29.75,
          27.03333333333333,
          34.7,
          6.266666666666667,
          10.516666666666667,
          24.433333333333334,
          37.65,
          15.783333333333331,
          9.85,
          26.933333333333334,
          12.366666666666667,
          24.15,
          26.7,
          10.283333333333331,
          9.466666666666669,
          40,
          39.71666666666667,
          10.983333333333333,
          13.683333333333334,
          37.7,
          21.65,
          52.28333333333333,
          6.283333333333333,
          52.21666666666667,
          29.066666666666663,
          7.1,
          28.433333333333334,
          33.78333333333333,
          25.683333333333334,
          3.85,
          9.3,
          27.366666666666667,
          26.166666666666668,
          44.35,
          21.666666666666668,
          7.183333333333334,
          6.766666666666667,
          11.466666666666669,
          5.883333333333334,
          40.36666666666667,
          17.166666666666668,
          35.31666666666667,
          28.316666666666663,
          41.06666666666667,
          15.333333333333334,
          17.4,
          8.183333333333334,
          32.35,
          26.633333333333333,
          13.8,
          6.783333333333333,
          31.716666666666665,
          5.733333333333333,
          14.166666666666666,
          10.55,
          31.966666666666665,
          30.4,
          28.883333333333333,
          9.733333333333333,
          11.066666666666666,
          31.433333333333334,
          24.666666666666668,
          27.6,
          15.683333333333334,
          33.93333333333333,
          9.616666666666667,
          13.8,
          4.65,
          10.466666666666669,
          35.583333333333336,
          6.7,
          5.7,
          12.9,
          8.783333333333333,
          49.6,
          6.65,
          23.58333333333333,
          19.433333333333334,
          21.416666666666668,
          10.883333333333333,
          12.333333333333334,
          24.7,
          13.2,
          10.25,
          15.366666666666667,
          26.116666666666667,
          34.46666666666667,
          13.266666666666667,
          8.516666666666667,
          42.66666666666666,
          6.933333333333334,
          45.96666666666667,
          15.133333333333333,
          6.65,
          13.166666666666666,
          14.716666666666669,
          45.4,
          8.616666666666667,
          17.65,
          6.533333333333333,
          25.466666666666665,
          17.05,
          34.016666666666666,
          26.466666666666665,
          9.733333333333333,
          5.916666666666667,
          8.45,
          51.38333333333333,
          13.283333333333331,
          5.316666666666666,
          10.283333333333331,
          4.95,
          35.666666666666664,
          21.683333333333334,
          16.266666666666666,
          4.933333333333334,
          6.75,
          30.133333333333333,
          9.783333333333331,
          9.416666666666666,
          25.35,
          42.083333333333336,
          5.333333333333333,
          12.033333333333331,
          8.683333333333334,
          21.683333333333334,
          9.733333333333333,
          9.316666666666666,
          4.916666666666667,
          11.816666666666666,
          30.683333333333334,
          12.266666666666667,
          29.183333333333334,
          5.783333333333333,
          6.933333333333334,
          8.283333333333333,
          43.66666666666666,
          40.73333333333333,
          10.333333333333334,
          18.866666666666667,
          14,
          22.03333333333333,
          41.56666666666667,
          7.733333333333333,
          38.23333333333333,
          48.31666666666667
         ],
         "xaxis": "x",
         "y": [
          "智能计算",
          "智能计算",
          "智能计算",
          "智能计算",
          "智能计算",
          "智能计算",
          "智能计算",
          "智能计算",
          "智能计算",
          "智能计算",
          "智能计算",
          "智能计算",
          "智能计算",
          "智能计算",
          "智能计算",
          "智能计算",
          "智能计算",
          "智能计算",
          "智能计算",
          "智能计算",
          "智能计算",
          "智能计算",
          "智能计算",
          "智能计算",
          "智能计算",
          "智能计算",
          "智能计算",
          "智能计算",
          "智能计算",
          "智能计算",
          "智能计算",
          "智能计算",
          "智能计算",
          "智能计算",
          "智能计算",
          "智能计算",
          "智能计算",
          "智能计算",
          "智能计算",
          "智能计算",
          "智能计算",
          "智能计算",
          "智能计算",
          "智能计算",
          "智能计算",
          "智能计算",
          "智能计算",
          "智能计算",
          "智能计算",
          "智能计算",
          "智能计算",
          "智能计算",
          "智能计算",
          "智能计算",
          "智能计算",
          "智能计算",
          "智能计算",
          "智能计算",
          "智能计算",
          "智能计算",
          "智能计算",
          "智能计算",
          "智能计算",
          "智能计算",
          "智能计算",
          "智能计算",
          "智能计算",
          "智能计算",
          "智能计算",
          "智能计算",
          "智能计算",
          "智能计算",
          "智能计算",
          "智能计算",
          "智能计算",
          "智能计算",
          "智能计算",
          "智能计算",
          "智能计算",
          "智能计算",
          "智能计算",
          "智能计算",
          "智能计算",
          "智能计算",
          "智能计算",
          "智能计算",
          "智能计算",
          "智能计算",
          "智能计算",
          "智能计算",
          "智能计算",
          "智能计算",
          "智能计算",
          "智能计算",
          "智能计算",
          "智能计算",
          "智能计算",
          "智能计算",
          "智能计算",
          "智能计算",
          "智能计算",
          "智能计算",
          "智能计算",
          "智能计算",
          "智能计算",
          "智能计算",
          "智能计算",
          "智能计算",
          "智能计算",
          "智能计算",
          "智能计算",
          "智能计算",
          "智能计算",
          "智能计算",
          "智能计算",
          "智能计算",
          "智能计算",
          "智能计算",
          "智能计算",
          "智能计算",
          "智能计算",
          "智能计算",
          "智能计算",
          "智能计算",
          "智能计算",
          "智能计算",
          "智能计算",
          "智能计算",
          "智能计算",
          "智能计算",
          "智能计算",
          "智能计算",
          "智能计算",
          "智能计算",
          "智能计算",
          "智能计算",
          "智能计算",
          "智能计算",
          "智能计算",
          "智能计算",
          "智能计算",
          "智能计算",
          "智能计算",
          "智能计算",
          "智能计算",
          "智能计算",
          "智能计算",
          "智能计算",
          "智能计算",
          "智能计算",
          "智能计算",
          "智能计算",
          "智能计算",
          "智能计算",
          "智能计算",
          "智能计算",
          "智能计算",
          "智能计算",
          "智能计算",
          "智能计算",
          "智能计算",
          "智能计算",
          "智能计算",
          "智能计算",
          "智能计算",
          "智能计算",
          "智能计算",
          "智能计算",
          "智能计算",
          "智能计算",
          "智能计算",
          "智能计算",
          "智能计算",
          "智能计算",
          "智能计算",
          "智能计算",
          "智能计算",
          "智能计算",
          "智能计算",
          "智能计算",
          "智能计算",
          "智能计算",
          "智能计算",
          "智能计算",
          "智能计算",
          "智能计算",
          "智能计算",
          "智能计算",
          "智能计算",
          "智能计算",
          "智能计算",
          "智能计算",
          "智能计算",
          "智能计算",
          "智能计算",
          "智能计算",
          "智能计算",
          "智能计算",
          "智能计算",
          "智能计算",
          "智能计算",
          "智能计算",
          "智能计算",
          "智能计算",
          "智能计算",
          "智能计算",
          "智能计算",
          "智能计算",
          "智能计算",
          "智能计算",
          "智能计算",
          "智能计算",
          "智能计算",
          "智能计算",
          "智能计算",
          "智能计算",
          "智能计算",
          "智能计算",
          "智能计算",
          "智能计算",
          "智能计算",
          "智能计算",
          "智能计算",
          "智能计算",
          "智能计算",
          "智能计算",
          "智能计算",
          "智能计算",
          "智能计算",
          "智能计算",
          "智能计算",
          "智能计算",
          "智能计算",
          "智能计算",
          "智能计算",
          "智能计算",
          "智能计算",
          "智能计算",
          "智能计算",
          "智能计算",
          "智能计算",
          "智能计算",
          "智能计算",
          "智能计算",
          "智能计算",
          "智能计算",
          "智能计算",
          "智能计算",
          "智能计算",
          "智能计算",
          "智能计算",
          "智能计算",
          "智能计算",
          "智能计算",
          "智能计算",
          "智能计算",
          "智能计算",
          "智能计算",
          "智能计算",
          "智能计算",
          "智能计算",
          "智能计算",
          "智能计算",
          "智能计算",
          "智能计算",
          "智能计算",
          "智能计算",
          "智能计算",
          "智能计算",
          "智能计算",
          "智能计算",
          "智能计算",
          "智能计算",
          "智能计算",
          "智能计算",
          "智能计算",
          "智能计算",
          "智能计算",
          "智能计算",
          "智能计算",
          "智能计算",
          "智能计算",
          "智能计算",
          "智能计算",
          "智能计算",
          "智能计算",
          "智能计算",
          "智能计算",
          "智能计算",
          "智能计算",
          "智能计算",
          "智能计算",
          "智能计算",
          "智能计算",
          "智能计算",
          "智能计算",
          "智能计算",
          "智能计算",
          "智能计算",
          "智能计算",
          "智能计算",
          "智能计算",
          "智能计算",
          "智能计算",
          "智能计算",
          "智能计算",
          "智能计算",
          "智能计算",
          "智能计算",
          "智能计算",
          "智能计算",
          "智能计算",
          "智能计算",
          "智能计算",
          "智能计算",
          "智能计算",
          "智能计算",
          "智能计算",
          "智能计算",
          "智能计算",
          "智能计算",
          "智能计算",
          "智能计算",
          "智能计算",
          "智能计算",
          "智能计算",
          "智能计算",
          "智能计算",
          "智能计算",
          "智能计算",
          "智能计算",
          "智能计算",
          "智能计算",
          "智能计算",
          "智能计算",
          "智能计算",
          "智能计算",
          "智能计算",
          "智能计算",
          "智能计算",
          "智能计算",
          "智能计算",
          "智能计算",
          "智能计算",
          "智能计算",
          "智能计算",
          "智能计算",
          "智能计算",
          "智能计算",
          "智能计算",
          "智能计算",
          "智能计算",
          "智能计算",
          "智能计算",
          "智能计算",
          "智能计算",
          "智能计算",
          "智能计算",
          "智能计算",
          "智能计算",
          "智能计算",
          "智能计算",
          "智能计算",
          "智能计算",
          "智能计算",
          "智能计算",
          "智能计算",
          "智能计算",
          "智能计算",
          "智能计算",
          "智能计算",
          "智能计算",
          "智能计算",
          "智能计算",
          "智能计算",
          "智能计算",
          "智能计算",
          "智能计算",
          "智能计算",
          "智能计算",
          "智能计算",
          "智能计算",
          "智能计算",
          "智能计算",
          "智能计算",
          "智能计算",
          "智能计算",
          "智能计算",
          "智能计算",
          "智能计算",
          "智能计算",
          "智能计算",
          "智能计算",
          "智能计算",
          "智能计算",
          "智能计算",
          "智能计算",
          "智能计算",
          "智能计算",
          "智能计算",
          "智能计算",
          "智能计算",
          "智能计算",
          "智能计算",
          "智能计算",
          "智能计算",
          "智能计算",
          "智能计算",
          "智能计算",
          "智能计算",
          "智能计算",
          "智能计算",
          "智能计算",
          "智能计算",
          "智能计算",
          "智能计算",
          "智能计算",
          "智能计算",
          "智能计算",
          "智能计算",
          "智能计算",
          "智能计算",
          "智能计算",
          "智能计算",
          "智能计算",
          "智能计算",
          "智能计算",
          "智能计算",
          "智能计算",
          "智能计算",
          "智能计算",
          "智能计算",
          "智能计算",
          "智能计算",
          "智能计算",
          "智能计算",
          "智能计算",
          "智能计算",
          "智能计算",
          "智能计算",
          "智能计算",
          "智能计算",
          "智能计算",
          "智能计算",
          "智能计算",
          "智能计算",
          "智能计算",
          "智能计算",
          "智能计算",
          "智能计算",
          "智能计算",
          "智能计算",
          "智能计算",
          "智能计算",
          "智能计算",
          "智能计算",
          "智能计算",
          "智能计算",
          "智能计算",
          "智能计算",
          "智能计算",
          "智能计算",
          "智能计算",
          "智能计算",
          "智能计算",
          "智能计算",
          "智能计算",
          "智能计算",
          "智能计算",
          "智能计算",
          "智能计算",
          "智能计算",
          "智能计算",
          "智能计算",
          "智能计算",
          "智能计算",
          "智能计算",
          "智能计算",
          "智能计算",
          "智能计算",
          "智能计算",
          "智能计算",
          "智能计算",
          "智能计算",
          "智能计算",
          "智能计算",
          "智能计算",
          "智能计算",
          "智能计算",
          "智能计算",
          "智能计算",
          "智能计算",
          "智能计算",
          "智能计算",
          "智能计算",
          "智能计算",
          "智能计算",
          "智能计算",
          "智能计算",
          "智能计算",
          "智能计算",
          "智能计算",
          "智能计算",
          "智能计算",
          "智能计算",
          "智能计算",
          "智能计算",
          "智能计算",
          "智能计算",
          "智能计算",
          "智能计算",
          "智能计算",
          "智能计算",
          "智能计算",
          "智能计算",
          "智能计算"
         ],
         "yaxis": "y2"
        },
        {
         "legendgroup": "问题解决",
         "marker": {
          "color": "rgb(255, 127, 14)",
          "symbol": "line-ns-open"
         },
         "mode": "markers",
         "name": "问题解决",
         "showlegend": false,
         "type": "scatter",
         "x": [
          26.816666666666663,
          11.25,
          11.75,
          6.5,
          7.466666666666667,
          4.15,
          32.96666666666667,
          8.816666666666666,
          8.4,
          8.183333333333334,
          11.866666666666667,
          4.316666666666666,
          13.35,
          6.816666666666666,
          13.5,
          7.2,
          21.95,
          10.383333333333333,
          9,
          3.716666666666667,
          10.766666666666667,
          5.783333333333333,
          13.233333333333333,
          24.73333333333333,
          36.18333333333333,
          15.95,
          18.183333333333334,
          23.016666666666666,
          7.266666666666667,
          4.333333333333333,
          7.583333333333333,
          20.9,
          7.25,
          25.75,
          4.233333333333333,
          7.983333333333333,
          11.75,
          7.5,
          19.383333333333333,
          6.15,
          33.53333333333333,
          3.85,
          8.866666666666667,
          17.066666666666666,
          6.4,
          33.53333333333333,
          15.55,
          35.35,
          20.416666666666668,
          34.733333333333334,
          6.616666666666666,
          13.2,
          11.3,
          21.383333333333333,
          37.41666666666666,
          8.533333333333333,
          6.516666666666667,
          5.75,
          13.8,
          7.716666666666667,
          17.833333333333332,
          4.45,
          15.8,
          14.616666666666667,
          9.566666666666666,
          21.5,
          22.28333333333333,
          14.116666666666667,
          10.1,
          37.88333333333333,
          12.316666666666666,
          21.03333333333333,
          6.85,
          35.28333333333333,
          13.133333333333333,
          15.6,
          5.983333333333333,
          28.716666666666665,
          4.183333333333334,
          17.283333333333335,
          6.533333333333333,
          8.2,
          9.066666666666666,
          4.966666666666667,
          11.133333333333333,
          30.6,
          3.2,
          6.283333333333333,
          18.53333333333333,
          15.45,
          19.78333333333333,
          10,
          11.4,
          29.216666666666665,
          36.16666666666666,
          12.65,
          10.933333333333334,
          7.633333333333334,
          16.65,
          21.73333333333333,
          4.6,
          21.416666666666668,
          11.016666666666667,
          10.366666666666667,
          8.233333333333333,
          17.616666666666667,
          8.35,
          15.45,
          13.05,
          5.433333333333334,
          14.35,
          7.416666666666667,
          18.933333333333334,
          6.833333333333333,
          6.25,
          4.6,
          20.883333333333333,
          14.85,
          6.75,
          8.383333333333333,
          13.05,
          5.75,
          38.06666666666667,
          8.883333333333333,
          10.183333333333334,
          14.616666666666667,
          3.8,
          16.183333333333334,
          14.866666666666667,
          8.25,
          8.783333333333333,
          3.533333333333333,
          17.833333333333332,
          25.5,
          3.4,
          1.2166666666666666,
          6.2,
          7.1,
          9.866666666666667,
          9.916666666666666,
          22.65,
          6.6,
          11.3,
          9.883333333333333,
          13.066666666666666,
          16.333333333333332,
          7.283333333333333,
          17.616666666666667,
          15.3,
          6.866666666666666,
          5.183333333333334,
          43.96666666666667,
          47.7,
          51.53333333333333,
          21.866666666666667,
          23.65,
          45.53333333333333,
          29.316666666666663,
          39.2,
          26.58333333333333,
          28.183333333333334,
          38.55,
          51.03333333333333,
          36.65,
          30.766666666666666,
          9.616666666666667,
          30.166666666666668,
          33.266666666666666,
          51.016666666666666,
          14.833333333333334,
          16.566666666666666,
          40.16666666666666,
          28.6,
          43.71666666666667,
          51.38333333333333,
          31.116666666666667,
          49.91666666666666,
          26.116666666666667,
          43.11666666666667,
          41.86666666666667,
          31.3,
          51.38333333333333,
          13.616666666666667,
          29.883333333333333,
          26.85,
          32.46666666666667,
          19.5,
          22.45,
          33.9,
          11.216666666666669,
          16.866666666666667,
          27.35,
          11.1,
          7.65,
          40.41666666666666,
          51.23333333333333,
          28.9,
          11,
          33.71666666666667,
          34.28333333333333,
          41.833333333333336,
          39.46666666666667,
          20.05,
          16.733333333333334,
          45.05,
          17.4,
          18.5,
          29.03333333333333,
          24.133333333333333,
          17.866666666666667,
          49.266666666666666,
          17.9,
          26.816666666666663,
          55.4,
          52.91666666666666,
          47.48333333333333,
          21.866666666666667,
          46.71666666666667,
          43.61666666666667,
          45.91666666666666,
          24.73333333333333,
          17.233333333333334,
          41.583333333333336,
          45.18333333333333,
          41.2,
          47.81666666666667,
          30.116666666666667,
          28.28333333333333,
          32.36666666666667,
          49.43333333333333,
          9.233333333333333,
          19.383333333333333,
          25.85,
          35.78333333333333,
          7.966666666666667,
          35.35,
          29.15,
          40.65,
          41.56666666666667,
          7.3,
          34.95,
          3.933333333333333,
          42.13333333333333,
          28.416666666666668,
          48.53333333333333,
          31.53333333333333,
          35.5,
          13.933333333333334,
          41.23333333333333,
          46.11666666666667,
          44.95,
          9.616666666666667,
          15.4,
          37.48333333333333,
          30.2,
          33.63333333333333,
          16.566666666666666,
          12.983333333333333,
          9.016666666666667,
          7.25,
          15.35,
          8.55,
          15.583333333333334,
          11.283333333333331,
          3.4166666666666665,
          6.95,
          9.783333333333331,
          5,
          2.8833333333333333,
          4.533333333333333,
          19.3,
          5.233333333333333,
          22.066666666666663,
          16.633333333333333,
          3.5166666666666666,
          5.033333333333333,
          9.2,
          13.75,
          15.5,
          19.85,
          5.783333333333333,
          4.133333333333334,
          25.366666666666667,
          1.6666666666666667,
          5.1,
          20.03333333333333,
          20.75,
          2.4833333333333334,
          9.316666666666666,
          25.53333333333333,
          8.083333333333334,
          10.266666666666667,
          10.583333333333334,
          7.95,
          6.383333333333334,
          8.566666666666666,
          13.933333333333334,
          13.7,
          23.65,
          23.266666666666666,
          6.1,
          12.15,
          17.233333333333334,
          8.066666666666666,
          15.3,
          21.183333333333334,
          43.88333333333333,
          11.916666666666666,
          7.15,
          15.533333333333331,
          8.766666666666667,
          4.533333333333333,
          13.4,
          25.016666666666666,
          5.916666666666667,
          2.1166666666666667,
          5.333333333333333,
          20.166666666666668,
          3.583333333333333,
          12.666666666666666,
          18.45,
          18.85,
          6.4,
          25.666666666666668,
          16.25,
          8.166666666666666,
          4.883333333333334,
          6.65,
          11.05,
          8.333333333333334,
          16.433333333333334,
          12.666666666666666,
          3.7,
          8.833333333333334,
          17.65,
          9.133333333333333,
          7.033333333333333,
          3.966666666666667,
          7.516666666666667,
          14.95,
          21.35,
          2.566666666666667,
          14.366666666666667,
          23.35,
          6.1,
          3.716666666666667,
          3.733333333333333,
          14.1,
          20.23333333333333,
          4.666666666666667,
          13.766666666666667,
          15.65,
          8.966666666666667,
          5.3,
          20.633333333333333,
          14.383333333333333,
          9.35,
          27.116666666666667,
          3.95,
          10.716666666666669,
          2.9166666666666665,
          4.333333333333333,
          20.65,
          6.533333333333333,
          10.35,
          18,
          6.333333333333333,
          16.783333333333335,
          6.833333333333333,
          13.65,
          9.15,
          24.633333333333333,
          13.7,
          5.433333333333334,
          18.183333333333334,
          26.78333333333333,
          20.48333333333333,
          5.133333333333334,
          19.48333333333333,
          6.866666666666666,
          16.35,
          19.816666666666663,
          7.216666666666667,
          7.566666666666666,
          19.28333333333333,
          20.366666666666667,
          8.5,
          7.016666666666667,
          22.133333333333333,
          12.166666666666666,
          12.416666666666666,
          9.15,
          16.6,
          13.466666666666669,
          4.716666666666667,
          35.266666666666666,
          8.05,
          14.05,
          14.216666666666669,
          11.416666666666666,
          35.516666666666666,
          17.766666666666666,
          28.15,
          28.516666666666666,
          3.583333333333333,
          6.65,
          8.166666666666666,
          6.316666666666666,
          25.83333333333333,
          11.2,
          17.333333333333332,
          18.3,
          17.833333333333332,
          25.73333333333333,
          11.783333333333331,
          3.55,
          16.766666666666666,
          21.85,
          4.7,
          7.533333333333333,
          4.966666666666667,
          20.216666666666665,
          6.383333333333334,
          8.583333333333334,
          12.45,
          8.416666666666666,
          14.9,
          5.55,
          9.083333333333334,
          16.133333333333333,
          15.966666666666669,
          15.9,
          23.383333333333333,
          44.81666666666667,
          17.6,
          5.4,
          4.016666666666667,
          21.78333333333333,
          9.283333333333331,
          15.166666666666666,
          16.05,
          6.4,
          18.683333333333334,
          8.483333333333333,
          24.15,
          9.566666666666666,
          28.883333333333333,
          3.883333333333333,
          10.15,
          22.35,
          5.433333333333334,
          4.25,
          19.466666666666665,
          9.65,
          21.383333333333333,
          5.216666666666667,
          3.25,
          16.216666666666665,
          5.6,
          15.9,
          5.266666666666667,
          11.166666666666666,
          10.566666666666666,
          17.216666666666665,
          27.83333333333333,
          2.816666666666667,
          23.683333333333334,
          9.3,
          5.166666666666667,
          15.666666666666666,
          25.066666666666663,
          17.983333333333334,
          5.65,
          1.0833333333333333,
          10.6,
          8.383333333333333,
          5.533333333333333,
          3.8333333333333335,
          7.2,
          4.7,
          20.933333333333334,
          8.166666666666666,
          11.433333333333334,
          5.95,
          2.566666666666667,
          19.416666666666668,
          2.2,
          9.383333333333333,
          11.45,
          11.783333333333331,
          7.2,
          6.466666666666667,
          1.7666666666666666,
          5.45,
          7.35,
          3.533333333333333,
          2.6166666666666667,
          12.7,
          4.033333333333333,
          7.233333333333333,
          17.466666666666665,
          10.416666666666666,
          2.7666666666666666,
          3.2333333333333334,
          6.266666666666667,
          19.08333333333333,
          12.483333333333333,
          4.066666666666666,
          14.7,
          9.85,
          19.28333333333333,
          8.85,
          5.766666666666667,
          6.283333333333333,
          17.316666666666666
         ],
         "xaxis": "x",
         "y": [
          "问题解决",
          "问题解决",
          "问题解决",
          "问题解决",
          "问题解决",
          "问题解决",
          "问题解决",
          "问题解决",
          "问题解决",
          "问题解决",
          "问题解决",
          "问题解决",
          "问题解决",
          "问题解决",
          "问题解决",
          "问题解决",
          "问题解决",
          "问题解决",
          "问题解决",
          "问题解决",
          "问题解决",
          "问题解决",
          "问题解决",
          "问题解决",
          "问题解决",
          "问题解决",
          "问题解决",
          "问题解决",
          "问题解决",
          "问题解决",
          "问题解决",
          "问题解决",
          "问题解决",
          "问题解决",
          "问题解决",
          "问题解决",
          "问题解决",
          "问题解决",
          "问题解决",
          "问题解决",
          "问题解决",
          "问题解决",
          "问题解决",
          "问题解决",
          "问题解决",
          "问题解决",
          "问题解决",
          "问题解决",
          "问题解决",
          "问题解决",
          "问题解决",
          "问题解决",
          "问题解决",
          "问题解决",
          "问题解决",
          "问题解决",
          "问题解决",
          "问题解决",
          "问题解决",
          "问题解决",
          "问题解决",
          "问题解决",
          "问题解决",
          "问题解决",
          "问题解决",
          "问题解决",
          "问题解决",
          "问题解决",
          "问题解决",
          "问题解决",
          "问题解决",
          "问题解决",
          "问题解决",
          "问题解决",
          "问题解决",
          "问题解决",
          "问题解决",
          "问题解决",
          "问题解决",
          "问题解决",
          "问题解决",
          "问题解决",
          "问题解决",
          "问题解决",
          "问题解决",
          "问题解决",
          "问题解决",
          "问题解决",
          "问题解决",
          "问题解决",
          "问题解决",
          "问题解决",
          "问题解决",
          "问题解决",
          "问题解决",
          "问题解决",
          "问题解决",
          "问题解决",
          "问题解决",
          "问题解决",
          "问题解决",
          "问题解决",
          "问题解决",
          "问题解决",
          "问题解决",
          "问题解决",
          "问题解决",
          "问题解决",
          "问题解决",
          "问题解决",
          "问题解决",
          "问题解决",
          "问题解决",
          "问题解决",
          "问题解决",
          "问题解决",
          "问题解决",
          "问题解决",
          "问题解决",
          "问题解决",
          "问题解决",
          "问题解决",
          "问题解决",
          "问题解决",
          "问题解决",
          "问题解决",
          "问题解决",
          "问题解决",
          "问题解决",
          "问题解决",
          "问题解决",
          "问题解决",
          "问题解决",
          "问题解决",
          "问题解决",
          "问题解决",
          "问题解决",
          "问题解决",
          "问题解决",
          "问题解决",
          "问题解决",
          "问题解决",
          "问题解决",
          "问题解决",
          "问题解决",
          "问题解决",
          "问题解决",
          "问题解决",
          "问题解决",
          "问题解决",
          "问题解决",
          "问题解决",
          "问题解决",
          "问题解决",
          "问题解决",
          "问题解决",
          "问题解决",
          "问题解决",
          "问题解决",
          "问题解决",
          "问题解决",
          "问题解决",
          "问题解决",
          "问题解决",
          "问题解决",
          "问题解决",
          "问题解决",
          "问题解决",
          "问题解决",
          "问题解决",
          "问题解决",
          "问题解决",
          "问题解决",
          "问题解决",
          "问题解决",
          "问题解决",
          "问题解决",
          "问题解决",
          "问题解决",
          "问题解决",
          "问题解决",
          "问题解决",
          "问题解决",
          "问题解决",
          "问题解决",
          "问题解决",
          "问题解决",
          "问题解决",
          "问题解决",
          "问题解决",
          "问题解决",
          "问题解决",
          "问题解决",
          "问题解决",
          "问题解决",
          "问题解决",
          "问题解决",
          "问题解决",
          "问题解决",
          "问题解决",
          "问题解决",
          "问题解决",
          "问题解决",
          "问题解决",
          "问题解决",
          "问题解决",
          "问题解决",
          "问题解决",
          "问题解决",
          "问题解决",
          "问题解决",
          "问题解决",
          "问题解决",
          "问题解决",
          "问题解决",
          "问题解决",
          "问题解决",
          "问题解决",
          "问题解决",
          "问题解决",
          "问题解决",
          "问题解决",
          "问题解决",
          "问题解决",
          "问题解决",
          "问题解决",
          "问题解决",
          "问题解决",
          "问题解决",
          "问题解决",
          "问题解决",
          "问题解决",
          "问题解决",
          "问题解决",
          "问题解决",
          "问题解决",
          "问题解决",
          "问题解决",
          "问题解决",
          "问题解决",
          "问题解决",
          "问题解决",
          "问题解决",
          "问题解决",
          "问题解决",
          "问题解决",
          "问题解决",
          "问题解决",
          "问题解决",
          "问题解决",
          "问题解决",
          "问题解决",
          "问题解决",
          "问题解决",
          "问题解决",
          "问题解决",
          "问题解决",
          "问题解决",
          "问题解决",
          "问题解决",
          "问题解决",
          "问题解决",
          "问题解决",
          "问题解决",
          "问题解决",
          "问题解决",
          "问题解决",
          "问题解决",
          "问题解决",
          "问题解决",
          "问题解决",
          "问题解决",
          "问题解决",
          "问题解决",
          "问题解决",
          "问题解决",
          "问题解决",
          "问题解决",
          "问题解决",
          "问题解决",
          "问题解决",
          "问题解决",
          "问题解决",
          "问题解决",
          "问题解决",
          "问题解决",
          "问题解决",
          "问题解决",
          "问题解决",
          "问题解决",
          "问题解决",
          "问题解决",
          "问题解决",
          "问题解决",
          "问题解决",
          "问题解决",
          "问题解决",
          "问题解决",
          "问题解决",
          "问题解决",
          "问题解决",
          "问题解决",
          "问题解决",
          "问题解决",
          "问题解决",
          "问题解决",
          "问题解决",
          "问题解决",
          "问题解决",
          "问题解决",
          "问题解决",
          "问题解决",
          "问题解决",
          "问题解决",
          "问题解决",
          "问题解决",
          "问题解决",
          "问题解决",
          "问题解决",
          "问题解决",
          "问题解决",
          "问题解决",
          "问题解决",
          "问题解决",
          "问题解决",
          "问题解决",
          "问题解决",
          "问题解决",
          "问题解决",
          "问题解决",
          "问题解决",
          "问题解决",
          "问题解决",
          "问题解决",
          "问题解决",
          "问题解决",
          "问题解决",
          "问题解决",
          "问题解决",
          "问题解决",
          "问题解决",
          "问题解决",
          "问题解决",
          "问题解决",
          "问题解决",
          "问题解决",
          "问题解决",
          "问题解决",
          "问题解决",
          "问题解决",
          "问题解决",
          "问题解决",
          "问题解决",
          "问题解决",
          "问题解决",
          "问题解决",
          "问题解决",
          "问题解决",
          "问题解决",
          "问题解决",
          "问题解决",
          "问题解决",
          "问题解决",
          "问题解决",
          "问题解决",
          "问题解决",
          "问题解决",
          "问题解决",
          "问题解决",
          "问题解决",
          "问题解决",
          "问题解决",
          "问题解决",
          "问题解决",
          "问题解决",
          "问题解决",
          "问题解决",
          "问题解决",
          "问题解决",
          "问题解决",
          "问题解决",
          "问题解决",
          "问题解决",
          "问题解决",
          "问题解决",
          "问题解决",
          "问题解决",
          "问题解决",
          "问题解决",
          "问题解决",
          "问题解决",
          "问题解决",
          "问题解决",
          "问题解决",
          "问题解决",
          "问题解决",
          "问题解决",
          "问题解决",
          "问题解决",
          "问题解决",
          "问题解决",
          "问题解决",
          "问题解决",
          "问题解决",
          "问题解决",
          "问题解决",
          "问题解决",
          "问题解决",
          "问题解决",
          "问题解决",
          "问题解决",
          "问题解决",
          "问题解决",
          "问题解决",
          "问题解决",
          "问题解决",
          "问题解决",
          "问题解决",
          "问题解决",
          "问题解决",
          "问题解决",
          "问题解决",
          "问题解决",
          "问题解决",
          "问题解决",
          "问题解决",
          "问题解决",
          "问题解决",
          "问题解决",
          "问题解决",
          "问题解决",
          "问题解决",
          "问题解决",
          "问题解决",
          "问题解决",
          "问题解决",
          "问题解决",
          "问题解决",
          "问题解决",
          "问题解决",
          "问题解决",
          "问题解决",
          "问题解决",
          "问题解决",
          "问题解决",
          "问题解决",
          "问题解决",
          "问题解决",
          "问题解决",
          "问题解决",
          "问题解决",
          "问题解决",
          "问题解决",
          "问题解决",
          "问题解决",
          "问题解决",
          "问题解决",
          "问题解决",
          "问题解决",
          "问题解决",
          "问题解决",
          "问题解决",
          "问题解决",
          "问题解决",
          "问题解决",
          "问题解决",
          "问题解决",
          "问题解决",
          "问题解决",
          "问题解决",
          "问题解决",
          "问题解决",
          "问题解决",
          "问题解决",
          "问题解决",
          "问题解决",
          "问题解决",
          "问题解决",
          "问题解决",
          "问题解决",
          "问题解决",
          "问题解决",
          "问题解决",
          "问题解决",
          "问题解决",
          "问题解决",
          "问题解决",
          "问题解决",
          "问题解决",
          "问题解决",
          "问题解决",
          "问题解决",
          "问题解决",
          "问题解决",
          "问题解决",
          "问题解决",
          "问题解决",
          "问题解决",
          "问题解决",
          "问题解决",
          "问题解决",
          "问题解决",
          "问题解决",
          "问题解决",
          "问题解决",
          "问题解决",
          "问题解决",
          "问题解决",
          "问题解决",
          "问题解决",
          "问题解决",
          "问题解决",
          "问题解决",
          "问题解决",
          "问题解决"
         ],
         "yaxis": "y2"
        }
       ],
       "layout": {
        "barmode": "overlay",
        "hovermode": "closest",
        "legend": {
         "traceorder": "reversed"
        },
        "template": {
         "data": {
          "bar": [
           {
            "error_x": {
             "color": "#2a3f5f"
            },
            "error_y": {
             "color": "#2a3f5f"
            },
            "marker": {
             "line": {
              "color": "#E5ECF6",
              "width": 0.5
             },
             "pattern": {
              "fillmode": "overlay",
              "size": 10,
              "solidity": 0.2
             }
            },
            "type": "bar"
           }
          ],
          "barpolar": [
           {
            "marker": {
             "line": {
              "color": "#E5ECF6",
              "width": 0.5
             },
             "pattern": {
              "fillmode": "overlay",
              "size": 10,
              "solidity": 0.2
             }
            },
            "type": "barpolar"
           }
          ],
          "carpet": [
           {
            "aaxis": {
             "endlinecolor": "#2a3f5f",
             "gridcolor": "white",
             "linecolor": "white",
             "minorgridcolor": "white",
             "startlinecolor": "#2a3f5f"
            },
            "baxis": {
             "endlinecolor": "#2a3f5f",
             "gridcolor": "white",
             "linecolor": "white",
             "minorgridcolor": "white",
             "startlinecolor": "#2a3f5f"
            },
            "type": "carpet"
           }
          ],
          "choropleth": [
           {
            "colorbar": {
             "outlinewidth": 0,
             "ticks": ""
            },
            "type": "choropleth"
           }
          ],
          "contour": [
           {
            "colorbar": {
             "outlinewidth": 0,
             "ticks": ""
            },
            "colorscale": [
             [
              0,
              "#0d0887"
             ],
             [
              0.1111111111111111,
              "#46039f"
             ],
             [
              0.2222222222222222,
              "#7201a8"
             ],
             [
              0.3333333333333333,
              "#9c179e"
             ],
             [
              0.4444444444444444,
              "#bd3786"
             ],
             [
              0.5555555555555556,
              "#d8576b"
             ],
             [
              0.6666666666666666,
              "#ed7953"
             ],
             [
              0.7777777777777778,
              "#fb9f3a"
             ],
             [
              0.8888888888888888,
              "#fdca26"
             ],
             [
              1,
              "#f0f921"
             ]
            ],
            "type": "contour"
           }
          ],
          "contourcarpet": [
           {
            "colorbar": {
             "outlinewidth": 0,
             "ticks": ""
            },
            "type": "contourcarpet"
           }
          ],
          "heatmap": [
           {
            "colorbar": {
             "outlinewidth": 0,
             "ticks": ""
            },
            "colorscale": [
             [
              0,
              "#0d0887"
             ],
             [
              0.1111111111111111,
              "#46039f"
             ],
             [
              0.2222222222222222,
              "#7201a8"
             ],
             [
              0.3333333333333333,
              "#9c179e"
             ],
             [
              0.4444444444444444,
              "#bd3786"
             ],
             [
              0.5555555555555556,
              "#d8576b"
             ],
             [
              0.6666666666666666,
              "#ed7953"
             ],
             [
              0.7777777777777778,
              "#fb9f3a"
             ],
             [
              0.8888888888888888,
              "#fdca26"
             ],
             [
              1,
              "#f0f921"
             ]
            ],
            "type": "heatmap"
           }
          ],
          "heatmapgl": [
           {
            "colorbar": {
             "outlinewidth": 0,
             "ticks": ""
            },
            "colorscale": [
             [
              0,
              "#0d0887"
             ],
             [
              0.1111111111111111,
              "#46039f"
             ],
             [
              0.2222222222222222,
              "#7201a8"
             ],
             [
              0.3333333333333333,
              "#9c179e"
             ],
             [
              0.4444444444444444,
              "#bd3786"
             ],
             [
              0.5555555555555556,
              "#d8576b"
             ],
             [
              0.6666666666666666,
              "#ed7953"
             ],
             [
              0.7777777777777778,
              "#fb9f3a"
             ],
             [
              0.8888888888888888,
              "#fdca26"
             ],
             [
              1,
              "#f0f921"
             ]
            ],
            "type": "heatmapgl"
           }
          ],
          "histogram": [
           {
            "marker": {
             "pattern": {
              "fillmode": "overlay",
              "size": 10,
              "solidity": 0.2
             }
            },
            "type": "histogram"
           }
          ],
          "histogram2d": [
           {
            "colorbar": {
             "outlinewidth": 0,
             "ticks": ""
            },
            "colorscale": [
             [
              0,
              "#0d0887"
             ],
             [
              0.1111111111111111,
              "#46039f"
             ],
             [
              0.2222222222222222,
              "#7201a8"
             ],
             [
              0.3333333333333333,
              "#9c179e"
             ],
             [
              0.4444444444444444,
              "#bd3786"
             ],
             [
              0.5555555555555556,
              "#d8576b"
             ],
             [
              0.6666666666666666,
              "#ed7953"
             ],
             [
              0.7777777777777778,
              "#fb9f3a"
             ],
             [
              0.8888888888888888,
              "#fdca26"
             ],
             [
              1,
              "#f0f921"
             ]
            ],
            "type": "histogram2d"
           }
          ],
          "histogram2dcontour": [
           {
            "colorbar": {
             "outlinewidth": 0,
             "ticks": ""
            },
            "colorscale": [
             [
              0,
              "#0d0887"
             ],
             [
              0.1111111111111111,
              "#46039f"
             ],
             [
              0.2222222222222222,
              "#7201a8"
             ],
             [
              0.3333333333333333,
              "#9c179e"
             ],
             [
              0.4444444444444444,
              "#bd3786"
             ],
             [
              0.5555555555555556,
              "#d8576b"
             ],
             [
              0.6666666666666666,
              "#ed7953"
             ],
             [
              0.7777777777777778,
              "#fb9f3a"
             ],
             [
              0.8888888888888888,
              "#fdca26"
             ],
             [
              1,
              "#f0f921"
             ]
            ],
            "type": "histogram2dcontour"
           }
          ],
          "mesh3d": [
           {
            "colorbar": {
             "outlinewidth": 0,
             "ticks": ""
            },
            "type": "mesh3d"
           }
          ],
          "parcoords": [
           {
            "line": {
             "colorbar": {
              "outlinewidth": 0,
              "ticks": ""
             }
            },
            "type": "parcoords"
           }
          ],
          "pie": [
           {
            "automargin": true,
            "type": "pie"
           }
          ],
          "scatter": [
           {
            "marker": {
             "colorbar": {
              "outlinewidth": 0,
              "ticks": ""
             }
            },
            "type": "scatter"
           }
          ],
          "scatter3d": [
           {
            "line": {
             "colorbar": {
              "outlinewidth": 0,
              "ticks": ""
             }
            },
            "marker": {
             "colorbar": {
              "outlinewidth": 0,
              "ticks": ""
             }
            },
            "type": "scatter3d"
           }
          ],
          "scattercarpet": [
           {
            "marker": {
             "colorbar": {
              "outlinewidth": 0,
              "ticks": ""
             }
            },
            "type": "scattercarpet"
           }
          ],
          "scattergeo": [
           {
            "marker": {
             "colorbar": {
              "outlinewidth": 0,
              "ticks": ""
             }
            },
            "type": "scattergeo"
           }
          ],
          "scattergl": [
           {
            "marker": {
             "colorbar": {
              "outlinewidth": 0,
              "ticks": ""
             }
            },
            "type": "scattergl"
           }
          ],
          "scattermapbox": [
           {
            "marker": {
             "colorbar": {
              "outlinewidth": 0,
              "ticks": ""
             }
            },
            "type": "scattermapbox"
           }
          ],
          "scatterpolar": [
           {
            "marker": {
             "colorbar": {
              "outlinewidth": 0,
              "ticks": ""
             }
            },
            "type": "scatterpolar"
           }
          ],
          "scatterpolargl": [
           {
            "marker": {
             "colorbar": {
              "outlinewidth": 0,
              "ticks": ""
             }
            },
            "type": "scatterpolargl"
           }
          ],
          "scatterternary": [
           {
            "marker": {
             "colorbar": {
              "outlinewidth": 0,
              "ticks": ""
             }
            },
            "type": "scatterternary"
           }
          ],
          "surface": [
           {
            "colorbar": {
             "outlinewidth": 0,
             "ticks": ""
            },
            "colorscale": [
             [
              0,
              "#0d0887"
             ],
             [
              0.1111111111111111,
              "#46039f"
             ],
             [
              0.2222222222222222,
              "#7201a8"
             ],
             [
              0.3333333333333333,
              "#9c179e"
             ],
             [
              0.4444444444444444,
              "#bd3786"
             ],
             [
              0.5555555555555556,
              "#d8576b"
             ],
             [
              0.6666666666666666,
              "#ed7953"
             ],
             [
              0.7777777777777778,
              "#fb9f3a"
             ],
             [
              0.8888888888888888,
              "#fdca26"
             ],
             [
              1,
              "#f0f921"
             ]
            ],
            "type": "surface"
           }
          ],
          "table": [
           {
            "cells": {
             "fill": {
              "color": "#EBF0F8"
             },
             "line": {
              "color": "white"
             }
            },
            "header": {
             "fill": {
              "color": "#C8D4E3"
             },
             "line": {
              "color": "white"
             }
            },
            "type": "table"
           }
          ]
         },
         "layout": {
          "annotationdefaults": {
           "arrowcolor": "#2a3f5f",
           "arrowhead": 0,
           "arrowwidth": 1
          },
          "autotypenumbers": "strict",
          "coloraxis": {
           "colorbar": {
            "outlinewidth": 0,
            "ticks": ""
           }
          },
          "colorscale": {
           "diverging": [
            [
             0,
             "#8e0152"
            ],
            [
             0.1,
             "#c51b7d"
            ],
            [
             0.2,
             "#de77ae"
            ],
            [
             0.3,
             "#f1b6da"
            ],
            [
             0.4,
             "#fde0ef"
            ],
            [
             0.5,
             "#f7f7f7"
            ],
            [
             0.6,
             "#e6f5d0"
            ],
            [
             0.7,
             "#b8e186"
            ],
            [
             0.8,
             "#7fbc41"
            ],
            [
             0.9,
             "#4d9221"
            ],
            [
             1,
             "#276419"
            ]
           ],
           "sequential": [
            [
             0,
             "#0d0887"
            ],
            [
             0.1111111111111111,
             "#46039f"
            ],
            [
             0.2222222222222222,
             "#7201a8"
            ],
            [
             0.3333333333333333,
             "#9c179e"
            ],
            [
             0.4444444444444444,
             "#bd3786"
            ],
            [
             0.5555555555555556,
             "#d8576b"
            ],
            [
             0.6666666666666666,
             "#ed7953"
            ],
            [
             0.7777777777777778,
             "#fb9f3a"
            ],
            [
             0.8888888888888888,
             "#fdca26"
            ],
            [
             1,
             "#f0f921"
            ]
           ],
           "sequentialminus": [
            [
             0,
             "#0d0887"
            ],
            [
             0.1111111111111111,
             "#46039f"
            ],
            [
             0.2222222222222222,
             "#7201a8"
            ],
            [
             0.3333333333333333,
             "#9c179e"
            ],
            [
             0.4444444444444444,
             "#bd3786"
            ],
            [
             0.5555555555555556,
             "#d8576b"
            ],
            [
             0.6666666666666666,
             "#ed7953"
            ],
            [
             0.7777777777777778,
             "#fb9f3a"
            ],
            [
             0.8888888888888888,
             "#fdca26"
            ],
            [
             1,
             "#f0f921"
            ]
           ]
          },
          "colorway": [
           "#636efa",
           "#EF553B",
           "#00cc96",
           "#ab63fa",
           "#FFA15A",
           "#19d3f3",
           "#FF6692",
           "#B6E880",
           "#FF97FF",
           "#FECB52"
          ],
          "font": {
           "color": "#2a3f5f"
          },
          "geo": {
           "bgcolor": "white",
           "lakecolor": "white",
           "landcolor": "#E5ECF6",
           "showlakes": true,
           "showland": true,
           "subunitcolor": "white"
          },
          "hoverlabel": {
           "align": "left"
          },
          "hovermode": "closest",
          "mapbox": {
           "style": "light"
          },
          "paper_bgcolor": "white",
          "plot_bgcolor": "#E5ECF6",
          "polar": {
           "angularaxis": {
            "gridcolor": "white",
            "linecolor": "white",
            "ticks": ""
           },
           "bgcolor": "#E5ECF6",
           "radialaxis": {
            "gridcolor": "white",
            "linecolor": "white",
            "ticks": ""
           }
          },
          "scene": {
           "xaxis": {
            "backgroundcolor": "#E5ECF6",
            "gridcolor": "white",
            "gridwidth": 2,
            "linecolor": "white",
            "showbackground": true,
            "ticks": "",
            "zerolinecolor": "white"
           },
           "yaxis": {
            "backgroundcolor": "#E5ECF6",
            "gridcolor": "white",
            "gridwidth": 2,
            "linecolor": "white",
            "showbackground": true,
            "ticks": "",
            "zerolinecolor": "white"
           },
           "zaxis": {
            "backgroundcolor": "#E5ECF6",
            "gridcolor": "white",
            "gridwidth": 2,
            "linecolor": "white",
            "showbackground": true,
            "ticks": "",
            "zerolinecolor": "white"
           }
          },
          "shapedefaults": {
           "line": {
            "color": "#2a3f5f"
           }
          },
          "ternary": {
           "aaxis": {
            "gridcolor": "white",
            "linecolor": "white",
            "ticks": ""
           },
           "baxis": {
            "gridcolor": "white",
            "linecolor": "white",
            "ticks": ""
           },
           "bgcolor": "#E5ECF6",
           "caxis": {
            "gridcolor": "white",
            "linecolor": "white",
            "ticks": ""
           }
          },
          "title": {
           "x": 0.05
          },
          "xaxis": {
           "automargin": true,
           "gridcolor": "white",
           "linecolor": "white",
           "ticks": "",
           "title": {
            "standoff": 15
           },
           "zerolinecolor": "white",
           "zerolinewidth": 2
          },
          "yaxis": {
           "automargin": true,
           "gridcolor": "white",
           "linecolor": "white",
           "ticks": "",
           "title": {
            "standoff": 15
           },
           "zerolinecolor": "white",
           "zerolinewidth": 2
          }
         }
        },
        "xaxis": {
         "anchor": "y2",
         "domain": [
          0,
          1
         ],
         "range": [
          0,
          100
         ],
         "zeroline": false
        },
        "yaxis": {
         "anchor": "free",
         "domain": [
          0.35,
          1
         ],
         "position": 0
        },
        "yaxis2": {
         "anchor": "x",
         "domain": [
          0,
          0.25
         ],
         "dtick": 1,
         "showticklabels": false
        }
       }
      }
     },
     "metadata": {}
    }
   ],
   "metadata": {}
  },
  {
   "cell_type": "code",
   "execution_count": 42,
   "source": [
    "x1_ary, _ = np.histogram(x1, bins=[0,10,20,30,40,50,60])\n",
    "x1_list = list(x1_ary)\n",
    "x1_list.append(x1_sum - x1_ary.sum())\n",
    "x1_list, x1_list[0]+x1_list[1], x1_list[0]+x1_list[1]+x1_list[2]\n"
   ],
   "outputs": [
    {
     "output_type": "execute_result",
     "data": {
      "text/plain": [
       "([131, 157, 71, 38, 51, 39, 29], 288, 359)"
      ]
     },
     "metadata": {},
     "execution_count": 42
    }
   ],
   "metadata": {}
  },
  {
   "cell_type": "code",
   "execution_count": 43,
   "source": [
    "x2_ary, _ = np.histogram(x2, bins=[0,10,20,30,40,50,60])\n",
    "x2_list = list(x2_ary)\n",
    "x2_list.append(x2_sum - x2_ary.sum())\n",
    "x2_list, x2_list[0]+x2_list[1], x2_list[0]+x2_list[1]+x2_list[2]"
   ],
   "outputs": [
    {
     "output_type": "execute_result",
     "data": {
      "text/plain": [
       "([201, 161, 78, 37, 30, 8, 0], 362, 440)"
      ]
     },
     "metadata": {},
     "execution_count": 43
    }
   ],
   "metadata": {}
  },
  {
   "cell_type": "code",
   "execution_count": 30,
   "source": [
    "colors = [\n",
    "    '#1f77b4',  # muted blue\n",
    "    '#ff7f0e',  # safety orange\n",
    "    '#2ca02c',  # cooked asparagus green\n",
    "    '#d62728',  # brick red\n",
    "    '#9467bd',  # muted purple\n",
    "    '#8c564b',  # chestnut brown\n",
    "    '#e377c2',  # raspberry yogurt pink\n",
    "    '#7f7f7f',  # middle gray\n",
    "    '#bcbd22',  # curry yellow-green\n",
    "    '#17becf'   # blue-teal\n",
    "]\n",
    "colors[0:7]\n",
    "import plotly\n",
    "plotly.colors.qualitative.Plotly"
   ],
   "outputs": [
    {
     "output_type": "execute_result",
     "data": {
      "text/plain": [
       "['#636EFA',\n",
       " '#EF553B',\n",
       " '#00CC96',\n",
       " '#AB63FA',\n",
       " '#FFA15A',\n",
       " '#19D3F3',\n",
       " '#FF6692',\n",
       " '#B6E880',\n",
       " '#FF97FF',\n",
       " '#FECB52']"
      ]
     },
     "metadata": {},
     "execution_count": 30
    }
   ],
   "metadata": {}
  },
  {
   "cell_type": "code",
   "execution_count": 31,
   "source": [
    "import plotly as py\n",
    "import plotly.graph_objs as go\n",
    "pyplt=py.offline.plot\n",
    "labels=['0~10分钟','10~20分钟','20~30分钟','30~40分钟','40~50分钟', '50～60分钟', '超过60分钟']\n",
    "values=x1_list\n",
    "trace=[go.Pie(labels=labels,values=values)]\n",
    "layout=go.Layout(\n",
    "    title='智能计算做题时间分布比例图(当日)'\n",
    ")\n",
    "fig=go.Figure(data=trace,layout=layout)\n",
    "fig.update_traces(hoverinfo='label+percent',\n",
    "#  textinfo='value', \n",
    " textfont_size=20, marker=dict(colors=plotly.colors.qualitative.Plotly[0:7], line=dict(color='#000000', width=2)))\n",
    "pyplt(fig,filename='plot/单日智能计算时间分布饼图.html')\n",
    "offline.iplot(fig) "
   ],
   "outputs": [
    {
     "output_type": "display_data",
     "data": {
      "application/vnd.plotly.v1+json": {
       "config": {
        "linkText": "Export to plot.ly",
        "plotlyServerURL": "https://plot.ly",
        "showLink": false
       },
       "data": [
        {
         "hoverinfo": "label+percent",
         "labels": [
          "0~10分钟",
          "10~20分钟",
          "20~30分钟",
          "30~40分钟",
          "40~50分钟",
          "50～60分钟",
          "超过60分钟"
         ],
         "marker": {
          "colors": [
           "#636EFA",
           "#EF553B",
           "#00CC96",
           "#AB63FA",
           "#FFA15A",
           "#19D3F3",
           "#FF6692"
          ],
          "line": {
           "color": "#000000",
           "width": 2
          }
         },
         "textfont": {
          "size": 20
         },
         "type": "pie",
         "values": [
          131,
          157,
          71,
          38,
          51,
          39,
          29
         ]
        }
       ],
       "layout": {
        "template": {
         "data": {
          "bar": [
           {
            "error_x": {
             "color": "#2a3f5f"
            },
            "error_y": {
             "color": "#2a3f5f"
            },
            "marker": {
             "line": {
              "color": "#E5ECF6",
              "width": 0.5
             },
             "pattern": {
              "fillmode": "overlay",
              "size": 10,
              "solidity": 0.2
             }
            },
            "type": "bar"
           }
          ],
          "barpolar": [
           {
            "marker": {
             "line": {
              "color": "#E5ECF6",
              "width": 0.5
             },
             "pattern": {
              "fillmode": "overlay",
              "size": 10,
              "solidity": 0.2
             }
            },
            "type": "barpolar"
           }
          ],
          "carpet": [
           {
            "aaxis": {
             "endlinecolor": "#2a3f5f",
             "gridcolor": "white",
             "linecolor": "white",
             "minorgridcolor": "white",
             "startlinecolor": "#2a3f5f"
            },
            "baxis": {
             "endlinecolor": "#2a3f5f",
             "gridcolor": "white",
             "linecolor": "white",
             "minorgridcolor": "white",
             "startlinecolor": "#2a3f5f"
            },
            "type": "carpet"
           }
          ],
          "choropleth": [
           {
            "colorbar": {
             "outlinewidth": 0,
             "ticks": ""
            },
            "type": "choropleth"
           }
          ],
          "contour": [
           {
            "colorbar": {
             "outlinewidth": 0,
             "ticks": ""
            },
            "colorscale": [
             [
              0,
              "#0d0887"
             ],
             [
              0.1111111111111111,
              "#46039f"
             ],
             [
              0.2222222222222222,
              "#7201a8"
             ],
             [
              0.3333333333333333,
              "#9c179e"
             ],
             [
              0.4444444444444444,
              "#bd3786"
             ],
             [
              0.5555555555555556,
              "#d8576b"
             ],
             [
              0.6666666666666666,
              "#ed7953"
             ],
             [
              0.7777777777777778,
              "#fb9f3a"
             ],
             [
              0.8888888888888888,
              "#fdca26"
             ],
             [
              1,
              "#f0f921"
             ]
            ],
            "type": "contour"
           }
          ],
          "contourcarpet": [
           {
            "colorbar": {
             "outlinewidth": 0,
             "ticks": ""
            },
            "type": "contourcarpet"
           }
          ],
          "heatmap": [
           {
            "colorbar": {
             "outlinewidth": 0,
             "ticks": ""
            },
            "colorscale": [
             [
              0,
              "#0d0887"
             ],
             [
              0.1111111111111111,
              "#46039f"
             ],
             [
              0.2222222222222222,
              "#7201a8"
             ],
             [
              0.3333333333333333,
              "#9c179e"
             ],
             [
              0.4444444444444444,
              "#bd3786"
             ],
             [
              0.5555555555555556,
              "#d8576b"
             ],
             [
              0.6666666666666666,
              "#ed7953"
             ],
             [
              0.7777777777777778,
              "#fb9f3a"
             ],
             [
              0.8888888888888888,
              "#fdca26"
             ],
             [
              1,
              "#f0f921"
             ]
            ],
            "type": "heatmap"
           }
          ],
          "heatmapgl": [
           {
            "colorbar": {
             "outlinewidth": 0,
             "ticks": ""
            },
            "colorscale": [
             [
              0,
              "#0d0887"
             ],
             [
              0.1111111111111111,
              "#46039f"
             ],
             [
              0.2222222222222222,
              "#7201a8"
             ],
             [
              0.3333333333333333,
              "#9c179e"
             ],
             [
              0.4444444444444444,
              "#bd3786"
             ],
             [
              0.5555555555555556,
              "#d8576b"
             ],
             [
              0.6666666666666666,
              "#ed7953"
             ],
             [
              0.7777777777777778,
              "#fb9f3a"
             ],
             [
              0.8888888888888888,
              "#fdca26"
             ],
             [
              1,
              "#f0f921"
             ]
            ],
            "type": "heatmapgl"
           }
          ],
          "histogram": [
           {
            "marker": {
             "pattern": {
              "fillmode": "overlay",
              "size": 10,
              "solidity": 0.2
             }
            },
            "type": "histogram"
           }
          ],
          "histogram2d": [
           {
            "colorbar": {
             "outlinewidth": 0,
             "ticks": ""
            },
            "colorscale": [
             [
              0,
              "#0d0887"
             ],
             [
              0.1111111111111111,
              "#46039f"
             ],
             [
              0.2222222222222222,
              "#7201a8"
             ],
             [
              0.3333333333333333,
              "#9c179e"
             ],
             [
              0.4444444444444444,
              "#bd3786"
             ],
             [
              0.5555555555555556,
              "#d8576b"
             ],
             [
              0.6666666666666666,
              "#ed7953"
             ],
             [
              0.7777777777777778,
              "#fb9f3a"
             ],
             [
              0.8888888888888888,
              "#fdca26"
             ],
             [
              1,
              "#f0f921"
             ]
            ],
            "type": "histogram2d"
           }
          ],
          "histogram2dcontour": [
           {
            "colorbar": {
             "outlinewidth": 0,
             "ticks": ""
            },
            "colorscale": [
             [
              0,
              "#0d0887"
             ],
             [
              0.1111111111111111,
              "#46039f"
             ],
             [
              0.2222222222222222,
              "#7201a8"
             ],
             [
              0.3333333333333333,
              "#9c179e"
             ],
             [
              0.4444444444444444,
              "#bd3786"
             ],
             [
              0.5555555555555556,
              "#d8576b"
             ],
             [
              0.6666666666666666,
              "#ed7953"
             ],
             [
              0.7777777777777778,
              "#fb9f3a"
             ],
             [
              0.8888888888888888,
              "#fdca26"
             ],
             [
              1,
              "#f0f921"
             ]
            ],
            "type": "histogram2dcontour"
           }
          ],
          "mesh3d": [
           {
            "colorbar": {
             "outlinewidth": 0,
             "ticks": ""
            },
            "type": "mesh3d"
           }
          ],
          "parcoords": [
           {
            "line": {
             "colorbar": {
              "outlinewidth": 0,
              "ticks": ""
             }
            },
            "type": "parcoords"
           }
          ],
          "pie": [
           {
            "automargin": true,
            "type": "pie"
           }
          ],
          "scatter": [
           {
            "marker": {
             "colorbar": {
              "outlinewidth": 0,
              "ticks": ""
             }
            },
            "type": "scatter"
           }
          ],
          "scatter3d": [
           {
            "line": {
             "colorbar": {
              "outlinewidth": 0,
              "ticks": ""
             }
            },
            "marker": {
             "colorbar": {
              "outlinewidth": 0,
              "ticks": ""
             }
            },
            "type": "scatter3d"
           }
          ],
          "scattercarpet": [
           {
            "marker": {
             "colorbar": {
              "outlinewidth": 0,
              "ticks": ""
             }
            },
            "type": "scattercarpet"
           }
          ],
          "scattergeo": [
           {
            "marker": {
             "colorbar": {
              "outlinewidth": 0,
              "ticks": ""
             }
            },
            "type": "scattergeo"
           }
          ],
          "scattergl": [
           {
            "marker": {
             "colorbar": {
              "outlinewidth": 0,
              "ticks": ""
             }
            },
            "type": "scattergl"
           }
          ],
          "scattermapbox": [
           {
            "marker": {
             "colorbar": {
              "outlinewidth": 0,
              "ticks": ""
             }
            },
            "type": "scattermapbox"
           }
          ],
          "scatterpolar": [
           {
            "marker": {
             "colorbar": {
              "outlinewidth": 0,
              "ticks": ""
             }
            },
            "type": "scatterpolar"
           }
          ],
          "scatterpolargl": [
           {
            "marker": {
             "colorbar": {
              "outlinewidth": 0,
              "ticks": ""
             }
            },
            "type": "scatterpolargl"
           }
          ],
          "scatterternary": [
           {
            "marker": {
             "colorbar": {
              "outlinewidth": 0,
              "ticks": ""
             }
            },
            "type": "scatterternary"
           }
          ],
          "surface": [
           {
            "colorbar": {
             "outlinewidth": 0,
             "ticks": ""
            },
            "colorscale": [
             [
              0,
              "#0d0887"
             ],
             [
              0.1111111111111111,
              "#46039f"
             ],
             [
              0.2222222222222222,
              "#7201a8"
             ],
             [
              0.3333333333333333,
              "#9c179e"
             ],
             [
              0.4444444444444444,
              "#bd3786"
             ],
             [
              0.5555555555555556,
              "#d8576b"
             ],
             [
              0.6666666666666666,
              "#ed7953"
             ],
             [
              0.7777777777777778,
              "#fb9f3a"
             ],
             [
              0.8888888888888888,
              "#fdca26"
             ],
             [
              1,
              "#f0f921"
             ]
            ],
            "type": "surface"
           }
          ],
          "table": [
           {
            "cells": {
             "fill": {
              "color": "#EBF0F8"
             },
             "line": {
              "color": "white"
             }
            },
            "header": {
             "fill": {
              "color": "#C8D4E3"
             },
             "line": {
              "color": "white"
             }
            },
            "type": "table"
           }
          ]
         },
         "layout": {
          "annotationdefaults": {
           "arrowcolor": "#2a3f5f",
           "arrowhead": 0,
           "arrowwidth": 1
          },
          "autotypenumbers": "strict",
          "coloraxis": {
           "colorbar": {
            "outlinewidth": 0,
            "ticks": ""
           }
          },
          "colorscale": {
           "diverging": [
            [
             0,
             "#8e0152"
            ],
            [
             0.1,
             "#c51b7d"
            ],
            [
             0.2,
             "#de77ae"
            ],
            [
             0.3,
             "#f1b6da"
            ],
            [
             0.4,
             "#fde0ef"
            ],
            [
             0.5,
             "#f7f7f7"
            ],
            [
             0.6,
             "#e6f5d0"
            ],
            [
             0.7,
             "#b8e186"
            ],
            [
             0.8,
             "#7fbc41"
            ],
            [
             0.9,
             "#4d9221"
            ],
            [
             1,
             "#276419"
            ]
           ],
           "sequential": [
            [
             0,
             "#0d0887"
            ],
            [
             0.1111111111111111,
             "#46039f"
            ],
            [
             0.2222222222222222,
             "#7201a8"
            ],
            [
             0.3333333333333333,
             "#9c179e"
            ],
            [
             0.4444444444444444,
             "#bd3786"
            ],
            [
             0.5555555555555556,
             "#d8576b"
            ],
            [
             0.6666666666666666,
             "#ed7953"
            ],
            [
             0.7777777777777778,
             "#fb9f3a"
            ],
            [
             0.8888888888888888,
             "#fdca26"
            ],
            [
             1,
             "#f0f921"
            ]
           ],
           "sequentialminus": [
            [
             0,
             "#0d0887"
            ],
            [
             0.1111111111111111,
             "#46039f"
            ],
            [
             0.2222222222222222,
             "#7201a8"
            ],
            [
             0.3333333333333333,
             "#9c179e"
            ],
            [
             0.4444444444444444,
             "#bd3786"
            ],
            [
             0.5555555555555556,
             "#d8576b"
            ],
            [
             0.6666666666666666,
             "#ed7953"
            ],
            [
             0.7777777777777778,
             "#fb9f3a"
            ],
            [
             0.8888888888888888,
             "#fdca26"
            ],
            [
             1,
             "#f0f921"
            ]
           ]
          },
          "colorway": [
           "#636efa",
           "#EF553B",
           "#00cc96",
           "#ab63fa",
           "#FFA15A",
           "#19d3f3",
           "#FF6692",
           "#B6E880",
           "#FF97FF",
           "#FECB52"
          ],
          "font": {
           "color": "#2a3f5f"
          },
          "geo": {
           "bgcolor": "white",
           "lakecolor": "white",
           "landcolor": "#E5ECF6",
           "showlakes": true,
           "showland": true,
           "subunitcolor": "white"
          },
          "hoverlabel": {
           "align": "left"
          },
          "hovermode": "closest",
          "mapbox": {
           "style": "light"
          },
          "paper_bgcolor": "white",
          "plot_bgcolor": "#E5ECF6",
          "polar": {
           "angularaxis": {
            "gridcolor": "white",
            "linecolor": "white",
            "ticks": ""
           },
           "bgcolor": "#E5ECF6",
           "radialaxis": {
            "gridcolor": "white",
            "linecolor": "white",
            "ticks": ""
           }
          },
          "scene": {
           "xaxis": {
            "backgroundcolor": "#E5ECF6",
            "gridcolor": "white",
            "gridwidth": 2,
            "linecolor": "white",
            "showbackground": true,
            "ticks": "",
            "zerolinecolor": "white"
           },
           "yaxis": {
            "backgroundcolor": "#E5ECF6",
            "gridcolor": "white",
            "gridwidth": 2,
            "linecolor": "white",
            "showbackground": true,
            "ticks": "",
            "zerolinecolor": "white"
           },
           "zaxis": {
            "backgroundcolor": "#E5ECF6",
            "gridcolor": "white",
            "gridwidth": 2,
            "linecolor": "white",
            "showbackground": true,
            "ticks": "",
            "zerolinecolor": "white"
           }
          },
          "shapedefaults": {
           "line": {
            "color": "#2a3f5f"
           }
          },
          "ternary": {
           "aaxis": {
            "gridcolor": "white",
            "linecolor": "white",
            "ticks": ""
           },
           "baxis": {
            "gridcolor": "white",
            "linecolor": "white",
            "ticks": ""
           },
           "bgcolor": "#E5ECF6",
           "caxis": {
            "gridcolor": "white",
            "linecolor": "white",
            "ticks": ""
           }
          },
          "title": {
           "x": 0.05
          },
          "xaxis": {
           "automargin": true,
           "gridcolor": "white",
           "linecolor": "white",
           "ticks": "",
           "title": {
            "standoff": 15
           },
           "zerolinecolor": "white",
           "zerolinewidth": 2
          },
          "yaxis": {
           "automargin": true,
           "gridcolor": "white",
           "linecolor": "white",
           "ticks": "",
           "title": {
            "standoff": 15
           },
           "zerolinecolor": "white",
           "zerolinewidth": 2
          }
         }
        },
        "title": {
         "text": "智能计算做题时间分布比例图(当日)"
        }
       }
      }
     },
     "metadata": {}
    }
   ],
   "metadata": {}
  },
  {
   "cell_type": "code",
   "execution_count": 32,
   "source": [
    "import plotly as py\n",
    "import plotly.graph_objs as go\n",
    "pyplt=py.offline.plot\n",
    "labels=['0~10分钟','10~20分钟','20~30分钟','30~40分钟','40~50分钟', '50～60分钟', '超过60分钟']\n",
    "values=x2_list\n",
    "trace=[go.Pie(labels=labels,values=values)]\n",
    "layout=go.Layout(\n",
    "    title='问题解决做题时间分布比例图（当日）'\n",
    ")\n",
    "fig=go.Figure(data=trace,layout=layout)\n",
    "fig.update_traces(hoverinfo='label+percent',\n",
    "#  textinfo='value', \n",
    " textfont_size=20, marker=dict(colors=plotly.colors.qualitative.Plotly[0:7], line=dict(color='#000000', width=2)))\n",
    "pyplt(fig,filename='plot/问题解决时间分布饼图.html')\n",
    "offline.iplot(fig) "
   ],
   "outputs": [
    {
     "output_type": "display_data",
     "data": {
      "application/vnd.plotly.v1+json": {
       "config": {
        "linkText": "Export to plot.ly",
        "plotlyServerURL": "https://plot.ly",
        "showLink": false
       },
       "data": [
        {
         "hoverinfo": "label+percent",
         "labels": [
          "0~10分钟",
          "10~20分钟",
          "20~30分钟",
          "30~40分钟",
          "40~50分钟",
          "50～60分钟",
          "超过60分钟"
         ],
         "marker": {
          "colors": [
           "#636EFA",
           "#EF553B",
           "#00CC96",
           "#AB63FA",
           "#FFA15A",
           "#19D3F3",
           "#FF6692"
          ],
          "line": {
           "color": "#000000",
           "width": 2
          }
         },
         "textfont": {
          "size": 20
         },
         "type": "pie",
         "values": [
          201,
          161,
          78,
          37,
          30,
          8,
          0
         ]
        }
       ],
       "layout": {
        "template": {
         "data": {
          "bar": [
           {
            "error_x": {
             "color": "#2a3f5f"
            },
            "error_y": {
             "color": "#2a3f5f"
            },
            "marker": {
             "line": {
              "color": "#E5ECF6",
              "width": 0.5
             },
             "pattern": {
              "fillmode": "overlay",
              "size": 10,
              "solidity": 0.2
             }
            },
            "type": "bar"
           }
          ],
          "barpolar": [
           {
            "marker": {
             "line": {
              "color": "#E5ECF6",
              "width": 0.5
             },
             "pattern": {
              "fillmode": "overlay",
              "size": 10,
              "solidity": 0.2
             }
            },
            "type": "barpolar"
           }
          ],
          "carpet": [
           {
            "aaxis": {
             "endlinecolor": "#2a3f5f",
             "gridcolor": "white",
             "linecolor": "white",
             "minorgridcolor": "white",
             "startlinecolor": "#2a3f5f"
            },
            "baxis": {
             "endlinecolor": "#2a3f5f",
             "gridcolor": "white",
             "linecolor": "white",
             "minorgridcolor": "white",
             "startlinecolor": "#2a3f5f"
            },
            "type": "carpet"
           }
          ],
          "choropleth": [
           {
            "colorbar": {
             "outlinewidth": 0,
             "ticks": ""
            },
            "type": "choropleth"
           }
          ],
          "contour": [
           {
            "colorbar": {
             "outlinewidth": 0,
             "ticks": ""
            },
            "colorscale": [
             [
              0,
              "#0d0887"
             ],
             [
              0.1111111111111111,
              "#46039f"
             ],
             [
              0.2222222222222222,
              "#7201a8"
             ],
             [
              0.3333333333333333,
              "#9c179e"
             ],
             [
              0.4444444444444444,
              "#bd3786"
             ],
             [
              0.5555555555555556,
              "#d8576b"
             ],
             [
              0.6666666666666666,
              "#ed7953"
             ],
             [
              0.7777777777777778,
              "#fb9f3a"
             ],
             [
              0.8888888888888888,
              "#fdca26"
             ],
             [
              1,
              "#f0f921"
             ]
            ],
            "type": "contour"
           }
          ],
          "contourcarpet": [
           {
            "colorbar": {
             "outlinewidth": 0,
             "ticks": ""
            },
            "type": "contourcarpet"
           }
          ],
          "heatmap": [
           {
            "colorbar": {
             "outlinewidth": 0,
             "ticks": ""
            },
            "colorscale": [
             [
              0,
              "#0d0887"
             ],
             [
              0.1111111111111111,
              "#46039f"
             ],
             [
              0.2222222222222222,
              "#7201a8"
             ],
             [
              0.3333333333333333,
              "#9c179e"
             ],
             [
              0.4444444444444444,
              "#bd3786"
             ],
             [
              0.5555555555555556,
              "#d8576b"
             ],
             [
              0.6666666666666666,
              "#ed7953"
             ],
             [
              0.7777777777777778,
              "#fb9f3a"
             ],
             [
              0.8888888888888888,
              "#fdca26"
             ],
             [
              1,
              "#f0f921"
             ]
            ],
            "type": "heatmap"
           }
          ],
          "heatmapgl": [
           {
            "colorbar": {
             "outlinewidth": 0,
             "ticks": ""
            },
            "colorscale": [
             [
              0,
              "#0d0887"
             ],
             [
              0.1111111111111111,
              "#46039f"
             ],
             [
              0.2222222222222222,
              "#7201a8"
             ],
             [
              0.3333333333333333,
              "#9c179e"
             ],
             [
              0.4444444444444444,
              "#bd3786"
             ],
             [
              0.5555555555555556,
              "#d8576b"
             ],
             [
              0.6666666666666666,
              "#ed7953"
             ],
             [
              0.7777777777777778,
              "#fb9f3a"
             ],
             [
              0.8888888888888888,
              "#fdca26"
             ],
             [
              1,
              "#f0f921"
             ]
            ],
            "type": "heatmapgl"
           }
          ],
          "histogram": [
           {
            "marker": {
             "pattern": {
              "fillmode": "overlay",
              "size": 10,
              "solidity": 0.2
             }
            },
            "type": "histogram"
           }
          ],
          "histogram2d": [
           {
            "colorbar": {
             "outlinewidth": 0,
             "ticks": ""
            },
            "colorscale": [
             [
              0,
              "#0d0887"
             ],
             [
              0.1111111111111111,
              "#46039f"
             ],
             [
              0.2222222222222222,
              "#7201a8"
             ],
             [
              0.3333333333333333,
              "#9c179e"
             ],
             [
              0.4444444444444444,
              "#bd3786"
             ],
             [
              0.5555555555555556,
              "#d8576b"
             ],
             [
              0.6666666666666666,
              "#ed7953"
             ],
             [
              0.7777777777777778,
              "#fb9f3a"
             ],
             [
              0.8888888888888888,
              "#fdca26"
             ],
             [
              1,
              "#f0f921"
             ]
            ],
            "type": "histogram2d"
           }
          ],
          "histogram2dcontour": [
           {
            "colorbar": {
             "outlinewidth": 0,
             "ticks": ""
            },
            "colorscale": [
             [
              0,
              "#0d0887"
             ],
             [
              0.1111111111111111,
              "#46039f"
             ],
             [
              0.2222222222222222,
              "#7201a8"
             ],
             [
              0.3333333333333333,
              "#9c179e"
             ],
             [
              0.4444444444444444,
              "#bd3786"
             ],
             [
              0.5555555555555556,
              "#d8576b"
             ],
             [
              0.6666666666666666,
              "#ed7953"
             ],
             [
              0.7777777777777778,
              "#fb9f3a"
             ],
             [
              0.8888888888888888,
              "#fdca26"
             ],
             [
              1,
              "#f0f921"
             ]
            ],
            "type": "histogram2dcontour"
           }
          ],
          "mesh3d": [
           {
            "colorbar": {
             "outlinewidth": 0,
             "ticks": ""
            },
            "type": "mesh3d"
           }
          ],
          "parcoords": [
           {
            "line": {
             "colorbar": {
              "outlinewidth": 0,
              "ticks": ""
             }
            },
            "type": "parcoords"
           }
          ],
          "pie": [
           {
            "automargin": true,
            "type": "pie"
           }
          ],
          "scatter": [
           {
            "marker": {
             "colorbar": {
              "outlinewidth": 0,
              "ticks": ""
             }
            },
            "type": "scatter"
           }
          ],
          "scatter3d": [
           {
            "line": {
             "colorbar": {
              "outlinewidth": 0,
              "ticks": ""
             }
            },
            "marker": {
             "colorbar": {
              "outlinewidth": 0,
              "ticks": ""
             }
            },
            "type": "scatter3d"
           }
          ],
          "scattercarpet": [
           {
            "marker": {
             "colorbar": {
              "outlinewidth": 0,
              "ticks": ""
             }
            },
            "type": "scattercarpet"
           }
          ],
          "scattergeo": [
           {
            "marker": {
             "colorbar": {
              "outlinewidth": 0,
              "ticks": ""
             }
            },
            "type": "scattergeo"
           }
          ],
          "scattergl": [
           {
            "marker": {
             "colorbar": {
              "outlinewidth": 0,
              "ticks": ""
             }
            },
            "type": "scattergl"
           }
          ],
          "scattermapbox": [
           {
            "marker": {
             "colorbar": {
              "outlinewidth": 0,
              "ticks": ""
             }
            },
            "type": "scattermapbox"
           }
          ],
          "scatterpolar": [
           {
            "marker": {
             "colorbar": {
              "outlinewidth": 0,
              "ticks": ""
             }
            },
            "type": "scatterpolar"
           }
          ],
          "scatterpolargl": [
           {
            "marker": {
             "colorbar": {
              "outlinewidth": 0,
              "ticks": ""
             }
            },
            "type": "scatterpolargl"
           }
          ],
          "scatterternary": [
           {
            "marker": {
             "colorbar": {
              "outlinewidth": 0,
              "ticks": ""
             }
            },
            "type": "scatterternary"
           }
          ],
          "surface": [
           {
            "colorbar": {
             "outlinewidth": 0,
             "ticks": ""
            },
            "colorscale": [
             [
              0,
              "#0d0887"
             ],
             [
              0.1111111111111111,
              "#46039f"
             ],
             [
              0.2222222222222222,
              "#7201a8"
             ],
             [
              0.3333333333333333,
              "#9c179e"
             ],
             [
              0.4444444444444444,
              "#bd3786"
             ],
             [
              0.5555555555555556,
              "#d8576b"
             ],
             [
              0.6666666666666666,
              "#ed7953"
             ],
             [
              0.7777777777777778,
              "#fb9f3a"
             ],
             [
              0.8888888888888888,
              "#fdca26"
             ],
             [
              1,
              "#f0f921"
             ]
            ],
            "type": "surface"
           }
          ],
          "table": [
           {
            "cells": {
             "fill": {
              "color": "#EBF0F8"
             },
             "line": {
              "color": "white"
             }
            },
            "header": {
             "fill": {
              "color": "#C8D4E3"
             },
             "line": {
              "color": "white"
             }
            },
            "type": "table"
           }
          ]
         },
         "layout": {
          "annotationdefaults": {
           "arrowcolor": "#2a3f5f",
           "arrowhead": 0,
           "arrowwidth": 1
          },
          "autotypenumbers": "strict",
          "coloraxis": {
           "colorbar": {
            "outlinewidth": 0,
            "ticks": ""
           }
          },
          "colorscale": {
           "diverging": [
            [
             0,
             "#8e0152"
            ],
            [
             0.1,
             "#c51b7d"
            ],
            [
             0.2,
             "#de77ae"
            ],
            [
             0.3,
             "#f1b6da"
            ],
            [
             0.4,
             "#fde0ef"
            ],
            [
             0.5,
             "#f7f7f7"
            ],
            [
             0.6,
             "#e6f5d0"
            ],
            [
             0.7,
             "#b8e186"
            ],
            [
             0.8,
             "#7fbc41"
            ],
            [
             0.9,
             "#4d9221"
            ],
            [
             1,
             "#276419"
            ]
           ],
           "sequential": [
            [
             0,
             "#0d0887"
            ],
            [
             0.1111111111111111,
             "#46039f"
            ],
            [
             0.2222222222222222,
             "#7201a8"
            ],
            [
             0.3333333333333333,
             "#9c179e"
            ],
            [
             0.4444444444444444,
             "#bd3786"
            ],
            [
             0.5555555555555556,
             "#d8576b"
            ],
            [
             0.6666666666666666,
             "#ed7953"
            ],
            [
             0.7777777777777778,
             "#fb9f3a"
            ],
            [
             0.8888888888888888,
             "#fdca26"
            ],
            [
             1,
             "#f0f921"
            ]
           ],
           "sequentialminus": [
            [
             0,
             "#0d0887"
            ],
            [
             0.1111111111111111,
             "#46039f"
            ],
            [
             0.2222222222222222,
             "#7201a8"
            ],
            [
             0.3333333333333333,
             "#9c179e"
            ],
            [
             0.4444444444444444,
             "#bd3786"
            ],
            [
             0.5555555555555556,
             "#d8576b"
            ],
            [
             0.6666666666666666,
             "#ed7953"
            ],
            [
             0.7777777777777778,
             "#fb9f3a"
            ],
            [
             0.8888888888888888,
             "#fdca26"
            ],
            [
             1,
             "#f0f921"
            ]
           ]
          },
          "colorway": [
           "#636efa",
           "#EF553B",
           "#00cc96",
           "#ab63fa",
           "#FFA15A",
           "#19d3f3",
           "#FF6692",
           "#B6E880",
           "#FF97FF",
           "#FECB52"
          ],
          "font": {
           "color": "#2a3f5f"
          },
          "geo": {
           "bgcolor": "white",
           "lakecolor": "white",
           "landcolor": "#E5ECF6",
           "showlakes": true,
           "showland": true,
           "subunitcolor": "white"
          },
          "hoverlabel": {
           "align": "left"
          },
          "hovermode": "closest",
          "mapbox": {
           "style": "light"
          },
          "paper_bgcolor": "white",
          "plot_bgcolor": "#E5ECF6",
          "polar": {
           "angularaxis": {
            "gridcolor": "white",
            "linecolor": "white",
            "ticks": ""
           },
           "bgcolor": "#E5ECF6",
           "radialaxis": {
            "gridcolor": "white",
            "linecolor": "white",
            "ticks": ""
           }
          },
          "scene": {
           "xaxis": {
            "backgroundcolor": "#E5ECF6",
            "gridcolor": "white",
            "gridwidth": 2,
            "linecolor": "white",
            "showbackground": true,
            "ticks": "",
            "zerolinecolor": "white"
           },
           "yaxis": {
            "backgroundcolor": "#E5ECF6",
            "gridcolor": "white",
            "gridwidth": 2,
            "linecolor": "white",
            "showbackground": true,
            "ticks": "",
            "zerolinecolor": "white"
           },
           "zaxis": {
            "backgroundcolor": "#E5ECF6",
            "gridcolor": "white",
            "gridwidth": 2,
            "linecolor": "white",
            "showbackground": true,
            "ticks": "",
            "zerolinecolor": "white"
           }
          },
          "shapedefaults": {
           "line": {
            "color": "#2a3f5f"
           }
          },
          "ternary": {
           "aaxis": {
            "gridcolor": "white",
            "linecolor": "white",
            "ticks": ""
           },
           "baxis": {
            "gridcolor": "white",
            "linecolor": "white",
            "ticks": ""
           },
           "bgcolor": "#E5ECF6",
           "caxis": {
            "gridcolor": "white",
            "linecolor": "white",
            "ticks": ""
           }
          },
          "title": {
           "x": 0.05
          },
          "xaxis": {
           "automargin": true,
           "gridcolor": "white",
           "linecolor": "white",
           "ticks": "",
           "title": {
            "standoff": 15
           },
           "zerolinecolor": "white",
           "zerolinewidth": 2
          },
          "yaxis": {
           "automargin": true,
           "gridcolor": "white",
           "linecolor": "white",
           "ticks": "",
           "title": {
            "standoff": 15
           },
           "zerolinecolor": "white",
           "zerolinewidth": 2
          }
         }
        },
        "title": {
         "text": "问题解决做题时间分布比例图（当日）"
        }
       }
      }
     },
     "metadata": {}
    }
   ],
   "metadata": {}
  },
  {
   "cell_type": "markdown",
   "source": [
    "# 以下找出偷懒学校排名"
   ],
   "metadata": {}
  },
  {
   "cell_type": "markdown",
   "source": [
    "首先对偷懒学生（做题时间十分钟以下），添加列'lazy',真值为'1'"
   ],
   "metadata": {}
  },
  {
   "cell_type": "code",
   "execution_count": 33,
   "source": [
    "# df_main.loc[0, 'interval_minutes']\n",
    "df_main.columns\n",
    "df_main.iloc[0,17]"
   ],
   "outputs": [
    {
     "output_type": "execute_result",
     "data": {
      "text/plain": [
       "26.85"
      ]
     },
     "metadata": {},
     "execution_count": 33
    }
   ],
   "metadata": {}
  },
  {
   "cell_type": "code",
   "execution_count": 34,
   "source": [
    "lazy_list = []\n",
    "for row in range(len(df_main)):\n",
    "    if df_main.iloc[row, 17] <= 10:\n",
    "        lazy_list.append(1)\n",
    "    else:\n",
    "        lazy_list.append(0)\n",
    "if 'lazy' not in df_main.columns:\n",
    "    df_main.insert(len(df_main.columns), 'lazy', lazy_list)"
   ],
   "outputs": [],
   "metadata": {}
  },
  {
   "cell_type": "code",
   "execution_count": 35,
   "source": [
    "school_list =[tup[0] for tup in list(df_main.groupby('school'))] \n",
    "df_school_list = [tup[1] for tup in list(df_main.groupby('school'))] "
   ],
   "outputs": [],
   "metadata": {}
  },
  {
   "cell_type": "code",
   "execution_count": 36,
   "source": [
    "school_total_list = [len(df) for df in df_school_list]\n"
   ],
   "outputs": [],
   "metadata": {}
  },
  {
   "cell_type": "code",
   "execution_count": 37,
   "source": [
    "df_lazy_count = pd.DataFrame(df_main.groupby('school')['lazy'].sum())\n",
    "df_total_count = pd.DataFrame(df_main.groupby('school')['lazy'].count())"
   ],
   "outputs": [],
   "metadata": {}
  },
  {
   "cell_type": "code",
   "execution_count": 38,
   "source": [
    "df_lazy_count.insert(len(df_lazy_count.columns), 'total', list(df_total_count.loc[:, 'lazy']))\n",
    "df_res = df_lazy_count"
   ],
   "outputs": [],
   "metadata": {}
  },
  {
   "cell_type": "code",
   "execution_count": 39,
   "source": [
    "ritio_list = []\n",
    "for row in range(len(df_res)):\n",
    "    ritio_list.append(float(df_res.iloc[row, 0]) / float(df_res.iloc[row, 1]))\n",
    "df_res.insert(len(df_res.columns), 'ritio', ritio_list)"
   ],
   "outputs": [],
   "metadata": {}
  },
  {
   "cell_type": "code",
   "execution_count": 40,
   "source": [
    "df_res.sort_values(by = 'lazy', ascending=False).to_excel('./output/学生偷懒状况（按学校分类）(当日).xlsx')"
   ],
   "outputs": [],
   "metadata": {}
  },
  {
   "cell_type": "code",
   "execution_count": 41,
   "source": [
    "df_res.sort_values(by = 'lazy', ascending=False)"
   ],
   "outputs": [
    {
     "output_type": "execute_result",
     "data": {
      "text/plain": [
       "             lazy  total     ritio\n",
       "school                            \n",
       "绵阳高新区实验中学     331    822  0.402676\n",
       "四川省绵阳市安州中学      8    214  0.037383\n",
       "四川省绵阳中学         7     10  0.700000\n",
       "三台一中            4     17  0.235294\n",
       "南山中学            3      3  1.000000\n",
       "江油中学            2      3  0.666667\n",
       "四川省北川中学         1      4  0.250000\n",
       "四川省盐亭中学         1      2  0.500000\n",
       "四川省绵阳实验高级中学     0      1  0.000000\n",
       "开元中学            0      4  0.000000\n",
       "绵阳东辰国际学校        0      2  0.000000"
      ],
      "text/html": "<div>\n<style scoped>\n    .dataframe tbody tr th:only-of-type {\n        vertical-align: middle;\n    }\n\n    .dataframe tbody tr th {\n        vertical-align: top;\n    }\n\n    .dataframe thead th {\n        text-align: right;\n    }\n</style>\n<table border=\"1\" class=\"dataframe\">\n  <thead>\n    <tr style=\"text-align: right;\">\n      <th></th>\n      <th>lazy</th>\n      <th>total</th>\n      <th>ritio</th>\n    </tr>\n    <tr>\n      <th>school</th>\n      <th></th>\n      <th></th>\n      <th></th>\n    </tr>\n  </thead>\n  <tbody>\n    <tr>\n      <th>绵阳高新区实验中学</th>\n      <td>331</td>\n      <td>822</td>\n      <td>0.402676</td>\n    </tr>\n    <tr>\n      <th>四川省绵阳市安州中学</th>\n      <td>8</td>\n      <td>214</td>\n      <td>0.037383</td>\n    </tr>\n    <tr>\n      <th>四川省绵阳中学</th>\n      <td>7</td>\n      <td>10</td>\n      <td>0.700000</td>\n    </tr>\n    <tr>\n      <th>三台一中</th>\n      <td>4</td>\n      <td>17</td>\n      <td>0.235294</td>\n    </tr>\n    <tr>\n      <th>南山中学</th>\n      <td>3</td>\n      <td>3</td>\n      <td>1.000000</td>\n    </tr>\n    <tr>\n      <th>江油中学</th>\n      <td>2</td>\n      <td>3</td>\n      <td>0.666667</td>\n    </tr>\n    <tr>\n      <th>四川省北川中学</th>\n      <td>1</td>\n      <td>4</td>\n      <td>0.250000</td>\n    </tr>\n    <tr>\n      <th>四川省盐亭中学</th>\n      <td>1</td>\n      <td>2</td>\n      <td>0.500000</td>\n    </tr>\n    <tr>\n      <th>四川省绵阳实验高级中学</th>\n      <td>0</td>\n      <td>1</td>\n      <td>0.000000</td>\n    </tr>\n    <tr>\n      <th>开元中学</th>\n      <td>0</td>\n      <td>4</td>\n      <td>0.000000</td>\n    </tr>\n    <tr>\n      <th>绵阳东辰国际学校</th>\n      <td>0</td>\n      <td>2</td>\n      <td>0.000000</td>\n    </tr>\n  </tbody>\n</table>\n</div>"
     },
     "metadata": {},
     "execution_count": 41
    }
   ],
   "metadata": {}
  },
  {
   "cell_type": "code",
   "execution_count": null,
   "source": [],
   "outputs": [],
   "metadata": {}
  }
 ],
 "metadata": {
  "interpreter": {
   "hash": "be3a0175ef9952a30e10c7aa3f2137d621db0c1ee36e8101671841bcc4797871"
  },
  "kernelspec": {
   "name": "python3",
   "display_name": "Python 3.8.8 64-bit ('base': conda)"
  },
  "language_info": {
   "codemirror_mode": {
    "name": "ipython",
    "version": 3
   },
   "file_extension": ".py",
   "mimetype": "text/x-python",
   "name": "python",
   "nbconvert_exporter": "python",
   "pygments_lexer": "ipython3",
   "version": "3.8.8"
  }
 },
 "nbformat": 4,
 "nbformat_minor": 5
}